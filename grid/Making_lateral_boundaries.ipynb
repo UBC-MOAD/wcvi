{
 "cells": [
  {
   "cell_type": "code",
   "execution_count": 1,
   "metadata": {
    "collapsed": false
   },
   "outputs": [],
   "source": [
    "import numpy as np\n",
    "import netCDF4 as nc\n",
    "import matplotlib.pyplot as plt\n",
    "import matplotlib as mpl\n",
    "from salishsea_tools import viz_tools, geo_tools,nc_tools\n",
    "from scipy.interpolate import griddata, interp1d\n",
    "import matplotlib.cm as cm\n",
    "import xarray as xr"
   ]
  },
  {
   "cell_type": "code",
   "execution_count": 2,
   "metadata": {
    "collapsed": false
   },
   "outputs": [],
   "source": [
    "path = '/home/ssahu/saurav/JP_BC/'\n",
    "gridT = xr.open_dataset(path+'cat_42_days_T.nc')"
   ]
  },
  {
   "cell_type": "code",
   "execution_count": 3,
   "metadata": {
    "collapsed": false
   },
   "outputs": [
    {
     "data": {
      "text/plain": [
       "Coordinates:\n",
       "  * deptht        (deptht) float32 0.494025 1.54138 2.64567 3.81949 5.07822 ...\n",
       "  * time_counter  (time_counter) datetime64[ns] 2016-04-01T12:00:00 ...\n",
       "  * y             (y) int64 0 1 2 3 4 5 6 7 8 9 10 11 12 13 14 15 16 17 18 ...\n",
       "  * x             (x) int64 0 1 2 3 4 5 6 7 8 9 10 11 12 13 14 15 16 17 18 ...\n",
       "  * bnds          (bnds) int64 0 1"
      ]
     },
     "execution_count": 3,
     "metadata": {},
     "output_type": "execute_result"
    }
   ],
   "source": [
    "gridT.coords"
   ]
  },
  {
   "cell_type": "code",
   "execution_count": 4,
   "metadata": {
    "collapsed": false
   },
   "outputs": [
    {
     "data": {
      "text/plain": [
       "Frozen(SortedKeysDict({'y': 1021, 'bnds': 2, 'time_counter': 43, 'deptht': 50, 'x': 715}))"
      ]
     },
     "execution_count": 4,
     "metadata": {},
     "output_type": "execute_result"
    }
   ],
   "source": [
    "gridT.dims"
   ]
  },
  {
   "cell_type": "code",
   "execution_count": 5,
   "metadata": {
    "collapsed": false
   },
   "outputs": [
    {
     "data": {
      "text/plain": [
       "OrderedDict([('Conventions', 'CF-1.1'),\n",
       "             ('CDI',\n",
       "              'Climate Data Interface version 1.7.1 (http://mpimet.mpg.de/cdi)'),\n",
       "             ('history',\n",
       "              'Wed Jul 27 13:01:08 2016: /usr/local/bin/ncrename -O -v lat,nav_lat -v lon,nav_lon /fs/peg/data/rpne/rpnejpp/NEP036/NEP036-N30-OUT/CDF_COMB/NEP036-N30_IN_20160401_00813600_grid_T.nc\\nWed Jul 27 12:36:59 2016: cdo timmean /fs/peg/data/rpne/rpnejpp/NEP036/NEP036-N30-OUT/DIMG/NEP036-N30_CU60_20160401_20160332_00813600_grid_T_0000.nc /fs/peg/data/rpne/rpnejpp/NEP036/NEP036-N30-OUT/WORKDIR_grid_T_00813600/timmean_grid_T_00813600_0000.nc'),\n",
       "             ('file_name',\n",
       "              '/fs/peg/data/rpne/rpnejpp/NEP036/NEP036-N30-OUT/CDF_COMB/NEP036-N30_IN_20160401_00813600_grid_T.nc'),\n",
       "             ('production', 'An IPSL model'),\n",
       "             ('TimeStamp', '2016-JUL-27 10:02:26 GMT-0000'),\n",
       "             ('CDO',\n",
       "              'Climate Data Operators version 1.7.1 (http://mpimet.mpg.de/cdo)')])"
      ]
     },
     "execution_count": 5,
     "metadata": {},
     "output_type": "execute_result"
    }
   ],
   "source": [
    "gridT.attrs"
   ]
  },
  {
   "cell_type": "code",
   "execution_count": 6,
   "metadata": {
    "collapsed": false
   },
   "outputs": [
    {
     "data": {
      "text/plain": [
       "<bound method Mapping.keys of <xarray.Dataset>\n",
       "Dimensions:            (bnds: 2, deptht: 50, time_counter: 43, x: 715, y: 1021)\n",
       "Coordinates:\n",
       "  * deptht             (deptht) float32 0.494025 1.54138 2.64567 3.81949 ...\n",
       "  * time_counter       (time_counter) datetime64[ns] 2016-04-01T12:00:00 ...\n",
       "  * y                  (y) int64 0 1 2 3 4 5 6 7 8 9 10 11 12 13 14 15 16 17 ...\n",
       "  * x                  (x) int64 0 1 2 3 4 5 6 7 8 9 10 11 12 13 14 15 16 17 ...\n",
       "  * bnds               (bnds) int64 0 1\n",
       "Data variables:\n",
       "    nav_lon            (y, x) float32 -142.283 -142.256 -142.228 -142.2 ...\n",
       "    nav_lat            (y, x) float32 45.0491 45.0479 45.0467 45.0456 ...\n",
       "    time_counter_bnds  (time_counter, bnds) float64 4.873e+07 4.881e+07 ...\n",
       "    votemper           (time_counter, deptht, y, x) float64 0.0 8.881 8.905 ...\n",
       "    vosaline           (time_counter, deptht, y, x) float64 0.0 33.14 33.13 ...\n",
       "    sosstsst           (time_counter, y, x) float64 0.0 8.881 8.905 8.925 ...\n",
       "    sosaline           (time_counter, y, x) float64 0.0 33.14 33.13 33.12 ...\n",
       "    sossheig           (time_counter, y, x) float64 0.0 -0.01869 -0.01348 ...\n",
       "    sowaflup           (time_counter, y, x) float64 0.0 8.562e-06 8.61e-06 ...\n",
       "    sowaflcd           (time_counter, y, x) float64 0.0 0.0 0.0 0.0 0.0 0.0 ...\n",
       "    sosalflx           (time_counter, y, x) float64 0.0 0.0 0.0 0.0 0.0 0.0 ...\n",
       "    sohefldo           (time_counter, y, x) float64 0.0 100.3 100.1 99.8 ...\n",
       "    soshfldo           (time_counter, y, x) float64 0.0 219.4 219.6 219.7 ...\n",
       "    somxl010           (time_counter, y, x) float64 0.0 5.709 6.333 6.297 ...\n",
       "    somixhgt           (time_counter, y, x) float64 0.0 4.95 4.674 4.623 ...\n",
       "    soicecov           (time_counter, y, x) float64 0.0 0.0 0.0 0.0 0.0 0.0 ...\n",
       "    sohefldp           (time_counter, y, x) float64 0.0 0.0 0.0 0.0 0.0 0.0 ...\n",
       "    sosafldp           (time_counter, y, x) float64 0.0 0.0 0.0 0.0 0.0 0.0 ...\n",
       "    sowafldp           (time_counter, y, x) float64 0.0 0.0 0.0 0.0 0.0 0.0 ...\n",
       "    sobowlin           (y, x) float64 nan 7.0 9.0 9.0 9.0 9.0 9.0 9.0 9.0 ...\n",
       "Attributes:\n",
       "    Conventions: CF-1.1\n",
       "    CDI: Climate Data Interface version 1.7.1 (http://mpimet.mpg.de/cdi)\n",
       "    history: Wed Jul 27 13:01:08 2016: /usr/local/bin/ncrename -O -v lat,nav_lat -v lon,nav_lon /fs/peg/data/rpne/rpnejpp/NEP036/NEP036-N30-OUT/CDF_COMB/NEP036-N30_IN_20160401_00813600_grid_T.nc\n",
       "Wed Jul 27 12:36:59 2016: cdo timmean /fs/peg/data/rpne/rpnejpp/NEP036/NEP036-N30-OUT/DIMG/NEP036-N30_CU60_20160401_20160332_00813600_grid_T_0000.nc /fs/peg/data/rpne/rpnejpp/NEP036/NEP036-N30-OUT/WORKDIR_grid_T_00813600/timmean_grid_T_00813600_0000.nc\n",
       "    file_name: /fs/peg/data/rpne/rpnejpp/NEP036/NEP036-N30-OUT/CDF_COMB/NEP036-N30_IN_20160401_00813600_grid_T.nc\n",
       "    production: An IPSL model\n",
       "    TimeStamp: 2016-JUL-27 10:02:26 GMT-0000\n",
       "    CDO: Climate Data Operators version 1.7.1 (http://mpimet.mpg.de/cdo)>"
      ]
     },
     "execution_count": 6,
     "metadata": {},
     "output_type": "execute_result"
    }
   ],
   "source": [
    "gridT.keys"
   ]
  },
  {
   "cell_type": "code",
   "execution_count": 7,
   "metadata": {
    "collapsed": true
   },
   "outputs": [],
   "source": [
    "ssh = np.array(gridT['sossheig'][:,55:400,446:701]);\n",
    "votemper = np.array(gridT['votemper'][:,:,55:400,446:701]);\n",
    "vosaline = np.array(gridT['vosaline'][:,:,55:400,446:701])\n",
    "glamt_bc_JP = np.array(gridT['nav_lon'][55:400,446:701]);\n",
    "gphit_bc_JP = np.array(gridT['nav_lat'][55:400,446:701]);\n"
   ]
  },
  {
   "cell_type": "code",
   "execution_count": 8,
   "metadata": {
    "collapsed": true
   },
   "outputs": [],
   "source": [
    "fname_wcvi = '/ocean/ssahu/CANYONS/wcvi/grid/coordinates.nc'"
   ]
  },
  {
   "cell_type": "code",
   "execution_count": 9,
   "metadata": {
    "collapsed": false
   },
   "outputs": [],
   "source": [
    "with nc.Dataset(fname_wcvi, 'r') as coord:\n",
    "    gphit_wcvi = coord.variables['gphit'][0,...];\n",
    "    glamt_wcvi =  coord.variables['glamt'][0,...]; "
   ]
  },
  {
   "cell_type": "code",
   "execution_count": 10,
   "metadata": {
    "collapsed": false
   },
   "outputs": [
    {
     "data": {
      "text/plain": [
       "(43, 50, 345, 255)"
      ]
     },
     "execution_count": 10,
     "metadata": {},
     "output_type": "execute_result"
    }
   ],
   "source": [
    "votemper.shape"
   ]
  },
  {
   "cell_type": "code",
   "execution_count": 11,
   "metadata": {
    "collapsed": false
   },
   "outputs": [
    {
     "data": {
      "text/plain": [
       "(345, 255)"
      ]
     },
     "execution_count": 11,
     "metadata": {},
     "output_type": "execute_result"
    }
   ],
   "source": [
    "glamt_bc_JP.shape"
   ]
  },
  {
   "cell_type": "code",
   "execution_count": 12,
   "metadata": {
    "collapsed": false
   },
   "outputs": [
    {
     "data": {
      "text/plain": [
       "46.113550613066906"
      ]
     },
     "execution_count": 12,
     "metadata": {},
     "output_type": "execute_result"
    }
   ],
   "source": [
    "np.min(gphit_wcvi)"
   ]
  },
  {
   "cell_type": "code",
   "execution_count": 13,
   "metadata": {
    "collapsed": false
   },
   "outputs": [
    {
     "data": {
      "text/plain": [
       "45.213524"
      ]
     },
     "execution_count": 13,
     "metadata": {},
     "output_type": "execute_result"
    }
   ],
   "source": [
    "np.min(np.array(gphit_bc_JP))"
   ]
  },
  {
   "cell_type": "code",
   "execution_count": 14,
   "metadata": {
    "collapsed": false
   },
   "outputs": [],
   "source": [
    "(Nx,Ny) = gphit_wcvi.shape"
   ]
  },
  {
   "cell_type": "code",
   "execution_count": 15,
   "metadata": {
    "collapsed": false
   },
   "outputs": [],
   "source": [
    "X = glamt_bc_JP.flatten()\n",
    "\n",
    "Y = gphit_bc_JP.flatten()\n",
    "\n",
    "points = (X[:],Y[:])\n",
    "\n",
    "xi = (glamt_wcvi.flatten(), gphit_wcvi.flatten());\n",
    "\n",
    "#Number of points to trim off the ends\n",
    "\n",
    "N = 5\n",
    "\n",
    "glamt_wcvi_bc_left = glamt_wcvi[:,0:N-1]; gphit_wcvi_bc_left = gphit_wcvi[:,0:N-1];\n",
    "glamt_wcvi_bc_right = glamt_wcvi[:,-N:-1]; gphit_wcvi_bc_right = gphit_wcvi[:,-N:-1];\n",
    "\n",
    "\n",
    "xi_left = (glamt_wcvi_bc_left.flatten(), gphit_wcvi_bc_left.flatten());\n",
    "xi_right = (glamt_wcvi_bc_right.flatten(), gphit_wcvi_bc_right.flatten());\n",
    "\n",
    "#votemper_wcvi = np.zeros((43,50,Nx,Ny));\n",
    "\n",
    "votemper_wcvi_left = np.zeros((43,50,glamt_wcvi_bc_left.shape[0], glamt_wcvi_bc_left.shape[1]));\n",
    "votemper_wcvi_right = np.zeros((43,50,glamt_wcvi_bc_right.shape[0], glamt_wcvi_bc_right.shape[1]));\n",
    "\n",
    "ssh_wcvi_left = np.zeros((43,glamt_wcvi_bc_left.shape[0], glamt_wcvi_bc_left.shape[1]));\n",
    "\n",
    "\n",
    "for p,q in enumerate(votemper_wcvi_left[:,...]):\n",
    "    for i,j in enumerate(votemper_wcvi_left[p,:,...]):\n",
    "        votemper_wcvi_left[p,i,...] = np.reshape(griddata(points, votemper[p,i,...].flatten(), xi_left, method= 'linear'), glamt_wcvi_bc_left.shape)\n",
    "        votemper_wcvi_right[p,i,...] = np.reshape(griddata(points, votemper[p,i,...].flatten(), xi_right, method= 'linear'), glamt_wcvi_bc_right.shape)\n",
    "#        vosaline_wcvi[p,i,...] = np.reshape(griddata(points, vosaline[p,i,...].flatten(), xi, method= 'linear', glamt_wcvi.shape))\n",
    "\n",
    "#vosaline_wcvi = np.reshape(griddata(points, vosaline.flatten(), xi, method= 'linear'), glamt_wcvi.shape)"
   ]
  },
  {
   "cell_type": "code",
   "execution_count": 17,
   "metadata": {
    "collapsed": false
   },
   "outputs": [
    {
     "data": {
      "text/plain": [
       "(43, 50, 100, 4)"
      ]
     },
     "execution_count": 17,
     "metadata": {},
     "output_type": "execute_result"
    }
   ],
   "source": [
    "votemper_wcvi_left.shape"
   ]
  },
  {
   "cell_type": "code",
   "execution_count": 21,
   "metadata": {
    "collapsed": false
   },
   "outputs": [
    {
     "data": {
      "image/png": "[encoded data removed]",
      "text/plain": [
       "<matplotlib.figure.Figure at 0x7fdc507c8b38>"
      ]
     },
     "metadata": {},
     "output_type": "display_data"
    }
   ],
   "source": [
    "fig, ax = plt.subplots(1, 1, figsize=(10, 8))\n",
    "viz_tools.set_aspect(ax)\n",
    "\n",
    "mesh = ax.pcolormesh(glamt_wcvi_bc_left[:], gphit_wcvi_bc_left[:],votemper_wcvi_left[0,0,:], cmap =cm.ocean)\n",
    "fig.colorbar(mesh)\n",
    "plt.show()"
   ]
  },
  {
   "cell_type": "code",
   "execution_count": 24,
   "metadata": {
    "collapsed": false
   },
   "outputs": [
    {
     "data": {
      "image/png": "[encoded data removed]",
      "text/plain": [
       "<matplotlib.figure.Figure at 0x7fdc5058fa20>"
      ]
     },
     "metadata": {},
     "output_type": "display_data"
    }
   ],
   "source": [
    "fig, ax = plt.subplots(1, 1, figsize=(10, 8))\n",
    "viz_tools.set_aspect(ax)\n",
    "\n",
    "mesh = ax.pcolormesh(glamt_wcvi_bc_right[:], gphit_wcvi_bc_right[:],votemper_wcvi_right[0,0,...], cmap =cm.ocean)\n",
    "fig.colorbar(mesh)\n",
    "plt.show()"
   ]
  },
  {
   "cell_type": "code",
   "execution_count": 28,
   "metadata": {
    "collapsed": false
   },
   "outputs": [],
   "source": [
    "np.save('votemper_leftbc', votemper_wcvi_left)"
   ]
  },
  {
   "cell_type": "code",
   "execution_count": 29,
   "metadata": {
    "collapsed": true
   },
   "outputs": [],
   "source": [
    "np.save('votemper_rightbc', votemper_wcvi_right)"
   ]
  },
  {
   "cell_type": "code",
   "execution_count": null,
   "metadata": {
    "collapsed": true
   },
   "outputs": [],
   "source": [
    "#Now for Salinity\n",
    "\n",
    "\n",
    "#votemper_wcvi = np.zeros((43,50,Nx,Ny));\n",
    "\n",
    "vosaline_wcvi_left = np.zeros((43,50,glamt_wcvi_bc_left.shape[0], glamt_wcvi_bc_left.shape[1]));\n",
    "vosaline_wcvi_right = np.zeros((43,50,glamt_wcvi_bc_right.shape[0], glamt_wcvi_bc_right.shape[1]));\n",
    "\n",
    "\n",
    "\n",
    "for p,q in enumerate(vosaline_wcvi_left[:,...]):\n",
    "    for i,j in enumerate(vosaline_wcvi_left[p,:,...]):\n",
    "        vosaline_wcvi_left[p,i,...] = np.reshape(griddata(points, vosaline[p,i,...].flatten(), xi_left, method= 'linear'), glamt_wcvi_bc_left.shape)\n",
    "        vosaline_wcvi_right[p,i,...] = np.reshape(griddata(points, vosaline[p,i,...].flatten(), xi_right, method= 'linear'), glamt_wcvi_bc_right.shape)\n",
    "\n"
   ]
  },
  {
   "cell_type": "code",
   "execution_count": 137,
   "metadata": {
    "collapsed": false
   },
   "outputs": [
    {
     "ename": "KeyboardInterrupt",
     "evalue": "",
     "output_type": "error",
     "traceback": [
      "\u001b[0;31m---------------------------------------------------------------------------\u001b[0m",
      "\u001b[0;31mKeyboardInterrupt\u001b[0m                         Traceback (most recent call last)",
      "\u001b[0;32m<ipython-input-137-359134fedaa7>\u001b[0m in \u001b[0;36m<module>\u001b[0;34m()\u001b[0m\n\u001b[1;32m      1\u001b[0m \u001b[0mssh_wcvi\u001b[0m \u001b[0;34m=\u001b[0m \u001b[0mnp\u001b[0m\u001b[0;34m.\u001b[0m\u001b[0mzeros\u001b[0m\u001b[0;34m(\u001b[0m\u001b[0;34m(\u001b[0m\u001b[0;36m43\u001b[0m\u001b[0;34m,\u001b[0m\u001b[0mNx\u001b[0m\u001b[0;34m,\u001b[0m\u001b[0mNy\u001b[0m\u001b[0;34m)\u001b[0m\u001b[0;34m)\u001b[0m\u001b[0;34m\u001b[0m\u001b[0m\n\u001b[1;32m      2\u001b[0m \u001b[0;32mfor\u001b[0m \u001b[0mi\u001b[0m\u001b[0;34m,\u001b[0m\u001b[0mj\u001b[0m \u001b[0;32min\u001b[0m \u001b[0menumerate\u001b[0m\u001b[0;34m(\u001b[0m\u001b[0mssh\u001b[0m\u001b[0;34m[\u001b[0m\u001b[0;34m:\u001b[0m\u001b[0;34m,\u001b[0m\u001b[0;34m...\u001b[0m\u001b[0;34m]\u001b[0m\u001b[0;34m)\u001b[0m\u001b[0;34m:\u001b[0m\u001b[0;34m\u001b[0m\u001b[0m\n\u001b[0;32m----> 3\u001b[0;31m     \u001b[0mssh_wcvi\u001b[0m\u001b[0;34m[\u001b[0m\u001b[0mi\u001b[0m\u001b[0;34m,\u001b[0m\u001b[0;34m...\u001b[0m\u001b[0;34m]\u001b[0m \u001b[0;34m=\u001b[0m \u001b[0mnp\u001b[0m\u001b[0;34m.\u001b[0m\u001b[0mreshape\u001b[0m\u001b[0;34m(\u001b[0m\u001b[0mgriddata\u001b[0m\u001b[0;34m(\u001b[0m\u001b[0mpoints\u001b[0m\u001b[0;34m,\u001b[0m \u001b[0mnp\u001b[0m\u001b[0;34m.\u001b[0m\u001b[0marray\u001b[0m\u001b[0;34m(\u001b[0m\u001b[0mssh\u001b[0m\u001b[0;34m[\u001b[0m\u001b[0mi\u001b[0m\u001b[0;34m,\u001b[0m\u001b[0;34m...\u001b[0m\u001b[0;34m]\u001b[0m\u001b[0;34m)\u001b[0m\u001b[0;34m.\u001b[0m\u001b[0mflatten\u001b[0m\u001b[0;34m(\u001b[0m\u001b[0;34m)\u001b[0m\u001b[0;34m,\u001b[0m \u001b[0mxi\u001b[0m\u001b[0;34m,\u001b[0m \u001b[0mmethod\u001b[0m\u001b[0;34m=\u001b[0m \u001b[0;34m'linear'\u001b[0m\u001b[0;34m)\u001b[0m\u001b[0;34m,\u001b[0m \u001b[0mglamt_wcvi\u001b[0m\u001b[0;34m.\u001b[0m\u001b[0mshape\u001b[0m\u001b[0;34m)\u001b[0m\u001b[0;34m\u001b[0m\u001b[0m\n\u001b[0m",
      "\u001b[0;32m/home/ssahu/anaconda3/lib/python3.5/site-packages/scipy/interpolate/ndgriddata.py\u001b[0m in \u001b[0;36mgriddata\u001b[0;34m(points, values, xi, method, fill_value, rescale)\u001b[0m\n\u001b[1;32m    215\u001b[0m     \u001b[0;32melif\u001b[0m \u001b[0mmethod\u001b[0m \u001b[0;34m==\u001b[0m \u001b[0;34m'linear'\u001b[0m\u001b[0;34m:\u001b[0m\u001b[0;34m\u001b[0m\u001b[0m\n\u001b[1;32m    216\u001b[0m         ip = LinearNDInterpolator(points, values, fill_value=fill_value,\n\u001b[0;32m--> 217\u001b[0;31m                                   rescale=rescale)\n\u001b[0m\u001b[1;32m    218\u001b[0m         \u001b[0;32mreturn\u001b[0m \u001b[0mip\u001b[0m\u001b[0;34m(\u001b[0m\u001b[0mxi\u001b[0m\u001b[0;34m)\u001b[0m\u001b[0;34m\u001b[0m\u001b[0m\n\u001b[1;32m    219\u001b[0m     \u001b[0;32melif\u001b[0m \u001b[0mmethod\u001b[0m \u001b[0;34m==\u001b[0m \u001b[0;34m'cubic'\u001b[0m \u001b[0;32mand\u001b[0m \u001b[0mndim\u001b[0m \u001b[0;34m==\u001b[0m \u001b[0;36m2\u001b[0m\u001b[0;34m:\u001b[0m\u001b[0;34m\u001b[0m\u001b[0m\n",
      "\u001b[0;32mscipy/interpolate/interpnd.pyx\u001b[0m in \u001b[0;36mscipy.interpolate.interpnd.LinearNDInterpolator.__init__ (scipy/interpolate/interpnd.c:4980)\u001b[0;34m()\u001b[0m\n",
      "\u001b[0;32mscipy/spatial/qhull.pyx\u001b[0m in \u001b[0;36mscipy.spatial.qhull.Delaunay.__init__ (scipy/spatial/qhull.c:15948)\u001b[0;34m()\u001b[0m\n",
      "\u001b[0;32mscipy/spatial/qhull.pyx\u001b[0m in \u001b[0;36mscipy.spatial.qhull._QhullUser.__init__ (scipy/spatial/qhull.c:14264)\u001b[0;34m()\u001b[0m\n",
      "\u001b[0;32mscipy/spatial/qhull.pyx\u001b[0m in \u001b[0;36mscipy.spatial.qhull.Delaunay._update (scipy/spatial/qhull.c:16387)\u001b[0;34m()\u001b[0m\n",
      "\u001b[0;32mscipy/spatial/qhull.pyx\u001b[0m in \u001b[0;36mscipy.spatial.qhull._QhullUser._update (scipy/spatial/qhull.c:14852)\u001b[0;34m()\u001b[0m\n",
      "\u001b[0;32m/home/ssahu/anaconda3/lib/python3.5/site-packages/numpy/core/_methods.py\u001b[0m in \u001b[0;36m_amin\u001b[0;34m(a, axis, out, keepdims)\u001b[0m\n\u001b[1;32m     26\u001b[0m     \u001b[0;32mreturn\u001b[0m \u001b[0mumr_maximum\u001b[0m\u001b[0;34m(\u001b[0m\u001b[0ma\u001b[0m\u001b[0;34m,\u001b[0m \u001b[0maxis\u001b[0m\u001b[0;34m,\u001b[0m \u001b[0;32mNone\u001b[0m\u001b[0;34m,\u001b[0m \u001b[0mout\u001b[0m\u001b[0;34m,\u001b[0m \u001b[0mkeepdims\u001b[0m\u001b[0;34m)\u001b[0m\u001b[0;34m\u001b[0m\u001b[0m\n\u001b[1;32m     27\u001b[0m \u001b[0;34m\u001b[0m\u001b[0m\n\u001b[0;32m---> 28\u001b[0;31m \u001b[0;32mdef\u001b[0m \u001b[0m_amin\u001b[0m\u001b[0;34m(\u001b[0m\u001b[0ma\u001b[0m\u001b[0;34m,\u001b[0m \u001b[0maxis\u001b[0m\u001b[0;34m=\u001b[0m\u001b[0;32mNone\u001b[0m\u001b[0;34m,\u001b[0m \u001b[0mout\u001b[0m\u001b[0;34m=\u001b[0m\u001b[0;32mNone\u001b[0m\u001b[0;34m,\u001b[0m \u001b[0mkeepdims\u001b[0m\u001b[0;34m=\u001b[0m\u001b[0;32mFalse\u001b[0m\u001b[0;34m)\u001b[0m\u001b[0;34m:\u001b[0m\u001b[0;34m\u001b[0m\u001b[0m\n\u001b[0m\u001b[1;32m     29\u001b[0m     \u001b[0;32mreturn\u001b[0m \u001b[0mumr_minimum\u001b[0m\u001b[0;34m(\u001b[0m\u001b[0ma\u001b[0m\u001b[0;34m,\u001b[0m \u001b[0maxis\u001b[0m\u001b[0;34m,\u001b[0m \u001b[0;32mNone\u001b[0m\u001b[0;34m,\u001b[0m \u001b[0mout\u001b[0m\u001b[0;34m,\u001b[0m \u001b[0mkeepdims\u001b[0m\u001b[0;34m)\u001b[0m\u001b[0;34m\u001b[0m\u001b[0m\n\u001b[1;32m     30\u001b[0m \u001b[0;34m\u001b[0m\u001b[0m\n",
      "\u001b[0;31mKeyboardInterrupt\u001b[0m: "
     ]
    }
   ],
   "source": [
    "ssh_wcvi = np.zeros((43,Nx,Ny))\n",
    "for i,j in enumerate(ssh[:,...]):\n",
    "    ssh_wcvi[i,...] = np.reshape(griddata(points, ssh[i,...].flatten(), xi, method= 'linear'), glamt_wcvi.shape)"
   ]
  },
  {
   "cell_type": "code",
   "execution_count": 126,
   "metadata": {
    "collapsed": false
   },
   "outputs": [
    {
     "data": {
      "text/plain": [
       "(43, 50, 100, 70)"
      ]
     },
     "execution_count": 126,
     "metadata": {},
     "output_type": "execute_result"
    }
   ],
   "source": [
    "votemper_wcvi.shape"
   ]
  },
  {
   "cell_type": "code",
   "execution_count": 128,
   "metadata": {
    "collapsed": false
   },
   "outputs": [
    {
     "data": {
      "text/plain": [
       "(100, 70)"
      ]
     },
     "execution_count": 128,
     "metadata": {},
     "output_type": "execute_result"
    }
   ],
   "source": [
    "glamt_wcvi.shape"
   ]
  },
  {
   "cell_type": "code",
   "execution_count": 149,
   "metadata": {
    "collapsed": false
   },
   "outputs": [
    {
     "name": "stdout",
     "output_type": "stream",
     "text": [
      "(100, 4) (43, 100, 4)\n"
     ]
    }
   ],
   "source": [
    "#Number of points to trim off the ends\n",
    "\n",
    "N = 5\n",
    "\n",
    "glamt_wcvi_bc_left = glamt_wcvi[:,0:N-1]; gphit_wcvi_bc_left = gphit_wcvi[:,0:N-1];\n",
    "\n",
    "glamt_wcvi_bc_right = glamt_wcvi[:,-N:-1]; gphit_wcvi_bc_right = gphit_wcvi[:,-N:-1];\n",
    "\n",
    "xi = (glamt_wcvi_bc_left.flatten(), gphit_wcvi_bc_left.flatten())\n",
    "\n",
    "ssh_wcvi_left = np.zeros((43,glamt_wcvi_bc_left.shape[0], glamt_wcvi_bc_left.shape[1]))\n",
    "\n",
    "for i,j in enumerate(ssh_wcvi_left[:,...]):\n",
    "    ssh_wcvi_left[i,...] = np.reshape(griddata(points, np.array(ssh[i,...]).flatten(), xi, method= 'linear'), glamt_wcvi_bc_left.shape)\n",
    "\n",
    "print(glamt_wcvi_bc_right.shape, ssh_wcvi_left.shape)"
   ]
  },
  {
   "cell_type": "code",
   "execution_count": 150,
   "metadata": {
    "collapsed": false
   },
   "outputs": [
    {
     "data": {
      "image/png": "[encoded data removed]",
      "text/plain": [
       "<matplotlib.figure.Figure at 0x7f5a850ac358>"
      ]
     },
     "metadata": {},
     "output_type": "display_data"
    }
   ],
   "source": [
    "fig, ax = plt.subplots(1, 1, figsize=(10, 8))\n",
    "viz_tools.set_aspect(ax)\n",
    "\n",
    "mesh = ax.pcolormesh(glamt_wcvi_bc_left[:], gphit_wcvi_bc_left[:],ssh_wcvi_left[0,...], cmap =cm.ocean)\n",
    "fig.colorbar(mesh)\n",
    "plt.show()"
   ]
  },
  {
   "cell_type": "markdown",
   "metadata": {},
   "source": [
    "#### Next we would like to interpolate the values of JP to the outer say 5 grid point cells of our domain based on  matching the lats and lons of JP with our domain"
   ]
  },
  {
   "cell_type": "code",
   "execution_count": 120,
   "metadata": {
    "collapsed": false
   },
   "outputs": [
    {
     "name": "stdout",
     "output_type": "stream",
     "text": [
      "0\n",
      "1\n",
      "2\n",
      "3\n",
      "4\n",
      "5\n",
      "6\n",
      "7\n",
      "8\n",
      "9\n",
      "10\n",
      "11\n",
      "12\n",
      "13\n",
      "14\n",
      "15\n",
      "16\n",
      "17\n",
      "18\n",
      "19\n",
      "20\n",
      "21\n",
      "22\n",
      "23\n",
      "24\n",
      "25\n",
      "26\n",
      "27\n",
      "28\n",
      "29\n",
      "30\n",
      "31\n",
      "32\n",
      "33\n",
      "34\n",
      "35\n",
      "36\n",
      "37\n",
      "38\n",
      "39\n",
      "40\n",
      "41\n",
      "42\n",
      "43\n",
      "44\n",
      "45\n",
      "46\n",
      "47\n",
      "48\n",
      "49\n"
     ]
    }
   ],
   "source": [
    "for idx, val in enumerate(votemper_wcvi[0,:,...]):\n",
    "    print(idx)"
   ]
  },
  {
   "cell_type": "code",
   "execution_count": 14,
   "metadata": {
    "collapsed": false
   },
   "outputs": [
    {
     "data": {
      "text/plain": [
       "array([[[  0.00000000e+00,  -1.86861958e-02,  -1.34836314e-02, ...,\n",
       "           0.00000000e+00,   0.00000000e+00,   0.00000000e+00],\n",
       "        [ -1.86861958e-02,  -1.86861958e-02,  -1.34836314e-02, ...,\n",
       "           0.00000000e+00,   0.00000000e+00,   0.00000000e+00],\n",
       "        [ -1.86894257e-02,  -1.86894257e-02,  -2.90848408e-02, ...,\n",
       "           0.00000000e+00,   0.00000000e+00,   0.00000000e+00],\n",
       "        ..., \n",
       "        [  0.00000000e+00,   0.00000000e+00,   0.00000000e+00, ...,\n",
       "           0.00000000e+00,   0.00000000e+00,   0.00000000e+00],\n",
       "        [  0.00000000e+00,   0.00000000e+00,   0.00000000e+00, ...,\n",
       "           0.00000000e+00,   0.00000000e+00,   0.00000000e+00],\n",
       "        [  0.00000000e+00,   0.00000000e+00,   0.00000000e+00, ...,\n",
       "           0.00000000e+00,   0.00000000e+00,   0.00000000e+00]],\n",
       "\n",
       "       [[  0.00000000e+00,   6.79792762e-02,   7.52824321e-02, ...,\n",
       "           0.00000000e+00,   0.00000000e+00,   0.00000000e+00],\n",
       "        [  6.79792762e-02,   6.79792762e-02,   7.52824321e-02, ...,\n",
       "           0.00000000e+00,   0.00000000e+00,   0.00000000e+00],\n",
       "        [  7.03960434e-02,   7.03960434e-02,   4.85394485e-02, ...,\n",
       "           0.00000000e+00,   0.00000000e+00,   0.00000000e+00],\n",
       "        ..., \n",
       "        [  0.00000000e+00,   0.00000000e+00,   0.00000000e+00, ...,\n",
       "           0.00000000e+00,   0.00000000e+00,   0.00000000e+00],\n",
       "        [  0.00000000e+00,   0.00000000e+00,   0.00000000e+00, ...,\n",
       "           0.00000000e+00,   0.00000000e+00,   0.00000000e+00],\n",
       "        [  0.00000000e+00,   0.00000000e+00,   0.00000000e+00, ...,\n",
       "           0.00000000e+00,   0.00000000e+00,   0.00000000e+00]],\n",
       "\n",
       "       [[  0.00000000e+00,   5.14479131e-02,   6.84108734e-02, ...,\n",
       "           0.00000000e+00,   0.00000000e+00,   0.00000000e+00],\n",
       "        [  5.14479131e-02,   5.14479131e-02,   6.84108734e-02, ...,\n",
       "           0.00000000e+00,   0.00000000e+00,   0.00000000e+00],\n",
       "        [  6.38036057e-02,   6.38036057e-02,  -7.18940375e-03, ...,\n",
       "           0.00000000e+00,   0.00000000e+00,   0.00000000e+00],\n",
       "        ..., \n",
       "        [  0.00000000e+00,   0.00000000e+00,   0.00000000e+00, ...,\n",
       "           0.00000000e+00,   0.00000000e+00,   0.00000000e+00],\n",
       "        [  0.00000000e+00,   0.00000000e+00,   0.00000000e+00, ...,\n",
       "           0.00000000e+00,   0.00000000e+00,   0.00000000e+00],\n",
       "        [  0.00000000e+00,   0.00000000e+00,   0.00000000e+00, ...,\n",
       "           0.00000000e+00,   0.00000000e+00,   0.00000000e+00]],\n",
       "\n",
       "       ..., \n",
       "       [[  0.00000000e+00,  -1.40061170e-01,  -1.41615093e-01, ...,\n",
       "           0.00000000e+00,   0.00000000e+00,   0.00000000e+00],\n",
       "        [ -1.40061170e-01,  -1.40061170e-01,  -1.41615093e-01, ...,\n",
       "           0.00000000e+00,   0.00000000e+00,   0.00000000e+00],\n",
       "        [ -1.46597415e-01,  -1.46597415e-01,  -1.23880841e-01, ...,\n",
       "           0.00000000e+00,   0.00000000e+00,   0.00000000e+00],\n",
       "        ..., \n",
       "        [  0.00000000e+00,   0.00000000e+00,   0.00000000e+00, ...,\n",
       "           0.00000000e+00,   0.00000000e+00,   0.00000000e+00],\n",
       "        [  0.00000000e+00,   0.00000000e+00,   0.00000000e+00, ...,\n",
       "           0.00000000e+00,   0.00000000e+00,   0.00000000e+00],\n",
       "        [  0.00000000e+00,   0.00000000e+00,   0.00000000e+00, ...,\n",
       "           0.00000000e+00,   0.00000000e+00,   0.00000000e+00]],\n",
       "\n",
       "       [[  0.00000000e+00,  -7.71489441e-02,  -8.26316327e-02, ...,\n",
       "           0.00000000e+00,   0.00000000e+00,   0.00000000e+00],\n",
       "        [ -7.71489441e-02,  -7.71489441e-02,  -8.26316327e-02, ...,\n",
       "           0.00000000e+00,   0.00000000e+00,   0.00000000e+00],\n",
       "        [ -8.79153013e-02,  -8.79153013e-02,  -4.46508676e-02, ...,\n",
       "           0.00000000e+00,   0.00000000e+00,   0.00000000e+00],\n",
       "        ..., \n",
       "        [  0.00000000e+00,   0.00000000e+00,   0.00000000e+00, ...,\n",
       "           0.00000000e+00,   0.00000000e+00,   0.00000000e+00],\n",
       "        [  0.00000000e+00,   0.00000000e+00,   0.00000000e+00, ...,\n",
       "           0.00000000e+00,   0.00000000e+00,   0.00000000e+00],\n",
       "        [  0.00000000e+00,   0.00000000e+00,   0.00000000e+00, ...,\n",
       "           0.00000000e+00,   0.00000000e+00,   0.00000000e+00]],\n",
       "\n",
       "       [[  0.00000000e+00,   3.62009741e-05,  -3.33263213e-03, ...,\n",
       "           0.00000000e+00,   0.00000000e+00,   0.00000000e+00],\n",
       "        [  3.62009741e-05,   3.62009741e-05,  -3.33263213e-03, ...,\n",
       "           0.00000000e+00,   0.00000000e+00,   0.00000000e+00],\n",
       "        [ -8.81509297e-03,  -8.81509297e-03,   2.44764537e-02, ...,\n",
       "           0.00000000e+00,   0.00000000e+00,   0.00000000e+00],\n",
       "        ..., \n",
       "        [  0.00000000e+00,   0.00000000e+00,   0.00000000e+00, ...,\n",
       "           0.00000000e+00,   0.00000000e+00,   0.00000000e+00],\n",
       "        [  0.00000000e+00,   0.00000000e+00,   0.00000000e+00, ...,\n",
       "           0.00000000e+00,   0.00000000e+00,   0.00000000e+00],\n",
       "        [  0.00000000e+00,   0.00000000e+00,   0.00000000e+00, ...,\n",
       "           0.00000000e+00,   0.00000000e+00,   0.00000000e+00]]])"
      ]
     },
     "execution_count": 14,
     "metadata": {},
     "output_type": "execute_result"
    }
   ],
   "source": [
    "np.array(ssh)"
   ]
  },
  {
   "cell_type": "code",
   "execution_count": 16,
   "metadata": {
    "collapsed": false
   },
   "outputs": [
    {
     "data": {
      "text/plain": [
       "(43, 1021, 715)"
      ]
     },
     "execution_count": 16,
     "metadata": {},
     "output_type": "execute_result"
    }
   ],
   "source": [
    "ssh.shape"
   ]
  },
  {
   "cell_type": "markdown",
   "metadata": {
    "collapsed": true
   },
   "source": [
    "#### Remaining work\n",
    "    1) Interpolate to our WCVI grid points of T, S and SSH first \n",
    "     2) Slice our domain to keep those variables only for the boundary points (strip of 5 data points on the outer boundary)\n",
    "     3) Use the filter on the surface T and S points after having sliced them\n",
    "     4) Do the rotation thingy on U and V points only for the stripped domain (get glamu and gphiu for wcvi and have them on those points\n",
    "     5) Write a boundary condition file (4 Files one for each boundary) (2D and 3D separately)"
   ]
  },
  {
   "cell_type": "code",
   "execution_count": null,
   "metadata": {
    "collapsed": true
   },
   "outputs": [],
   "source": []
  },
  {
   "cell_type": "code",
   "execution_count": null,
   "metadata": {
    "collapsed": true
   },
   "outputs": [],
   "source": []
  },
  {
   "cell_type": "code",
   "execution_count": null,
   "metadata": {
    "collapsed": true
   },
   "outputs": [],
   "source": [
    "votemper, vosaline, nav_lon, nav_lat, time_counter_bnds, sossheig"
   ]
  }
 ],
 "metadata": {
  "anaconda-cloud": {},
  "kernelspec": {
   "display_name": "Python [conda root]",
   "language": "python",
   "name": "conda-root-py"
  },
  "language_info": {
   "codemirror_mode": {
    "name": "ipython",
    "version": 3
   },
   "file_extension": ".py",
   "mimetype": "text/x-python",
   "name": "python",
   "nbconvert_exporter": "python",
   "pygments_lexer": "ipython3",
   "version": "3.5.2"
  }
 },
 "nbformat": 4,
 "nbformat_minor": 1
}
