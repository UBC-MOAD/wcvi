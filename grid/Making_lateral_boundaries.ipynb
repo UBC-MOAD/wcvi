{
 "cells": [
  {
   "cell_type": "code",
   "execution_count": 14,
   "metadata": {
    "collapsed": false
   },
   "outputs": [],
   "source": [
    "import numpy as np\n",
    "import numpy.ma as ma\n",
    "import netCDF4 as nc\n",
    "import matplotlib.pyplot as plt\n",
    "import matplotlib as mpl\n",
    "from salishsea_tools import viz_tools, geo_tools,nc_tools\n",
    "from scipy.interpolate import griddata, interp1d\n",
    "import matplotlib.cm as cm\n",
    "import xarray as xr\n",
    "from grid_alignment import calculate_initial_compass_bearing as cibc"
   ]
  },
  {
   "cell_type": "code",
   "execution_count": 2,
   "metadata": {
    "collapsed": true
   },
   "outputs": [],
   "source": [
    "path = '/home/ssahu/saurav/JP_BC/'"
   ]
  },
  {
   "cell_type": "code",
   "execution_count": 3,
   "metadata": {
    "collapsed": false
   },
   "outputs": [],
   "source": [
    "gridT = xr.open_dataset(path+'cat_42_days_T.nc')"
   ]
  },
  {
   "cell_type": "code",
   "execution_count": 4,
   "metadata": {
    "collapsed": false
   },
   "outputs": [
    {
     "data": {
      "text/plain": [
       "Coordinates:\n",
       "  * deptht        (deptht) float32 0.494025 1.54138 2.64567 3.81949 5.07822 ...\n",
       "  * time_counter  (time_counter) datetime64[ns] 2016-04-01T12:00:00 ...\n",
       "  * y             (y) int64 0 1 2 3 4 5 6 7 8 9 10 11 12 13 14 15 16 17 18 ...\n",
       "  * x             (x) int64 0 1 2 3 4 5 6 7 8 9 10 11 12 13 14 15 16 17 18 ...\n",
       "  * bnds          (bnds) int64 0 1"
      ]
     },
     "execution_count": 4,
     "metadata": {},
     "output_type": "execute_result"
    }
   ],
   "source": [
    "gridT.coords"
   ]
  },
  {
   "cell_type": "code",
   "execution_count": 5,
   "metadata": {
    "collapsed": false
   },
   "outputs": [
    {
     "data": {
      "text/plain": [
       "Frozen(SortedKeysDict({'y': 1021, 'bnds': 2, 'time_counter': 43, 'deptht': 50, 'x': 715}))"
      ]
     },
     "execution_count": 5,
     "metadata": {},
     "output_type": "execute_result"
    }
   ],
   "source": [
    "gridT.dims"
   ]
  },
  {
   "cell_type": "code",
   "execution_count": 6,
   "metadata": {
    "collapsed": false
   },
   "outputs": [
    {
     "data": {
      "text/plain": [
       "OrderedDict([('Conventions', 'CF-1.1'),\n",
       "             ('CDI',\n",
       "              'Climate Data Interface version 1.7.1 (http://mpimet.mpg.de/cdi)'),\n",
       "             ('history',\n",
       "              'Wed Jul 27 13:01:08 2016: /usr/local/bin/ncrename -O -v lat,nav_lat -v lon,nav_lon /fs/peg/data/rpne/rpnejpp/NEP036/NEP036-N30-OUT/CDF_COMB/NEP036-N30_IN_20160401_00813600_grid_T.nc\\nWed Jul 27 12:36:59 2016: cdo timmean /fs/peg/data/rpne/rpnejpp/NEP036/NEP036-N30-OUT/DIMG/NEP036-N30_CU60_20160401_20160332_00813600_grid_T_0000.nc /fs/peg/data/rpne/rpnejpp/NEP036/NEP036-N30-OUT/WORKDIR_grid_T_00813600/timmean_grid_T_00813600_0000.nc'),\n",
       "             ('file_name',\n",
       "              '/fs/peg/data/rpne/rpnejpp/NEP036/NEP036-N30-OUT/CDF_COMB/NEP036-N30_IN_20160401_00813600_grid_T.nc'),\n",
       "             ('production', 'An IPSL model'),\n",
       "             ('TimeStamp', '2016-JUL-27 10:02:26 GMT-0000'),\n",
       "             ('CDO',\n",
       "              'Climate Data Operators version 1.7.1 (http://mpimet.mpg.de/cdo)')])"
      ]
     },
     "execution_count": 6,
     "metadata": {},
     "output_type": "execute_result"
    }
   ],
   "source": [
    "gridT.attrs"
   ]
  },
  {
   "cell_type": "code",
   "execution_count": 7,
   "metadata": {
    "collapsed": false
   },
   "outputs": [
    {
     "data": {
      "text/plain": [
       "<bound method Mapping.keys of <xarray.Dataset>\n",
       "Dimensions:            (bnds: 2, deptht: 50, time_counter: 43, x: 715, y: 1021)\n",
       "Coordinates:\n",
       "  * deptht             (deptht) float32 0.494025 1.54138 2.64567 3.81949 ...\n",
       "  * time_counter       (time_counter) datetime64[ns] 2016-04-01T12:00:00 ...\n",
       "  * y                  (y) int64 0 1 2 3 4 5 6 7 8 9 10 11 12 13 14 15 16 17 ...\n",
       "  * x                  (x) int64 0 1 2 3 4 5 6 7 8 9 10 11 12 13 14 15 16 17 ...\n",
       "  * bnds               (bnds) int64 0 1\n",
       "Data variables:\n",
       "    nav_lon            (y, x) float32 -142.283 -142.256 -142.228 -142.2 ...\n",
       "    nav_lat            (y, x) float32 45.0491 45.0479 45.0467 45.0456 ...\n",
       "    time_counter_bnds  (time_counter, bnds) float64 4.873e+07 4.881e+07 ...\n",
       "    votemper           (time_counter, deptht, y, x) float64 0.0 8.881 8.905 ...\n",
       "    vosaline           (time_counter, deptht, y, x) float64 0.0 33.14 33.13 ...\n",
       "    sosstsst           (time_counter, y, x) float64 0.0 8.881 8.905 8.925 ...\n",
       "    sosaline           (time_counter, y, x) float64 0.0 33.14 33.13 33.12 ...\n",
       "    sossheig           (time_counter, y, x) float64 0.0 -0.01869 -0.01348 ...\n",
       "    sowaflup           (time_counter, y, x) float64 0.0 8.562e-06 8.61e-06 ...\n",
       "    sowaflcd           (time_counter, y, x) float64 0.0 0.0 0.0 0.0 0.0 0.0 ...\n",
       "    sosalflx           (time_counter, y, x) float64 0.0 0.0 0.0 0.0 0.0 0.0 ...\n",
       "    sohefldo           (time_counter, y, x) float64 0.0 100.3 100.1 99.8 ...\n",
       "    soshfldo           (time_counter, y, x) float64 0.0 219.4 219.6 219.7 ...\n",
       "    somxl010           (time_counter, y, x) float64 0.0 5.709 6.333 6.297 ...\n",
       "    somixhgt           (time_counter, y, x) float64 0.0 4.95 4.674 4.623 ...\n",
       "    soicecov           (time_counter, y, x) float64 0.0 0.0 0.0 0.0 0.0 0.0 ...\n",
       "    sohefldp           (time_counter, y, x) float64 0.0 0.0 0.0 0.0 0.0 0.0 ...\n",
       "    sosafldp           (time_counter, y, x) float64 0.0 0.0 0.0 0.0 0.0 0.0 ...\n",
       "    sowafldp           (time_counter, y, x) float64 0.0 0.0 0.0 0.0 0.0 0.0 ...\n",
       "    sobowlin           (y, x) float64 nan 7.0 9.0 9.0 9.0 9.0 9.0 9.0 9.0 ...\n",
       "Attributes:\n",
       "    Conventions: CF-1.1\n",
       "    CDI: Climate Data Interface version 1.7.1 (http://mpimet.mpg.de/cdi)\n",
       "    history: Wed Jul 27 13:01:08 2016: /usr/local/bin/ncrename -O -v lat,nav_lat -v lon,nav_lon /fs/peg/data/rpne/rpnejpp/NEP036/NEP036-N30-OUT/CDF_COMB/NEP036-N30_IN_20160401_00813600_grid_T.nc\n",
       "Wed Jul 27 12:36:59 2016: cdo timmean /fs/peg/data/rpne/rpnejpp/NEP036/NEP036-N30-OUT/DIMG/NEP036-N30_CU60_20160401_20160332_00813600_grid_T_0000.nc /fs/peg/data/rpne/rpnejpp/NEP036/NEP036-N30-OUT/WORKDIR_grid_T_00813600/timmean_grid_T_00813600_0000.nc\n",
       "    file_name: /fs/peg/data/rpne/rpnejpp/NEP036/NEP036-N30-OUT/CDF_COMB/NEP036-N30_IN_20160401_00813600_grid_T.nc\n",
       "    production: An IPSL model\n",
       "    TimeStamp: 2016-JUL-27 10:02:26 GMT-0000\n",
       "    CDO: Climate Data Operators version 1.7.1 (http://mpimet.mpg.de/cdo)>"
      ]
     },
     "execution_count": 7,
     "metadata": {},
     "output_type": "execute_result"
    }
   ],
   "source": [
    "gridT.keys"
   ]
  },
  {
   "cell_type": "code",
   "execution_count": 8,
   "metadata": {
    "collapsed": false
   },
   "outputs": [
    {
     "name": "stdout",
     "output_type": "stream",
     "text": [
      "(50, 345, 255) (50, 345, 255) (50, 345, 255)\n"
     ]
    }
   ],
   "source": [
    "#### Load JP's mask\n",
    "\n",
    "mask = nc.Dataset('/data/mdunphy/NEP036-N30-OUT/INV/mesh_mask.nc');\n",
    "\n",
    "tmask_JP = mask.variables['tmask'][0,:,55:400,446:701];\n",
    "umask_JP = mask.variables['umask'][0,:,55:400,446:701];\n",
    "vmask_JP = mask.variables['vmask'][0,:,55:400,446:701];\n",
    "\n",
    "print(tmask_JP.shape, umask_JP.shape, vmask_JP.shape)"
   ]
  },
  {
   "cell_type": "code",
   "execution_count": 9,
   "metadata": {
    "collapsed": true
   },
   "outputs": [],
   "source": [
    "ssh_unfiltered = np.array(gridT['sossheig'][:,55:400,446:701]);\n",
    "votemper_unfiltered = np.array(gridT['votemper'][:,:,55:400,446:701]);\n",
    "vosaline_unfiltered = np.array(gridT['vosaline'][:,:,55:400,446:701]);\n",
    "glamt_bc_JP = np.array(gridT['nav_lon'][55:400,446:701]);\n",
    "gphit_bc_JP = np.array(gridT['nav_lat'][55:400,446:701]);\n",
    "\n",
    "\n",
    "\n",
    "\n",
    "for i in np.arange(vosaline_unfiltered.shape[0]):\n",
    "    vosaline_unfiltered[i,...] = np.ma.masked_array(vosaline_unfiltered[i,...], mask = tmask_JP[...]);\n",
    "    vosaline_unfiltered[vosaline_unfiltered == 0] = ['Nan'];\n",
    "    \n",
    "for i in np.arange(votemper_unfiltered.shape[0]):\n",
    "    votemper_unfiltered[i,...] = np.ma.masked_array(votemper_unfiltered[i,...], mask = tmask_JP[...]);\n",
    "    votemper_unfiltered[votemper_unfiltered == 0] = ['Nan'];\n"
   ]
  },
  {
   "cell_type": "code",
   "execution_count": 10,
   "metadata": {
    "collapsed": false
   },
   "outputs": [],
   "source": [
    "# print(votemper_unfiltered.shape)\n",
    "\n",
    "# for a in np.arange(votemper_unfiltered.shape[0]):\n",
    "#     for i in np.arange(votemper_unfiltered.shape[1]):\n",
    "#         for l in np.arange(votemper_unfiltered.shape[2]):\n",
    "#             for m in np.arange(votemper_unfiltered.shape[3]):\n",
    "#                 if votemper_unfiltered[a,i,l,m] == 0:\n",
    "#                     votemper_unfiltered[a,i,l,m] == [];\n",
    "                    \n"
   ]
  },
  {
   "cell_type": "code",
   "execution_count": 11,
   "metadata": {
    "collapsed": false
   },
   "outputs": [
    {
     "name": "stdout",
     "output_type": "stream",
     "text": [
      "(43, 345, 255) (43, 50, 345, 255) (43, 50, 345, 255)\n"
     ]
    }
   ],
   "source": [
    "ssh = np.empty(ssh_unfiltered.shape);\n",
    "votemper = np.empty(votemper_unfiltered.shape);\n",
    "vosaline = np.empty(vosaline_unfiltered.shape);\n",
    "for idx, val in enumerate(ssh_unfiltered[:,...]):\n",
    "    ssh[idx-1,...] = ssh_unfiltered[idx-2,...]*0.25 + ssh_unfiltered[idx-1,...]*0.5 + \\\n",
    "                                ssh_unfiltered[idx,...]*0.25;\n",
    "    votemper[idx-1,...] = votemper_unfiltered[idx-2,...]*0.25 + votemper_unfiltered[idx-1,...]*0.5 + \\\n",
    "                                votemper_unfiltered[idx,...]*0.25;\n",
    "    vosaline[idx-1,...] = vosaline_unfiltered[idx-2,...]*0.25 + vosaline_unfiltered[idx-1,...]*0.5 + \\\n",
    "                                vosaline_unfiltered[idx,...]*0.25;\n",
    "ssh[0,...] = ssh_unfiltered[0,...];\n",
    "votemper[0,...] = votemper_unfiltered[0,...];\n",
    "vosaline[0,...] = vosaline_unfiltered[0,...];\n",
    "        \n",
    "print(ssh.shape , votemper.shape, vosaline.shape)"
   ]
  },
  {
   "cell_type": "code",
   "execution_count": 12,
   "metadata": {
    "collapsed": false
   },
   "outputs": [
    {
     "data": {
      "text/plain": [
       "(43, 50, 345, 255)"
      ]
     },
     "execution_count": 12,
     "metadata": {},
     "output_type": "execute_result"
    }
   ],
   "source": [
    "votemper_unfiltered.shape"
   ]
  },
  {
   "cell_type": "code",
   "execution_count": 13,
   "metadata": {
    "collapsed": true
   },
   "outputs": [],
   "source": [
    "fname_wcvi = '/ocean/ssahu/CANYONS/wcvi/grid/coordinates.nc'"
   ]
  },
  {
   "cell_type": "code",
   "execution_count": 14,
   "metadata": {
    "collapsed": false
   },
   "outputs": [],
   "source": [
    "with nc.Dataset(fname_wcvi, 'r') as coord:\n",
    "    gphit_wcvi = coord.variables['gphit'][0,...];\n",
    "    glamt_wcvi =  coord.variables['glamt'][0,...]; "
   ]
  },
  {
   "cell_type": "code",
   "execution_count": 15,
   "metadata": {
    "collapsed": false
   },
   "outputs": [
    {
     "data": {
      "text/plain": [
       "(43, 50, 345, 255)"
      ]
     },
     "execution_count": 15,
     "metadata": {},
     "output_type": "execute_result"
    }
   ],
   "source": [
    "votemper.shape"
   ]
  },
  {
   "cell_type": "code",
   "execution_count": 16,
   "metadata": {
    "collapsed": false
   },
   "outputs": [
    {
     "data": {
      "text/plain": [
       "(345, 255)"
      ]
     },
     "execution_count": 16,
     "metadata": {},
     "output_type": "execute_result"
    }
   ],
   "source": [
    "glamt_bc_JP.shape"
   ]
  },
  {
   "cell_type": "code",
   "execution_count": 17,
   "metadata": {
    "collapsed": false
   },
   "outputs": [
    {
     "data": {
      "text/plain": [
       "46.113550613066906"
      ]
     },
     "execution_count": 17,
     "metadata": {},
     "output_type": "execute_result"
    }
   ],
   "source": [
    "np.min(gphit_wcvi)"
   ]
  },
  {
   "cell_type": "code",
   "execution_count": 18,
   "metadata": {
    "collapsed": false
   },
   "outputs": [
    {
     "data": {
      "text/plain": [
       "45.213524"
      ]
     },
     "execution_count": 18,
     "metadata": {},
     "output_type": "execute_result"
    }
   ],
   "source": [
    "np.min(np.array(gphit_bc_JP))"
   ]
  },
  {
   "cell_type": "code",
   "execution_count": 19,
   "metadata": {
    "collapsed": false
   },
   "outputs": [],
   "source": [
    "(Nx,Ny) = gphit_wcvi.shape"
   ]
  },
  {
   "cell_type": "code",
   "execution_count": 20,
   "metadata": {
    "collapsed": false
   },
   "outputs": [],
   "source": [
    "X = glamt_bc_JP.flatten()\n",
    "\n",
    "Y = gphit_bc_JP.flatten()\n",
    "\n",
    "points = (X[:],Y[:])\n",
    "\n",
    "xi = (glamt_wcvi.flatten(), gphit_wcvi.flatten());\n",
    "\n",
    "#Number of points to trim off the ends\n",
    "\n",
    "N = 5\n",
    "\n",
    "glamt_wcvi_bc_left = glamt_wcvi[:,0:N-1]; gphit_wcvi_bc_left = gphit_wcvi[:,0:N-1];\n",
    "glamt_wcvi_bc_right = glamt_wcvi[:,-N:-1]; gphit_wcvi_bc_right = gphit_wcvi[:,-N:-1];\n",
    "\n",
    "\n",
    "xi_left = (glamt_wcvi_bc_left.flatten(), gphit_wcvi_bc_left.flatten());\n",
    "xi_right = (glamt_wcvi_bc_right.flatten(), gphit_wcvi_bc_right.flatten());\n",
    "\n",
    "#votemper_wcvi = np.zeros((43,50,Nx,Ny));\n",
    "\n",
    "votemper_wcvi_left = np.empty((43,50,glamt_wcvi_bc_left.shape[0], glamt_wcvi_bc_left.shape[1]));\n",
    "votemper_wcvi_right = np.empty((43,50,glamt_wcvi_bc_right.shape[0], glamt_wcvi_bc_right.shape[1]));\n",
    "\n",
    "ssh_wcvi_left = np.empty((43,glamt_wcvi_bc_left.shape[0], glamt_wcvi_bc_left.shape[1]));\n",
    "\n",
    "\n",
    "for p in np.arange(votemper_wcvi_left.shape[0]):\n",
    "    for i in np.arange(votemper_wcvi_left.shape[1]):\n",
    "        votemper_wcvi_left[p,i,...] = np.reshape(griddata(points, votemper[p,i,...].flatten(), xi_left, method= 'linear'), glamt_wcvi_bc_left.shape)\n",
    "        votemper_wcvi_right[p,i,...] = np.reshape(griddata(points, votemper[p,i,...].flatten(), xi_right, method= 'linear'), glamt_wcvi_bc_right.shape)\n",
    "#        vosaline_wcvi[p,i,...] = np.reshape(griddata(points, vosaline[p,i,...].flatten(), xi, method= 'linear', glamt_wcvi.shape))\n",
    "\n",
    "#vosaline_wcvi = np.reshape(griddata(points, vosaline.flatten(), xi, method= 'linear'), glamt_wcvi.shape)"
   ]
  },
  {
   "cell_type": "code",
   "execution_count": 21,
   "metadata": {
    "collapsed": false
   },
   "outputs": [
    {
     "data": {
      "text/plain": [
       "(43, 50, 100, 4)"
      ]
     },
     "execution_count": 21,
     "metadata": {},
     "output_type": "execute_result"
    }
   ],
   "source": [
    "votemper_wcvi_left.shape"
   ]
  },
  {
   "cell_type": "code",
   "execution_count": null,
   "metadata": {
    "collapsed": true
   },
   "outputs": [],
   "source": []
  },
  {
   "cell_type": "code",
   "execution_count": 22,
   "metadata": {
    "collapsed": false,
    "scrolled": true
   },
   "outputs": [
    {
     "data": {
      "image/png": "[encoded data removed]",
      "text/plain": [
       "<matplotlib.figure.Figure at 0x7f3e4538c940>"
      ]
     },
     "metadata": {},
     "output_type": "display_data"
    }
   ],
   "source": [
    "fig, ax = plt.subplots(1, 1, figsize=(10, 8))\n",
    "viz_tools.set_aspect(ax)\n",
    "\n",
    "mesh = ax.pcolormesh(glamt_wcvi_bc_left[:], gphit_wcvi_bc_left[:],votemper_wcvi_left[0,0,:], cmap =cm.ocean)\n",
    "fig.colorbar(mesh)\n",
    "plt.show()"
   ]
  },
  {
   "cell_type": "code",
   "execution_count": 23,
   "metadata": {
    "collapsed": false,
    "scrolled": true
   },
   "outputs": [
    {
     "name": "stderr",
     "output_type": "stream",
     "text": [
      "/home/ssahu/anaconda3/lib/python3.5/site-packages/matplotlib/colors.py:496: RuntimeWarning: invalid value encountered in less\n",
      "  cbook._putmask(xa, xa < 0.0, -1)\n"
     ]
    },
    {
     "data": {
      "image/png": "[encoded data removed]",
      "text/plain": [
       "<matplotlib.figure.Figure at 0x7f3cd768b160>"
      ]
     },
     "metadata": {},
     "output_type": "display_data"
    }
   ],
   "source": [
    "fig, ax = plt.subplots(1, 1, figsize=(10, 8))\n",
    "viz_tools.set_aspect(ax)\n",
    "\n",
    "mesh = ax.pcolormesh(glamt_wcvi_bc_right[:], gphit_wcvi_bc_right[:],votemper_wcvi_right[0,0,...], cmap =cm.ocean)\n",
    "fig.colorbar(mesh)\n",
    "plt.show()"
   ]
  },
  {
   "cell_type": "code",
   "execution_count": 24,
   "metadata": {
    "collapsed": false
   },
   "outputs": [],
   "source": [
    "np.save('votemper_leftbc', votemper_wcvi_left)"
   ]
  },
  {
   "cell_type": "code",
   "execution_count": 25,
   "metadata": {
    "collapsed": true
   },
   "outputs": [],
   "source": [
    "np.save('votemper_rightbc', votemper_wcvi_right)"
   ]
  },
  {
   "cell_type": "code",
   "execution_count": 26,
   "metadata": {
    "collapsed": true
   },
   "outputs": [],
   "source": [
    "#Now for Salinity\n",
    "\n",
    "\n",
    "#votemper_wcvi = np.zeros((43,50,Nx,Ny));\n",
    "\n",
    "vosaline_wcvi_left = np.empty((43,50,glamt_wcvi_bc_left.shape[0], glamt_wcvi_bc_left.shape[1]));\n",
    "vosaline_wcvi_right = np.empty((43,50,glamt_wcvi_bc_right.shape[0], glamt_wcvi_bc_right.shape[1]));\n",
    "\n",
    "\n",
    "\n",
    "for p in np.arange(vosaline_wcvi_left.shape[0]):\n",
    "    for i in np.arange(vosaline_wcvi_left.shape[1]):\n",
    "        vosaline_wcvi_left[p,i,...] = np.reshape(griddata(points, vosaline[p,i,...].flatten(), xi_left, method= 'linear'), glamt_wcvi_bc_left.shape)\n",
    "        vosaline_wcvi_right[p,i,...] = np.reshape(griddata(points, vosaline[p,i,...].flatten(), xi_right, method= 'linear'), glamt_wcvi_bc_right.shape)\n",
    "\n"
   ]
  },
  {
   "cell_type": "code",
   "execution_count": 27,
   "metadata": {
    "collapsed": true
   },
   "outputs": [],
   "source": [
    "np.save('vosaline_leftbc', vosaline_wcvi_left);\n",
    "np.save('vosaline_rightbc', vosaline_wcvi_right);"
   ]
  },
  {
   "cell_type": "code",
   "execution_count": 28,
   "metadata": {
    "collapsed": false
   },
   "outputs": [
    {
     "data": {
      "image/png": "[encoded data removed]",
      "text/plain": [
       "<matplotlib.figure.Figure at 0x7f3cd755ea90>"
      ]
     },
     "metadata": {},
     "output_type": "display_data"
    }
   ],
   "source": [
    "fig, ax = plt.subplots(1, 1, figsize=(10, 8))\n",
    "viz_tools.set_aspect(ax)\n",
    "\n",
    "mesh = ax.pcolormesh(glamt_wcvi_bc_left[:], gphit_wcvi_bc_left[:],vosaline_wcvi_left[0,0,:], cmap =cm.ocean)\n",
    "fig.colorbar(mesh)\n",
    "plt.show()"
   ]
  },
  {
   "cell_type": "code",
   "execution_count": 29,
   "metadata": {
    "collapsed": false
   },
   "outputs": [
    {
     "name": "stderr",
     "output_type": "stream",
     "text": [
      "/home/ssahu/anaconda3/lib/python3.5/site-packages/matplotlib/colors.py:496: RuntimeWarning: invalid value encountered in less\n",
      "  cbook._putmask(xa, xa < 0.0, -1)\n"
     ]
    },
    {
     "data": {
      "image/png": "[encoded data removed]",
      "text/plain": [
       "<matplotlib.figure.Figure at 0x7f3cd748e710>"
      ]
     },
     "metadata": {},
     "output_type": "display_data"
    }
   ],
   "source": [
    "fig, ax = plt.subplots(1, 1, figsize=(10, 8))\n",
    "viz_tools.set_aspect(ax)\n",
    "\n",
    "mesh = ax.pcolormesh(glamt_wcvi_bc_right[:], gphit_wcvi_bc_right[:],votemper_wcvi_right[0,0,:], cmap =cm.ocean)\n",
    "fig.colorbar(mesh)\n",
    "plt.show()"
   ]
  },
  {
   "cell_type": "code",
   "execution_count": 30,
   "metadata": {
    "collapsed": false,
    "scrolled": true
   },
   "outputs": [],
   "source": [
    "ssh_wcvi = np.empty((43,Nx,Ny))\n",
    "for i,j in enumerate(ssh[:,...]):\n",
    "    ssh_wcvi[i,...] = np.reshape(griddata(points, ssh[i,...].flatten(), xi, method= 'linear'), glamt_wcvi.shape)"
   ]
  },
  {
   "cell_type": "code",
   "execution_count": 31,
   "metadata": {
    "collapsed": false
   },
   "outputs": [],
   "source": [
    "#votemper_wcvi.shape"
   ]
  },
  {
   "cell_type": "code",
   "execution_count": 32,
   "metadata": {
    "collapsed": false
   },
   "outputs": [
    {
     "data": {
      "text/plain": [
       "(100, 70)"
      ]
     },
     "execution_count": 32,
     "metadata": {},
     "output_type": "execute_result"
    }
   ],
   "source": [
    "glamt_wcvi.shape"
   ]
  },
  {
   "cell_type": "code",
   "execution_count": 33,
   "metadata": {
    "collapsed": false
   },
   "outputs": [
    {
     "name": "stdout",
     "output_type": "stream",
     "text": [
      "(100, 4) (43, 100, 4)\n"
     ]
    }
   ],
   "source": [
    "#Number of points to trim off the ends\n",
    "\n",
    "N = 5\n",
    "\n",
    "glamt_wcvi_bc_left = glamt_wcvi[:,0:N-1]; gphit_wcvi_bc_left = gphit_wcvi[:,0:N-1];\n",
    "\n",
    "glamt_wcvi_bc_right = glamt_wcvi[:,-N:-1]; gphit_wcvi_bc_right = gphit_wcvi[:,-N:-1];\n",
    "\n",
    "xi = (glamt_wcvi_bc_left.flatten(), gphit_wcvi_bc_left.flatten())\n",
    "\n",
    "ssh_wcvi_left = np.empty((43,glamt_wcvi_bc_left.shape[0], glamt_wcvi_bc_left.shape[1]));\n",
    "\n",
    "ssh_wcvi_right = np.empty((43,glamt_wcvi_bc_right.shape[0], glamt_wcvi_bc_right.shape[1]));\n",
    "\n",
    "for i,j in enumerate(ssh_wcvi_left[:,...]):\n",
    "    ssh_wcvi_left[i,...] = np.reshape(griddata(points, np.array(ssh[i,...]).flatten(), xi_left, method= 'linear'), glamt_wcvi_bc_left.shape)\n",
    "    ssh_wcvi_right[i,...] = np.reshape(griddata(points, np.array(ssh[i,...]).flatten(), xi_right, method= 'linear'), glamt_wcvi_bc_right.shape)\n",
    "\n",
    "    \n",
    "print(glamt_wcvi_bc_right.shape, ssh_wcvi_left.shape)"
   ]
  },
  {
   "cell_type": "code",
   "execution_count": 34,
   "metadata": {
    "collapsed": true
   },
   "outputs": [],
   "source": [
    "np.save('ssh_leftbc', ssh_wcvi_left);\n",
    "np.save('ssh_rightbc', ssh_wcvi_right)"
   ]
  },
  {
   "cell_type": "code",
   "execution_count": 35,
   "metadata": {
    "collapsed": false
   },
   "outputs": [
    {
     "data": {
      "image/png": "[encoded data removed]",
      "text/plain": [
       "<matplotlib.figure.Figure at 0x7f3cd7654748>"
      ]
     },
     "metadata": {},
     "output_type": "display_data"
    }
   ],
   "source": [
    "fig, ax = plt.subplots(1, 1, figsize=(10, 8))\n",
    "viz_tools.set_aspect(ax)\n",
    "\n",
    "mesh = ax.pcolormesh(glamt_wcvi_bc_left[:], gphit_wcvi_bc_left[:],ssh_wcvi_left[0,...], cmap =cm.ocean)\n",
    "fig.colorbar(mesh)\n",
    "plt.show()"
   ]
  },
  {
   "cell_type": "code",
   "execution_count": 36,
   "metadata": {
    "collapsed": false,
    "scrolled": true
   },
   "outputs": [
    {
     "data": {
      "image/png": "[encoded data removed]",
      "text/plain": [
       "<matplotlib.figure.Figure at 0x7f3cd7319160>"
      ]
     },
     "metadata": {},
     "output_type": "display_data"
    }
   ],
   "source": [
    "fig, ax = plt.subplots(1, 1, figsize=(10, 8))\n",
    "viz_tools.set_aspect(ax)\n",
    "\n",
    "mesh = ax.pcolormesh(glamt_wcvi_bc_right[:], gphit_wcvi_bc_right[:],ssh_wcvi_right[0,...], cmap =cm.ocean)\n",
    "fig.colorbar(mesh)\n",
    "plt.show()"
   ]
  },
  {
   "cell_type": "code",
   "execution_count": 37,
   "metadata": {
    "collapsed": false
   },
   "outputs": [
    {
     "name": "stdout",
     "output_type": "stream",
     "text": [
      "(4, 70) (43, 4, 70)\n"
     ]
    }
   ],
   "source": [
    "N = 5\n",
    "\n",
    "glamt_wcvi_bc_bottom = glamt_wcvi[0:N-1,:]; gphit_wcvi_bc_bottom = gphit_wcvi[0:N-1,:];\n",
    "\n",
    "glamt_wcvi_bc_top = glamt_wcvi[-N:-1,:]; gphit_wcvi_bc_top = gphit_wcvi[-N:-1,:];\n",
    "\n",
    "xi_top = (glamt_wcvi_bc_top.flatten(), gphit_wcvi_bc_top.flatten());\n",
    "xi_bottom = (glamt_wcvi_bc_bottom.flatten(), gphit_wcvi_bc_bottom.flatten());\n",
    "\n",
    "ssh_wcvi_top = np.empty((43,glamt_wcvi_bc_top.shape[0], glamt_wcvi_bc_top.shape[1]));\n",
    "\n",
    "ssh_wcvi_bottom = np.empty((43,glamt_wcvi_bc_bottom.shape[0], glamt_wcvi_bc_bottom.shape[1]));\n",
    "\n",
    "for i,j in enumerate(ssh_wcvi_top[:,...]):\n",
    "    ssh_wcvi_top[i,...] = np.reshape(griddata(points, np.array(ssh[i,...]).flatten(), xi_top, method= 'linear'), glamt_wcvi_bc_top.shape)\n",
    "    ssh_wcvi_bottom[i,...] = np.reshape(griddata(points, np.array(ssh[i,...]).flatten(), xi_bottom, method= 'linear'), glamt_wcvi_bc_bottom.shape)\n",
    "\n",
    "    \n",
    "print(glamt_wcvi_bc_top.shape, ssh_wcvi_top.shape)"
   ]
  },
  {
   "cell_type": "code",
   "execution_count": 38,
   "metadata": {
    "collapsed": true
   },
   "outputs": [],
   "source": [
    "np.save('ssh_topbc', ssh_wcvi_top);\n",
    "np.save('ssh_bottombc', ssh_wcvi_bottom)"
   ]
  },
  {
   "cell_type": "code",
   "execution_count": 39,
   "metadata": {
    "collapsed": false
   },
   "outputs": [
    {
     "data": {
      "image/png": "[encoded data removed]",
      "text/plain": [
       "<matplotlib.figure.Figure at 0x7f3cd734fda0>"
      ]
     },
     "metadata": {},
     "output_type": "display_data"
    }
   ],
   "source": [
    "fig, ax = plt.subplots(1, 1, figsize=(10, 8))\n",
    "viz_tools.set_aspect(ax)\n",
    "\n",
    "mesh = ax.pcolormesh(glamt_wcvi_bc_top[:], gphit_wcvi_bc_top[:], ssh_wcvi_top[0,...], cmap =cm.ocean)\n",
    "fig.colorbar(mesh)\n",
    "plt.show()"
   ]
  },
  {
   "cell_type": "code",
   "execution_count": 40,
   "metadata": {
    "collapsed": false
   },
   "outputs": [
    {
     "data": {
      "image/png": "[encoded data removed]",
      "text/plain": [
       "<matplotlib.figure.Figure at 0x7f3cd7381c88>"
      ]
     },
     "metadata": {},
     "output_type": "display_data"
    }
   ],
   "source": [
    "fig, ax = plt.subplots(1, 1, figsize=(10, 8))\n",
    "viz_tools.set_aspect(ax)\n",
    "\n",
    "mesh = ax.pcolormesh(glamt_wcvi_bc_bottom[:], gphit_wcvi_bc_bottom[:],ssh_wcvi_bottom[0,...], cmap =cm.ocean)\n",
    "fig.colorbar(mesh)\n",
    "plt.show()"
   ]
  },
  {
   "cell_type": "code",
   "execution_count": 41,
   "metadata": {
    "collapsed": false
   },
   "outputs": [
    {
     "data": {
      "image/png": "[encoded data removed]",
      "text/plain": [
       "<matplotlib.figure.Figure at 0x7f3cd75654a8>"
      ]
     },
     "metadata": {},
     "output_type": "display_data"
    }
   ],
   "source": [
    "fig, ax = plt.subplots(1, 1, figsize=(10, 8))\n",
    "viz_tools.set_aspect(ax)\n",
    "\n",
    "mesh = ax.pcolormesh(glamt_wcvi_bc_left[:], gphit_wcvi_bc_left[:],ssh_wcvi_left[0,...], cmap =cm.ocean)\n",
    "fig.colorbar(mesh)\n",
    "plt.show()"
   ]
  },
  {
   "cell_type": "markdown",
   "metadata": {},
   "source": [
    "#### Next we would like to interpolate the values of JP to the outer say 5 grid point cells of our domain based on  matching the lats and lons of JP with our domain"
   ]
  },
  {
   "cell_type": "code",
   "execution_count": 42,
   "metadata": {
    "collapsed": false
   },
   "outputs": [],
   "source": [
    "#for idx, val in enumerate(votemper_wcvi[0,:,...]):\n",
    "#    print(idx)"
   ]
  },
  {
   "cell_type": "code",
   "execution_count": 43,
   "metadata": {
    "collapsed": false
   },
   "outputs": [
    {
     "data": {
      "text/plain": [
       "array([[[-0.03121089, -0.03205166, -0.0329079 , ...,  0.        ,\n",
       "          0.        ,  0.        ],\n",
       "        [-0.03149501, -0.03227666, -0.03311544, ...,  0.        ,\n",
       "          0.        ,  0.        ],\n",
       "        [-0.03170847, -0.03246875, -0.0332819 , ...,  0.        ,\n",
       "          0.        ,  0.        ],\n",
       "        ..., \n",
       "        [ 0.03650894,  0.03562327,  0.03485754, ...,  0.        ,\n",
       "          0.        ,  0.        ],\n",
       "        [ 0.03556635,  0.03468747,  0.03392269, ...,  0.        ,\n",
       "          0.        ,  0.        ],\n",
       "        [ 0.0346674 ,  0.03369027,  0.03297989, ...,  0.        ,\n",
       "          0.        ,  0.        ]],\n",
       "\n",
       "       [[-0.00480135, -0.00555888, -0.00632215, ...,  0.        ,\n",
       "          0.        ,  0.        ],\n",
       "        [-0.00492858, -0.00567222, -0.00640438, ...,  0.        ,\n",
       "          0.        ,  0.        ],\n",
       "        [-0.00498707, -0.00571611, -0.00646788, ...,  0.        ,\n",
       "          0.        ,  0.        ],\n",
       "        ..., \n",
       "        [ 0.0507003 ,  0.04932918,  0.04817919, ...,  0.        ,\n",
       "          0.        ,  0.        ],\n",
       "        [ 0.04948426,  0.0480918 ,  0.04692331, ...,  0.        ,\n",
       "          0.        ,  0.        ],\n",
       "        [ 0.04818824,  0.04674777,  0.04555916, ...,  0.        ,\n",
       "          0.        ,  0.        ]],\n",
       "\n",
       "       [[-0.00397197, -0.00471471, -0.00541837, ...,  0.        ,\n",
       "          0.        ,  0.        ],\n",
       "        [-0.00395985, -0.00469871, -0.00539838, ...,  0.        ,\n",
       "          0.        ,  0.        ],\n",
       "        [-0.00388752, -0.0046294 , -0.00536722, ...,  0.        ,\n",
       "          0.        ,  0.        ],\n",
       "        ..., \n",
       "        [ 0.07222432,  0.07011185,  0.06842859, ...,  0.        ,\n",
       "          0.        ,  0.        ],\n",
       "        [ 0.07077629,  0.06866417,  0.06697468, ...,  0.        ,\n",
       "          0.        ,  0.        ],\n",
       "        [ 0.06924277,  0.06711492,  0.06539238, ...,  0.        ,\n",
       "          0.        ,  0.        ]],\n",
       "\n",
       "       ..., \n",
       "       [[-0.030392  , -0.0315714 , -0.03285058, ...,  0.        ,\n",
       "          0.        ,  0.        ],\n",
       "        [-0.02996963, -0.03097128, -0.03213604, ...,  0.        ,\n",
       "          0.        ,  0.        ],\n",
       "        [-0.02960256, -0.03051927, -0.03154978, ...,  0.        ,\n",
       "          0.        ,  0.        ],\n",
       "        ..., \n",
       "        [-0.04511324, -0.04510883, -0.0449914 , ...,  0.        ,\n",
       "          0.        ,  0.        ],\n",
       "        [-0.04560447, -0.0456454 , -0.04559883, ...,  0.        ,\n",
       "          0.        ,  0.        ],\n",
       "        [-0.04614993, -0.04630535, -0.04640091, ...,  0.        ,\n",
       "          0.        ,  0.        ]],\n",
       "\n",
       "       [[ 0.03282852,  0.03153825,  0.03019604, ...,  0.        ,\n",
       "          0.        ,  0.        ],\n",
       "        [ 0.03319198,  0.03204443,  0.03078086, ...,  0.        ,\n",
       "          0.        ,  0.        ],\n",
       "        [ 0.03349137,  0.03245129,  0.03129329, ...,  0.        ,\n",
       "          0.        ,  0.        ],\n",
       "        ..., \n",
       "        [ 0.02482833,  0.02471803,  0.02478885, ...,  0.        ,\n",
       "          0.        ,  0.        ],\n",
       "        [ 0.02412969,  0.0240349 ,  0.02410389, ...,  0.        ,\n",
       "          0.        ,  0.        ],\n",
       "        [ 0.02320263,  0.02306057,  0.02307603, ...,  0.        ,\n",
       "          0.        ,  0.        ]],\n",
       "\n",
       "       [[ 0.04844964,  0.04722617,  0.04595863, ...,  0.        ,\n",
       "          0.        ,  0.        ],\n",
       "        [ 0.04861073,  0.04748277,  0.04627711, ...,  0.        ,\n",
       "          0.        ,  0.        ],\n",
       "        [ 0.04872267,  0.04768652,  0.04655911, ...,  0.        ,\n",
       "          0.        ,  0.        ],\n",
       "        ..., \n",
       "        [ 0.05271628,  0.05237897,  0.05221507, ...,  0.        ,\n",
       "          0.        ,  0.        ],\n",
       "        [ 0.05164443,  0.05140811,  0.05130463, ...,  0.        ,\n",
       "          0.        ,  0.        ],\n",
       "        [ 0.0503623 ,  0.05014867,  0.05011386, ...,  0.        ,\n",
       "          0.        ,  0.        ]]])"
      ]
     },
     "execution_count": 43,
     "metadata": {},
     "output_type": "execute_result"
    }
   ],
   "source": [
    "np.array(ssh)"
   ]
  },
  {
   "cell_type": "code",
   "execution_count": 44,
   "metadata": {
    "collapsed": false
   },
   "outputs": [
    {
     "data": {
      "text/plain": [
       "(43, 345, 255)"
      ]
     },
     "execution_count": 44,
     "metadata": {},
     "output_type": "execute_result"
    }
   ],
   "source": [
    "ssh.shape"
   ]
  },
  {
   "cell_type": "markdown",
   "metadata": {
    "collapsed": true
   },
   "source": [
    "#### Remaining work\n",
    "    1) Interpolate to our WCVI grid points of T, S and SSH first \n",
    "     2) Slice our domain to keep those variables only for the boundary points (strip of 5 data points on the outer boundary)\n",
    "     3) Use the filter on the surface T and S points after having sliced them\n",
    "     4) Do the rotation thingy on U and V points only for the stripped domain (get glamu and gphiu for wcvi and have them on those points\n",
    "     5) Write a boundary condition file (4 Files one for each boundary) (2D and 3D separately)"
   ]
  },
  {
   "cell_type": "code",
   "execution_count": 45,
   "metadata": {
    "collapsed": true
   },
   "outputs": [],
   "source": [
    "#open saved np arrays\n",
    "\n"
   ]
  },
  {
   "cell_type": "code",
   "execution_count": 46,
   "metadata": {
    "collapsed": false
   },
   "outputs": [],
   "source": [
    "X = glamt_bc_JP.flatten()\n",
    "\n",
    "Y = gphit_bc_JP.flatten()\n",
    "\n",
    "points = (X[:],Y[:])\n",
    "\n",
    "\n",
    "#Number of points to trim off the ends\n",
    "\n",
    "N = 5\n",
    "\n",
    "glamt_wcvi_bc_bottom = glamt_wcvi[0:N-1,:]; gphit_wcvi_bc_bottom = gphit_wcvi[0:N-1,:];\n",
    "\n",
    "glamt_wcvi_bc_top = glamt_wcvi[-N:-1,:]; gphit_wcvi_bc_top = gphit_wcvi[-N:-1,:];\n",
    "\n",
    "xi_top = (glamt_wcvi_bc_top.flatten(), gphit_wcvi_bc_top.flatten());\n",
    "xi_bottom = (glamt_wcvi_bc_bottom.flatten(), gphit_wcvi_bc_bottom.flatten());\n",
    "#votemper_wcvi = np.zeros((43,50,Nx,Ny));\n",
    "\n",
    "votemper_wcvi_top = np.empty((43,50,glamt_wcvi_bc_top.shape[0], glamt_wcvi_bc_top.shape[1]));\n",
    "votemper_wcvi_bottom = np.empty((43,50,glamt_wcvi_bc_bottom.shape[0], glamt_wcvi_bc_bottom.shape[1]));\n",
    "\n",
    "vosaline_wcvi_top = np.empty((43,50,glamt_wcvi_bc_top.shape[0], glamt_wcvi_bc_top.shape[1]));\n",
    "vosaline_wcvi_bottom = np.empty((43,50,glamt_wcvi_bc_bottom.shape[0], glamt_wcvi_bc_bottom.shape[1]));\n",
    "\n",
    "\n",
    "\n",
    "for p in np.arange(votemper_wcvi_top.shape[0]):\n",
    "    for i in np.arange(votemper_wcvi_top.shape[1]):\n",
    "        votemper_wcvi_top[p,i,...] = np.reshape(griddata(points, votemper[p,i,...].flatten(), xi_top, method= 'linear'), glamt_wcvi_bc_top.shape)\n",
    "        votemper_wcvi_bottom[p,i,...] = np.reshape(griddata(points, votemper[p,i,...].flatten(), xi_bottom, method= 'linear'), glamt_wcvi_bc_bottom.shape)\n",
    "\n",
    "        vosaline_wcvi_top[p,i,...] = np.reshape(griddata(points, vosaline[p,i,...].flatten(), xi_top, method= 'linear'), glamt_wcvi_bc_top.shape)\n",
    "        vosaline_wcvi_bottom[p,i,...] = np.reshape(griddata(points, vosaline[p,i,...].flatten(), xi_bottom, method= 'linear'), glamt_wcvi_bc_bottom.shape)\n",
    "\n",
    "        \n",
    "        #        vosaline_wcvi[p,i,...] = np.reshape(griddata(points, vosaline[p,i,...].flatten(), xi, method= 'linear', glamt_wcvi.shape))\n",
    "\n",
    "#vosaline_wcvi = np.reshape(griddata(points, vosaline.flatten(), xi, method= 'linear'), glamt_wcvi.shape)"
   ]
  },
  {
   "cell_type": "code",
   "execution_count": 47,
   "metadata": {
    "collapsed": true
   },
   "outputs": [],
   "source": [
    "np.save('votemper_topbc', votemper_wcvi_top); np.save('votemper_bottombc', votemper_wcvi_bottom);\n",
    "np.save('vosaline_topbc', vosaline_wcvi_top); np.save('vosaline_bottombc', vosaline_wcvi_bottom);"
   ]
  },
  {
   "cell_type": "code",
   "execution_count": 58,
   "metadata": {
    "collapsed": false
   },
   "outputs": [
    {
     "name": "stderr",
     "output_type": "stream",
     "text": [
      "/home/ssahu/anaconda3/lib/python3.5/site-packages/matplotlib/colors.py:496: RuntimeWarning: invalid value encountered in less\n",
      "  cbook._putmask(xa, xa < 0.0, -1)\n"
     ]
    },
    {
     "data": {
      "image/png": "[encoded data removed]",
      "text/plain": [
       "<matplotlib.figure.Figure at 0x7f3cd743d898>"
      ]
     },
     "metadata": {},
     "output_type": "display_data"
    }
   ],
   "source": [
    "fig, ax = plt.subplots(1, 1, figsize=(10, 8))\n",
    "viz_tools.set_aspect(ax)\n",
    "\n",
    "mesh = ax.pcolormesh(glamt_wcvi_bc_top[:], gphit_wcvi_bc_top[:], votemper_wcvi_top[0,0,...], cmap =cm.ocean)\n",
    "fig.colorbar(mesh)\n",
    "plt.show()"
   ]
  },
  {
   "cell_type": "code",
   "execution_count": 64,
   "metadata": {
    "collapsed": false
   },
   "outputs": [
    {
     "name": "stderr",
     "output_type": "stream",
     "text": [
      "/home/ssahu/anaconda3/lib/python3.5/site-packages/matplotlib/colors.py:496: RuntimeWarning: invalid value encountered in less\n",
      "  cbook._putmask(xa, xa < 0.0, -1)\n"
     ]
    },
    {
     "data": {
      "image/png": "[encoded data removed]",
      "text/plain": [
       "<matplotlib.figure.Figure at 0x7f3cd729e588>"
      ]
     },
     "metadata": {},
     "output_type": "display_data"
    }
   ],
   "source": [
    "fig, ax = plt.subplots(1, 1, figsize=(10, 8))\n",
    "viz_tools.set_aspect(ax)\n",
    "\n",
    "mesh = ax.pcolormesh(glamt_wcvi_bc_bottom[:], gphit_wcvi_bc_bottom[:], votemper_wcvi_bottom[0,0,...], cmap =cm.ocean)\n",
    "fig.colorbar(mesh)\n",
    "plt.show()"
   ]
  },
  {
   "cell_type": "code",
   "execution_count": 60,
   "metadata": {
    "collapsed": false
   },
   "outputs": [
    {
     "name": "stderr",
     "output_type": "stream",
     "text": [
      "/home/ssahu/anaconda3/lib/python3.5/site-packages/matplotlib/colors.py:496: RuntimeWarning: invalid value encountered in less\n",
      "  cbook._putmask(xa, xa < 0.0, -1)\n"
     ]
    },
    {
     "data": {
      "image/png": "[encoded data removed]",
      "text/plain": [
       "<matplotlib.figure.Figure at 0x7f3cd74381d0>"
      ]
     },
     "metadata": {},
     "output_type": "display_data"
    }
   ],
   "source": [
    "fig, ax = plt.subplots(1, 1, figsize=(10, 8))\n",
    "viz_tools.set_aspect(ax)\n",
    "\n",
    "mesh = ax.pcolormesh(glamt_wcvi_bc_top[:], gphit_wcvi_bc_top[:], vosaline_wcvi_top[0,0,...], cmap =cm.ocean_r)\n",
    "fig.colorbar(mesh)\n",
    "plt.show()"
   ]
  },
  {
   "cell_type": "code",
   "execution_count": 61,
   "metadata": {
    "collapsed": false
   },
   "outputs": [
    {
     "name": "stderr",
     "output_type": "stream",
     "text": [
      "/home/ssahu/anaconda3/lib/python3.5/site-packages/matplotlib/colors.py:496: RuntimeWarning: invalid value encountered in less\n",
      "  cbook._putmask(xa, xa < 0.0, -1)\n"
     ]
    },
    {
     "data": {
      "image/png": "[encoded data removed]",
      "text/plain": [
       "<matplotlib.figure.Figure at 0x7f3cd745f9e8>"
      ]
     },
     "metadata": {},
     "output_type": "display_data"
    }
   ],
   "source": [
    "fig, ax = plt.subplots(1, 1, figsize=(10, 8))\n",
    "viz_tools.set_aspect(ax)\n",
    "\n",
    "mesh = ax.pcolormesh(glamt_wcvi_bc_bottom[:], gphit_wcvi_bc_bottom[:], vosaline_wcvi_bottom[0,0,...], cmap =cm.ocean_r)\n",
    "fig.colorbar(mesh)\n",
    "plt.show()"
   ]
  },
  {
   "cell_type": "code",
   "execution_count": 56,
   "metadata": {
    "collapsed": false
   },
   "outputs": [
    {
     "data": {
      "text/plain": [
       "array([ 11.53964838,  11.46232756,  11.36429907,  11.21156111,\n",
       "        11.08149621,  10.92868684,  10.84826747,  10.79697776,\n",
       "        10.74934534,  10.70898805,  10.67969265,  10.65905653,\n",
       "        10.64368129,  10.6304516 ,  10.61863041,  10.60676003,\n",
       "        10.59034944,  10.54640686,  10.43646863,  10.32520722,\n",
       "        10.14417778,   9.79899369,   9.25041719,   8.60768142,\n",
       "         8.2284964 ,   8.00170167,   7.75028367,   7.45028822,\n",
       "         6.9864759 ,   6.37077407,   5.82359017,   5.28516627,\n",
       "         4.78809725,   4.37514129,   3.96199117,   3.56378103,\n",
       "         3.11645274,   2.66194167,   2.19800248,   1.85522205,\n",
       "         1.65646152,   1.59003038,   1.57470984,          nan,\n",
       "                nan,          nan,          nan,          nan,\n",
       "                nan,          nan])"
      ]
     },
     "execution_count": 56,
     "metadata": {},
     "output_type": "execute_result"
    }
   ],
   "source": [
    "votemper_wcvi_bottom[0,:,0,0]"
   ]
  },
  {
   "cell_type": "code",
   "execution_count": 55,
   "metadata": {
    "collapsed": false
   },
   "outputs": [
    {
     "name": "stdout",
     "output_type": "stream",
     "text": [
      "bathy_files\r\n",
      "bathy_meter.nc\r\n",
      "C:\\nppdf32Log\\debuglog.txt\r\n",
      "coordinates.nc\r\n",
      "Dealing_with_FRS_initial_T_and_S_remaking_temp_sal_BC.ipynb\r\n",
      "Detiding.ipynb\r\n",
      "Fill_up_holes_in_IC_file_and_BC_file.ipynb\r\n",
      "grid_alignment.py\r\n",
      "Grid_transformation.ipynb\r\n",
      "input10\r\n",
      "input11\r\n",
      "input12\r\n",
      "input13\r\n",
      "input14\r\n",
      "input15\r\n",
      "input16\r\n",
      "input17\r\n",
      "input18\r\n",
      "input19\r\n",
      "input20\r\n",
      "input21\r\n",
      "input22\r\n",
      "input23\r\n",
      "input24\r\n",
      "input25\r\n",
      "input26\r\n",
      "input27\r\n",
      "input28\r\n",
      "input29\r\n",
      "input30\r\n",
      "input31\r\n",
      "input32\r\n",
      "input33\r\n",
      "input34\r\n",
      "input35\r\n",
      "input36\r\n",
      "input37\r\n",
      "input38\r\n",
      "input39\r\n",
      "input4\r\n",
      "input40\r\n",
      "input41\r\n",
      "input42\r\n",
      "input43\r\n",
      "input44\r\n",
      "input45\r\n",
      "input46\r\n",
      "input47\r\n",
      "input48\r\n",
      "input49\r\n",
      "input5\r\n",
      "input50\r\n",
      "input51\r\n",
      "input52\r\n",
      "input53\r\n",
      "input54\r\n",
      "input55\r\n",
      "input56\r\n",
      "input57\r\n",
      "input58\r\n",
      "input59\r\n",
      "input6\r\n",
      "input60\r\n",
      "input61\r\n",
      "input62\r\n",
      "input63\r\n",
      "input64\r\n",
      "input65\r\n",
      "input66\r\n",
      "input67\r\n",
      "input68\r\n",
      "input69\r\n",
      "input7\r\n",
      "input70\r\n",
      "input71\r\n",
      "input72\r\n",
      "input73\r\n",
      "input74\r\n",
      "input75\r\n",
      "input76\r\n",
      "input77\r\n",
      "input78\r\n",
      "input79\r\n",
      "input8\r\n",
      "input80\r\n",
      "input81\r\n",
      "input82\r\n",
      "input83\r\n",
      "input84\r\n",
      "input85\r\n",
      "input86\r\n",
      "input87\r\n",
      "input88\r\n",
      "input89\r\n",
      "input9\r\n",
      "input90\r\n",
      "input91\r\n",
      "input92\r\n",
      "input93\r\n",
      "input94\r\n",
      "input95\r\n",
      "input96\r\n",
      "input97\r\n",
      "input98\r\n",
      "input99\r\n",
      "JP_Grid.png\r\n",
      "Making_2d_bdy_zeros_ssh.ipynb\r\n",
      "Making_IC_from_JP.ipynb\r\n",
      "Making_islands_and_switching_boundaries.ipynb\r\n",
      "Making_lateral_boundaries.ipynb\r\n",
      "NEMO_depth_parameters.ipynb\r\n",
      "Plotting_data_over_3_locations.ipynb\r\n",
      "__pycache__\r\n",
      "Resolving_NEMO_bdy_data.ipynb\r\n",
      "ssh_bottombc.npy\r\n",
      "ssh_leftbc.npy\r\n",
      "ssh_rightbc.npy\r\n",
      "ssh_topbc.npy\r\n",
      "U_3D_wcvi_bottom.npy\r\n",
      "U_3D_wcvi_left.npy\r\n",
      "U_3D_wcvi_right.npy\r\n",
      "U_3D_wcvi_top.npy\r\n",
      "u_unrotated_wcvi_t_3D.npy\r\n",
      "u_unrotated_wcvi_t.npy\r\n",
      "V_3D_wcvi_bottom.npy\r\n",
      "V_3D_wcvi_left.npy\r\n",
      "V_3D_wcvi_right.npy\r\n",
      "V_3D_wcvi_top.npy\r\n",
      "Vertical_Interpolation_to_NEMO_levels_Writing_final_BC.ipynb\r\n",
      "Vertical_Interpolation_to_NEMO_levels_Writing_final_IC.ipynb\r\n",
      "vosaline_bottombc.npy\r\n",
      "vosaline_leftbc.npy\r\n",
      "vosaline_rightbc.npy\r\n",
      "vosaline_topbc.npy\r\n",
      "votemper_bottombc.npy\r\n",
      "votemper_leftbc.npy\r\n",
      "votemper_rightbc.npy\r\n",
      "votemper_topbc.npy\r\n",
      "v_unrotated_wcvi_t_3D.npy\r\n",
      "v_unrotated_wcvi_t.npy\r\n",
      "WCVI_Grid.png\r\n",
      "WCVI_orthogonality.png\r\n",
      "Working_with_mask_during_HORIZONTAL_interpolation_land_points.ipynb\r\n",
      "Writing_bdy_files.ipynb\r\n",
      "Writing_final_BC_two_less.ipynb\r\n"
     ]
    }
   ],
   "source": [
    "!ls"
   ]
  },
  {
   "cell_type": "code",
   "execution_count": 56,
   "metadata": {
    "collapsed": true
   },
   "outputs": [],
   "source": [
    "fname_U_BC = 'cat_43_U.nc'; fname_V_BC = 'cat_43_V.nc';"
   ]
  },
  {
   "cell_type": "code",
   "execution_count": 57,
   "metadata": {
    "collapsed": false
   },
   "outputs": [],
   "source": [
    "\n",
    "\n",
    "gridU = xr.open_dataset(path+ fname_U_BC);\n",
    "gridV = xr.open_dataset(path+ fname_V_BC);\n",
    "\n"
   ]
  },
  {
   "cell_type": "code",
   "execution_count": 58,
   "metadata": {
    "collapsed": false
   },
   "outputs": [
    {
     "data": {
      "text/plain": [
       "<bound method Mapping.keys of <xarray.Dataset>\n",
       "Dimensions:            (bnds: 2, depthu: 50, time_counter: 43, x: 715, y: 1021)\n",
       "Coordinates:\n",
       "  * depthu             (depthu) float32 0.494025 1.54138 2.64567 3.81949 ...\n",
       "  * time_counter       (time_counter) datetime64[ns] 2016-04-01T12:00:00 ...\n",
       "  * y                  (y) int64 0 1 2 3 4 5 6 7 8 9 10 11 12 13 14 15 16 17 ...\n",
       "  * x                  (x) int64 0 1 2 3 4 5 6 7 8 9 10 11 12 13 14 15 16 17 ...\n",
       "  * bnds               (bnds) int64 0 1\n",
       "Data variables:\n",
       "    nav_lon            (y, x) float32 -142.269 -142.241 -142.213 -142.186 ...\n",
       "    nav_lat            (y, x) float32 45.0491 45.0479 45.0467 45.0456 ...\n",
       "    time_counter_bnds  (time_counter, bnds) float64 4.873e+07 4.881e+07 ...\n",
       "    vozocrtx           (time_counter, depthu, y, x) float64 0.0 0.06092 ...\n",
       "    sozotaux           (time_counter, y, x) float64 0.0 0.01107 0.01111 ...\n",
       "Attributes:\n",
       "    Conventions: CF-1.1\n",
       "    CDI: Climate Data Interface version 1.7.1 (http://mpimet.mpg.de/cdi)\n",
       "    history: Wed Jul 27 12:52:16 2016: /usr/local/bin/ncrename -O -v lat,nav_lat -v lon,nav_lon /fs/peg/data/rpne/rpnejpp/NEP036/NEP036-N30-OUT/CDF_COMB/NEP036-N30_IN_20160401_00813600_grid_U.nc\n",
       "Wed Jul 27 12:36:58 2016: cdo timmean /fs/peg/data/rpne/rpnejpp/NEP036/NEP036-N30-OUT/DIMG/NEP036-N30_CU60_20160401_20160332_00813600_grid_U_0000.nc /fs/peg/data/rpne/rpnejpp/NEP036/NEP036-N30-OUT/WORKDIR_grid_U_00813600/timmean_grid_U_00813600_0000.nc\n",
       "    file_name: /fs/peg/data/rpne/rpnejpp/NEP036/NEP036-N30-OUT/CDF_COMB/NEP036-N30_IN_20160401_00813600_grid_U.nc\n",
       "    production: An IPSL model\n",
       "    TimeStamp: 2016-JUL-27 10:02:26 GMT-0000\n",
       "    CDO: Climate Data Operators version 1.7.1 (http://mpimet.mpg.de/cdo)>"
      ]
     },
     "execution_count": 58,
     "metadata": {},
     "output_type": "execute_result"
    }
   ],
   "source": [
    "gridU.keys"
   ]
  },
  {
   "cell_type": "code",
   "execution_count": 59,
   "metadata": {
    "collapsed": false
   },
   "outputs": [
    {
     "data": {
      "text/plain": [
       "Coordinates:\n",
       "  * depthu        (depthu) float32 0.494025 1.54138 2.64567 3.81949 5.07822 ...\n",
       "  * time_counter  (time_counter) datetime64[ns] 2016-04-01T12:00:00 ...\n",
       "  * y             (y) int64 0 1 2 3 4 5 6 7 8 9 10 11 12 13 14 15 16 17 18 ...\n",
       "  * x             (x) int64 0 1 2 3 4 5 6 7 8 9 10 11 12 13 14 15 16 17 18 ...\n",
       "  * bnds          (bnds) int64 0 1"
      ]
     },
     "execution_count": 59,
     "metadata": {},
     "output_type": "execute_result"
    }
   ],
   "source": [
    "gridU.coords"
   ]
  },
  {
   "cell_type": "code",
   "execution_count": 60,
   "metadata": {
    "collapsed": false
   },
   "outputs": [
    {
     "data": {
      "text/plain": [
       "Frozen(SortedKeysDict({'depthu': 50, 'y': 1021, 'x': 715, 'time_counter': 43, 'bnds': 2}))"
      ]
     },
     "execution_count": 60,
     "metadata": {},
     "output_type": "execute_result"
    }
   ],
   "source": [
    "gridU.dims"
   ]
  },
  {
   "cell_type": "code",
   "execution_count": 61,
   "metadata": {
    "collapsed": false
   },
   "outputs": [
    {
     "data": {
      "text/plain": [
       "<bound method Mapping.keys of <xarray.Dataset>\n",
       "Dimensions:            (bnds: 2, depthv: 50, time_counter: 43, x: 715, y: 1021)\n",
       "Coordinates:\n",
       "  * depthv             (depthv) float32 0.494025 1.54138 2.64567 3.81949 ...\n",
       "  * time_counter       (time_counter) datetime64[ns] 2016-04-01T12:00:00 ...\n",
       "  * y                  (y) int64 0 1 2 3 4 5 6 7 8 9 10 11 12 13 14 15 16 17 ...\n",
       "  * x                  (x) int64 0 1 2 3 4 5 6 7 8 9 10 11 12 13 14 15 16 17 ...\n",
       "  * bnds               (bnds) int64 0 1\n",
       "Data variables:\n",
       "    nav_lon            (y, x) float32 -142.283 -142.256 -142.228 -142.2 ...\n",
       "    nav_lat            (y, x) float32 45.0573 45.0561 45.0549 45.0537 ...\n",
       "    time_counter_bnds  (time_counter, bnds) float64 4.873e+07 4.881e+07 ...\n",
       "    vomecrty           (time_counter, depthv, y, x) float64 0.0 0.09244 ...\n",
       "    sometauy           (time_counter, y, x) float64 0.0 0.01886 0.01835 ...\n",
       "Attributes:\n",
       "    Conventions: CF-1.1\n",
       "    CDI: Climate Data Interface version 1.7.1 (http://mpimet.mpg.de/cdi)\n",
       "    history: Wed Jul 27 12:46:06 2016: /usr/local/bin/ncrename -O -v lat,nav_lat -v lon,nav_lon /fs/peg/data/rpne/rpnejpp/NEP036/NEP036-N30-OUT/CDF_COMB/NEP036-N30_IN_20160401_00813600_grid_V.nc\n",
       "Wed Jul 27 12:37:09 2016: cdo timmean /fs/peg/data/rpne/rpnejpp/NEP036/NEP036-N30-OUT/DIMG/NEP036-N30_CU60_20160401_20160332_00813600_grid_V_0000.nc /fs/peg/data/rpne/rpnejpp/NEP036/NEP036-N30-OUT/WORKDIR_grid_V_00813600/timmean_grid_V_00813600_0000.nc\n",
       "    file_name: /fs/peg/data/rpne/rpnejpp/NEP036/NEP036-N30-OUT/CDF_COMB/NEP036-N30_IN_20160401_00813600_grid_V.nc\n",
       "    production: An IPSL model\n",
       "    TimeStamp: 2016-JUL-27 10:02:26 GMT-0000\n",
       "    CDO: Climate Data Operators version 1.7.1 (http://mpimet.mpg.de/cdo)>"
      ]
     },
     "execution_count": 61,
     "metadata": {},
     "output_type": "execute_result"
    }
   ],
   "source": [
    "gridV.keys"
   ]
  },
  {
   "cell_type": "code",
   "execution_count": 62,
   "metadata": {
    "collapsed": false
   },
   "outputs": [],
   "source": [
    "#nav_lon_T = np.array(gridT['nav_lon'][55:400,446:701]);\n",
    "#nav_lat_T = np.array(gridT['nav_lat'][55:400,446:701]);\n",
    "\n",
    "nav_lon_U = np.array(gridU['nav_lon'][55:400,446:701]);\n",
    "nav_lat_U = np.array(gridU['nav_lat'][55:400,446:701]);\n",
    "\n",
    "nav_lon_V = np.array(gridV['nav_lon'][55:400,446:701]);\n",
    "nav_lat_V = np.array(gridV['nav_lat'][55:400,446:701]); \n",
    "\n",
    "U_vel_BC_unfiltered = np.array(gridU['vozocrtx'][:,:,55:400,446:701]);\n",
    "V_vel_BC_unfiltered = np.array(gridV['vomecrty'][:,:,55:400,446:701]);\n",
    "\n",
    "\n",
    "for a in np.arange(U_vel_BC_unfiltered.shape[0]):\n",
    "    for i in np.arange(U_vel_BC_unfiltered.shape[1]):\n",
    "        for l in np.arange(U_vel_BC_unfiltered.shape[2]):\n",
    "            for m in np.arange(U_vel_BC_unfiltered.shape[3]):\n",
    "                if U_vel_BC_unfiltered[a,i,l,m] == 0:\n",
    "                    U_vel_BC_unfiltered[a,i,l,m] == [];\n",
    "\n",
    "\n",
    "for a in np.arange(V_vel_BC_unfiltered.shape[0]):\n",
    "    for i in np.arange(V_vel_BC_unfiltered.shape[1]):\n",
    "        for l in np.arange(V_vel_BC_unfiltered.shape[2]):\n",
    "            for m in np.arange(V_vel_BC_unfiltered.shape[3]):\n",
    "                if V_vel_BC_unfiltered[a,i,l,m] == 0:\n",
    "                    V_vel_BC_unfiltered[a,i,l,m] == [];\n",
    "\n",
    "                    \n",
    "                    \n",
    "#votemper = np.array(gridT['votemper'][:,:,55:400,446:701]);\n",
    "#vosaline = np.array(gridT['vosaline'][:,:,55:400,446:701])\n",
    "#glamt_bc_JP = np.array(gridT['nav_lon'][55:400,446:701]);\n",
    "#gphit_bc_JP = np.array(gridT['nav_lat'][55:400,446:701]);"
   ]
  },
  {
   "cell_type": "code",
   "execution_count": 63,
   "metadata": {
    "collapsed": false
   },
   "outputs": [
    {
     "name": "stdout",
     "output_type": "stream",
     "text": [
      "(43, 50, 345, 255) (43, 50, 345, 255)\n"
     ]
    }
   ],
   "source": [
    "U_vel_BC = np.empty(U_vel_BC_unfiltered.shape);\n",
    "V_vel_BC = np.empty(V_vel_BC_unfiltered.shape);\n",
    "for idx, val in enumerate(U_vel_BC_unfiltered[:,...]):\n",
    "    U_vel_BC[idx-1,...] = U_vel_BC_unfiltered[idx-2,...]*0.25 + U_vel_BC_unfiltered[idx-1,...]*0.5 + \\\n",
    "                                U_vel_BC_unfiltered[idx,...]*0.25;\n",
    "    V_vel_BC[idx-1,...] = V_vel_BC_unfiltered[idx-2,...]*0.25 + V_vel_BC_unfiltered[idx-1,...]*0.5 + \\\n",
    "                                V_vel_BC_unfiltered[idx,...]*0.25;\n",
    "    \n",
    "print(U_vel_BC.shape, V_vel_BC.shape)"
   ]
  },
  {
   "cell_type": "code",
   "execution_count": 64,
   "metadata": {
    "collapsed": true
   },
   "outputs": [],
   "source": [
    "fname_mask = 'mesh_mask.nc'\n",
    "mask = xr.open_dataset(path+ fname_mask)\n"
   ]
  },
  {
   "cell_type": "code",
   "execution_count": 65,
   "metadata": {
    "collapsed": false
   },
   "outputs": [
    {
     "data": {
      "text/plain": [
       "<bound method Mapping.keys of <xarray.Dataset>\n",
       "Dimensions:       (t: 1, x: 715, y: 1021, z: 50)\n",
       "Coordinates:\n",
       "  * y             (y) int64 0 1 2 3 4 5 6 7 8 9 10 11 12 13 14 15 16 17 18 ...\n",
       "  * x             (x) int64 0 1 2 3 4 5 6 7 8 9 10 11 12 13 14 15 16 17 18 ...\n",
       "  * z             (z) int64 0 1 2 3 4 5 6 7 8 9 10 11 12 13 14 15 16 17 18 ...\n",
       "  * t             (t) int64 0\n",
       "Data variables:\n",
       "    nav_lon       (y, x) float32 -142.283 -142.256 -142.228 -142.2 -142.173 ...\n",
       "    nav_lat       (y, x) float32 45.0491 45.0479 45.0467 45.0456 45.0444 ...\n",
       "    nav_lev       (z) float32 0.494025 1.54138 2.64567 3.81949 5.07822 ...\n",
       "    time_counter  (t) float64 0.0\n",
       "    tmask         (t, z, y, x) int8 0 0 0 0 0 0 0 0 0 0 0 0 0 0 0 0 0 0 0 0 ...\n",
       "    umask         (t, z, y, x) int8 0 0 0 0 0 0 0 0 0 0 0 0 0 0 0 0 0 0 0 0 ...\n",
       "    vmask         (t, z, y, x) int8 0 0 0 0 0 0 0 0 0 0 0 0 0 0 0 0 0 0 0 0 ...\n",
       "    fmask         (t, z, y, x) int8 0 1 1 1 1 1 1 1 1 1 1 1 1 1 1 1 1 1 1 1 ...\n",
       "    tmaskutil     (t, y, x) int8 0 0 0 0 0 0 0 0 0 0 0 0 0 0 0 0 0 0 0 0 0 0 ...\n",
       "    umaskutil     (t, y, x) int8 0 0 0 0 0 0 0 0 0 0 0 0 0 0 0 0 0 0 0 0 0 0 ...\n",
       "    vmaskutil     (t, y, x) int8 0 0 0 0 0 0 0 0 0 0 0 0 0 0 0 0 0 0 0 0 0 0 ...\n",
       "    fmaskutil     (t, y, x) int8 0 1 1 1 1 1 1 1 1 1 1 1 1 1 1 1 1 1 1 1 1 1 ...\n",
       "    glamt         (t, y, x) float32 -142.283 -142.256 -142.228 -142.2 ...\n",
       "    glamu         (t, y, x) float32 -142.269 -142.241 -142.213 -142.186 ...\n",
       "    glamv         (t, y, x) float32 -142.283 -142.256 -142.228 -142.2 ...\n",
       "    glamf         (t, y, x) float32 -142.269 -142.241 -142.213 -142.186 ...\n",
       "    gphit         (t, y, x) float32 45.0491 45.0479 45.0467 45.0456 45.0444 ...\n",
       "    gphiu         (t, y, x) float32 45.0491 45.0479 45.0467 45.0456 45.0444 ...\n",
       "    gphiv         (t, y, x) float32 45.0573 45.0561 45.0549 45.0537 45.0525 ...\n",
       "    gphif         (t, y, x) float32 45.0573 45.0561 45.0549 45.0537 45.0525 ...\n",
       "    e1t           (t, y, x) float64 2.175e+03 2.175e+03 2.175e+03 2.175e+03 ...\n",
       "    e1u           (t, y, x) float64 2.175e+03 2.175e+03 2.175e+03 2.175e+03 ...\n",
       "    e1v           (t, y, x) float64 2.175e+03 2.175e+03 2.175e+03 2.175e+03 ...\n",
       "    e1f           (t, y, x) float64 2.175e+03 2.175e+03 2.175e+03 2.175e+03 ...\n",
       "    e2t           (t, y, x) float64 1.955e+03 1.955e+03 1.954e+03 1.954e+03 ...\n",
       "    e2u           (t, y, x) float64 1.955e+03 1.954e+03 1.954e+03 1.954e+03 ...\n",
       "    e2v           (t, y, x) float64 1.954e+03 1.954e+03 1.954e+03 1.954e+03 ...\n",
       "    e2f           (t, y, x) float64 1.954e+03 1.954e+03 1.954e+03 1.953e+03 ...\n",
       "    ff            (t, y, x) float64 0.0001032 0.0001032 0.0001032 0.0001032 ...\n",
       "    mbathy        (t, y, x) int16 0 0 0 0 0 0 0 0 0 0 0 0 0 0 0 0 0 0 0 0 0 ...\n",
       "    misf          (t, y, x) int16 0 0 0 0 0 0 0 0 0 0 0 0 0 0 0 0 0 0 0 0 0 ...\n",
       "    isfdraft      (t, y, x) float32 0.0 0.0 0.0 0.0 0.0 0.0 0.0 0.0 0.0 0.0 ...\n",
       "    e3t_0         (t, z, y, x) float64 1.022 1.022 1.022 1.022 1.022 1.022 ...\n",
       "    e3u_0         (t, z, y, x) float64 1.022 1.022 1.022 1.022 1.022 1.022 ...\n",
       "    e3v_0         (t, z, y, x) float64 1.022 1.022 1.022 1.022 1.022 1.022 ...\n",
       "    e3w_0         (t, z, y, x) float64 1.0 1.0 1.0 1.0 1.0 1.0 1.0 1.0 1.0 ...\n",
       "    gdept_0       (t, z, y, x) float32 0.494025 0.494025 0.494025 0.494025 ...\n",
       "    gdepu         (t, z, y, x) float32 0.0 0.0 0.0 0.0 0.0 0.0 0.0 0.0 0.0 ...\n",
       "    gdepv         (t, z, y, x) float32 0.0 0.0 0.0 0.0 0.0 0.0 0.0 0.0 0.0 ...\n",
       "    gdepw_0       (t, z, y, x) float32 0.0 0.0 0.0 0.0 0.0 0.0 0.0 0.0 0.0 ...\n",
       "    gdept_1d      (t, z) float64 0.494 1.541 2.646 3.819 5.078 6.441 7.93 ...\n",
       "    gdepw_1d      (t, z) float64 0.0 1.011 2.086 3.223 4.437 5.745 7.168 ...\n",
       "    e3t_1d        (t, z) float64 1.022 1.074 1.137 1.213 1.307 1.421 1.561 ...\n",
       "    e3w_1d        (t, z) float64 1.0 1.047 1.104 1.173 1.258 1.361 1.488 ...>"
      ]
     },
     "execution_count": 65,
     "metadata": {},
     "output_type": "execute_result"
    }
   ],
   "source": [
    "mask.keys"
   ]
  },
  {
   "cell_type": "code",
   "execution_count": 66,
   "metadata": {
    "collapsed": false
   },
   "outputs": [],
   "source": [
    "#nav_lon_T.shape\n"
   ]
  },
  {
   "cell_type": "code",
   "execution_count": 67,
   "metadata": {
    "collapsed": false
   },
   "outputs": [],
   "source": [
    "t_mask = mask['tmask'][0,:,55:400,446:701];\n",
    "\n",
    "for i,j in enumerate (U_vel_BC[:,...]):\n",
    "    U_vel_BC[i,...] = ma.masked_array(U_vel_BC[i,...], mask = 1- t_mask[...])\n",
    "    V_vel_BC[i,...] = ma.masked_array(V_vel_BC[i, ...], mask = 1- t_mask[...])\n",
    "# \"Unstagger\" the velocity values by interpolating them to the T-grid points\n",
    "u_vel_BC_tzyx, v_vel_BC_tzyx = viz_tools.unstagger(U_vel_BC, V_vel_BC)\n",
    "\n",
    "mag_vel_BC = np.sqrt(np.multiply(u_vel_BC_tzyx,u_vel_BC_tzyx), np.multiply(v_vel_BC_tzyx,v_vel_BC_tzyx));\n",
    "ang_vel_BC = np.degrees(np.arctan2(v_vel_BC_tzyx, u_vel_BC_tzyx));\n",
    "\n",
    "\n",
    "\n",
    "\n",
    "\n"
   ]
  },
  {
   "cell_type": "code",
   "execution_count": 68,
   "metadata": {
    "collapsed": false
   },
   "outputs": [
    {
     "data": {
      "image/png": "[encoded data removed]",
      "text/plain": [
       "<matplotlib.figure.Figure at 0x7f1a76486cf8>"
      ]
     },
     "metadata": {},
     "output_type": "display_data"
    }
   ],
   "source": [
    "fig, ax = plt.subplots(1, 1, figsize=(10, 8))\n",
    "viz_tools.set_aspect(ax)\n",
    "quiver = ax.quiver(u_vel_BC_tzyx[0,0,...], v_vel_BC_tzyx[0,0,...], color='blue', pivot='mid')\n",
    "ax.grid()\n",
    "\n",
    "plt.show()\n"
   ]
  },
  {
   "cell_type": "code",
   "execution_count": 69,
   "metadata": {
    "collapsed": true
   },
   "outputs": [],
   "source": [
    "fname_coord = 'coordinates.nc'\n",
    "\n",
    "\n",
    "grid_BC = xr.open_dataset(path+ fname_coord);"
   ]
  },
  {
   "cell_type": "code",
   "execution_count": 70,
   "metadata": {
    "collapsed": false
   },
   "outputs": [
    {
     "data": {
      "text/plain": [
       "<bound method Mapping.keys of <xarray.Dataset>\n",
       "Dimensions:  (x: 715, y: 1021)\n",
       "Coordinates:\n",
       "  * y        (y) int64 0 1 2 3 4 5 6 7 8 9 10 11 12 13 14 15 16 17 18 19 20 ...\n",
       "  * x        (x) int64 0 1 2 3 4 5 6 7 8 9 10 11 12 13 14 15 16 17 18 19 20 ...\n",
       "Data variables:\n",
       "    nav_lon  (y, x) float32 -142.283 -142.256 -142.228 -142.2 -142.173 ...\n",
       "    nav_lat  (y, x) float32 45.0491 45.0479 45.0467 45.0456 45.0444 45.0432 ...\n",
       "    glamt    (y, x) float64 -142.3 -142.3 -142.2 -142.2 -142.2 -142.1 -142.1 ...\n",
       "    glamu    (y, x) float64 -142.3 -142.2 -142.2 -142.2 -142.2 -142.1 -142.1 ...\n",
       "    glamv    (y, x) float64 -142.3 -142.3 -142.2 -142.2 -142.2 -142.1 -142.1 ...\n",
       "    glamf    (y, x) float64 -142.3 -142.2 -142.2 -142.2 -142.2 -142.1 -142.1 ...\n",
       "    gphit    (y, x) float64 45.05 45.05 45.05 45.05 45.04 45.04 45.04 45.04 ...\n",
       "    gphiu    (y, x) float64 45.05 45.05 45.05 45.05 45.04 45.04 45.04 45.04 ...\n",
       "    gphiv    (y, x) float64 45.06 45.06 45.05 45.05 45.05 45.05 45.05 45.05 ...\n",
       "    gphif    (y, x) float64 45.06 45.06 45.05 45.05 45.05 45.05 45.05 45.05 ...\n",
       "    e1t      (y, x) float64 2.175e+03 2.175e+03 2.175e+03 2.175e+03 ...\n",
       "    e1u      (y, x) float64 2.175e+03 2.175e+03 2.175e+03 2.175e+03 ...\n",
       "    e1v      (y, x) float64 2.175e+03 2.175e+03 2.175e+03 2.175e+03 ...\n",
       "    e1f      (y, x) float64 2.175e+03 2.175e+03 2.175e+03 2.175e+03 ...\n",
       "    e2t      (y, x) float64 1.955e+03 1.955e+03 1.954e+03 1.954e+03 ...\n",
       "    e2u      (y, x) float64 1.955e+03 1.954e+03 1.954e+03 1.954e+03 ...\n",
       "    e2v      (y, x) float64 1.954e+03 1.954e+03 1.954e+03 1.954e+03 ...\n",
       "    e2f      (y, x) float64 1.954e+03 1.954e+03 1.954e+03 1.953e+03 ...>"
      ]
     },
     "execution_count": 70,
     "metadata": {},
     "output_type": "execute_result"
    }
   ],
   "source": [
    "grid_BC.keys"
   ]
  },
  {
   "cell_type": "code",
   "execution_count": null,
   "metadata": {
    "collapsed": false
   },
   "outputs": [],
   "source": []
  },
  {
   "cell_type": "code",
   "execution_count": 71,
   "metadata": {
    "collapsed": false
   },
   "outputs": [],
   "source": [
    "fname_coord_BC = 'coordinates.nc'\n",
    "\n",
    "grid_JP = xr.open_dataset(path+ fname_coord_BC);\n",
    "glamt = grid_JP.variables['glamt'][55:400,446:701]; gphit = grid_JP.variables['gphit'][55:400,446:701];\n",
    "glamu = grid_JP.variables['glamu'][55:400,446:701]; gphiu = grid_JP.variables['gphiu'][55:400,446:701];\n",
    "glamv = grid_JP.variables['glamv'][55:400,446:701]; gphiv = grid_JP.variables['gphiv'][55:400,446:701];\n",
    "\n",
    "\n",
    "# First point\n",
    "lonA = glamu[:,0:-1]\n",
    "latA = gphiu[:,0:-1]\n",
    "# Second point\n",
    "lonB = glamu[:,1:]\n",
    "latB = gphiu[:,1:]\n",
    "\n",
    "\n",
    "bearing = cibc((latA,lonA),(latB,lonB))\n",
    "angle_needed = 90 - bearing;"
   ]
  },
  {
   "cell_type": "code",
   "execution_count": 72,
   "metadata": {
    "collapsed": false
   },
   "outputs": [
    {
     "data": {
      "text/plain": [
       "((345, 254), (345, 255), (345, 255))"
      ]
     },
     "execution_count": 72,
     "metadata": {},
     "output_type": "execute_result"
    }
   ],
   "source": [
    "bearing.shape, glamt.shape ,gphit.shape"
   ]
  },
  {
   "cell_type": "code",
   "execution_count": null,
   "metadata": {
    "collapsed": false
   },
   "outputs": [],
   "source": []
  },
  {
   "cell_type": "code",
   "execution_count": 73,
   "metadata": {
    "collapsed": false
   },
   "outputs": [
    {
     "data": {
      "image/png": "[encoded data removed]",
      "text/plain": [
       "<matplotlib.figure.Figure at 0x7f1a763a5390>"
      ]
     },
     "metadata": {},
     "output_type": "display_data"
    }
   ],
   "source": [
    "fig, ax = plt.subplots(1, 1, figsize=(10, 8))\n",
    "viz_tools.set_aspect(ax)\n",
    "mesh = ax.pcolormesh(glamt, gphit, angle_needed)\n",
    "fig.colorbar(mesh)\n",
    "plt.show()"
   ]
  },
  {
   "cell_type": "code",
   "execution_count": 74,
   "metadata": {
    "collapsed": false
   },
   "outputs": [
    {
     "data": {
      "text/plain": [
       "(43, 50, 344, 254)"
      ]
     },
     "execution_count": 74,
     "metadata": {},
     "output_type": "execute_result"
    }
   ],
   "source": [
    "u_vel_BC_tzyx.shape"
   ]
  },
  {
   "cell_type": "code",
   "execution_count": 75,
   "metadata": {
    "collapsed": false
   },
   "outputs": [],
   "source": [
    "angle_unrotated = np.empty((ang_vel_BC.shape[0],ang_vel_BC.shape[1],ang_vel_BC.shape[2], ang_vel_BC.shape[3]));\n",
    "\n",
    "\n",
    "for p,q in enumerate(ang_vel_BC[:,...]):\n",
    "    for i,j in enumerate(ang_vel_BC[p,:,...]):\n",
    "        angle_unrotated[p,i,...] = ang_vel_BC[p,i,...] + angle_needed[1:,:];\n",
    "                                \n",
    "                                \n",
    "u_unrotated = mag_vel_BC*np.cos(np.radians(angle_unrotated));\n",
    "v_unrotated = mag_vel_BC*np.sin(np.radians(angle_unrotated));\n",
    "\n",
    "                                \n"
   ]
  },
  {
   "cell_type": "code",
   "execution_count": 76,
   "metadata": {
    "collapsed": false
   },
   "outputs": [],
   "source": [
    "fname_coord_WCVI = 'coordinates_wcvi.nc';\n",
    "\n",
    "with nc.Dataset(path+fname_coord_WCVI, 'r') as grid_WCVI:\n",
    "    glamt_wcvi = grid_WCVI.variables['glamt'][0,:]; gphit_wcvi = grid_WCVI.variables['gphit'][0,:];\n",
    "    glamu_wcvi = grid_WCVI.variables['glamu'][0,:]; gphiu_wcvi = grid_WCVI.variables['gphiu'][0,:];\n",
    "    glamv_wcvi = grid_WCVI.variables['glamv'][0,:]; gphiv_wcvi = grid_WCVI.variables['gphiv'][0,:];\n",
    "    \n",
    "    \n",
    "# First point\n",
    "lonA_wcvi = glamu_wcvi[:,0:-1]\n",
    "latA_wcvi = gphiu_wcvi[:,0:-1]\n",
    "# Second point\n",
    "lonB_wcvi = glamu_wcvi[:,1:]\n",
    "latB_wcvi = gphiu_wcvi[:,1:]\n",
    "\n",
    "\n",
    "bearing_wcvi = cibc((latA_wcvi,lonA_wcvi),(latB_wcvi,lonB_wcvi));\n",
    "angle_needed_wcvi = 90 - bearing_wcvi;\n"
   ]
  },
  {
   "cell_type": "code",
   "execution_count": 77,
   "metadata": {
    "collapsed": false
   },
   "outputs": [
    {
     "data": {
      "text/plain": [
       "(100, 69)"
      ]
     },
     "execution_count": 77,
     "metadata": {},
     "output_type": "execute_result"
    }
   ],
   "source": [
    "angle_needed_wcvi.shape"
   ]
  },
  {
   "cell_type": "code",
   "execution_count": 78,
   "metadata": {
    "collapsed": false
   },
   "outputs": [],
   "source": [
    "glamt_cut_JP = glamt[1:,1:]; gphit_cut_JP = gphit[1:,1:];\n",
    "\n",
    "X = np.array(glamt_cut_JP).flatten(); Y = np.array(gphit_cut_JP).flatten();\n",
    "\n",
    "points = (X[:],Y[:]);\n",
    "\n",
    "xi = (glamt_wcvi.flatten(), gphit_wcvi.flatten());\n",
    "\n",
    "u_unrotated_wcvi_t = np.empty((u_unrotated.shape[0],u_unrotated.shape[1],glamt_wcvi.shape[0], glamt_wcvi.shape[1]));\n",
    "v_unrotated_wcvi_t = np.empty((v_unrotated.shape[0],v_unrotated.shape[1],glamt_wcvi.shape[0], glamt_wcvi.shape[1]));\n",
    "\n",
    "#for p,q in enumerate(u_unrotated[:,...]):\n",
    "#    for i,j in enumerate(u_unrotated[p,:,...]):\n",
    "#        u_unrotated_wcvi_t[p,i,...] = griddata(points, u_unrotated[p,i,...].flatten(), xi, method= 'linear')\n",
    "#        v_unrotated_wcvi_t[p,i,...] = np.reshape(griddata(points, v_unrotated[p,i,...].flatten(), xi, method= 'linear'), glamt_wcvi.shape)\n",
    "for p,q in enumerate(u_unrotated[:,...]):\n",
    "    for i,j in enumerate(v_unrotated[p,:,...]):\n",
    "        u_unrotated_wcvi_t[p,i,...] = np.reshape(griddata(points, u_unrotated[p,i,:,...].flatten(), \\\n",
    "                                                 xi, method= 'linear'), glamt_wcvi.shape)\n",
    "        v_unrotated_wcvi_t[p,i,...] = np.reshape(griddata(points, v_unrotated[p,i,...].flatten(), \\\n",
    "                                                 xi, method= 'linear'), glamt_wcvi.shape)\n",
    "#u_unrotated_wcvi_t = np.reshape(griddata(points, u_unrotated[p,i,:,...].flatten(), xi, method= 'linear'), glamt_wcvi.shape)\n",
    "#v_unrotated_wcvi_t = np.reshape(griddata(points, v_unrotated[p,i,...].flatten(), xi, method= 'linear'), glamt_wcvi.shape)\n",
    "\n",
    "np.save('u_unrotated_wcvi_t_3D', u_unrotated_wcvi_t);\n",
    "np.save('v_unrotated_wcvi_t_3D', v_unrotated_wcvi_t);"
   ]
  },
  {
   "cell_type": "code",
   "execution_count": null,
   "metadata": {
    "collapsed": true
   },
   "outputs": [],
   "source": []
  },
  {
   "cell_type": "code",
   "execution_count": 79,
   "metadata": {
    "collapsed": true
   },
   "outputs": [],
   "source": [
    "u_unrotated_wcvi_t = np.load('u_unrotated_wcvi_t_3D.npy'); v_unrotated_wcvi_t = np.load('v_unrotated_wcvi_t_3D.npy');"
   ]
  },
  {
   "cell_type": "code",
   "execution_count": 80,
   "metadata": {
    "collapsed": false
   },
   "outputs": [],
   "source": [
    "mag_vel_at_wcvi = np.sqrt(np.multiply(u_unrotated_wcvi_t,u_unrotated_wcvi_t), \\\n",
    "                          np.multiply(v_unrotated_wcvi_t,v_unrotated_wcvi_t));\n",
    "ang_vel_at_wcvi = np.degrees(np.arctan2(v_unrotated_wcvi_t, u_unrotated_wcvi_t));\n",
    "\n",
    "angle_unrotated_wcvi = ang_vel_at_wcvi[...,:,1:] - angle_needed_wcvi;\n",
    "\n",
    "u_unrotated_rotated_to_wcvi = mag_vel_at_wcvi[...,:,1:]*(np.cos(np.radians(angle_unrotated_wcvi[...])));\n",
    "v_unrotated_rotated_to_wcvi = mag_vel_at_wcvi[...,:,1:]*(np.sin(np.radians(angle_unrotated_wcvi[...])));"
   ]
  },
  {
   "cell_type": "code",
   "execution_count": 81,
   "metadata": {
    "collapsed": true
   },
   "outputs": [],
   "source": [
    "def stagger(ugrid, vgrid):\n",
    "    u = np.add(ugrid[...,:-1], ugrid[...,1:]) / 2;\n",
    "    v = np.add(vgrid[...,:-1, :], vgrid[...,1:, :]) / 2;\n",
    "    return u[...,:, :], v[...,:, :]"
   ]
  },
  {
   "cell_type": "code",
   "execution_count": 82,
   "metadata": {
    "collapsed": false
   },
   "outputs": [],
   "source": [
    "u_rotated_WCVI, v_rotated_WCVI = stagger(u_unrotated_rotated_to_wcvi, v_unrotated_rotated_to_wcvi)"
   ]
  },
  {
   "cell_type": "code",
   "execution_count": 83,
   "metadata": {
    "collapsed": false
   },
   "outputs": [],
   "source": [
    "N = 5\n",
    "\n",
    "U_wcvi_top = u_rotated_WCVI[...,-N:-1,:]; V_wcvi_top = v_rotated_WCVI[...,-N:-1,:];\n",
    "U_wcvi_bottom = u_rotated_WCVI[...,0:N-1,:]; V_wcvi_bottom = v_rotated_WCVI[...,0:N-1,:];\n",
    "\n",
    "U_wcvi_left = u_rotated_WCVI[...,:,0:N-1]; V_wcvi_left = v_rotated_WCVI[...,:,0:N-1];\n",
    "U_wcvi_right = u_rotated_WCVI[...,:,-N:-1]; V_wcvi_right = v_rotated_WCVI[...,:,-N:-1];\n",
    "\n",
    "\n",
    "np.save('U_3D_wcvi_top', U_wcvi_top); np.save('V_3D_wcvi_top', V_wcvi_top);\n",
    "np.save('U_3D_wcvi_bottom', U_wcvi_bottom); np.save('V_3D_wcvi_bottom', V_wcvi_bottom);\n",
    "np.save('U_3D_wcvi_left', U_wcvi_left); np.save('V_3D_wcvi_left', V_wcvi_left);\n",
    "np.save('U_3D_wcvi_right', U_wcvi_right); np.save('V_3D_wcvi_right', V_wcvi_right);\n",
    "\n",
    "\n",
    "\n"
   ]
  },
  {
   "cell_type": "code",
   "execution_count": null,
   "metadata": {
    "collapsed": true
   },
   "outputs": [],
   "source": []
  },
  {
   "cell_type": "code",
   "execution_count": 84,
   "metadata": {
    "collapsed": false
   },
   "outputs": [
    {
     "ename": "OSError",
     "evalue": "[Errno 12] Cannot allocate memory",
     "output_type": "error",
     "traceback": [
      "\u001b[0;31m---------------------------------------------------------------------------\u001b[0m",
      "\u001b[0;31mOSError\u001b[0m                                   Traceback (most recent call last)",
      "\u001b[0;32m<ipython-input-84-73bfe468f539>\u001b[0m in \u001b[0;36m<module>\u001b[0;34m()\u001b[0m\n\u001b[0;32m----> 1\u001b[0;31m \u001b[0mget_ipython\u001b[0m\u001b[0;34m(\u001b[0m\u001b[0;34m)\u001b[0m\u001b[0;34m.\u001b[0m\u001b[0msystem\u001b[0m\u001b[0;34m(\u001b[0m\u001b[0;34m'ls'\u001b[0m\u001b[0;34m)\u001b[0m\u001b[0;34m\u001b[0m\u001b[0m\n\u001b[0m",
      "\u001b[0;32m/home/ssahu/anaconda3/lib/python3.5/site-packages/IPython/core/interactiveshell.py\u001b[0m in \u001b[0;36msystem_piped\u001b[0;34m(self, cmd)\u001b[0m\n\u001b[1;32m   2207\u001b[0m         \u001b[0;31m# a non-None value would trigger :func:`sys.displayhook` calls.\u001b[0m\u001b[0;34m\u001b[0m\u001b[0;34m\u001b[0m\u001b[0m\n\u001b[1;32m   2208\u001b[0m         \u001b[0;31m# Instead, we store the exit_code in user_ns.\u001b[0m\u001b[0;34m\u001b[0m\u001b[0;34m\u001b[0m\u001b[0m\n\u001b[0;32m-> 2209\u001b[0;31m         \u001b[0mself\u001b[0m\u001b[0;34m.\u001b[0m\u001b[0muser_ns\u001b[0m\u001b[0;34m[\u001b[0m\u001b[0;34m'_exit_code'\u001b[0m\u001b[0;34m]\u001b[0m \u001b[0;34m=\u001b[0m \u001b[0msystem\u001b[0m\u001b[0;34m(\u001b[0m\u001b[0mself\u001b[0m\u001b[0;34m.\u001b[0m\u001b[0mvar_expand\u001b[0m\u001b[0;34m(\u001b[0m\u001b[0mcmd\u001b[0m\u001b[0;34m,\u001b[0m \u001b[0mdepth\u001b[0m\u001b[0;34m=\u001b[0m\u001b[0;36m1\u001b[0m\u001b[0;34m)\u001b[0m\u001b[0;34m)\u001b[0m\u001b[0;34m\u001b[0m\u001b[0m\n\u001b[0m\u001b[1;32m   2210\u001b[0m \u001b[0;34m\u001b[0m\u001b[0m\n\u001b[1;32m   2211\u001b[0m     \u001b[0;32mdef\u001b[0m \u001b[0msystem_raw\u001b[0m\u001b[0;34m(\u001b[0m\u001b[0mself\u001b[0m\u001b[0;34m,\u001b[0m \u001b[0mcmd\u001b[0m\u001b[0;34m)\u001b[0m\u001b[0;34m:\u001b[0m\u001b[0;34m\u001b[0m\u001b[0m\n",
      "\u001b[0;32m/home/ssahu/anaconda3/lib/python3.5/site-packages/IPython/utils/_process_posix.py\u001b[0m in \u001b[0;36msystem\u001b[0;34m(self, cmd)\u001b[0m\n\u001b[1;32m    155\u001b[0m                 \u001b[0mchild\u001b[0m \u001b[0;34m=\u001b[0m \u001b[0mpexpect\u001b[0m\u001b[0;34m.\u001b[0m\u001b[0mspawnb\u001b[0m\u001b[0;34m(\u001b[0m\u001b[0mself\u001b[0m\u001b[0;34m.\u001b[0m\u001b[0msh\u001b[0m\u001b[0;34m,\u001b[0m \u001b[0margs\u001b[0m\u001b[0;34m=\u001b[0m\u001b[0;34m[\u001b[0m\u001b[0;34m'-c'\u001b[0m\u001b[0;34m,\u001b[0m \u001b[0mcmd\u001b[0m\u001b[0;34m]\u001b[0m\u001b[0;34m)\u001b[0m \u001b[0;31m# Pexpect-U\u001b[0m\u001b[0;34m\u001b[0m\u001b[0m\n\u001b[1;32m    156\u001b[0m             \u001b[0;32melse\u001b[0m\u001b[0;34m:\u001b[0m\u001b[0;34m\u001b[0m\u001b[0m\n\u001b[0;32m--> 157\u001b[0;31m                 \u001b[0mchild\u001b[0m \u001b[0;34m=\u001b[0m \u001b[0mpexpect\u001b[0m\u001b[0;34m.\u001b[0m\u001b[0mspawn\u001b[0m\u001b[0;34m(\u001b[0m\u001b[0mself\u001b[0m\u001b[0;34m.\u001b[0m\u001b[0msh\u001b[0m\u001b[0;34m,\u001b[0m \u001b[0margs\u001b[0m\u001b[0;34m=\u001b[0m\u001b[0;34m[\u001b[0m\u001b[0;34m'-c'\u001b[0m\u001b[0;34m,\u001b[0m \u001b[0mcmd\u001b[0m\u001b[0;34m]\u001b[0m\u001b[0;34m)\u001b[0m  \u001b[0;31m# Vanilla Pexpect\u001b[0m\u001b[0;34m\u001b[0m\u001b[0m\n\u001b[0m\u001b[1;32m    158\u001b[0m             \u001b[0mflush\u001b[0m \u001b[0;34m=\u001b[0m \u001b[0msys\u001b[0m\u001b[0;34m.\u001b[0m\u001b[0mstdout\u001b[0m\u001b[0;34m.\u001b[0m\u001b[0mflush\u001b[0m\u001b[0;34m\u001b[0m\u001b[0m\n\u001b[1;32m    159\u001b[0m             \u001b[0;32mwhile\u001b[0m \u001b[0;32mTrue\u001b[0m\u001b[0;34m:\u001b[0m\u001b[0;34m\u001b[0m\u001b[0m\n",
      "\u001b[0;32m/home/ssahu/anaconda3/lib/python3.5/site-packages/pexpect/pty_spawn.py\u001b[0m in \u001b[0;36m__init__\u001b[0;34m(self, command, args, timeout, maxread, searchwindowsize, logfile, cwd, env, ignore_sighup, echo, preexec_fn, encoding, codec_errors, dimensions)\u001b[0m\n\u001b[1;32m    192\u001b[0m             \u001b[0mself\u001b[0m\u001b[0;34m.\u001b[0m\u001b[0mname\u001b[0m \u001b[0;34m=\u001b[0m \u001b[0;34m'<pexpect factory incomplete>'\u001b[0m\u001b[0;34m\u001b[0m\u001b[0m\n\u001b[1;32m    193\u001b[0m         \u001b[0;32melse\u001b[0m\u001b[0;34m:\u001b[0m\u001b[0;34m\u001b[0m\u001b[0m\n\u001b[0;32m--> 194\u001b[0;31m             \u001b[0mself\u001b[0m\u001b[0;34m.\u001b[0m\u001b[0m_spawn\u001b[0m\u001b[0;34m(\u001b[0m\u001b[0mcommand\u001b[0m\u001b[0;34m,\u001b[0m \u001b[0margs\u001b[0m\u001b[0;34m,\u001b[0m \u001b[0mpreexec_fn\u001b[0m\u001b[0;34m,\u001b[0m \u001b[0mdimensions\u001b[0m\u001b[0;34m)\u001b[0m\u001b[0;34m\u001b[0m\u001b[0m\n\u001b[0m\u001b[1;32m    195\u001b[0m \u001b[0;34m\u001b[0m\u001b[0m\n\u001b[1;32m    196\u001b[0m     \u001b[0;32mdef\u001b[0m \u001b[0m__str__\u001b[0m\u001b[0;34m(\u001b[0m\u001b[0mself\u001b[0m\u001b[0;34m)\u001b[0m\u001b[0;34m:\u001b[0m\u001b[0;34m\u001b[0m\u001b[0m\n",
      "\u001b[0;32m/home/ssahu/anaconda3/lib/python3.5/site-packages/pexpect/pty_spawn.py\u001b[0m in \u001b[0;36m_spawn\u001b[0;34m(self, command, args, preexec_fn, dimensions)\u001b[0m\n\u001b[1;32m    287\u001b[0m \u001b[0;34m\u001b[0m\u001b[0m\n\u001b[1;32m    288\u001b[0m         self.ptyproc = ptyprocess.PtyProcess.spawn(self.args, env=self.env,\n\u001b[0;32m--> 289\u001b[0;31m                                                    cwd=self.cwd, **kwargs)\n\u001b[0m\u001b[1;32m    290\u001b[0m \u001b[0;34m\u001b[0m\u001b[0m\n\u001b[1;32m    291\u001b[0m         \u001b[0mself\u001b[0m\u001b[0;34m.\u001b[0m\u001b[0mpid\u001b[0m \u001b[0;34m=\u001b[0m \u001b[0mself\u001b[0m\u001b[0;34m.\u001b[0m\u001b[0mptyproc\u001b[0m\u001b[0;34m.\u001b[0m\u001b[0mpid\u001b[0m\u001b[0;34m\u001b[0m\u001b[0m\n",
      "\u001b[0;32m/home/ssahu/anaconda3/lib/python3.5/site-packages/ptyprocess/ptyprocess.py\u001b[0m in \u001b[0;36mspawn\u001b[0;34m(cls, argv, cwd, env, echo, preexec_fn, dimensions)\u001b[0m\n\u001b[1;32m    218\u001b[0m \u001b[0;34m\u001b[0m\u001b[0m\n\u001b[1;32m    219\u001b[0m         \u001b[0;32mif\u001b[0m \u001b[0muse_native_pty_fork\u001b[0m\u001b[0;34m:\u001b[0m\u001b[0;34m\u001b[0m\u001b[0m\n\u001b[0;32m--> 220\u001b[0;31m             \u001b[0mpid\u001b[0m\u001b[0;34m,\u001b[0m \u001b[0mfd\u001b[0m \u001b[0;34m=\u001b[0m \u001b[0mpty\u001b[0m\u001b[0;34m.\u001b[0m\u001b[0mfork\u001b[0m\u001b[0;34m(\u001b[0m\u001b[0;34m)\u001b[0m\u001b[0;34m\u001b[0m\u001b[0m\n\u001b[0m\u001b[1;32m    221\u001b[0m         \u001b[0;32melse\u001b[0m\u001b[0;34m:\u001b[0m\u001b[0;34m\u001b[0m\u001b[0m\n\u001b[1;32m    222\u001b[0m             \u001b[0;31m# Use internal fork_pty, for Solaris\u001b[0m\u001b[0;34m\u001b[0m\u001b[0;34m\u001b[0m\u001b[0m\n",
      "\u001b[0;32m/home/ssahu/anaconda3/lib/python3.5/pty.py\u001b[0m in \u001b[0;36mfork\u001b[0;34m()\u001b[0m\n\u001b[1;32m     95\u001b[0m \u001b[0;34m\u001b[0m\u001b[0m\n\u001b[1;32m     96\u001b[0m     \u001b[0mmaster_fd\u001b[0m\u001b[0;34m,\u001b[0m \u001b[0mslave_fd\u001b[0m \u001b[0;34m=\u001b[0m \u001b[0mopenpty\u001b[0m\u001b[0;34m(\u001b[0m\u001b[0;34m)\u001b[0m\u001b[0;34m\u001b[0m\u001b[0m\n\u001b[0;32m---> 97\u001b[0;31m     \u001b[0mpid\u001b[0m \u001b[0;34m=\u001b[0m \u001b[0mos\u001b[0m\u001b[0;34m.\u001b[0m\u001b[0mfork\u001b[0m\u001b[0;34m(\u001b[0m\u001b[0;34m)\u001b[0m\u001b[0;34m\u001b[0m\u001b[0m\n\u001b[0m\u001b[1;32m     98\u001b[0m     \u001b[0;32mif\u001b[0m \u001b[0mpid\u001b[0m \u001b[0;34m==\u001b[0m \u001b[0mCHILD\u001b[0m\u001b[0;34m:\u001b[0m\u001b[0;34m\u001b[0m\u001b[0m\n\u001b[1;32m     99\u001b[0m         \u001b[0;31m# Establish a new session.\u001b[0m\u001b[0;34m\u001b[0m\u001b[0;34m\u001b[0m\u001b[0m\n",
      "\u001b[0;31mOSError\u001b[0m: [Errno 12] Cannot allocate memory"
     ]
    }
   ],
   "source": [
    "!ls"
   ]
  },
  {
   "cell_type": "code",
   "execution_count": null,
   "metadata": {
    "collapsed": false
   },
   "outputs": [],
   "source": [
    "ang_vel_at_wcvi.shape, angle_needed_wcvi.shape, angle_unrotated_wcvi.shape, u_rotated_WCVI.shape, v_rotated_WCVI.shape"
   ]
  },
  {
   "cell_type": "code",
   "execution_count": null,
   "metadata": {
    "collapsed": false
   },
   "outputs": [],
   "source": [
    "v_unrotated_wcvi_t.shape"
   ]
  },
  {
   "cell_type": "code",
   "execution_count": null,
   "metadata": {
    "collapsed": false
   },
   "outputs": [],
   "source": [
    "u_rotated_WCVI.shape"
   ]
  },
  {
   "cell_type": "code",
   "execution_count": null,
   "metadata": {
    "collapsed": false
   },
   "outputs": [],
   "source": [
    "U_wcvi_bottom.shape"
   ]
  },
  {
   "cell_type": "code",
   "execution_count": null,
   "metadata": {
    "collapsed": false
   },
   "outputs": [],
   "source": [
    "u_unrotated_wcvi_t.shape"
   ]
  },
  {
   "cell_type": "code",
   "execution_count": null,
   "metadata": {
    "collapsed": false
   },
   "outputs": [],
   "source": [
    "glamt_wcvi.shape"
   ]
  },
  {
   "cell_type": "code",
   "execution_count": null,
   "metadata": {
    "collapsed": false
   },
   "outputs": [],
   "source": [
    "Y.shape"
   ]
  },
  {
   "cell_type": "code",
   "execution_count": null,
   "metadata": {
    "collapsed": false
   },
   "outputs": [],
   "source": [
    "U_vel_BC.shape"
   ]
  },
  {
   "cell_type": "code",
   "execution_count": null,
   "metadata": {
    "collapsed": false
   },
   "outputs": [],
   "source": [
    "nav_lat_U.shape"
   ]
  },
  {
   "cell_type": "code",
   "execution_count": null,
   "metadata": {
    "collapsed": false
   },
   "outputs": [],
   "source": [
    "np.min(nav_lat_U)"
   ]
  },
  {
   "cell_type": "code",
   "execution_count": null,
   "metadata": {
    "collapsed": false
   },
   "outputs": [],
   "source": [
    "344*254"
   ]
  },
  {
   "cell_type": "code",
   "execution_count": null,
   "metadata": {
    "collapsed": false
   },
   "outputs": [],
   "source": [
    "X.shape"
   ]
  },
  {
   "cell_type": "code",
   "execution_count": null,
   "metadata": {
    "collapsed": true
   },
   "outputs": [],
   "source": [
    "votemper, vosaline, nav_lon, nav_lat, time_counter_bnds, sossheig"
   ]
  },
  {
   "cell_type": "code",
   "execution_count": null,
   "metadata": {
    "collapsed": false
   },
   "outputs": [],
   "source": []
  },
  {
   "cell_type": "code",
   "execution_count": null,
   "metadata": {
    "collapsed": true
   },
   "outputs": [],
   "source": []
  },
  {
   "cell_type": "code",
   "execution_count": null,
   "metadata": {
    "collapsed": false
   },
   "outputs": [],
   "source": []
  },
  {
   "cell_type": "code",
   "execution_count": 15,
   "metadata": {
    "collapsed": true
   },
   "outputs": [],
   "source": [
    "gridT = xr.open_dataset('/ocean/ssahu/JP_BC/cat_42_days_T.nc')\n",
    "\n",
    "mask = nc.Dataset('/ocean/ssahu/CANYONS/wcvi/grid/meshmask_files/JP_mesh_mask.nc')\n",
    "\n",
    "tmask_JP = mask.variables['tmask'][0,:,55:400,446:701]\n",
    "umask_JP = mask.variables['umask'][0,:,55:400,446:701]\n",
    "vmask_JP = mask.variables['vmask'][0,:,55:400,446:701]\n",
    "\n",
    "\n",
    "ssh_unfiltered = np.array(gridT['sossheig'][1:,55:400,446:701])\n",
    "votemper_unfiltered = np.array(gridT['votemper'][1:,:,55:400,446:701])\n",
    "vosaline_unfiltered = np.array(gridT['vosaline'][1:,:,55:400,446:701])\n"
   ]
  },
  {
   "cell_type": "code",
   "execution_count": 16,
   "metadata": {
    "collapsed": false
   },
   "outputs": [
    {
     "data": {
      "text/plain": [
       "(42, 345, 255)"
      ]
     },
     "execution_count": 16,
     "metadata": {},
     "output_type": "execute_result"
    }
   ],
   "source": [
    "ssh_unfiltered.shape"
   ]
  },
  {
   "cell_type": "code",
   "execution_count": 17,
   "metadata": {
    "collapsed": false
   },
   "outputs": [
    {
     "data": {
      "text/plain": [
       "(42, 50, 345, 255)"
      ]
     },
     "execution_count": 17,
     "metadata": {},
     "output_type": "execute_result"
    }
   ],
   "source": [
    "votemper_unfiltered.shape"
   ]
  },
  {
   "cell_type": "code",
   "execution_count": 18,
   "metadata": {
    "collapsed": true
   },
   "outputs": [],
   "source": [
    "fname_wcvi = '/ocean/ssahu/CANYONS/wcvi/grid/coordinates.nc'\n",
    "\n",
    "with nc.Dataset(fname_wcvi, 'r') as coord:\n",
    "    gphit_wcvi = coord.variables['gphit'][0,...]\n",
    "    glamt_wcvi = coord.variables['glamt'][0,...]\n",
    "    glamu_wcvi = coord.variables['glamu'][0,...]\n",
    "    gphiu_wcvi = coord.variables['gphiu'][0,...]\n",
    "    glamv_wcvi = coord.variables['glamv'][0,...]\n",
    "    gphiv_wcvi = coord.variables['gphiv'][0,...]\n"
   ]
  },
  {
   "cell_type": "code",
   "execution_count": 19,
   "metadata": {
    "collapsed": true
   },
   "outputs": [],
   "source": [
    "N = 10\n",
    "\n",
    "glamt_wcvi_bc_left = glamt_wcvi[:,0:N-1]; gphit_wcvi_bc_left = gphit_wcvi[:,0:N-1];\n",
    "glamt_wcvi_bc_right = glamt_wcvi[:,-N:-1]; gphit_wcvi_bc_right = gphit_wcvi[:,-N:-1];\n",
    "\n",
    "glamt_wcvi_bc_bottom = glamt_wcvi[0:N-1,:]; gphit_wcvi_bc_bottom = gphit_wcvi[0:N-1,:];\n",
    "glamt_wcvi_bc_top = glamt_wcvi[-N:-1,:]; gphit_wcvi_bc_top = gphit_wcvi[-N:-1,:];\n",
    "\n",
    "votemper_wcvi_top = np.empty((votemper_unfiltered.shape[0],votemper_unfiltered.shape[1],glamt_wcvi_bc_top.shape[0], glamt_wcvi_bc_top.shape[1]))\n",
    "votemper_wcvi_bottom = np.empty((votemper_unfiltered.shape[0],votemper_unfiltered.shape[1],glamt_wcvi_bc_bottom.shape[0], glamt_wcvi_bc_bottom.shape[1]))\n",
    "\n",
    "vosaline_wcvi_top = np.empty((vosaline_unfiltered.shape[0],vosaline_unfiltered.shape[1],glamt_wcvi_bc_top.shape[0], glamt_wcvi_bc_top.shape[1]))\n",
    "vosaline_wcvi_bottom = np.empty((vosaline_unfiltered.shape[0],vosaline_unfiltered.shape[1],glamt_wcvi_bc_bottom.shape[0], glamt_wcvi_bc_bottom.shape[1]))\n",
    "\n",
    "\n",
    "votemper_wcvi_left = np.empty((votemper_unfiltered.shape[0],votemper_unfiltered.shape[1],glamt_wcvi_bc_left.shape[0], glamt_wcvi_bc_left.shape[1]))\n",
    "votemper_wcvi_right = np.empty((votemper_unfiltered.shape[0],votemper_unfiltered.shape[1],glamt_wcvi_bc_right.shape[0], glamt_wcvi_bc_right.shape[1]))\n",
    "\n",
    "vosaline_wcvi_left = np.empty((vosaline_unfiltered.shape[0],vosaline_unfiltered.shape[1],glamt_wcvi_bc_left.shape[0], glamt_wcvi_bc_left.shape[1]))\n",
    "vosaline_wcvi_right = np.empty((vosaline_unfiltered.shape[0],vosaline_unfiltered.shape[1],glamt_wcvi_bc_right.shape[0], glamt_wcvi_bc_right.shape[1]))\n",
    "\n",
    "\n",
    "ssh_wcvi_left = np.empty((ssh_unfiltered.shape[0],glamt_wcvi_bc_left.shape[0], glamt_wcvi_bc_left.shape[1]))\n",
    "ssh_wcvi_right = np.empty((ssh_unfiltered.shape[0],glamt_wcvi_bc_right.shape[0], glamt_wcvi_bc_right.shape[1]))\n",
    "\n",
    "\n",
    "ssh_wcvi_top = np.empty((ssh_unfiltered.shape[0],glamt_wcvi_bc_top.shape[0], glamt_wcvi_bc_top.shape[1]))\n",
    "ssh_wcvi_bottom = np.empty((ssh_unfiltered.shape[0],glamt_wcvi_bc_bottom.shape[0], glamt_wcvi_bc_bottom.shape[1]))"
   ]
  },
  {
   "cell_type": "code",
   "execution_count": 20,
   "metadata": {
    "collapsed": false
   },
   "outputs": [
    {
     "data": {
      "text/plain": [
       "(390, 9)"
      ]
     },
     "execution_count": 20,
     "metadata": {},
     "output_type": "execute_result"
    }
   ],
   "source": [
    "glamt_wcvi_bc_left.shape"
   ]
  },
  {
   "cell_type": "code",
   "execution_count": 21,
   "metadata": {
    "collapsed": false
   },
   "outputs": [
    {
     "data": {
      "text/plain": [
       "(42, 390, 9)"
      ]
     },
     "execution_count": 21,
     "metadata": {},
     "output_type": "execute_result"
    }
   ],
   "source": [
    "ssh_wcvi_left.shape"
   ]
  },
  {
   "cell_type": "code",
   "execution_count": null,
   "metadata": {
    "collapsed": true
   },
   "outputs": [],
   "source": []
  }
 ],
 "metadata": {
  "anaconda-cloud": {},
  "kernelspec": {
   "display_name": "Python [conda root]",
   "language": "python",
   "name": "conda-root-py"
  },
  "language_info": {
   "codemirror_mode": {
    "name": "ipython",
    "version": 3
   },
   "file_extension": ".py",
   "mimetype": "text/x-python",
   "name": "python",
   "nbconvert_exporter": "python",
   "pygments_lexer": "ipython3",
   "version": "3.5.2"
  }
 },
 "nbformat": 4,
 "nbformat_minor": 1
}
