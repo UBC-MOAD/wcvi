{
 "cells": [
  {
   "cell_type": "markdown",
   "metadata": {},
   "source": [
    "#### This notebook attempts to figure out the way NEMO desires the bdy file input (y,xBT) instead of (y,x) where the y index is presumably the strip of data points that we want to use from the edge while xBT is the along boundary dimension having all the data points. A further confusion that needs to be done away with is how NEMO reads the file (which index it reads as the outside most point and does it gradually come in from the outermost edge)\n",
    "\n",
    "#### To this extent we take a look at the NEMO code for reading the bdy file present in (/ocean/ssahu/CANYONS/nemo-3.6-code/NEMOGCM/TOOLS/BDY_TOOLS/src)\n",
    "\n"
   ]
  },
  {
   "cell_type": "markdown",
   "metadata": {},
   "source": [
    "#### The code is given down below (inside bdy_reorder.f90)\n",
    "\n",
    "\n",
    "\n"
   ]
  }
 ],
 "metadata": {
  "anaconda-cloud": {},
  "kernelspec": {
   "display_name": "Python [conda root]",
   "language": "python",
   "name": "conda-root-py"
  },
  "language_info": {
   "codemirror_mode": {
    "name": "ipython",
    "version": 3
   },
   "file_extension": ".py",
   "mimetype": "text/x-python",
   "name": "python",
   "nbconvert_exporter": "python",
   "pygments_lexer": "ipython3",
   "version": "3.5.2"
  }
 },
 "nbformat": 4,
 "nbformat_minor": 1
}
