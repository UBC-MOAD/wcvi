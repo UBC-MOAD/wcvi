{
 "cells": [
  {
   "cell_type": "markdown",
   "metadata": {},
   "source": [
    "### This Notebook takes the previously created BC ignoring the NEMO Levels and JP practical salinity and does the vertical interpolation and gsw calls to generate proper salinity to write them into final input BC file one for each boundary"
   ]
  },
  {
   "cell_type": "code",
   "execution_count": 8,
   "metadata": {
    "collapsed": true
   },
   "outputs": [],
   "source": [
    "%matplotlib inline\n",
    "import matplotlib.pyplot as plt\n",
    "import numpy as np\n",
    "import netCDF4 as nc\n",
    "import xarray as xr\n",
    "import matplotlib.cm as cm\n",
    "from scipy.interpolate import interp1d\n",
    "from salishsea_tools import (nc_tools, gsw_calls,viz_tools)"
   ]
  },
  {
   "cell_type": "markdown",
   "metadata": {},
   "source": [
    "##### Import the mesh_mask.nc for the depth levels on which to interpolate our values"
   ]
  },
  {
   "cell_type": "code",
   "execution_count": 11,
   "metadata": {
    "collapsed": false
   },
   "outputs": [
    {
     "name": "stdout",
     "output_type": "stream",
     "text": [
      "(80,)\n"
     ]
    }
   ],
   "source": [
    "mask = nc.Dataset('/ocean/ssahu/CANYONS/Results/Westcoast_attempt17_generate_mask_80_levels/mesh_mask.nc')\n",
    "\n",
    "NEMO_depth = mask.variables['nav_lev'][:];\n",
    "\n",
    "print(NEMO_depth.shape)"
   ]
  },
  {
   "cell_type": "markdown",
   "metadata": {},
   "source": [
    "#### Let us start with the left boundary (West)\n",
    "\n",
    "##### The 2D output BC fields are fine so we donot need to worry about them and they have been properly created by the previous notebook (Writing_bdy_files) but the fields inside the 3d boundary files have not been interpolated and the salinity values need to be converted to absolute salinity from PSU"
   ]
  },
  {
   "cell_type": "code",
   "execution_count": 49,
   "metadata": {
    "collapsed": false
   },
   "outputs": [
    {
     "name": "stdout",
     "output_type": "stream",
     "text": [
      "(43, 50, 100, 4) (43, 50, 100, 4) (43, 50, 100, 4) (43, 50, 100, 4)\n"
     ]
    }
   ],
   "source": [
    "left_file = nc.Dataset('/ocean/ssahu/CANYONS/bdy_files/3d_west_m04.nc');\n",
    "\n",
    "vosaline_JP_level_PSU_left = left_file.variables['vosaline'][:];\n",
    "votemper_JP_level_left = left_file.variables['votemper'][:];\n",
    "U_vel_JP_level_left = left_file.variables['vozocrtx'][:];\n",
    "V_vel_JP_level_left = left_file.variables['vomecrty'][:];\n",
    "\n",
    "\n",
    "print(vosaline_JP_level_PSU_left.shape, votemper_JP_level_left.shape, U_vel_JP_level_left.shape, V_vel_JP_level_left.shape)"
   ]
  },
  {
   "cell_type": "markdown",
   "metadata": {},
   "source": [
    "#### Our boundary files donot have a depth variable from which we can import the depths but the files created before the vertical interpolation of the IC values have the depth variable (the file is called West_coast_temperature_salinity_nomask_JP.nc)"
   ]
  },
  {
   "cell_type": "code",
   "execution_count": 24,
   "metadata": {
    "collapsed": false
   },
   "outputs": [
    {
     "name": "stdout",
     "output_type": "stream",
     "text": [
      "(50,) (100, 70)\n"
     ]
    }
   ],
   "source": [
    "depth_JP = nc.Dataset('/ocean/ssahu/CANYONS/wcvi/initial_conditions/West_coast_temperature_salinity_nomask_JP.nc')\\\n",
    "                .variables['deptht'][:];\n",
    "lat = nc.Dataset('/ocean/ssahu/CANYONS/wcvi/initial_conditions/West_coast_temperature_salinity_nomask_JP.nc')\\\n",
    "            .variables['nav_lat'][:];\n",
    "lon = nc.Dataset('/ocean/ssahu/CANYONS/wcvi/initial_conditions/West_coast_temperature_salinity_nomask_JP.nc')\\\n",
    "            .variables['nav_lon'][:]\n",
    "print(depth_JP.shape, lat.shape)"
   ]
  },
  {
   "cell_type": "code",
   "execution_count": 28,
   "metadata": {
    "collapsed": false
   },
   "outputs": [],
   "source": [
    "# Conversion of vosaline_PSU to vosaline_SA\n",
    "\n",
    "z = np.dot(-1,depth_JP);\n",
    "\n",
    "pressure = np.zeros(z.shape);\n",
    "lats = np.zeros(pressure.shape);\n",
    "lons = np.zeros(pressure.shape);\n",
    "lats[:] = np.mean(lat);\n",
    "lons[:] = np.mean(lon);\n",
    "\n",
    "vosaline_JP_level_SA_left = np.zeros(vosaline_JP_level_PSU_left.shape);\n",
    "pressure = gsw_calls.generic_gsw_caller('gsw_p_from_z.m', [z, np.mean(lat)]);\n",
    "for i,j in enumerate(vosaline_JP_level_SA_left[0,:,...]):\n",
    "    vosaline_JP_level_SA_left[:,i,...] = gsw_calls.generic_gsw_caller('gsw_SA_from_SP', [vosaline_PSU_left[:,i,...],pressure[i],lons[i],lats[i]]);\n",
    "\n"
   ]
  },
  {
   "cell_type": "code",
   "execution_count": 33,
   "metadata": {
    "collapsed": false
   },
   "outputs": [
    {
     "data": {
      "text/plain": [
       "(43, 50, 100, 4)"
      ]
     },
     "execution_count": 33,
     "metadata": {},
     "output_type": "execute_result"
    }
   ],
   "source": [
    "vosaline_JP_level_SA_left.shape"
   ]
  },
  {
   "cell_type": "code",
   "execution_count": 34,
   "metadata": {
    "collapsed": true
   },
   "outputs": [],
   "source": [
    "#### let us interp1d to make a vertical function for each of these variables and then interpolate them to the values vertically\n",
    "\n",
    "left_temp_function = interp1d(depth_JP, votemper_JP_level_left, axis=1,\\\n",
    "                              bounds_error=False, fill_value='extrapolate');\n",
    "left_sal_function = interp1d(depth_JP, vosaline_JP_level_SA_left, axis=1,\\\n",
    "                              bounds_error=False, fill_value='extrapolate');\n",
    "left_U_function = interp1d(depth_JP, U_vel_JP_level_left, axis=1,\\\n",
    "                              bounds_error=False, fill_value='extrapolate');\n",
    "left_V_function = interp1d(depth_JP, V_vel_JP_level_left, axis=1,\\\n",
    "                              bounds_error=False, fill_value='extrapolate');"
   ]
  },
  {
   "cell_type": "code",
   "execution_count": 36,
   "metadata": {
    "collapsed": false
   },
   "outputs": [],
   "source": [
    "votemper_NEMO_left = np.zeros((vosaline_JP_level_SA_left.shape[0], NEMO_depth.shape[0], \\\n",
    "                               vosaline_JP_level_SA_left.shape[2], vosaline_JP_level_SA_left.shape[3]));\n",
    "vosaline_NEMO_left = np.zeros((vosaline_JP_level_SA_left.shape[0], NEMO_depth.shape[0], \\\n",
    "                               vosaline_JP_level_SA_left.shape[2], vosaline_JP_level_SA_left.shape[3]));\n",
    "U_NEMO_left = np.zeros((vosaline_JP_level_SA_left.shape[0], NEMO_depth.shape[0], \\\n",
    "                               vosaline_JP_level_SA_left.shape[2], vosaline_JP_level_SA_left.shape[3]));\n",
    "V_NEMO_left = np.zeros((vosaline_JP_level_SA_left.shape[0], NEMO_depth.shape[0], \\\n",
    "                               vosaline_JP_level_SA_left.shape[2], vosaline_JP_level_SA_left.shape[3]));\n",
    "\n",
    "\n",
    "for indx in np.arange(NEMO_depth.shape[0]):\n",
    "    votemper_NEMO_left[:,indx,...] = left_temp_function(NEMO_depth[indx]);\n",
    "    vosaline_NEMO_left[:,indx,...] = left_sal_function(NEMO_depth[indx]);\n",
    "    U_NEMO_left[:,indx,...]        = left_U_function(NEMO_depth[indx]);\n",
    "    V_NEMO_left[:,indx,...]        = left_V_function(NEMO_depth[indx]);"
   ]
  },
  {
   "cell_type": "code",
   "execution_count": 39,
   "metadata": {
    "collapsed": false
   },
   "outputs": [
    {
     "name": "stdout",
     "output_type": "stream",
     "text": [
      "(43, 80, 100, 4) (43, 80, 100, 4) (43, 80, 100, 4) (43, 80, 100, 4)\n"
     ]
    }
   ],
   "source": [
    "print(votemper_NEMO_left.shape, vosaline_NEMO_left.shape, U_NEMO_left.shape, V_NEMO_left.shape)"
   ]
  },
  {
   "cell_type": "code",
   "execution_count": 47,
   "metadata": {
    "collapsed": false
   },
   "outputs": [],
   "source": [
    "#Now let us write the 3d boundary condition for the left boundary\n",
    "\n",
    "bdy_file = nc.Dataset('/ocean/ssahu/CANYONS/bdy_files/3d_NEMO_west_m04.nc', 'w', zlib=True);\n",
    "\n",
    "\n",
    "bdy_file.createDimension('xb', U_NEMO_left.shape[3]);\n",
    "bdy_file.createDimension('yb', U_NEMO_left.shape[2]);\n",
    "bdy_file.createDimension('deptht', U_NEMO_left.shape[1]);\n",
    "bdy_file.createDimension('time_counter', None);\n",
    "\n",
    "\n",
    "xb = bdy_file.createVariable('xb', 'int32', ('xb',), zlib=True);\n",
    "xb.units = 'indices';\n",
    "xb.longname = 'x indices along left boundary';\n",
    "\n",
    "yb = bdy_file.createVariable('yb', 'int32', ('yb',), zlib=True);\n",
    "yb.units = 'indices';\n",
    "yb.longname = 'a strip of y indices across all of left boundary';\n",
    "\n",
    "deptht = bdy_file.createVariable('deptht', 'int32', ('deptht',), zlib=True);\n",
    "deptht.units = 'm';\n",
    "deptht.longname = 'Vertical T Levels';\n",
    "\n",
    "time_counter = bdy_file.createVariable('time_counter', 'int32', ('time_counter',), zlib=True);\n",
    "time_counter.units = 's';\n",
    "time_counter.longname = 'time';\n",
    "\n",
    "vozocrtx = bdy_file.createVariable('vozocrtx', 'float32', ('time_counter', 'deptht', 'yb', 'xb'), zlib=True);\n",
    "vomecrty = bdy_file.createVariable('vomecrty', 'float32', ('time_counter', 'deptht', 'yb', 'xb'), zlib=True);\n",
    "votemper = bdy_file.createVariable('votemper', 'float32', ('time_counter', 'deptht', 'yb', 'xb'), zlib=True);\n",
    "vosaline = bdy_file.createVariable('vosaline', 'float32', ('time_counter', 'deptht', 'yb', 'xb'), zlib=True);\n",
    "\n",
    "vozocrtx[:] = U_NEMO_left[:];\n",
    "vomecrty[:] = V_NEMO_left[:];\n",
    "votemper[:] = votemper_NEMO_left[:];\n",
    "vosaline[:] = vosaline_NEMO_left[:];\n",
    "\n",
    "bdy_file.close()"
   ]
  },
  {
   "cell_type": "markdown",
   "metadata": {},
   "source": [
    "### Now for the right boundary"
   ]
  },
  {
   "cell_type": "code",
   "execution_count": 51,
   "metadata": {
    "collapsed": false
   },
   "outputs": [
    {
     "name": "stdout",
     "output_type": "stream",
     "text": [
      "(43, 50, 100, 4) (43, 50, 100, 4) (43, 50, 100, 4) (43, 50, 100, 4)\n",
      "(43, 50, 100, 4)\n",
      "(43, 80, 100, 4) (43, 80, 100, 4) (43, 80, 100, 4) (43, 80, 100, 4)\n"
     ]
    }
   ],
   "source": [
    "# for the right boundary I will make everything occur within one cell so that eventually it will be easier to automate it\n",
    "\n",
    "right_file = nc.Dataset('/ocean/ssahu/CANYONS/bdy_files/3d_right_m04.nc');\n",
    "\n",
    "vosaline_JP_level_PSU_right = right_file.variables['vosaline'][:];\n",
    "votemper_JP_level_right = right_file.variables['votemper'][:];\n",
    "U_vel_JP_level_right = right_file.variables['vozocrtx'][:];\n",
    "V_vel_JP_level_right = right_file.variables['vomecrty'][:];\n",
    "\n",
    "\n",
    "print(votemper_JP_level_right.shape, votemper_JP_level_right.shape, U_vel_JP_level_right.shape, V_vel_JP_level_right.shape)\n",
    "\n",
    "vosaline_JP_level_SA_right = np.zeros(vosaline_JP_level_PSU_right.shape);\n",
    "pressure = gsw_calls.generic_gsw_caller('gsw_p_from_z.m', [z, np.mean(lat)]);\n",
    "\n",
    "for i,j in enumerate(vosaline_JP_level_SA_right[0,:,...]):\n",
    "    vosaline_JP_level_SA_right[:,i,...] = gsw_calls.generic_gsw_caller(\\\n",
    "                                    'gsw_SA_from_SP', [vosaline_JP_level_PSU_right[:,i,...],pressure[i],lons[i],lats[i]]);\n",
    "\n",
    "print(vosaline_JP_level_SA_right.shape)\n",
    "\n",
    "\n",
    "right_temp_function = interp1d(depth_JP, votemper_JP_level_right, axis=1,\\\n",
    "                              bounds_error=False, fill_value='extrapolate');\n",
    "right_sal_function = interp1d(depth_JP, vosaline_JP_level_SA_right, axis=1,\\\n",
    "                              bounds_error=False, fill_value='extrapolate');\n",
    "right_U_function = interp1d(depth_JP, U_vel_JP_level_right,axis=1,\\\n",
    "                              bounds_error=False, fill_value='extrapolate');\n",
    "right_V_function = interp1d(depth_JP, V_vel_JP_level_right, axis=1,\\\n",
    "                              bounds_error=False, fill_value='extrapolate');\n",
    "\n",
    "\n",
    "votemper_NEMO_right = np.zeros((vosaline_JP_level_SA_right.shape[0], NEMO_depth.shape[0], \\\n",
    "                               vosaline_JP_level_SA_right.shape[2], vosaline_JP_level_SA_right.shape[3]));\n",
    "vosaline_NEMO_right = np.zeros((vosaline_JP_level_SA_right.shape[0], NEMO_depth.shape[0], \\\n",
    "                               vosaline_JP_level_SA_right.shape[2], vosaline_JP_level_SA_right.shape[3]));\n",
    "U_NEMO_right = np.zeros((vosaline_JP_level_SA_right.shape[0], NEMO_depth.shape[0], \\\n",
    "                               vosaline_JP_level_SA_right.shape[2], vosaline_JP_level_SA_right.shape[3]));\n",
    "V_NEMO_right = np.zeros((vosaline_JP_level_SA_right.shape[0], NEMO_depth.shape[0], \\\n",
    "                               vosaline_JP_level_SA_right.shape[2], vosaline_JP_level_SA_right.shape[3]));\n",
    "\n",
    "\n",
    "for indx in np.arange(NEMO_depth.shape[0]):\n",
    "    votemper_NEMO_right[:,indx,...] = right_temp_function(NEMO_depth[indx]);\n",
    "    vosaline_NEMO_right[:,indx,...] = right_sal_function(NEMO_depth[indx]);\n",
    "    U_NEMO_right[:,indx,...]        = right_U_function(NEMO_depth[indx]);\n",
    "    V_NEMO_right[:,indx,...]        = right_V_function(NEMO_depth[indx]);\n",
    "\n",
    "    \n",
    "print(votemper_NEMO_right.shape, vosaline_NEMO_right.shape, U_NEMO_right.shape, V_NEMO_right.shape)\n",
    "\n",
    "\n",
    "#Now let us write the 3d boundary condition for the right boundary\n",
    "\n",
    "bdy_file = nc.Dataset('/ocean/ssahu/CANYONS/bdy_files/3d_NEMO_right_m04.nc', 'w', zlib=True);\n",
    "\n",
    "\n",
    "bdy_file.createDimension('xb', U_NEMO_right.shape[3]);\n",
    "bdy_file.createDimension('yb', U_NEMO_right.shape[2]);\n",
    "bdy_file.createDimension('deptht', U_NEMO_right.shape[1]);\n",
    "bdy_file.createDimension('time_counter', None);\n",
    "\n",
    "\n",
    "xb = bdy_file.createVariable('xb', 'int32', ('xb',), zlib=True);\n",
    "xb.units = 'indices';\n",
    "xb.longname = 'x indices along right boundary';\n",
    "\n",
    "yb = bdy_file.createVariable('yb', 'int32', ('yb',), zlib=True);\n",
    "yb.units = 'indices';\n",
    "yb.longname = 'a strip of y indices across all of right boundary';\n",
    "\n",
    "deptht = bdy_file.createVariable('deptht', 'int32', ('deptht',), zlib=True);\n",
    "deptht.units = 'm';\n",
    "deptht.longname = 'Vertical T Levels';\n",
    "\n",
    "time_counter = bdy_file.createVariable('time_counter', 'int32', ('time_counter',), zlib=True);\n",
    "time_counter.units = 's';\n",
    "time_counter.longname = 'time';\n",
    "\n",
    "vozocrtx = bdy_file.createVariable('vozocrtx', 'float32', ('time_counter', 'deptht', 'yb', 'xb'), zlib=True);\n",
    "vomecrty = bdy_file.createVariable('vomecrty', 'float32', ('time_counter', 'deptht', 'yb', 'xb'), zlib=True);\n",
    "votemper = bdy_file.createVariable('votemper', 'float32', ('time_counter', 'deptht', 'yb', 'xb'), zlib=True);\n",
    "vosaline = bdy_file.createVariable('vosaline', 'float32', ('time_counter', 'deptht', 'yb', 'xb'), zlib=True);\n",
    "\n",
    "vozocrtx[:] = U_NEMO_right[:];\n",
    "vomecrty[:] = V_NEMO_right[:];\n",
    "votemper[:] = votemper_NEMO_right[:];\n",
    "vosaline[:] = vosaline_NEMO_right[:];\n",
    "\n",
    "bdy_file.close()"
   ]
  },
  {
   "cell_type": "markdown",
   "metadata": {},
   "source": [
    "### Now for the north boundary"
   ]
  },
  {
   "cell_type": "code",
   "execution_count": 52,
   "metadata": {
    "collapsed": false
   },
   "outputs": [
    {
     "name": "stdout",
     "output_type": "stream",
     "text": [
      "(43, 50, 4, 70) (43, 50, 4, 70) (43, 50, 4, 70) (43, 50, 4, 70)\n",
      "(43, 50, 4, 70)\n",
      "(43, 80, 4, 70) (43, 80, 4, 70) (43, 80, 4, 70) (43, 80, 4, 70)\n"
     ]
    }
   ],
   "source": [
    "north_file = nc.Dataset('/ocean/ssahu/CANYONS/bdy_files/3d_north_m04.nc');\n",
    "\n",
    "vosaline_JP_level_PSU_north = north_file.variables['vosaline'][:];\n",
    "votemper_JP_level_north = north_file.variables['votemper'][:];\n",
    "U_vel_JP_level_north = north_file.variables['vozocrtx'][:];\n",
    "V_vel_JP_level_north = north_file.variables['vomecrty'][:];\n",
    "\n",
    "\n",
    "print(votemper_JP_level_north.shape, votemper_JP_level_north.shape, U_vel_JP_level_north.shape, V_vel_JP_level_north.shape)\n",
    "\n",
    "vosaline_JP_level_SA_north = np.zeros(vosaline_JP_level_PSU_north.shape);\n",
    "pressure = gsw_calls.generic_gsw_caller('gsw_p_from_z.m', [z, np.mean(lat)]);\n",
    "\n",
    "for i,j in enumerate(vosaline_JP_level_SA_north[0,:,...]):\n",
    "    vosaline_JP_level_SA_north[:,i,...] = gsw_calls.generic_gsw_caller(\\\n",
    "                                    'gsw_SA_from_SP', [vosaline_JP_level_PSU_north[:,i,...],pressure[i],lons[i],lats[i]]);\n",
    "\n",
    "print(vosaline_JP_level_SA_north.shape)\n",
    "\n",
    "\n",
    "north_temp_function = interp1d(depth_JP, votemper_JP_level_north, axis=1,\\\n",
    "                              bounds_error=False, fill_value='extrapolate');\n",
    "north_sal_function = interp1d(depth_JP, vosaline_JP_level_SA_north, axis=1,\\\n",
    "                              bounds_error=False, fill_value='extrapolate');\n",
    "north_U_function = interp1d(depth_JP, U_vel_JP_level_north,axis=1,\\\n",
    "                              bounds_error=False, fill_value='extrapolate');\n",
    "north_V_function = interp1d(depth_JP, V_vel_JP_level_north, axis=1,\\\n",
    "                              bounds_error=False, fill_value='extrapolate');\n",
    "\n",
    "\n",
    "votemper_NEMO_north = np.zeros((vosaline_JP_level_SA_north.shape[0], NEMO_depth.shape[0], \\\n",
    "                               vosaline_JP_level_SA_north.shape[2], vosaline_JP_level_SA_north.shape[3]));\n",
    "vosaline_NEMO_north = np.zeros((vosaline_JP_level_SA_north.shape[0], NEMO_depth.shape[0], \\\n",
    "                               vosaline_JP_level_SA_north.shape[2], vosaline_JP_level_SA_north.shape[3]));\n",
    "U_NEMO_north = np.zeros((vosaline_JP_level_SA_north.shape[0], NEMO_depth.shape[0], \\\n",
    "                               vosaline_JP_level_SA_north.shape[2], vosaline_JP_level_SA_north.shape[3]));\n",
    "V_NEMO_north = np.zeros((vosaline_JP_level_SA_north.shape[0], NEMO_depth.shape[0], \\\n",
    "                               vosaline_JP_level_SA_north.shape[2], vosaline_JP_level_SA_north.shape[3]));\n",
    "\n",
    "\n",
    "for indx in np.arange(NEMO_depth.shape[0]):\n",
    "    votemper_NEMO_north[:,indx,...] = north_temp_function(NEMO_depth[indx]);\n",
    "    vosaline_NEMO_north[:,indx,...] = north_sal_function(NEMO_depth[indx]);\n",
    "    U_NEMO_north[:,indx,...]        = north_U_function(NEMO_depth[indx]);\n",
    "    V_NEMO_north[:,indx,...]        = north_V_function(NEMO_depth[indx]);\n",
    "\n",
    "    \n",
    "print(votemper_NEMO_north.shape, vosaline_NEMO_north.shape, U_NEMO_north.shape, V_NEMO_north.shape)\n",
    "\n",
    "\n",
    "#Now let us write the 3d boundary condition for the north boundary\n",
    "\n",
    "bdy_file = nc.Dataset('/ocean/ssahu/CANYONS/bdy_files/3d_NEMO_north_m04.nc', 'w', zlib=True);\n",
    "\n",
    "\n",
    "bdy_file.createDimension('xb', U_NEMO_north.shape[3]);\n",
    "bdy_file.createDimension('yb', U_NEMO_north.shape[2]);\n",
    "bdy_file.createDimension('deptht', U_NEMO_north.shape[1]);\n",
    "bdy_file.createDimension('time_counter', None);\n",
    "\n",
    "\n",
    "xb = bdy_file.createVariable('xb', 'int32', ('xb',), zlib=True);\n",
    "xb.units = 'indices';\n",
    "xb.longname = 'x indices along north boundary';\n",
    "\n",
    "yb = bdy_file.createVariable('yb', 'int32', ('yb',), zlib=True);\n",
    "yb.units = 'indices';\n",
    "yb.longname = 'a strip of y indices across all of north boundary';\n",
    "\n",
    "deptht = bdy_file.createVariable('deptht', 'int32', ('deptht',), zlib=True);\n",
    "deptht.units = 'm';\n",
    "deptht.longname = 'Vertical T Levels';\n",
    "\n",
    "time_counter = bdy_file.createVariable('time_counter', 'int32', ('time_counter',), zlib=True);\n",
    "time_counter.units = 's';\n",
    "time_counter.longname = 'time';\n",
    "\n",
    "vozocrtx = bdy_file.createVariable('vozocrtx', 'float32', ('time_counter', 'deptht', 'yb', 'xb'), zlib=True);\n",
    "vomecrty = bdy_file.createVariable('vomecrty', 'float32', ('time_counter', 'deptht', 'yb', 'xb'), zlib=True);\n",
    "votemper = bdy_file.createVariable('votemper', 'float32', ('time_counter', 'deptht', 'yb', 'xb'), zlib=True);\n",
    "vosaline = bdy_file.createVariable('vosaline', 'float32', ('time_counter', 'deptht', 'yb', 'xb'), zlib=True);\n",
    "\n",
    "vozocrtx[:] = U_NEMO_north[:];\n",
    "vomecrty[:] = V_NEMO_north[:];\n",
    "votemper[:] = votemper_NEMO_north[:];\n",
    "vosaline[:] = vosaline_NEMO_north[:];\n",
    "\n",
    "bdy_file.close()"
   ]
  },
  {
   "cell_type": "markdown",
   "metadata": {},
   "source": [
    "### Now for the south boundary"
   ]
  },
  {
   "cell_type": "code",
   "execution_count": 53,
   "metadata": {
    "collapsed": false
   },
   "outputs": [
    {
     "name": "stdout",
     "output_type": "stream",
     "text": [
      "(43, 50, 4, 70) (43, 50, 4, 70) (43, 50, 4, 70) (43, 50, 4, 70)\n",
      "(43, 50, 4, 70)\n",
      "(43, 80, 4, 70) (43, 80, 4, 70) (43, 80, 4, 70) (43, 80, 4, 70)\n"
     ]
    }
   ],
   "source": [
    "south_file = nc.Dataset('/ocean/ssahu/CANYONS/bdy_files/3d_south_m04.nc');\n",
    "\n",
    "vosaline_JP_level_PSU_south = south_file.variables['vosaline'][:];\n",
    "votemper_JP_level_south = south_file.variables['votemper'][:];\n",
    "U_vel_JP_level_south = south_file.variables['vozocrtx'][:];\n",
    "V_vel_JP_level_south = south_file.variables['vomecrty'][:];\n",
    "\n",
    "\n",
    "print(votemper_JP_level_south.shape, votemper_JP_level_south.shape, U_vel_JP_level_south.shape, V_vel_JP_level_south.shape)\n",
    "\n",
    "vosaline_JP_level_SA_south = np.zeros(vosaline_JP_level_PSU_south.shape);\n",
    "pressure = gsw_calls.generic_gsw_caller('gsw_p_from_z.m', [z, np.mean(lat)]);\n",
    "\n",
    "for i,j in enumerate(vosaline_JP_level_SA_south[0,:,...]):\n",
    "    vosaline_JP_level_SA_south[:,i,...] = gsw_calls.generic_gsw_caller(\\\n",
    "                                    'gsw_SA_from_SP', [vosaline_JP_level_PSU_south[:,i,...],pressure[i],lons[i],lats[i]]);\n",
    "\n",
    "print(vosaline_JP_level_SA_south.shape)\n",
    "\n",
    "\n",
    "south_temp_function = interp1d(depth_JP, votemper_JP_level_south, axis=1,\\\n",
    "                              bounds_error=False, fill_value='extrapolate');\n",
    "south_sal_function = interp1d(depth_JP, vosaline_JP_level_SA_south, axis=1,\\\n",
    "                              bounds_error=False, fill_value='extrapolate');\n",
    "south_U_function = interp1d(depth_JP, U_vel_JP_level_south,axis=1,\\\n",
    "                              bounds_error=False, fill_value='extrapolate');\n",
    "south_V_function = interp1d(depth_JP, V_vel_JP_level_south, axis=1,\\\n",
    "                              bounds_error=False, fill_value='extrapolate');\n",
    "\n",
    "\n",
    "votemper_NEMO_south = np.zeros((vosaline_JP_level_SA_south.shape[0], NEMO_depth.shape[0], \\\n",
    "                               vosaline_JP_level_SA_south.shape[2], vosaline_JP_level_SA_south.shape[3]));\n",
    "vosaline_NEMO_south = np.zeros((vosaline_JP_level_SA_south.shape[0], NEMO_depth.shape[0], \\\n",
    "                               vosaline_JP_level_SA_south.shape[2], vosaline_JP_level_SA_south.shape[3]));\n",
    "U_NEMO_south = np.zeros((vosaline_JP_level_SA_south.shape[0], NEMO_depth.shape[0], \\\n",
    "                               vosaline_JP_level_SA_south.shape[2], vosaline_JP_level_SA_south.shape[3]));\n",
    "V_NEMO_south = np.zeros((vosaline_JP_level_SA_south.shape[0], NEMO_depth.shape[0], \\\n",
    "                               vosaline_JP_level_SA_south.shape[2], vosaline_JP_level_SA_south.shape[3]));\n",
    "\n",
    "\n",
    "for indx in np.arange(NEMO_depth.shape[0]):\n",
    "    votemper_NEMO_south[:,indx,...] = south_temp_function(NEMO_depth[indx]);\n",
    "    vosaline_NEMO_south[:,indx,...] = south_sal_function(NEMO_depth[indx]);\n",
    "    U_NEMO_south[:,indx,...]        = south_U_function(NEMO_depth[indx]);\n",
    "    V_NEMO_south[:,indx,...]        = south_V_function(NEMO_depth[indx]);\n",
    "\n",
    "    \n",
    "print(votemper_NEMO_south.shape, vosaline_NEMO_south.shape, U_NEMO_south.shape, V_NEMO_south.shape)\n",
    "\n",
    "\n",
    "#Now let us write the 3d boundary condition for the south boundary\n",
    "\n",
    "bdy_file = nc.Dataset('/ocean/ssahu/CANYONS/bdy_files/3d_NEMO_south_m04.nc', 'w', zlib=True);\n",
    "\n",
    "\n",
    "bdy_file.createDimension('xb', U_NEMO_south.shape[3]);\n",
    "bdy_file.createDimension('yb', U_NEMO_south.shape[2]);\n",
    "bdy_file.createDimension('deptht', U_NEMO_south.shape[1]);\n",
    "bdy_file.createDimension('time_counter', None);\n",
    "\n",
    "\n",
    "xb = bdy_file.createVariable('xb', 'int32', ('xb',), zlib=True);\n",
    "xb.units = 'indices';\n",
    "xb.longname = 'x indices along south boundary';\n",
    "\n",
    "yb = bdy_file.createVariable('yb', 'int32', ('yb',), zlib=True);\n",
    "yb.units = 'indices';\n",
    "yb.longname = 'a strip of y indices across all of south boundary';\n",
    "\n",
    "deptht = bdy_file.createVariable('deptht', 'int32', ('deptht',), zlib=True);\n",
    "deptht.units = 'm';\n",
    "deptht.longname = 'Vertical T Levels';\n",
    "\n",
    "time_counter = bdy_file.createVariable('time_counter', 'int32', ('time_counter',), zlib=True);\n",
    "time_counter.units = 's';\n",
    "time_counter.longname = 'time';\n",
    "\n",
    "vozocrtx = bdy_file.createVariable('vozocrtx', 'float32', ('time_counter', 'deptht', 'yb', 'xb'), zlib=True);\n",
    "vomecrty = bdy_file.createVariable('vomecrty', 'float32', ('time_counter', 'deptht', 'yb', 'xb'), zlib=True);\n",
    "votemper = bdy_file.createVariable('votemper', 'float32', ('time_counter', 'deptht', 'yb', 'xb'), zlib=True);\n",
    "vosaline = bdy_file.createVariable('vosaline', 'float32', ('time_counter', 'deptht', 'yb', 'xb'), zlib=True);\n",
    "\n",
    "vozocrtx[:] = U_NEMO_south[:];\n",
    "vomecrty[:] = V_NEMO_south[:];\n",
    "votemper[:] = votemper_NEMO_south[:];\n",
    "vosaline[:] = vosaline_NEMO_south[:];\n",
    "\n",
    "bdy_file.close()"
   ]
  },
  {
   "cell_type": "code",
   "execution_count": null,
   "metadata": {
    "collapsed": true
   },
   "outputs": [],
   "source": []
  }
 ],
 "metadata": {
  "anaconda-cloud": {},
  "kernelspec": {
   "display_name": "Python [conda root]",
   "language": "python",
   "name": "conda-root-py"
  },
  "language_info": {
   "codemirror_mode": {
    "name": "ipython",
    "version": 3
   },
   "file_extension": ".py",
   "mimetype": "text/x-python",
   "name": "python",
   "nbconvert_exporter": "python",
   "pygments_lexer": "ipython3",
   "version": "3.5.2"
  }
 },
 "nbformat": 4,
 "nbformat_minor": 1
}
