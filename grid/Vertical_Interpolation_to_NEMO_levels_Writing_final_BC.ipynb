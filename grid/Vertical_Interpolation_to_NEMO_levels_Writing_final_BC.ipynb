{
 "cells": [
  {
   "cell_type": "markdown",
   "metadata": {},
   "source": [
    "### This Notebook takes the previously created BC ignoring the NEMO Levels and JP practical salinity and does the vertical interpolation and gsw calls to generate proper salinity to write them into final input BC file one for each boundary"
   ]
  },
  {
   "cell_type": "code",
   "execution_count": 2,
   "metadata": {
    "collapsed": false
   },
   "outputs": [
    {
     "name": "stderr",
     "output_type": "stream",
     "text": [
      "/home/ssahu/anaconda3/lib/python3.5/site-packages/xarray/conventions.py:9: FutureWarning: The pandas.tslib module is deprecated and will be removed in a future version.\n",
      "  from pandas.tslib import OutOfBoundsDatetime\n"
     ]
    }
   ],
   "source": [
    "%matplotlib inline\n",
    "import matplotlib.pyplot as plt\n",
    "import numpy as np\n",
    "import netCDF4 as nc\n",
    "import xarray as xr\n",
    "import matplotlib.cm as cm\n",
    "from scipy.interpolate import interp1d\n",
    "from salishsea_tools import (nc_tools, gsw_calls,viz_tools)\n",
    "from fancyimpute import KNN"
   ]
  },
  {
   "cell_type": "markdown",
   "metadata": {},
   "source": [
    "##### Import the mesh_mask.nc for the depth levels on which to interpolate our values (We will use the mask recently created with 27 depth levels after playing with the NEMO parameters)"
   ]
  },
  {
   "cell_type": "code",
   "execution_count": 3,
   "metadata": {
    "collapsed": false
   },
   "outputs": [
    {
     "name": "stdout",
     "output_type": "stream",
     "text": [
      "(27,)\n"
     ]
    }
   ],
   "source": [
    "mask = nc.Dataset('/ocean/ssahu/CANYONS/Runs/trial_run_mesh_mask_gen/mesh_mask.nc')\n",
    "\n",
    "#mask = nc.Dataset('/ocean/ssahu/CANYONS/Results/Westcoast_attempt17_generate_mask_80_levels/mesh_mask.nc')\n",
    "\n",
    "NEMO_depth_T = mask.variables['nav_lev'][:];\n",
    "\n",
    "print(NEMO_depth_T.shape)"
   ]
  },
  {
   "cell_type": "code",
   "execution_count": 4,
   "metadata": {
    "collapsed": false
   },
   "outputs": [
    {
     "data": {
      "text/plain": [
       "array([   14.75075722,    24.42877769,    34.46412659,    45.19285583,\n",
       "          57.26233673,    71.90678406,    91.43279266,   119.99002075,\n",
       "         164.52903748,   235.26014709,   344.00537109,   499.3053894 ,\n",
       "         701.16015625,   941.02905273,  1207.08996582,  1489.1328125 ,\n",
       "        1780.20678711,  2076.16235352,  2374.69287109,  2674.56420898,\n",
       "        2975.12866211,  3276.05078125,  3577.15649414,  3878.35668945,\n",
       "        4179.60546875,  4480.87939453,  4782.16601562], dtype=float32)"
      ]
     },
     "execution_count": 4,
     "metadata": {},
     "output_type": "execute_result"
    }
   ],
   "source": [
    "NEMO_depth_T"
   ]
  },
  {
   "cell_type": "markdown",
   "metadata": {},
   "source": [
    "#### Let us start with the left boundary (West)\n",
    "\n",
    "##### The 2D output BC fields are fine so we donot need to worry about them and they have been properly created by the previous notebook (Writing_bdy_files) but the fields inside the 3d boundary files have not been interpolated and the salinity values need to be converted to absolute salinity from PSU"
   ]
  },
  {
   "cell_type": "code",
   "execution_count": 30,
   "metadata": {
    "collapsed": false
   },
   "outputs": [
    {
     "name": "stdout",
     "output_type": "stream",
     "text": [
      "(43, 50, 4, 100) (43, 50, 4, 100) (43, 50, 4, 100) (43, 50, 4, 100)\n"
     ]
    }
   ],
   "source": [
    "left_file = nc.Dataset('/ocean/ssahu/CANYONS/bdy_files/3d_west_m04.nc');\n",
    "\n",
    "vosaline_JP_level_PSU_left = left_file.variables['vosaline'][:];\n",
    "votemper_JP_level_PT_left = left_file.variables['votemper'][:];\n",
    "U_vel_JP_level_left = left_file.variables['vozocrtx'][:];\n",
    "V_vel_JP_level_left = left_file.variables['vomecrty'][:];\n",
    "\n",
    "\n",
    "print(vosaline_JP_level_PSU_left.shape, votemper_JP_level_PT_left.shape, U_vel_JP_level_left.shape, V_vel_JP_level_left.shape)"
   ]
  },
  {
   "cell_type": "markdown",
   "metadata": {},
   "source": [
    "#### Our boundary files donot have a depth variable from which we can import the depths but the files created before the vertical interpolation of the IC values have the depth variable (the file is called West_coast_temperature_salinity_nomask_JP.nc)"
   ]
  },
  {
   "cell_type": "code",
   "execution_count": 6,
   "metadata": {
    "collapsed": true
   },
   "outputs": [],
   "source": [
    "depth_JP_T = nc.Dataset('/home/ssahu/saurav/JP_BC/cat_42_days_T.nc').variables['deptht'][:];"
   ]
  },
  {
   "cell_type": "code",
   "execution_count": 7,
   "metadata": {
    "collapsed": false
   },
   "outputs": [
    {
     "name": "stdout",
     "output_type": "stream",
     "text": [
      "(50,) (100, 70)\n"
     ]
    }
   ],
   "source": [
    "lat = nc.Dataset('/ocean/ssahu/CANYONS/wcvi/initial_conditions/West_coast_temperature_salinity_nomask_JP.nc')\\\n",
    "            .variables['nav_lat'][:];\n",
    "lon = nc.Dataset('/ocean/ssahu/CANYONS/wcvi/initial_conditions/West_coast_temperature_salinity_nomask_JP.nc')\\\n",
    "            .variables['nav_lon'][:]\n",
    "print(depth_JP_T.shape, lat.shape)\n",
    "\n",
    "# Conversion of vosaline_PSU to vosaline_RS and votemper_PT to votemper_CT\n",
    "\n",
    "z = np.dot(-1,depth_JP_T);"
   ]
  },
  {
   "cell_type": "code",
   "execution_count": 10,
   "metadata": {
    "collapsed": true
   },
   "outputs": [],
   "source": [
    "pressure = np.empty(z.shape);\n",
    "lats = np.empty(pressure.shape);\n",
    "lons = np.empty(pressure.shape);\n",
    "lats[:] = np.mean(lat);\n",
    "lons[:] = np.mean(lon);"
   ]
  },
  {
   "cell_type": "code",
   "execution_count": 31,
   "metadata": {
    "collapsed": true
   },
   "outputs": [],
   "source": [
    "vosaline_JP_level_SA_left = np.empty(vosaline_JP_level_PSU_left.shape);\n",
    "vosaline_JP_level_RS_left = np.empty(vosaline_JP_level_PSU_left.shape);\n",
    "votemper_JP_level_CT_left = np.empty(vosaline_JP_level_PSU_left.shape);\n",
    "\n",
    "pressure = gsw_calls.generic_gsw_caller('gsw_p_from_z.m', [z, np.mean(lat)]);\n",
    "for i,j in enumerate(vosaline_JP_level_SA_left[0,:,...]):\n",
    "    vosaline_JP_level_SA_left[:,i,...] = gsw_calls.generic_gsw_caller('gsw_SA_from_SP', [vosaline_JP_level_PSU_left[:,i,...],pressure[i],lons[i],lats[i]]);\n",
    "\n",
    "vosaline_JP_level_RS_left[:] = gsw_calls.generic_gsw_caller('gsw_SR_from_SP', [vosaline_JP_level_PSU_left[:]]);\n",
    "votemper_JP_level_CT_left[:] = gsw_calls.generic_gsw_caller('gsw_CT_from_pt', [vosaline_JP_level_SA_left[:], votemper_JP_level_PT_left[:]]);"
   ]
  },
  {
   "cell_type": "code",
   "execution_count": 7,
   "metadata": {
    "collapsed": false
   },
   "outputs": [
    {
     "name": "stderr",
     "output_type": "stream",
     "text": [
      "/home/ssahu/anaconda3/lib/python3.5/site-packages/ipykernel/__main__.py:1: DeprecationWarning: elementwise == comparison failed; this will raise an error in the future.\n",
      "  if __name__ == '__main__':\n",
      "/home/ssahu/anaconda3/lib/python3.5/site-packages/ipykernel/__main__.py:2: DeprecationWarning: elementwise == comparison failed; this will raise an error in the future.\n",
      "  from ipykernel import kernelapp as app\n"
     ]
    }
   ],
   "source": [
    "# vosaline_JP_level_RS_left[vosaline_JP_level_RS_left == []] = ['Nan'];\n",
    "# votemper_JP_level_CT_left[votemper_JP_level_CT_left == []] = ['Nan'];"
   ]
  },
  {
   "cell_type": "code",
   "execution_count": 32,
   "metadata": {
    "collapsed": false
   },
   "outputs": [
    {
     "data": {
      "text/plain": [
       "nan"
      ]
     },
     "execution_count": 32,
     "metadata": {},
     "output_type": "execute_result"
    }
   ],
   "source": [
    "np.min(vosaline_JP_level_RS_left)"
   ]
  },
  {
   "cell_type": "code",
   "execution_count": 33,
   "metadata": {
    "collapsed": false
   },
   "outputs": [
    {
     "data": {
      "text/plain": [
       "((43, 50, 4, 100), (43, 50, 4, 100))"
      ]
     },
     "execution_count": 33,
     "metadata": {},
     "output_type": "execute_result"
    }
   ],
   "source": [
    "vosaline_JP_level_RS_left.shape, U_vel_JP_level_left.shape"
   ]
  },
  {
   "cell_type": "markdown",
   "metadata": {},
   "source": [
    "#### Now let us fill up the holes before going doing the vertical interpolation"
   ]
  },
  {
   "cell_type": "code",
   "execution_count": 42,
   "metadata": {
    "collapsed": false
   },
   "outputs": [
    {
     "name": "stdout",
     "output_type": "stream",
     "text": [
      "(43, 27, 4, 100) (43, 27, 4, 100) (43, 27, 4, 100) (43, 27, 4, 100)\n"
     ]
    }
   ],
   "source": [
    "# try:\n",
    "#     for p,q in enumerate(vosaline_JP_level_RS_left[:,...]):\n",
    "#         for i,j in enumerate(vosaline_JP_level_RS_left[p,:,...]):\n",
    "#             votemper_JP_level_CT_left[p,i,...] = KNN(k=3).complete(votemper_JP_level_CT_left[p,i,...]);\n",
    "#             vosaline_JP_level_RS_left[p,i,...] = KNN(k=3).complete(vosaline_JP_level_RS_left[p,i,...]);\n",
    "#             U_vel_JP_level_left[p,i,...] = KNN(k=3).complete(U_vel_JP_level_left[p,i,...]);\n",
    "#             V_vel_JP_level_left[p,i,...] = KNN(k=3).complete(V_vel_JP_level_left[p,i,...]);\n",
    "# except:\n",
    "#     pass\n",
    "\n",
    "\n",
    "\n",
    "# for a,b in enumerate(vosaline_JP_level_RS_left[:,...]):\n",
    "#     for i,j in enumerate(vosaline_JP_level_RS_left[a,:,...]):\n",
    "#         for p,q in enumerate(vosaline_JP_level_RS_left[a,i,:,...]):\n",
    "#             for l,m in enumerate(vosaline_JP_level_RS_left[a,i,p,:]):\n",
    "#                 if np.isnan(vosaline_JP_level_RS_left[a,i,p,l]):\n",
    "#                     vosaline_JP_level_RS_left[a,i,p,l] = vosaline_JP_level_RS_left[a,i-1,p,l]\n",
    "#                 else:\n",
    "#                     continue\n",
    "#                 if np.isnan(votemper_JP_level_CT_left[a,i,p,l]):\n",
    "#                     votemper_JP_level_CT_left[a,i,p,l] = votemper_JP_level_CT_left[a,i-1,p,l]\n",
    "#                 else:\n",
    "#                     continue\n",
    "#                 if np.isnan(U_vel_JP_level_left[a,i,p,l]):\n",
    "#                     U_vel_JP_level_left[a,i,p,l] = U_vel_JP_level_left[a,i-1,p,l]\n",
    "#                 else:\n",
    "#                     continue\n",
    "#                 if np.isnan(V_vel_JP_level_left[a,i,p,l]):\n",
    "#                     V_vel_JP_level_left[a,i,p,l] = V_vel_JP_level_left[a,i-1,p,l]\n",
    "#                 else:\n",
    "#                     continue\n",
    "\n",
    "# for a in range(vosaline_JP_level_RS_left.shape[0]):\n",
    "#     for i in range(10,vosaline_JP_level_RS_left.shape[1]):\n",
    "#         for p in range(vosaline_JP_level_RS_left.shape[2]):\n",
    "#             for q in range(vosaline_JP_level_RS_left.shape[3]):\n",
    "#                 if vosaline_JP_level_RS_left[a,i,p,q] < vosaline_JP_level_RS_left[a,i-1,p,q]:\n",
    "#                     vosaline_JP_level_RS_left[a,i,p,q] = vosaline_JP_level_RS_left[a,i-1,p,q]\n",
    "#                 else:\n",
    "#                     continue                    \n",
    "\n",
    "\n",
    "# votemper_JP_level_CT_left[np.where(np.isnan(votemper_JP_level_CT_left))]=0;\n",
    "# vosaline_JP_level_RS_left[np.where(np.isnan(vosaline_JP_level_RS_left))]=0;\n",
    "# U_vel_JP_level_left[np.where(np.isnan(U_vel_JP_level_left))]=0;\n",
    "# V_vel_JP_level_left[np.where(np.isnan(V_vel_JP_level_left))]=0;\n",
    "\n",
    "# for a,b in enumerate(vosaline_JP_level_RS_left[:,...]):\n",
    "#     for i,j in enumerate(vosaline_JP_level_RS_left[a,:,...]):\n",
    "#         for p,q in enumerate(vosaline_JP_level_RS_left[a,i,:,...]):\n",
    "#             for l,m in enumerate(vosaline_JP_level_RS_left[a,i,p,:]):\n",
    "#                 if vosaline_JP_level_RS_left[a,i,p,l] == 0:\n",
    "#                     vosaline_JP_level_RS_left[a,i,p,l] = vosaline_JP_level_RS_left[a,i-1,p,l]\n",
    "#                 else:\n",
    "#                     continue\n",
    "#                 if votemper_JP_level_CT_left[a,i,p,l] == 0:\n",
    "#                     votemper_JP_level_CT_left[a,i,p,l] = votemper_JP_level_CT_left[a,i-1,p,l]\n",
    "#                 else:\n",
    "#                     continue\n",
    "#                 if U_vel_JP_level_left[a,i,p,l] == 0:\n",
    "#                     U_vel_JP_level_left[a,i,p,l] = U_vel_JP_level_left[a,i-1,p,l]\n",
    "#                 else:\n",
    "#                     continue\n",
    "#                 if V_vel_JP_level_left[a,i,p,l] == 0:\n",
    "#                     V_vel_JP_level_left[a,i,p,l] = V_vel_JP_level_left[a,i-1,p,l]\n",
    "#                 else:\n",
    "#                     continue\n",
    "\n",
    "\n",
    "                    \n",
    "                    \n",
    "\n",
    "\n",
    "\n",
    "#### let us interp1d to make a vertical function for each of these variables and then interpolate them to the values vertically\n",
    "\n",
    "left_temp_function = interp1d(depth_JP_T, votemper_JP_level_CT_left, axis=1,\\\n",
    "                              bounds_error=False, fill_value='extrapolate');\n",
    "left_sal_function = interp1d(depth_JP_T, vosaline_JP_level_RS_left, axis=1,\\\n",
    "                              bounds_error=False, fill_value='extrapolate');\n",
    "left_U_function = interp1d(depth_JP_T, U_vel_JP_level_left, axis=1,\\\n",
    "                              bounds_error=False, fill_value='extrapolate');\n",
    "left_V_function = interp1d(depth_JP_T, V_vel_JP_level_left, axis=1,\\\n",
    "                              bounds_error=False, fill_value='extrapolate');\n",
    "\n",
    "votemper_NEMO_left = np.empty((vosaline_JP_level_SA_left.shape[0], NEMO_depth_T.shape[0], \\\n",
    "                               vosaline_JP_level_SA_left.shape[2], vosaline_JP_level_SA_left.shape[3]));\n",
    "vosaline_NEMO_left = np.empty((vosaline_JP_level_SA_left.shape[0], NEMO_depth_T.shape[0], \\\n",
    "                               vosaline_JP_level_SA_left.shape[2], vosaline_JP_level_SA_left.shape[3]));\n",
    "U_NEMO_left = np.empty((vosaline_JP_level_SA_left.shape[0], NEMO_depth_T.shape[0], \\\n",
    "                               vosaline_JP_level_SA_left.shape[2], vosaline_JP_level_SA_left.shape[3]));\n",
    "V_NEMO_left = np.empty((vosaline_JP_level_SA_left.shape[0], NEMO_depth_T.shape[0], \\\n",
    "                               vosaline_JP_level_SA_left.shape[2], vosaline_JP_level_SA_left.shape[3]));\n",
    "\n",
    "\n",
    "for indx in np.arange(NEMO_depth_T.shape[0]):\n",
    "    votemper_NEMO_left[:,indx,...] = left_temp_function(NEMO_depth_T[indx]);\n",
    "    vosaline_NEMO_left[:,indx,...] = left_sal_function(NEMO_depth_T[indx]);\n",
    "    U_NEMO_left[:,indx,...]        = left_U_function(NEMO_depth_T[indx]);\n",
    "    V_NEMO_left[:,indx,...]        = left_V_function(NEMO_depth_T[indx]);\n",
    "    \n",
    "\n",
    "\n",
    "\n",
    "print(votemper_NEMO_left.shape, vosaline_NEMO_left.shape, U_NEMO_left.shape, V_NEMO_left.shape)"
   ]
  },
  {
   "cell_type": "code",
   "execution_count": 43,
   "metadata": {
    "collapsed": true
   },
   "outputs": [],
   "source": [
    "for i in np.arange(vosaline_NEMO_left.shape[0]):\n",
    "    for j in np.arange(vosaline_NEMO_left.shape[1]):\n",
    "        for k in np.arange(vosaline_NEMO_left.shape[2]):\n",
    "            for l in np.arange(vosaline_NEMO_left.shape[3]):\n",
    "                if np.isnan(vosaline_NEMO_left[i,j,k,l]):\n",
    "                    vosaline_NEMO_left[i,j,k,l] = vosaline_NEMO_left[i,j-1,k,l]\n",
    "                else:\n",
    "                    continue\n",
    "            \n",
    "\n",
    "for i in np.arange(votemper_NEMO_left.shape[0]):\n",
    "    for j in np.arange(votemper_NEMO_left.shape[1]):\n",
    "        for k in np.arange(votemper_NEMO_left.shape[2]):\n",
    "            for l in np.arange(votemper_NEMO_left.shape[3]):\n",
    "                if np.isnan(votemper_NEMO_left[i,j,k,l]):\n",
    "                    votemper_NEMO_left[i,j,k,l] = votemper_NEMO_left[i,j-1,k,l]\n",
    "                else:\n",
    "                    continue   "
   ]
  },
  {
   "cell_type": "code",
   "execution_count": 44,
   "metadata": {
    "collapsed": false
   },
   "outputs": [
    {
     "data": {
      "text/plain": [
       "(array([], dtype=int64),\n",
       " array([], dtype=int64),\n",
       " array([], dtype=int64),\n",
       " array([], dtype=int64))"
      ]
     },
     "execution_count": 44,
     "metadata": {},
     "output_type": "execute_result"
    }
   ],
   "source": [
    "np.where(np.isnan(vosaline_NEMO_left[...]))"
   ]
  },
  {
   "cell_type": "markdown",
   "metadata": {},
   "source": [
    "#### Now we will take the values from the created nc file of initial conditions to make the BC same as the ic file for the first time step"
   ]
  },
  {
   "cell_type": "markdown",
   "metadata": {
    "collapsed": false
   },
   "source": [
    "ic_file = nc.Dataset('/ocean/ssahu/CANYONS/wcvi/initial_conditions/West_coast_NEMO_IC_temperature_salinity_nomask_JP.nc');\n",
    "\n",
    "ic_temp = ic_file.variables['votemper'][:]; ic_sal = ic_file.variables['vosaline'][:];\n",
    "ic_temp = np.transpose(ic_temp,(0,1,3,2)); ic_sal = np.transpose(ic_sal,(0,1,3,2)); \n",
    "\n",
    "bc_temp_left = ic_temp[0,:,:4,:];\n",
    "bc_sal_left = ic_sal[0,:,:4,:];\n",
    "\n",
    "bc_temp_right = ic_temp[0,:,-4:,:];\n",
    "bc_sal_right = ic_sal[0,:,:4,:];\n",
    "\n",
    "ic_temp = np.transpose(ic_temp, (0,1,3,2));\n",
    "ic_sal = np.transpose(ic_sal, (0,1,3,2));\n",
    "\n",
    "bc_temp_north = ic_temp[0,:,-4:,:];\n",
    "bc_sal_north = ic_sal[0,:,-4:,:];\n",
    "\n",
    "bc_temp_south = ic_temp[0,:,:4,:];\n",
    "bc_sal_south = ic_sal[0,:,:4,:];\n",
    "\n",
    "\n",
    "\n",
    "\n",
    "print(ic_temp.shape, bc_temp_left.shape, bc_temp_right.shape, bc_temp_north.shape, bc_temp_south.shape)"
   ]
  },
  {
   "cell_type": "markdown",
   "metadata": {
    "collapsed": true
   },
   "source": [
    "### Saving it as the first time step BC\n",
    "\n",
    "for i in [0,1,2,3,4]:\n",
    "    votemper_NEMO_left[i,...] = bc_temp_left[...];\n",
    "    vosaline_NEMO_left[i,...] = bc_sal_left[...];\n"
   ]
  },
  {
   "cell_type": "code",
   "execution_count": 45,
   "metadata": {
    "collapsed": false
   },
   "outputs": [],
   "source": [
    "#Now let us write the 3d boundary condition for the left boundary\n",
    "\n",
    "bdy_file = nc.Dataset('/ocean/ssahu/CANYONS/bdy_files/3d_NEMO_west_m04.nc', 'w', zlib=True);\n",
    "\n",
    "\n",
    "bdy_file.createDimension('xb', U_NEMO_left.shape[3]);\n",
    "bdy_file.createDimension('yb', U_NEMO_left.shape[2]);\n",
    "bdy_file.createDimension('deptht', U_NEMO_left.shape[1]);\n",
    "bdy_file.createDimension('time_counter', None);\n",
    "\n",
    "\n",
    "xb = bdy_file.createVariable('xb', 'int32', ('xb',), zlib=True);\n",
    "xb.units = 'indices';\n",
    "xb.longname = 'x indices along left boundary';\n",
    "\n",
    "yb = bdy_file.createVariable('yb', 'int32', ('yb',), zlib=True);\n",
    "yb.units = 'indices';\n",
    "yb.longname = 'a strip of y indices across all of left boundary';\n",
    "\n",
    "deptht = bdy_file.createVariable('deptht', 'float32', ('deptht',), zlib=True);\n",
    "deptht.units = 'm';\n",
    "deptht.longname = 'Vertical T Levels';\n",
    "\n",
    "time_counter = bdy_file.createVariable('time_counter', 'int32', ('time_counter',), zlib=True);\n",
    "time_counter.units = 's';\n",
    "time_counter.longname = 'time';\n",
    "\n",
    "vozocrtx = bdy_file.createVariable('vozocrtx', 'float32', ('time_counter', 'deptht', 'yb', 'xb'), zlib=True);\n",
    "vomecrty = bdy_file.createVariable('vomecrty', 'float32', ('time_counter', 'deptht', 'yb', 'xb'), zlib=True);\n",
    "votemper = bdy_file.createVariable('votemper', 'float32', ('time_counter', 'deptht', 'yb', 'xb'), zlib=True);\n",
    "vosaline = bdy_file.createVariable('vosaline', 'float32', ('time_counter', 'deptht', 'yb', 'xb'), zlib=True);\n",
    "\n",
    "vozocrtx[:] = U_NEMO_left[:];\n",
    "vomecrty[:] = V_NEMO_left[:];\n",
    "votemper[:] = votemper_NEMO_left[:];\n",
    "vosaline[:] = vosaline_NEMO_left[:];\n",
    "deptht[:] = NEMO_depth_T[:];\n",
    "\n",
    "#vozocrtx[:] = vozocrtx[:,:,::-1,:];### This is done because NEMO reads the file the other way around\n",
    "#vomecrty[:] = vomecrty[:,:,::-1,:];\n",
    "#votemper[:] = votemper[:,:,::-1,:];\n",
    "#vosaline[:] = vosaline[:,:,::-1,:];\n",
    "\n",
    "\n",
    "bdy_file.close()"
   ]
  },
  {
   "cell_type": "markdown",
   "metadata": {},
   "source": [
    "### Now for the right boundary"
   ]
  },
  {
   "cell_type": "code",
   "execution_count": 46,
   "metadata": {
    "collapsed": false
   },
   "outputs": [
    {
     "name": "stdout",
     "output_type": "stream",
     "text": [
      "(43, 50, 4, 100) (43, 50, 4, 100) (43, 50, 4, 100) (43, 50, 4, 100)\n",
      "(43, 50, 4, 100)\n",
      "(43, 27, 4, 100) (43, 27, 4, 100) (43, 27, 4, 100) (43, 27, 4, 100)\n"
     ]
    }
   ],
   "source": [
    "# for the right boundary I will make everything occur within one cell so that eventually it will be easier to automate it\n",
    "\n",
    "right_file = nc.Dataset('/ocean/ssahu/CANYONS/bdy_files/3d_right_m04.nc');\n",
    "\n",
    "vosaline_JP_level_PSU_right = right_file.variables['vosaline'][:];\n",
    "votemper_JP_level_PT_right = right_file.variables['votemper'][:];\n",
    "U_vel_JP_level_right = right_file.variables['vozocrtx'][:];\n",
    "V_vel_JP_level_right = right_file.variables['vomecrty'][:];\n",
    "\n",
    "\n",
    "print(vosaline_JP_level_PSU_right.shape, votemper_JP_level_PT_right.shape, U_vel_JP_level_right.shape, V_vel_JP_level_right.shape)\n",
    "\n",
    "vosaline_JP_level_SA_right = np.empty(vosaline_JP_level_PSU_right.shape);\n",
    "vosaline_JP_level_RS_right = np.empty(vosaline_JP_level_PSU_right.shape);\n",
    "votemper_JP_level_CT_right = np.empty(vosaline_JP_level_PSU_right.shape);\n",
    "\n",
    "\n",
    "pressure = gsw_calls.generic_gsw_caller('gsw_p_from_z.m', [z, np.mean(lat)]);\n",
    "\n",
    "for i,j in enumerate(vosaline_JP_level_SA_right[0,:,...]):\n",
    "    vosaline_JP_level_SA_right[:,i,...] = gsw_calls.generic_gsw_caller(\\\n",
    "                                    'gsw_SA_from_SP', [vosaline_JP_level_PSU_right[:,i,...],pressure[i],lons[i],lats[i]]);\n",
    "\n",
    "vosaline_JP_level_RS_right[:] = gsw_calls.generic_gsw_caller('gsw_SR_from_SP', [vosaline_JP_level_PSU_right[:]]);\n",
    "votemper_JP_level_CT_right[:] = gsw_calls.generic_gsw_caller('gsw_CT_from_pt', [vosaline_JP_level_SA_right[:], votemper_JP_level_PT_right[:]]);    \n",
    " \n",
    "    \n",
    "# vosaline_JP_level_RS_right[vosaline_JP_level_RS_right == 0] = ['Nan'];\n",
    "# votemper_JP_level_CT_right[votemper_JP_level_CT_right == 0] = ['Nan'];    \n",
    "    \n",
    "print(vosaline_JP_level_SA_right.shape)\n",
    "\n",
    "\n",
    "\n",
    "# try:\n",
    "#     for p,q in enumerate(vosaline_JP_level_RS_right[:,...]):\n",
    "#         for i,j in enumerate(vosaline_JP_level_RS_right[p,:,...]):\n",
    "#             votemper_JP_level_CT_right[p,i,...] = KNN(k=3).complete(votemper_JP_level_CT_right[p,i,...]);\n",
    "#             vosaline_JP_level_RS_right[p,i,...] = KNN(k=3).complete(vosaline_JP_level_RS_right[p,i,...]);\n",
    "#             U_vel_JP_level_right[p,i,...] = KNN(k=3).complete(U_vel_JP_level_right[p,i,...]);\n",
    "#             V_vel_JP_level_right[p,i,...] = KNN(k=3).complete(V_vel_JP_level_right[p,i,...]);\n",
    "# except:\n",
    "#     pass\n",
    "\n",
    "\n",
    "# for a,b in enumerate(vosaline_JP_level_RS_right[:,...]):\n",
    "#     for i,j in enumerate(vosaline_JP_level_RS_right[a,:,...]):\n",
    "#         for p,q in enumerate(vosaline_JP_level_RS_right[a,i,:,...]):\n",
    "#             for l,m in enumerate(vosaline_JP_level_RS_right[a,i,p,:]):\n",
    "#                 if np.isnan(vosaline_JP_level_RS_right[a,i,p,l]):\n",
    "#                     vosaline_JP_level_RS_right[a,i,p,l] = vosaline_JP_level_RS_right[a,i-1,p,l]\n",
    "#                 else:\n",
    "#                     continue\n",
    "#                 if np.isnan(votemper_JP_level_CT_right[a,i,p,l]):\n",
    "#                     votemper_JP_level_CT_right[a,i,p,l] = votemper_JP_level_CT_right[a,i-1,p,l]\n",
    "#                 else:\n",
    "#                     continue\n",
    "#                 if np.isnan(U_vel_JP_level_right[a,i,p,l]):\n",
    "#                     U_vel_JP_level_right[a,i,p,l] = U_vel_JP_level_right[a,i-1,p,l]\n",
    "#                 else:\n",
    "#                     continue\n",
    "#                 if np.isnan(V_vel_JP_level_right[a,i,p,l]):\n",
    "#                     V_vel_JP_level_right[a,i,p,l] = V_vel_JP_level_right[a,i-1,p,l]\n",
    "#                 else:\n",
    "#                     continue\n",
    "\n",
    "# for a in range(vosaline_JP_level_RS_right.shape[0]):\n",
    "#     for i in range(10,vosaline_JP_level_RS_right.shape[1]):\n",
    "#         for p in range(vosaline_JP_level_RS_right.shape[2]):\n",
    "#             for q in range(vosaline_JP_level_RS_right.shape[3]):\n",
    "#                 if vosaline_JP_level_RS_right[a,i,p,q] < vosaline_JP_level_RS_right[a,i-1,p,q]:\n",
    "#                     vosaline_JP_level_RS_right[a,i,p,q] = vosaline_JP_level_RS_right[a,i-1,p,q]\n",
    "#                 else:\n",
    "#                     continue                    \n",
    "\n",
    "\n",
    "# votemper_JP_level_CT_right[np.where(np.isnan(votemper_JP_level_CT_right))]=0;\n",
    "# vosaline_JP_level_RS_right[np.where(np.isnan(vosaline_JP_level_RS_right))]=0;\n",
    "# U_vel_JP_level_right[np.where(np.isnan(U_vel_JP_level_right))]=0;\n",
    "# V_vel_JP_level_right[np.where(np.isnan(V_vel_JP_level_right))]=0;\n",
    "\n",
    "# for a,b in enumerate(vosaline_JP_level_RS_right[:,...]):\n",
    "#     for i,j in enumerate(vosaline_JP_level_RS_right[a,:,...]):\n",
    "#         for p,q in enumerate(vosaline_JP_level_RS_right[a,i,:,...]):\n",
    "#             for l,m in enumerate(vosaline_JP_level_RS_right[a,i,p,:]):\n",
    "#                 if vosaline_JP_level_RS_right[a,i,p,l] == 0:\n",
    "#                     vosaline_JP_level_RS_right[a,i,p,l] = vosaline_JP_level_RS_right[a,i-1,p,l]\n",
    "#                 else:\n",
    "#                     continue\n",
    "#                 if votemper_JP_level_CT_right[a,i,p,l] == 0:\n",
    "#                     votemper_JP_level_CT_right[a,i,p,l] = votemper_JP_level_CT_right[a,i-1,p,l]\n",
    "#                 else:\n",
    "#                     continue\n",
    "#                 if U_vel_JP_level_right[a,i,p,l] == 0:\n",
    "#                     U_vel_JP_level_right[a,i,p,l] = U_vel_JP_level_right[a,i-1,p,l]\n",
    "#                 else:\n",
    "#                     continue\n",
    "#                 if V_vel_JP_level_right[a,i,p,l] == 0:\n",
    "#                     V_vel_JP_level_right[a,i,p,l] = V_vel_JP_level_right[a,i-1,p,l]\n",
    "#                 else:\n",
    "#                     continue\n",
    "\n",
    "\n",
    "right_temp_function = interp1d(depth_JP_T, votemper_JP_level_CT_right, axis=1,\\\n",
    "                              bounds_error=False, fill_value='extrapolate');\n",
    "right_sal_function = interp1d(depth_JP_T, vosaline_JP_level_RS_right, axis=1,\\\n",
    "                              bounds_error=False, fill_value='extrapolate');\n",
    "right_U_function = interp1d(depth_JP_T, U_vel_JP_level_right,axis=1,\\\n",
    "                              bounds_error=False, fill_value='extrapolate');\n",
    "right_V_function = interp1d(depth_JP_T, V_vel_JP_level_right, axis=1,\\\n",
    "                              bounds_error=False, fill_value='extrapolate');\n",
    "\n",
    "\n",
    "votemper_NEMO_right = np.empty((vosaline_JP_level_SA_right.shape[0], NEMO_depth_T.shape[0], \\\n",
    "                               vosaline_JP_level_SA_right.shape[2], vosaline_JP_level_SA_right.shape[3]));\n",
    "vosaline_NEMO_right = np.empty((vosaline_JP_level_SA_right.shape[0], NEMO_depth_T.shape[0], \\\n",
    "                               vosaline_JP_level_SA_right.shape[2], vosaline_JP_level_SA_right.shape[3]));\n",
    "U_NEMO_right = np.empty((vosaline_JP_level_SA_right.shape[0], NEMO_depth_T.shape[0], \\\n",
    "                               vosaline_JP_level_SA_right.shape[2], vosaline_JP_level_SA_right.shape[3]));\n",
    "V_NEMO_right = np.empty((vosaline_JP_level_SA_right.shape[0], NEMO_depth_T.shape[0], \\\n",
    "                               vosaline_JP_level_SA_right.shape[2], vosaline_JP_level_SA_right.shape[3]));\n",
    "\n",
    "\n",
    "for indx in np.arange(NEMO_depth_T.shape[0]):\n",
    "    votemper_NEMO_right[:,indx,...] = right_temp_function(NEMO_depth_T[indx]);\n",
    "    vosaline_NEMO_right[:,indx,...] = right_sal_function(NEMO_depth_T[indx]);\n",
    "    U_NEMO_right[:,indx,...]        = right_U_function(NEMO_depth_T[indx]);\n",
    "    V_NEMO_right[:,indx,...]        = right_V_function(NEMO_depth_T[indx]);\n",
    "\n",
    "    \n",
    "print(votemper_NEMO_right.shape, vosaline_NEMO_right.shape, U_NEMO_right.shape, V_NEMO_right.shape)"
   ]
  },
  {
   "cell_type": "markdown",
   "metadata": {
    "collapsed": false
   },
   "source": [
    "for i in [0,1,2,3,4]:\n",
    "    votemper_NEMO_right[i,...] = bc_temp_right[...];\n",
    "    vosaline_NEMO_right[i,...] = bc_sal_right[...];"
   ]
  },
  {
   "cell_type": "code",
   "execution_count": 70,
   "metadata": {
    "collapsed": false
   },
   "outputs": [],
   "source": [
    "for i in np.arange(vosaline_NEMO_right.shape[0]):\n",
    "    for j in np.arange(vosaline_NEMO_right.shape[1]):\n",
    "        for k in np.arange(vosaline_NEMO_right.shape[2]):\n",
    "            for l in np.arange(vosaline_NEMO_right.shape[3]):\n",
    "                if np.isnan(vosaline_NEMO_right[i,j,k,l]):\n",
    "                    vosaline_NEMO_right[i,j,k,l] = vosaline_NEMO_right[i,j-1,k,l]\n",
    "                else:\n",
    "                    continue\n",
    "            \n",
    "\n",
    "for i in np.arange(votemper_NEMO_right.shape[0]):\n",
    "    for j in np.arange(votemper_NEMO_right.shape[1]):\n",
    "        for k in np.arange(votemper_NEMO_right.shape[2]):\n",
    "            for l in np.arange(votemper_NEMO_right.shape[3]):\n",
    "                if np.isnan(votemper_NEMO_right[i,j,k,l]):\n",
    "                    votemper_NEMO_right[i,j,k,l] = votemper_NEMO_right[i,j-1,k,l]\n",
    "                else:\n",
    "                    continue   "
   ]
  },
  {
   "cell_type": "code",
   "execution_count": 71,
   "metadata": {
    "collapsed": false
   },
   "outputs": [
    {
     "data": {
      "text/plain": [
       "(array([], dtype=int64),\n",
       " array([], dtype=int64),\n",
       " array([], dtype=int64),\n",
       " array([], dtype=int64))"
      ]
     },
     "execution_count": 71,
     "metadata": {},
     "output_type": "execute_result"
    }
   ],
   "source": [
    "np.where(np.isnan(vosaline_NEMO_right[...]))"
   ]
  },
  {
   "cell_type": "code",
   "execution_count": 72,
   "metadata": {
    "collapsed": false
   },
   "outputs": [
    {
     "data": {
      "text/plain": [
       "(43, 27, 4, 100)"
      ]
     },
     "execution_count": 72,
     "metadata": {},
     "output_type": "execute_result"
    }
   ],
   "source": [
    "vosaline_NEMO_right.shape"
   ]
  },
  {
   "cell_type": "code",
   "execution_count": 73,
   "metadata": {
    "collapsed": true
   },
   "outputs": [],
   "source": [
    "for i in np.arange(vosaline_NEMO_right.shape[0]):\n",
    "    for j in np.arange(vosaline_NEMO_right.shape[1]):\n",
    "        for k in np.arange(vosaline_NEMO_right.shape[2]):\n",
    "            for l in np.arange(vosaline_NEMO_right.shape[3]):\n",
    "                if np.isnan(vosaline_NEMO_right[i,j,k,l]):\n",
    "                    vosaline_NEMO_right[i,j,k,l] = vosaline_NEMO_right[i,j,k,l-1]\n",
    "                else:\n",
    "                    continue\n",
    "                    \n",
    "for i in np.arange(votemper_NEMO_right.shape[0]):\n",
    "    for j in np.arange(votemper_NEMO_right.shape[1]):\n",
    "        for k in np.arange(votemper_NEMO_right.shape[2]):\n",
    "            for l in np.arange(votemper_NEMO_right.shape[3]):\n",
    "                if np.isnan(votemper_NEMO_right[i,j,k,l]):\n",
    "                    votemper_NEMO_right[i,j,k,l] = votemper_NEMO_right[i,j,k,l-1]\n",
    "                else:\n",
    "                    continue"
   ]
  },
  {
   "cell_type": "code",
   "execution_count": 74,
   "metadata": {
    "collapsed": false
   },
   "outputs": [
    {
     "data": {
      "text/plain": [
       "(array([], dtype=int64),\n",
       " array([], dtype=int64),\n",
       " array([], dtype=int64),\n",
       " array([], dtype=int64))"
      ]
     },
     "execution_count": 74,
     "metadata": {},
     "output_type": "execute_result"
    }
   ],
   "source": [
    "np.where(np.isnan(votemper_NEMO_right[...]))"
   ]
  },
  {
   "cell_type": "code",
   "execution_count": 75,
   "metadata": {
    "collapsed": false
   },
   "outputs": [],
   "source": [
    "#Now let us write the 3d boundary condition for the right boundary\n",
    "\n",
    "bdy_file = nc.Dataset('/ocean/ssahu/CANYONS/bdy_files/3d_NEMO_right_m04.nc', 'w', zlib=True);\n",
    "\n",
    "\n",
    "bdy_file.createDimension('xb', U_NEMO_right.shape[3]);\n",
    "bdy_file.createDimension('yb', U_NEMO_right.shape[2]);\n",
    "bdy_file.createDimension('deptht', U_NEMO_right.shape[1]);\n",
    "bdy_file.createDimension('time_counter', None);\n",
    "\n",
    "\n",
    "xb = bdy_file.createVariable('xb', 'int32', ('xb',), zlib=True);\n",
    "xb.units = 'indices';\n",
    "xb.longname = 'x indices along right boundary';\n",
    "\n",
    "yb = bdy_file.createVariable('yb', 'int32', ('yb',), zlib=True);\n",
    "yb.units = 'indices';\n",
    "yb.longname = 'a strip of y indices across all of right boundary';\n",
    "\n",
    "deptht = bdy_file.createVariable('deptht', 'float32', ('deptht',), zlib=True);\n",
    "deptht.units = 'm';\n",
    "deptht.longname = 'Vertical T Levels';\n",
    "\n",
    "time_counter = bdy_file.createVariable('time_counter', 'int32', ('time_counter',), zlib=True);\n",
    "time_counter.units = 's';\n",
    "time_counter.longname = 'time';\n",
    "\n",
    "vozocrtx = bdy_file.createVariable('vozocrtx', 'float32', ('time_counter', 'deptht', 'yb', 'xb'), zlib=True);\n",
    "vomecrty = bdy_file.createVariable('vomecrty', 'float32', ('time_counter', 'deptht', 'yb', 'xb'), zlib=True);\n",
    "votemper = bdy_file.createVariable('votemper', 'float32', ('time_counter', 'deptht', 'yb', 'xb'), zlib=True);\n",
    "vosaline = bdy_file.createVariable('vosaline', 'float32', ('time_counter', 'deptht', 'yb', 'xb'), zlib=True);\n",
    "\n",
    "vozocrtx[:] = U_NEMO_right[:,:,:,:];\n",
    "vomecrty[:] = V_NEMO_right[:,:,:,:];\n",
    "votemper[:] = votemper_NEMO_right[:,:,:,:];\n",
    "vosaline[:] = vosaline_NEMO_right[:,:,:,:];\n",
    "deptht[:] = NEMO_depth_T[:];\n",
    "\n",
    "#vozocrtx[:] = vozocrtx[:,:,::-1,:];### This is done because NEMO reads the file the other way around\n",
    "#vomecrty[:] = vomecrty[:,:,::-1,:];\n",
    "#votemper[:] = votemper[:,:,::-1,:];\n",
    "#vosaline[:] = vosaline[:,:,::-1,:];\n",
    "\n",
    "bdy_file.close()"
   ]
  },
  {
   "cell_type": "markdown",
   "metadata": {},
   "source": [
    "### Now for the north boundary"
   ]
  },
  {
   "cell_type": "code",
   "execution_count": 60,
   "metadata": {
    "collapsed": false
   },
   "outputs": [
    {
     "name": "stdout",
     "output_type": "stream",
     "text": [
      "(43, 50, 4, 70) (43, 50, 4, 70) (43, 50, 4, 70) (43, 50, 4, 70)\n",
      "(43, 50, 4, 70)\n",
      "(43, 27, 4, 70) (43, 27, 4, 70) (43, 27, 4, 70) (43, 27, 4, 70)\n"
     ]
    }
   ],
   "source": [
    "north_file = nc.Dataset('/ocean/ssahu/CANYONS/bdy_files/3d_north_m04.nc');\n",
    "\n",
    "vosaline_JP_level_PSU_north = north_file.variables['vosaline'][:];\n",
    "votemper_JP_level_PT_north = north_file.variables['votemper'][:];\n",
    "U_vel_JP_level_north = north_file.variables['vozocrtx'][:];\n",
    "V_vel_JP_level_north = north_file.variables['vomecrty'][:];\n",
    "\n",
    "\n",
    "print(vosaline_JP_level_PSU_north.shape, votemper_JP_level_PT_north.shape, U_vel_JP_level_north.shape, V_vel_JP_level_north.shape)\n",
    "\n",
    "vosaline_JP_level_SA_north = np.empty(vosaline_JP_level_PSU_north.shape);\n",
    "vosaline_JP_level_RS_north = np.empty(vosaline_JP_level_PSU_north.shape);\n",
    "votemper_JP_level_CT_north = np.empty(vosaline_JP_level_PSU_north.shape);\n",
    "\n",
    "pressure = gsw_calls.generic_gsw_caller('gsw_p_from_z.m', [z, np.mean(lat)]);\n",
    "\n",
    "for i,j in enumerate(vosaline_JP_level_SA_north[0,:,...]):\n",
    "    vosaline_JP_level_SA_north[:,i,...] = gsw_calls.generic_gsw_caller(\\\n",
    "                                    'gsw_SA_from_SP', [vosaline_JP_level_PSU_north[:,i,...],pressure[i],lons[i],lats[i]]);\n",
    "\n",
    "vosaline_JP_level_RS_north[:] = gsw_calls.generic_gsw_caller('gsw_SR_from_SP', [vosaline_JP_level_PSU_north[:]]);\n",
    "votemper_JP_level_CT_north[:] = gsw_calls.generic_gsw_caller('gsw_CT_from_pt', [vosaline_JP_level_SA_north[:], votemper_JP_level_PT_north[:]]);        \n",
    "\n",
    "\n",
    "# vosaline_JP_level_RS_north[vosaline_JP_level_RS_north == 0] = ['Nan'];\n",
    "# votemper_JP_level_CT_north[votemper_JP_level_CT_north == 0] = ['Nan'];\n",
    "\n",
    "print(vosaline_JP_level_RS_north.shape)\n",
    "\n",
    "\n",
    "# try:\n",
    "#     for p,q in enumerate(vosaline_JP_level_RS_north[:,...]):\n",
    "#         for i,j in enumerate(vosaline_JP_level_RS_north[p,:,...]):\n",
    "#             votemper_JP_level_CT_north[p,i,...] = KNN(k=3).complete(votemper_JP_level_CT_north[p,i,...]);\n",
    "#             vosaline_JP_level_RS_north[p,i,...] = KNN(k=3).complete(vosaline_JP_level_RS_north[p,i,...]);\n",
    "#             U_vel_JP_level_north[p,i,...] = KNN(k=3).complete(U_vel_JP_level_north[p,i,...]);\n",
    "#             V_vel_JP_level_north[p,i,...] = KNN(k=3).complete(V_vel_JP_level_north[p,i,...]);\n",
    "# except:\n",
    "#     pass\n",
    "\n",
    "# for a,b in enumerate(vosaline_JP_level_RS_north[:,...]):\n",
    "#     for i,j in enumerate(vosaline_JP_level_RS_north[a,:,...]):\n",
    "#         for p,q in enumerate(vosaline_JP_level_RS_north[a,i,:,...]):\n",
    "#             for l,m in enumerate(vosaline_JP_level_RS_north[a,i,p,:]):\n",
    "#                 if np.isnan(vosaline_JP_level_RS_north[a,i,p,l]):\n",
    "#                     vosaline_JP_level_RS_north[a,i,p,l] = vosaline_JP_level_RS_north[a,i-1,p,l]\n",
    "#                 else:\n",
    "#                     continue\n",
    "#                 if np.isnan(votemper_JP_level_CT_north[a,i,p,l]):\n",
    "#                     votemper_JP_level_CT_north[a,i,p,l] = votemper_JP_level_CT_north[a,i-1,p,l]\n",
    "#                 else:\n",
    "#                     continue\n",
    "#                 if np.isnan(U_vel_JP_level_north[a,i,p,l]):\n",
    "#                     U_vel_JP_level_north[a,i,p,l] = U_vel_JP_level_north[a,i-1,p,l]\n",
    "#                 else:\n",
    "#                     continue\n",
    "#                 if np.isnan(V_vel_JP_level_north[a,i,p,l]):\n",
    "#                     V_vel_JP_level_north[a,i,p,l] = V_vel_JP_level_north[a,i-1,p,l]\n",
    "#                 else:\n",
    "#                     continue\n",
    "\n",
    "# for a in range(vosaline_JP_level_RS_north.shape[0]):\n",
    "#     for i in range(10,vosaline_JP_level_RS_north.shape[1]):\n",
    "#         for p in range(vosaline_JP_level_RS_north.shape[2]):\n",
    "#             for q in range(vosaline_JP_level_RS_north.shape[3]):\n",
    "#                 if vosaline_JP_level_RS_north[a,i,p,q] < vosaline_JP_level_RS_north[a,i-1,p,q]:\n",
    "#                     vosaline_JP_level_RS_north[a,i,p,q] = vosaline_JP_level_RS_north[a,i-1,p,q]\n",
    "#                 else:\n",
    "#                     continue                    \n",
    "\n",
    "\n",
    "#votemper_JP_level_CT_north[np.where(np.isnan(votemper_JP_level_CT_north))]=0;\n",
    "#vosaline_JP_level_RS_north[np.where(np.isnan(vosaline_JP_level_RS_north))]=0;\n",
    "#U_vel_JP_level_north[np.where(np.isnan(U_vel_JP_level_north))]=0;\n",
    "#V_vel_JP_level_north[np.where(np.isnan(V_vel_JP_level_north))]=0;\n",
    "\n",
    "# for a,b in enumerate(vosaline_JP_level_RS_north[:,...]):\n",
    "#     for i,j in enumerate(vosaline_JP_level_RS_north[a,:,...]):\n",
    "#         for p,q in enumerate(vosaline_JP_level_RS_north[a,i,:,...]):\n",
    "#             for l,m in enumerate(vosaline_JP_level_RS_north[a,i,p,:]):\n",
    "#                 if vosaline_JP_level_RS_north[a,i,p,l] == 0:\n",
    "#                     vosaline_JP_level_RS_north[a,i,p,l] = vosaline_JP_level_RS_north[a,i-1,p,l]\n",
    "#                 else:\n",
    "#                     continue\n",
    "#                 if votemper_JP_level_CT_north[a,i,p,l] == 0:\n",
    "#                     votemper_JP_level_CT_north[a,i,p,l] = votemper_JP_level_CT_north[a,i-1,p,l]\n",
    "#                 else:\n",
    "#                     continue\n",
    "#                 if U_vel_JP_level_north[a,i,p,l] == 0:\n",
    "#                     U_vel_JP_level_north[a,i,p,l] = U_vel_JP_level_north[a,i-1,p,l]\n",
    "#                 else:\n",
    "#                     continue\n",
    "#                 if V_vel_JP_level_north[a,i,p,l] == 0:\n",
    "#                     V_vel_JP_level_north[a,i,p,l] = V_vel_JP_level_north[a,i-1,p,l]\n",
    "#                 else:\n",
    "#                     continue\n",
    "\n",
    "\n",
    "north_temp_function = interp1d(depth_JP_T, votemper_JP_level_CT_north, axis=1,\\\n",
    "                              bounds_error=False, fill_value='extrapolate');\n",
    "north_sal_function = interp1d(depth_JP_T, vosaline_JP_level_RS_north, axis=1,\\\n",
    "                              bounds_error=False, fill_value='extrapolate');\n",
    "north_U_function = interp1d(depth_JP_T, U_vel_JP_level_north,axis=1,\\\n",
    "                              bounds_error=False, fill_value='extrapolate');\n",
    "north_V_function = interp1d(depth_JP_T, V_vel_JP_level_north, axis=1,\\\n",
    "                              bounds_error=False, fill_value='extrapolate');\n",
    "\n",
    "\n",
    "votemper_NEMO_north = np.empty((vosaline_JP_level_SA_north.shape[0], NEMO_depth_T.shape[0], \\\n",
    "                               vosaline_JP_level_SA_north.shape[2], vosaline_JP_level_SA_north.shape[3]));\n",
    "vosaline_NEMO_north = np.empty((vosaline_JP_level_SA_north.shape[0], NEMO_depth_T.shape[0], \\\n",
    "                               vosaline_JP_level_SA_north.shape[2], vosaline_JP_level_SA_north.shape[3]));\n",
    "U_NEMO_north = np.empty((vosaline_JP_level_SA_north.shape[0], NEMO_depth_T.shape[0], \\\n",
    "                               vosaline_JP_level_SA_north.shape[2], vosaline_JP_level_SA_north.shape[3]));\n",
    "V_NEMO_north = np.empty((vosaline_JP_level_SA_north.shape[0], NEMO_depth_T.shape[0], \\\n",
    "                               vosaline_JP_level_SA_north.shape[2], vosaline_JP_level_SA_north.shape[3]));\n",
    "\n",
    "\n",
    "for indx in np.arange(NEMO_depth_T.shape[0]):\n",
    "    votemper_NEMO_north[:,indx,...] = north_temp_function(NEMO_depth_T[indx]);\n",
    "    vosaline_NEMO_north[:,indx,...] = north_sal_function(NEMO_depth_T[indx]);\n",
    "    U_NEMO_north[:,indx,...]        = north_U_function(NEMO_depth_T[indx]);\n",
    "    V_NEMO_north[:,indx,...]        = north_V_function(NEMO_depth_T[indx]);\n",
    "\n",
    "    \n",
    "print(votemper_NEMO_north.shape, vosaline_NEMO_north.shape, U_NEMO_north.shape, V_NEMO_north.shape)"
   ]
  },
  {
   "cell_type": "markdown",
   "metadata": {
    "collapsed": true
   },
   "source": [
    "for i in [0,1,2,3,4]:\n",
    "    votemper_NEMO_north[i,...] = bc_temp_north[...];\n",
    "    vosaline_NEMO_north[i,...] = bc_sal_north[...];"
   ]
  },
  {
   "cell_type": "code",
   "execution_count": 61,
   "metadata": {
    "collapsed": true
   },
   "outputs": [],
   "source": [
    "for i in np.arange(vosaline_NEMO_north.shape[0]):\n",
    "    for j in np.arange(vosaline_NEMO_north.shape[1]):\n",
    "        for k in np.arange(vosaline_NEMO_north.shape[2]):\n",
    "            for l in np.arange(vosaline_NEMO_north.shape[3]):\n",
    "                if np.isnan(vosaline_NEMO_north[i,j,k,l]):\n",
    "                    vosaline_NEMO_north[i,j,k,l] = vosaline_NEMO_north[i,j-1,k,l]\n",
    "                else:\n",
    "                    continue\n",
    "            \n",
    "\n",
    "for i in np.arange(votemper_NEMO_north.shape[0]):\n",
    "    for j in np.arange(votemper_NEMO_north.shape[1]):\n",
    "        for k in np.arange(votemper_NEMO_north.shape[2]):\n",
    "            for l in np.arange(votemper_NEMO_north.shape[3]):\n",
    "                if np.isnan(votemper_NEMO_north[i,j,k,l]):\n",
    "                    votemper_NEMO_north[i,j,k,l] = votemper_NEMO_north[i,j-1,k,l]\n",
    "                else:\n",
    "                    continue "
   ]
  },
  {
   "cell_type": "code",
   "execution_count": 76,
   "metadata": {
    "collapsed": false
   },
   "outputs": [
    {
     "data": {
      "text/plain": [
       "(array([ 0,  0,  0, ..., 42, 42, 42]),\n",
       " array([ 0,  0,  0, ..., 26, 26, 26]),\n",
       " array([0, 0, 0, ..., 3, 3, 3]),\n",
       " array([52, 53, 54, ..., 67, 68, 69]))"
      ]
     },
     "execution_count": 76,
     "metadata": {},
     "output_type": "execute_result"
    }
   ],
   "source": [
    "np.where(np.isnan(vosaline_NEMO_north[...]))"
   ]
  },
  {
   "cell_type": "code",
   "execution_count": 80,
   "metadata": {
    "collapsed": true
   },
   "outputs": [],
   "source": [
    "for i in np.arange(vosaline_NEMO_north.shape[0]):\n",
    "    for j in np.arange(vosaline_NEMO_north.shape[1]):\n",
    "        for k in np.arange(vosaline_NEMO_north.shape[2]):\n",
    "            for l in np.arange(vosaline_NEMO_north.shape[3]):\n",
    "                if np.isnan(vosaline_NEMO_north[i,j,k,l]):\n",
    "                    vosaline_NEMO_north[i,j,k,l] = vosaline_NEMO_north[i,j,k,l-1]\n",
    "                else:\n",
    "                    continue\n",
    "                    \n",
    "for i in np.arange(votemper_NEMO_north.shape[0]):\n",
    "    for j in np.arange(votemper_NEMO_north.shape[1]):\n",
    "        for k in np.arange(votemper_NEMO_north.shape[2]):\n",
    "            for l in np.arange(votemper_NEMO_north.shape[3]):\n",
    "                if np.isnan(votemper_NEMO_north[i,j,k,l]):\n",
    "                    votemper_NEMO_north[i,j,k,l] = votemper_NEMO_north[i,j,k,l-1]\n",
    "                else:\n",
    "                    continue"
   ]
  },
  {
   "cell_type": "code",
   "execution_count": 81,
   "metadata": {
    "collapsed": false
   },
   "outputs": [
    {
     "data": {
      "text/plain": [
       "(array([], dtype=int64),\n",
       " array([], dtype=int64),\n",
       " array([], dtype=int64),\n",
       " array([], dtype=int64))"
      ]
     },
     "execution_count": 81,
     "metadata": {},
     "output_type": "execute_result"
    }
   ],
   "source": [
    "np.where(np.isnan(vosaline_NEMO_north[...]))"
   ]
  },
  {
   "cell_type": "code",
   "execution_count": 82,
   "metadata": {
    "collapsed": false
   },
   "outputs": [],
   "source": [
    "#Now let us write the 3d boundary condition for the north boundary\n",
    "\n",
    "bdy_file = nc.Dataset('/ocean/ssahu/CANYONS/bdy_files/3d_NEMO_north_m04.nc', 'w', zlib=True);\n",
    "\n",
    "\n",
    "bdy_file.createDimension('xb', U_NEMO_north.shape[3]);\n",
    "bdy_file.createDimension('yb', U_NEMO_north.shape[2]);\n",
    "bdy_file.createDimension('deptht', U_NEMO_north.shape[1]);\n",
    "bdy_file.createDimension('time_counter', None);\n",
    "\n",
    "\n",
    "xb = bdy_file.createVariable('xb', 'int32', ('xb',), zlib=True);\n",
    "xb.units = 'indices';\n",
    "xb.longname = 'x indices along north boundary';\n",
    "\n",
    "yb = bdy_file.createVariable('yb', 'int32', ('yb',), zlib=True);\n",
    "yb.units = 'indices';\n",
    "yb.longname = 'a strip of y indices across all of north boundary';\n",
    "\n",
    "deptht = bdy_file.createVariable('deptht', 'float32', ('deptht',), zlib=True);\n",
    "deptht.units = 'm';\n",
    "deptht.longname = 'Vertical T Levels';\n",
    "\n",
    "time_counter = bdy_file.createVariable('time_counter', 'int32', ('time_counter',), zlib=True);\n",
    "time_counter.units = 's';\n",
    "time_counter.longname = 'time';\n",
    "\n",
    "vozocrtx = bdy_file.createVariable('vozocrtx', 'float32', ('time_counter', 'deptht', 'yb', 'xb'), zlib=True);\n",
    "vomecrty = bdy_file.createVariable('vomecrty', 'float32', ('time_counter', 'deptht', 'yb', 'xb'), zlib=True);\n",
    "votemper = bdy_file.createVariable('votemper', 'float32', ('time_counter', 'deptht', 'yb', 'xb'), zlib=True);\n",
    "vosaline = bdy_file.createVariable('vosaline', 'float32', ('time_counter', 'deptht', 'yb', 'xb'), zlib=True);\n",
    "\n",
    "vozocrtx[:] = U_NEMO_north[:,:,:,:];\n",
    "vomecrty[:] = V_NEMO_north[:,:,:,:];\n",
    "votemper[:] = votemper_NEMO_north[:,:,:,:];\n",
    "vosaline[:] = vosaline_NEMO_north[:,:,:,:];\n",
    "deptht[:] = NEMO_depth_T[:];\n",
    "\n",
    "\n",
    "#vozocrtx[:] = vozocrtx[:,:,::-1,:];### This is done because NEMO reads the file the other way around\n",
    "#vomecrty[:] = vomecrty[:,:,::-1,:];\n",
    "#votemper[:] = votemper[:,:,::-1,:];\n",
    "#vosaline[:] = vosaline[:,:,::-1,:];\n",
    "\n",
    "bdy_file.close()"
   ]
  },
  {
   "cell_type": "markdown",
   "metadata": {},
   "source": [
    "### Now for the south boundary"
   ]
  },
  {
   "cell_type": "code",
   "execution_count": 8,
   "metadata": {
    "collapsed": false
   },
   "outputs": [
    {
     "name": "stdout",
     "output_type": "stream",
     "text": [
      "(43, 50, 4, 70) (43, 50, 4, 70) (43, 50, 4, 70) (43, 50, 4, 70)\n"
     ]
    }
   ],
   "source": [
    "south_file = nc.Dataset('/ocean/ssahu/CANYONS/bdy_files/3d_south_m04.nc');\n",
    "\n",
    "vosaline_JP_level_PSU_south = south_file.variables['vosaline'][:];\n",
    "votemper_JP_level_PT_south = south_file.variables['votemper'][:];\n",
    "U_vel_JP_level_south = south_file.variables['vozocrtx'][:];\n",
    "V_vel_JP_level_south = south_file.variables['vomecrty'][:];\n",
    "\n",
    "\n",
    "print(vosaline_JP_level_PSU_south.shape, votemper_JP_level_PT_south.shape, U_vel_JP_level_south.shape, V_vel_JP_level_south.shape)\n",
    "\n",
    "vosaline_JP_level_SA_south = np.empty(vosaline_JP_level_PSU_south.shape);\n",
    "vosaline_JP_level_RS_south = np.empty(vosaline_JP_level_PSU_south.shape);\n",
    "votemper_JP_level_CT_south = np.empty(votemper_JP_level_PT_south.shape);"
   ]
  },
  {
   "cell_type": "code",
   "execution_count": null,
   "metadata": {
    "collapsed": true
   },
   "outputs": [],
   "source": [
    "#  vosaline_JP_level_PSU_south[np.where((vosaline_JP_level_PSU_south) == 0)] = ['Nan']"
   ]
  },
  {
   "cell_type": "code",
   "execution_count": 11,
   "metadata": {
    "collapsed": false
   },
   "outputs": [
    {
     "name": "stdout",
     "output_type": "stream",
     "text": [
      "(43, 50, 4, 70)\n"
     ]
    }
   ],
   "source": [
    "pressure = gsw_calls.generic_gsw_caller('gsw_p_from_z.m', [z, np.mean(lat)]);\n",
    "\n",
    "for i,j in enumerate(vosaline_JP_level_SA_south[0,:,...]):\n",
    "    vosaline_JP_level_SA_south[:,i,...] = gsw_calls.generic_gsw_caller(\\\n",
    "                                    'gsw_SA_from_SP', [vosaline_JP_level_PSU_south[:,i,...],pressure[i],lons[i],lats[i]]);\n",
    "vosaline_JP_level_RS_south[:] = gsw_calls.generic_gsw_caller('gsw_SR_from_SP', [vosaline_JP_level_PSU_south[:]]);\n",
    "votemper_JP_level_CT_south[:] = gsw_calls.generic_gsw_caller('gsw_CT_from_pt', [vosaline_JP_level_SA_south[:], votemper_JP_level_PT_south[:]]);        \n",
    "    \n",
    "print(vosaline_JP_level_SA_south.shape)"
   ]
  },
  {
   "cell_type": "code",
   "execution_count": 12,
   "metadata": {
    "collapsed": false
   },
   "outputs": [
    {
     "name": "stdout",
     "output_type": "stream",
     "text": [
      "[ 32.627  32.627  32.625  32.624  32.623  32.622  32.622  32.621  32.62\n",
      "  32.62   32.619  32.619  32.619  32.619  32.619  32.619  32.622  32.633\n",
      "  32.675  32.79   33.007  33.278  33.543  33.812  33.977  34.098  34.162\n",
      "  34.199  34.215  34.217  34.24   34.296  34.365  34.425  34.495  34.557\n",
      "  34.616  34.658  34.7    34.743  34.786  34.802  34.805     nan     nan\n",
      "     nan     nan     nan     nan     nan]\n"
     ]
    }
   ],
   "source": [
    "print(vosaline_JP_level_RS_south[0,:,0,0])"
   ]
  },
  {
   "cell_type": "code",
   "execution_count": 12,
   "metadata": {
    "collapsed": false
   },
   "outputs": [],
   "source": [
    "# for a in np.arange(vosaline_JP_level_RS_south.shape[0]):\n",
    "#     for i in np.arange(vosaline_JP_level_RS_south.shape[1]):\n",
    "#         for l in np.arange(vosaline_JP_level_RS_south.shape[2]):\n",
    "#             for m in np.arange(vosaline_JP_level_RS_south.shape[3]):\n",
    "#                 if votemper_JP_level_CT_south[a,i,l,m] == 0:\n",
    "#                     votemper_JP_level_CT_south[a,i,l,m] == ['Nan']\n",
    "#                 else:\n",
    "#                     continue\n",
    "\n",
    "                    \n",
    "# for a in np.arange(vosaline_JP_level_RS_south.shape[0]):\n",
    "#     for i in np.arange(vosaline_JP_level_RS_south.shape[1]):\n",
    "#         for l in np.arange(vosaline_JP_level_RS_south.shape[2]):\n",
    "#             for m in np.arange(vosaline_JP_level_RS_south.shape[3]):\n",
    "#                 if vosaline_JP_level_RS_south[a,i,l,m] == 0:\n",
    "#                     vosaline_JP_level_RS_south[a,i,l,m] == ['Nan']\n",
    "#                 else:\n",
    "#                     continue                    \n",
    "\n",
    "\n",
    "\n",
    "# vosaline_JP_level_RS_south[vosaline_JP_level_RS_south == 0] = ['Nan'];\n",
    "# votemper_JP_level_CT_south[votemper_JP_level_CT_south == 0] = ['Nan'];"
   ]
  },
  {
   "cell_type": "code",
   "execution_count": 13,
   "metadata": {
    "collapsed": false
   },
   "outputs": [
    {
     "data": {
      "text/plain": [
       "nan"
      ]
     },
     "execution_count": 13,
     "metadata": {},
     "output_type": "execute_result"
    }
   ],
   "source": [
    "np.min(vosaline_JP_level_RS_south)"
   ]
  },
  {
   "cell_type": "code",
   "execution_count": 15,
   "metadata": {
    "collapsed": true
   },
   "outputs": [],
   "source": [
    "# try:\n",
    "#     for p,q in enumerate(vosaline_JP_level_RS_south[:,...]):\n",
    "#         for i,j in enumerate(vosaline_JP_level_RS_south[p,:,...]):\n",
    "#             votemper_JP_level_CT_south[p,i,...] = KNN(k=3).complete(votemper_JP_level_CT_south[p,i,...]);\n",
    "#             vosaline_JP_level_RS_south[p,i,...] = KNN(k=3).complete(vosaline_JP_level_RS_south[p,i,...]);\n",
    "#             U_vel_JP_level_south[p,i,...] = KNN(k=3).complete(U_vel_JP_level_south[p,i,...]);\n",
    "#             V_vel_JP_level_south[p,i,...] = KNN(k=3).complete(V_vel_JP_level_south[p,i,...]);\n",
    "# except:\n",
    "#     pass\n",
    "\n",
    "# #votemper_JP_level_CT_south[np.where(np.isnan(votemper_JP_level_CT_south))]=0;\n",
    "# #vosaline_JP_level_RS_south[np.where(np.isnan(vosaline_JP_level_RS_south))]=0;\n",
    "# #U_vel_JP_level_south[np.where(np.isnan(U_vel_JP_level_south))]=0;\n",
    "# #V_vel_JP_level_south[np.where(np.isnan(V_vel_JP_level_south))]=0;\n",
    "\n",
    "# for a,b in enumerate(vosaline_JP_level_RS_south[:,...]):\n",
    "#     for i,j in enumerate(vosaline_JP_level_RS_south[a,:,...]):\n",
    "#         for p,q in enumerate(vosaline_JP_level_RS_south[a,i,:,...]):\n",
    "#             for l,m in enumerate(vosaline_JP_level_RS_south[a,i,p,:]):\n",
    "#                 if vosaline_JP_level_RS_south[a,i,p,l] == 0:\n",
    "#                     vosaline_JP_level_RS_south[a,i,p,l] = vosaline_JP_level_RS_south[a,i-1,p,l]\n",
    "#                 else:\n",
    "#                     continue\n",
    "\n",
    "\n",
    "# for a in np.arange(vosaline_JP_level_RS_south.shape[0]):\n",
    "#     for i in np.arange(vosaline_JP_level_RS_south.shape[1]):\n",
    "#         for p in np.arange(vosaline_JP_level_RS_south.shape[2]):\n",
    "#             for l in np.arange(vosaline_JP_level_RS_south.shape[3]):\n",
    "#                 if votemper_JP_level_CT_south[a,i,p,l] == 0:\n",
    "#                     votemper_JP_level_CT_south[a,i,p,l] = votemper_JP_level_CT_south[a,i-1,p,l]\n",
    "#                 else:\n",
    "#                     continue\n",
    "                    \n",
    "                    \n",
    "\n",
    "\n",
    "# for a in np.arange(vosaline_JP_level_RS_south.shape[0]):\n",
    "#     for i in np.arange(vosaline_JP_level_RS_south.shape[1]):\n",
    "#         for p in np.arange(vosaline_JP_level_RS_south.shape[2]):\n",
    "#             for l in np.arange(vosaline_JP_level_RS_south.shape[3]):\n",
    "#                 if np.isnan(U_vel_JP_level_south[a,i,p,l]):\n",
    "#                     U_vel_JP_level_south[a,i,p,l] = U_vel_JP_level_south[a,i-1,p,l]\n",
    "#                 else:\n",
    "#                     continue\n",
    "                    \n",
    "\n",
    "\n",
    "# for a in np.arange(vosaline_JP_level_RS_south.shape[0]):\n",
    "#     for i in np.arange(vosaline_JP_level_RS_south.shape[1]):\n",
    "#         for p in np.arange(vosaline_JP_level_RS_south.shape[2]):\n",
    "#             for l in np.arange(vosaline_JP_level_RS_south.shape[3]):\n",
    "#                 if np.isnan(V_vel_JP_level_south[a,i,p,l]):\n",
    "#                     V_vel_JP_level_south[a,i,p,l] = V_vel_JP_level_south[a,i-1,p,l]\n",
    "#                 else:\n",
    "#                     continue\n",
    "\n",
    "# # for a in range(vosaline_JP_level_RS_south.shape[0]):\n",
    "# #     for i in range(vosaline_JP_level_RS_south.shape[1]):\n",
    "# #         for p in range(vosaline_JP_level_RS_south.shape[2]):\n",
    "# #             for q in range(vosaline_JP_level_RS_south.shape[3]):\n",
    "# #                 if vosaline_JP_level_RS_south[a,i,p,q] < vosaline_JP_level_RS_south[a,-1,p,q]:\n",
    "# #                     vosaline_JP_level_RS_south[a,i,p,q] = vosaline_JP_level_RS_south[a,i-1,p,q]\n",
    "# #                     #print(vosaline_NEMO_south[a,i,p,q])\n",
    "# #                 else:\n",
    "# #                     continue      \n",
    "\n",
    "\n",
    "\n",
    "\n",
    "# for i in np.arange(vosaline_JP_level_RS_south.shape[0]):\n",
    "#     for j in np.arange(vosaline_JP_level_RS_south.shape[1]):\n",
    "#         for k in np.arange(vosaline_JP_level_RS_south.shape[2]):\n",
    "#             for l in np.arange(vosaline_JP_level_RS_south.shape[3]):\n",
    "#                 if np.isnan(vosaline_JP_level_RS_south[i,j,k,l]):\n",
    "#                     vosaline_JP_level_RS_south[i,j,k,l] = vosaline_JP_level_RS_south[i,j-1,k,l]\n",
    "#                 else:\n",
    "#                     continue\n",
    "                    \n",
    "# for i in np.arange(vosaline_JP_level_RS_south.shape[0]):\n",
    "#     for j in np.arange(vosaline_JP_level_RS_south.shape[1]):\n",
    "#         for k in np.arange(vosaline_JP_level_RS_south.shape[2]):\n",
    "#             for l in np.arange(vosaline_JP_level_RS_south.shape[3]):\n",
    "#                 if np.isnan(votemper_JP_level_CT_south[i,j,k,l]):\n",
    "#                     votemper_JP_level_CT_south[i,j,k,l] = votemper_JP_level_CT_south[i,j-1,k,l]\n",
    "#                 else:\n",
    "#                     continue                    \n"
   ]
  },
  {
   "cell_type": "code",
   "execution_count": 14,
   "metadata": {
    "collapsed": false
   },
   "outputs": [
    {
     "data": {
      "text/plain": [
       "(array([], dtype=int64),\n",
       " array([], dtype=int64),\n",
       " array([], dtype=int64),\n",
       " array([], dtype=int64))"
      ]
     },
     "execution_count": 14,
     "metadata": {},
     "output_type": "execute_result"
    }
   ],
   "source": [
    "np.where(vosaline_JP_level_RS_south == 0)"
   ]
  },
  {
   "cell_type": "code",
   "execution_count": 15,
   "metadata": {
    "collapsed": false
   },
   "outputs": [
    {
     "data": {
      "text/plain": [
       "13.813000000000001"
      ]
     },
     "execution_count": 15,
     "metadata": {},
     "output_type": "execute_result"
    }
   ],
   "source": [
    "np.nanmin(vosaline_JP_level_RS_south)"
   ]
  },
  {
   "cell_type": "code",
   "execution_count": 16,
   "metadata": {
    "collapsed": false
   },
   "outputs": [
    {
     "name": "stdout",
     "output_type": "stream",
     "text": [
      "(43, 27, 4, 70) (43, 27, 4, 70) (43, 27, 4, 70) (43, 27, 4, 70)\n"
     ]
    }
   ],
   "source": [
    "                    \n",
    "south_temp_function = interp1d(depth_JP_T, votemper_JP_level_CT_south, axis=1,\\\n",
    "                              bounds_error=False, fill_value='extrapolate');\n",
    "south_sal_function = interp1d(depth_JP_T, vosaline_JP_level_RS_south, axis=1,\\\n",
    "                              bounds_error=False, fill_value='extrapolate');\n",
    "south_U_function = interp1d(depth_JP_T, U_vel_JP_level_south,axis=1,\\\n",
    "                              bounds_error=False, fill_value='extrapolate');\n",
    "south_V_function = interp1d(depth_JP_T, V_vel_JP_level_south, axis=1,\\\n",
    "                              bounds_error=False, fill_value='extrapolate');\n",
    "\n",
    "\n",
    "votemper_NEMO_south = np.empty((vosaline_JP_level_SA_south.shape[0], NEMO_depth_T.shape[0], \\\n",
    "                               vosaline_JP_level_SA_south.shape[2], vosaline_JP_level_SA_south.shape[3]));\n",
    "vosaline_NEMO_south = np.empty((vosaline_JP_level_SA_south.shape[0], NEMO_depth_T.shape[0], \\\n",
    "                               vosaline_JP_level_SA_south.shape[2], vosaline_JP_level_SA_south.shape[3]));\n",
    "U_NEMO_south = np.empty((vosaline_JP_level_SA_south.shape[0], NEMO_depth_T.shape[0], \\\n",
    "                               vosaline_JP_level_SA_south.shape[2], vosaline_JP_level_SA_south.shape[3]));\n",
    "V_NEMO_south = np.empty((vosaline_JP_level_SA_south.shape[0], NEMO_depth_T.shape[0], \\\n",
    "                               vosaline_JP_level_SA_south.shape[2], vosaline_JP_level_SA_south.shape[3]));\n",
    "\n",
    "\n",
    "for indx in np.arange(NEMO_depth_T.shape[0]):\n",
    "    votemper_NEMO_south[:,indx,...] = south_temp_function(NEMO_depth_T[indx]);\n",
    "    vosaline_NEMO_south[:,indx,...] = south_sal_function(NEMO_depth_T[indx]);\n",
    "    U_NEMO_south[:,indx,...]        = south_U_function(NEMO_depth_T[indx]);\n",
    "    V_NEMO_south[:,indx,...]        = south_V_function(NEMO_depth_T[indx]);\n",
    "\n",
    "    \n",
    "print(votemper_NEMO_south.shape, vosaline_NEMO_south.shape, U_NEMO_south.shape, V_NEMO_south.shape)"
   ]
  },
  {
   "cell_type": "code",
   "execution_count": 19,
   "metadata": {
    "collapsed": false
   },
   "outputs": [],
   "source": [
    "# try:\n",
    "#     for p in np.arange(vosaline_NEMO_south.shape[0]):\n",
    "#         for i in np.arange(vosaline_NEMO_south.shape[1]):\n",
    "#             votemper_NEMO_south[p,i,...] = KNN(k=3).complete(votemper_NEMO_south[p,i,...]);\n",
    "#             vosaline_NEMO_south[p,i,...] = KNN(k=3).complete(vosaline_NEMO_south[p,i,...]);\n",
    "#             U_NEMO_south[p,i,...] = KNN(k=3).complete(U_NEMO_south[p,i,...]);\n",
    "#             V_NEMO_south[p,i,...] = KNN(k=3).complete(V_NEMO_south[p,i,...]);\n",
    "# except:\n",
    "#     pass\n",
    "\n",
    "\n",
    "# for a in np.arange(votemper_NEMO_south.shape[0]):\n",
    "#     for i in np.arange(votemper_NEMO_south.shape[1]):\n",
    "#         for l in np.arange(votemper_NEMO_south.shape[2]):\n",
    "#             for m in np.arange(votemper_NEMO_south.shape[3]):\n",
    "#                 if np.isnan(votemper_NEMO_south[a,i,l,m]):\n",
    "#                     votemper_NEMO_south[a,i,l,m] = votemper_NEMO_south[a,i-1,l,m]\n",
    "#                 else:\n",
    "#                     continue\n",
    "\n",
    "\n",
    "#votemper_JP_level_CT_south[np.where(np.isnan(votemper_JP_level_CT_south))]=0;\n",
    "#vosaline_JP_level_RS_south[np.where(np.isnan(vosaline_JP_level_RS_south))]=0;\n",
    "#U_vel_JP_level_south[np.where(np.isnan(U_vel_JP_level_south))]=0;\n",
    "#V_vel_JP_level_south[np.where(np.isnan(V_vel_JP_level_south))]=0;\n",
    "\n",
    "# for a in range(vosaline_JP_level_RS_south.shape[0]):\n",
    "#     for i in range(vosaline_JP_level_RS_south.shape[1]):\n",
    "#         for p in range(vosaline_JP_level_RS_south.shape[2]):\n",
    "#             for q in range(vosaline_JP_level_RS_south.shape[3]):\n",
    "#                 if vosaline_JP_level_RS_south[a,i,p,q] < vosaline_JP_level_RS_south[a,-1,p,q]:\n",
    "#                     vosaline_JP_level_RS_south[a,i,p,q] = vosaline_JP_level_RS_south[a,i-1,p,q]\n",
    "#                     #print(vosaline_NEMO_south[a,i,p,q])\n",
    "#                 else:\n",
    "#                     continue                    "
   ]
  },
  {
   "cell_type": "code",
   "execution_count": 20,
   "metadata": {
    "collapsed": false
   },
   "outputs": [],
   "source": [
    "# for i in np.arange(vosaline_NEMO_south.shape[0]):\n",
    "#     for j in np.arange(vosaline_NEMO_south.shape[1]):\n",
    "#         for k in np.arange(vosaline_NEMO_south.shape[2]):\n",
    "#             for l in np.arange(vosaline_NEMO_south.shape[3]):\n",
    "#                 if np.isnan(vosaline_NEMO_south[i,j,k,l]):\n",
    "#                     vosaline_NEMO_south[i,j,k,l] = vosaline_NEMO_south[i,j-1,k,l]\n",
    "#                 else:\n",
    "#                     continue"
   ]
  },
  {
   "cell_type": "code",
   "execution_count": 17,
   "metadata": {
    "collapsed": false
   },
   "outputs": [
    {
     "data": {
      "text/plain": [
       "28.245821364854717"
      ]
     },
     "execution_count": 17,
     "metadata": {},
     "output_type": "execute_result"
    }
   ],
   "source": [
    "np.nanmin(vosaline_NEMO_south)"
   ]
  },
  {
   "cell_type": "code",
   "execution_count": 18,
   "metadata": {
    "collapsed": false
   },
   "outputs": [
    {
     "data": {
      "text/plain": [
       "array([ 32.61945213,  32.619     ,  32.61901521,  32.62958743,\n",
       "        32.69215381,  32.89987301,  33.26127286,  33.67483256,\n",
       "        34.01168477,  34.17285833,  34.21583362,  34.2691515 ,\n",
       "        34.39385287,  34.50998288,  34.60367377,  34.66467592,\n",
       "        34.71601133,  34.763388  ,  34.79376569,  34.80327475,\n",
       "                nan,          nan,          nan,          nan,\n",
       "                nan,          nan,          nan])"
      ]
     },
     "execution_count": 18,
     "metadata": {},
     "output_type": "execute_result"
    }
   ],
   "source": [
    "vosaline_NEMO_south[0,:,0,0]"
   ]
  },
  {
   "cell_type": "markdown",
   "metadata": {
    "collapsed": true
   },
   "source": [
    "for a,b in enumerate(vosaline_JP_level_RS_south[:,...]):\n",
    "    for i,j in enumerate(vosaline_JP_level_RS_south[a,:,...]):\n",
    "        for p,q in enumerate(vosaline_JP_level_RS_south[a,i,:,...]):\n",
    "            for l,m in enumerate(vosaline_JP_level_RS_south[a,i,p,:]):\n",
    "                if np.isnan(vosaline_JP_level_RS_south[a,i,p,l]):\n",
    "                    vosaline_JP_level_RS_south[a,i,p,l] = vosaline_JP_level_RS_south[a,i-1,p,l]\n",
    "                else:\n",
    "                    continue\n",
    "                if np.isnan(votemper_JP_level_CT_south[a,i,p,l]):\n",
    "                    votemper_JP_level_CT_south[a,i,p,l] = votemper_JP_level_CT_south[a,i-1,p,l]\n",
    "                else:\n",
    "                    continue\n",
    "                if np.isnan(U_vel_JP_level_south[a,i,p,l]):\n",
    "                    U_vel_JP_level_south[a,i,p,l] = U_vel_JP_level_south[a,i-1,p,l]\n",
    "                else:\n",
    "                    continue\n",
    "                if np.isnan(V_vel_JP_level_south[a,i,p,l]):\n",
    "                    V_vel_JP_level_south[a,i,p,l] = V_vel_JP_level_south[a,i-1,p,l]\n",
    "                else:\n",
    "                    continue"
   ]
  },
  {
   "cell_type": "markdown",
   "metadata": {
    "collapsed": true
   },
   "source": [
    "for a,b in enumerate(vosaline_JP_level_RS_south[:,...]):\n",
    "    for i,j in enumerate(vosaline_JP_level_RS_south[a,:,...]):\n",
    "        for p,q in enumerate(vosaline_JP_level_RS_south[a,i,:,...]):\n",
    "            for l,m in enumerate(vosaline_JP_level_RS_south[a,i,p,:]):\n",
    "                if vosaline_JP_level_RS_south[a,i,p,l] == 0:\n",
    "                    vosaline_JP_level_RS_south[a,i,p,l] = vosaline_JP_level_RS_south[a,i-1,p,l]\n",
    "                else:\n",
    "                    continue\n",
    "                if votemper_JP_level_CT_south[a,i,p,l] == 0:\n",
    "                    votemper_JP_level_CT_south[a,i,p,l] = votemper_JP_level_CT_south[a,i-1,p,l]\n",
    "                else:\n",
    "                    continue\n",
    "                if U_vel_JP_level_south[a,i,p,l] == 0:\n",
    "                    U_vel_JP_level_south[a,i,p,l] = U_vel_JP_level_south[a,i-1,p,l]\n",
    "                else:\n",
    "                    continue\n",
    "                if V_vel_JP_level_south[a,i,p,l] == 0:\n",
    "                    V_vel_JP_level_south[a,i,p,l] = V_vel_JP_level_south[a,i-1,p,l]\n",
    "                else:\n",
    "                    continue"
   ]
  },
  {
   "cell_type": "markdown",
   "metadata": {
    "collapsed": false
   },
   "source": [
    "south_temp_function = interp1d(depth_JP_T, votemper_JP_level_CT_south, axis=1,\\\n",
    "                              bounds_error=False, fill_value='extrapolate');\n",
    "south_sal_function = interp1d(depth_JP_T, vosaline_JP_level_RS_south, axis=1,\\\n",
    "                              bounds_error=False, fill_value='extrapolate');\n",
    "south_U_function = interp1d(depth_JP_T, U_vel_JP_level_south,axis=1,\\\n",
    "                              bounds_error=False, fill_value='extrapolate');\n",
    "south_V_function = interp1d(depth_JP_T, V_vel_JP_level_south, axis=1,\\\n",
    "                              bounds_error=False, fill_value='extrapolate');\n",
    "\n",
    "\n",
    "votemper_NEMO_south = np.zeros((vosaline_JP_level_SA_south.shape[0], NEMO_depth_T.shape[0], \\\n",
    "                               vosaline_JP_level_SA_south.shape[2], vosaline_JP_level_SA_south.shape[3]));\n",
    "vosaline_NEMO_south = np.zeros((vosaline_JP_level_SA_south.shape[0], NEMO_depth_T.shape[0], \\\n",
    "                               vosaline_JP_level_SA_south.shape[2], vosaline_JP_level_SA_south.shape[3]));\n",
    "U_NEMO_south = np.zeros((vosaline_JP_level_SA_south.shape[0], NEMO_depth_T.shape[0], \\\n",
    "                               vosaline_JP_level_SA_south.shape[2], vosaline_JP_level_SA_south.shape[3]));\n",
    "V_NEMO_south = np.zeros((vosaline_JP_level_SA_south.shape[0], NEMO_depth_T.shape[0], \\\n",
    "                               vosaline_JP_level_SA_south.shape[2], vosaline_JP_level_SA_south.shape[3]));\n",
    "\n",
    "\n",
    "for indx in np.arange(NEMO_depth_T.shape[0]):\n",
    "    votemper_NEMO_south[:,indx,...] = south_temp_function(NEMO_depth_T[indx]);\n",
    "    vosaline_NEMO_south[:,indx,...] = south_sal_function(NEMO_depth_T[indx]);\n",
    "    U_NEMO_south[:,indx,...]        = south_U_function(NEMO_depth_T[indx]);\n",
    "    V_NEMO_south[:,indx,...]        = south_V_function(NEMO_depth_T[indx]);\n",
    "\n",
    "    \n",
    "print(votemper_NEMO_south.shape, vosaline_NEMO_south.shape, U_NEMO_south.shape, V_NEMO_south.shape)"
   ]
  },
  {
   "cell_type": "code",
   "execution_count": 19,
   "metadata": {
    "collapsed": false
   },
   "outputs": [
    {
     "data": {
      "text/plain": [
       "<matplotlib.colorbar.Colorbar at 0x7f1ca054d1d0>"
      ]
     },
     "execution_count": 19,
     "metadata": {},
     "output_type": "execute_result"
    },
    {
     "data": {
      "image/png": "[encoded data removed]",
      "text/plain": [
       "<matplotlib.figure.Figure at 0x7f1ca0629e10>"
      ]
     },
     "metadata": {},
     "output_type": "display_data"
    }
   ],
   "source": [
    "fig, ax = plt.subplots(1, 1, figsize=(10, 8))\n",
    "viz_tools.set_aspect(ax)\n",
    "#cmap = plt.get_cmap('winter_r')\n",
    "#cmap.set_bad('burlywood')\n",
    "mesh = ax.pcolormesh(vosaline_JP_level_RS_south[0,:,3,:], vmin =-5, vmax=34)#, cmap=cmap)\n",
    "fig.colorbar(mesh)"
   ]
  },
  {
   "cell_type": "code",
   "execution_count": 20,
   "metadata": {
    "collapsed": false
   },
   "outputs": [
    {
     "data": {
      "text/plain": [
       "<matplotlib.colorbar.Colorbar at 0x7f1ca044cac8>"
      ]
     },
     "execution_count": 20,
     "metadata": {},
     "output_type": "execute_result"
    },
    {
     "data": {
      "image/png": "[encoded data removed]",
      "text/plain": [
       "<matplotlib.figure.Figure at 0x7f1ca0629cc0>"
      ]
     },
     "metadata": {},
     "output_type": "display_data"
    }
   ],
   "source": [
    "fig, ax = plt.subplots(1, 1, figsize=(10, 8))\n",
    "viz_tools.set_aspect(ax)\n",
    "#cmap = plt.get_cmap('winter_r')\n",
    "#cmap.set_bad('burlywood')\n",
    "mesh = ax.pcolormesh(vosaline_NEMO_south[0,:,3,:], vmin =-5, vmax=34)#, cmap=cmap)\n",
    "fig.colorbar(mesh)"
   ]
  },
  {
   "cell_type": "code",
   "execution_count": 21,
   "metadata": {
    "collapsed": false
   },
   "outputs": [],
   "source": [
    "# ### Cover all Nan values at the lower depth levels with values from the top level immediately above it\n",
    "\n",
    "\n",
    "\n",
    "for i in np.arange(vosaline_NEMO_south.shape[0]):\n",
    "    for j in np.arange(vosaline_NEMO_south.shape[1]):\n",
    "        for k in np.arange(vosaline_NEMO_south.shape[2]):\n",
    "            for l in np.arange(vosaline_NEMO_south.shape[3]):\n",
    "                if np.isnan(vosaline_NEMO_south[i,j,k,l]):\n",
    "                    vosaline_NEMO_south[i,j,k,l] = vosaline_NEMO_south[i,j-1,k,l]\n",
    "                else:\n",
    "                    continue\n",
    "            \n",
    "\n",
    "for i in np.arange(votemper_NEMO_south.shape[0]):\n",
    "    for j in np.arange(votemper_NEMO_south.shape[1]):\n",
    "        for k in np.arange(votemper_NEMO_south.shape[2]):\n",
    "            for l in np.arange(votemper_NEMO_south.shape[3]):\n",
    "                if np.isnan(votemper_NEMO_south[i,j,k,l]):\n",
    "                    votemper_NEMO_south[i,j,k,l] = votemper_NEMO_south[i,j-1,k,l]\n",
    "                else:\n",
    "                    continue   "
   ]
  },
  {
   "cell_type": "code",
   "execution_count": 23,
   "metadata": {
    "collapsed": false
   },
   "outputs": [
    {
     "data": {
      "text/plain": [
       "<matplotlib.colorbar.Colorbar at 0x7f1c9f192e80>"
      ]
     },
     "execution_count": 23,
     "metadata": {},
     "output_type": "execute_result"
    },
    {
     "data": {
      "image/png": "[encoded data removed]",
      "text/plain": [
       "<matplotlib.figure.Figure at 0x7f1c9f1b2dd8>"
      ]
     },
     "metadata": {},
     "output_type": "display_data"
    }
   ],
   "source": [
    "fig, ax = plt.subplots(1, 1, figsize=(10, 8))\n",
    "viz_tools.set_aspect(ax)\n",
    "#cmap = plt.get_cmap('winter_r')\n",
    "#cmap.set_bad('burlywood')\n",
    "mesh = ax.pcolormesh(vosaline_NEMO_south[0,:,3,:], vmin =-5, vmax=34)#, cmap=cmap)\n",
    "fig.colorbar(mesh)"
   ]
  },
  {
   "cell_type": "code",
   "execution_count": 25,
   "metadata": {
    "collapsed": false
   },
   "outputs": [
    {
     "name": "stdout",
     "output_type": "stream",
     "text": [
      "[ 32.61945213  32.619       32.61901521  32.62958743  32.69215381\n",
      "  32.89987301  33.26127286  33.67483256  34.01168477  34.17285833\n",
      "  34.21583362  34.2691515   34.39385287  34.50998288  34.60367377\n",
      "  34.66467592  34.71601133  34.763388    34.79376569  34.80327475\n",
      "  34.80327475  34.80327475  34.80327475  34.80327475  34.80327475\n",
      "  34.80327475  34.80327475]\n"
     ]
    }
   ],
   "source": [
    "print(vosaline_NEMO_south[0,:,0,0])"
   ]
  },
  {
   "cell_type": "code",
   "execution_count": 26,
   "metadata": {
    "collapsed": true
   },
   "outputs": [],
   "source": [
    "### To not have any nan values lets copy the ones that we have to the other right hand side\n",
    "\n",
    "\n",
    "\n",
    "for i in np.arange(vosaline_NEMO_south.shape[0]):\n",
    "    for j in np.arange(vosaline_NEMO_south.shape[1]):\n",
    "        for k in np.arange(vosaline_NEMO_south.shape[2]):\n",
    "            for l in np.arange(vosaline_NEMO_south.shape[3]):\n",
    "                if np.isnan(vosaline_NEMO_south[i,j,k,l]):\n",
    "                    vosaline_NEMO_south[i,j,k,l] = vosaline_NEMO_south[i,j,k,l-1]\n",
    "                else:\n",
    "                    continue\n",
    "                    \n",
    "                    \n",
    "for i in np.arange(votemper_NEMO_south.shape[0]):\n",
    "    for j in np.arange(votemper_NEMO_south.shape[1]):\n",
    "        for k in np.arange(votemper_NEMO_south.shape[2]):\n",
    "            for l in np.arange(votemper_NEMO_south.shape[3]):\n",
    "                if np.isnan(votemper_NEMO_south[i,j,k,l]):\n",
    "                    votemper_NEMO_south[i,j,k,l] = votemper_NEMO_south[i,j,k,l-1]\n",
    "                else:\n",
    "                    continue"
   ]
  },
  {
   "cell_type": "code",
   "execution_count": 38,
   "metadata": {
    "collapsed": false
   },
   "outputs": [
    {
     "data": {
      "text/plain": [
       "<matplotlib.colorbar.Colorbar at 0x7f1c9e984d68>"
      ]
     },
     "execution_count": 38,
     "metadata": {},
     "output_type": "execute_result"
    },
    {
     "data": {
      "image/png": "[encoded data removed]",
      "text/plain": [
       "<matplotlib.figure.Figure at 0x7f1c9f04a198>"
      ]
     },
     "metadata": {},
     "output_type": "display_data"
    }
   ],
   "source": [
    "fig, ax = plt.subplots(1, 1, figsize=(10, 8))\n",
    "viz_tools.set_aspect(ax)\n",
    "#cmap = plt.get_cmap('winter_r')\n",
    "#cmap.set_bad('burlywood')\n",
    "mesh = ax.pcolormesh(vosaline_NEMO_south[0,:,3,:], vmin =-5, vmax=34)#, cmap=cmap)\n",
    "fig.colorbar(mesh)"
   ]
  },
  {
   "cell_type": "code",
   "execution_count": 84,
   "metadata": {
    "collapsed": false
   },
   "outputs": [
    {
     "data": {
      "text/plain": [
       "(array([], dtype=int64),\n",
       " array([], dtype=int64),\n",
       " array([], dtype=int64),\n",
       " array([], dtype=int64))"
      ]
     },
     "execution_count": 84,
     "metadata": {},
     "output_type": "execute_result"
    }
   ],
   "source": [
    "np.where(np.isnan(votemper_NEMO_south[...]))"
   ]
  },
  {
   "cell_type": "code",
   "execution_count": 88,
   "metadata": {
    "collapsed": false
   },
   "outputs": [
    {
     "data": {
      "text/plain": [
       "(array([], dtype=int64),\n",
       " array([], dtype=int64),\n",
       " array([], dtype=int64),\n",
       " array([], dtype=int64))"
      ]
     },
     "execution_count": 88,
     "metadata": {},
     "output_type": "execute_result"
    }
   ],
   "source": [
    "np.where(np.isnan(U_NEMO_right[...]))"
   ]
  },
  {
   "cell_type": "markdown",
   "metadata": {
    "collapsed": true
   },
   "source": [
    "for a,b in enumerate(vosaline_NEMO_south[:,...]):\n",
    "    for i,j in enumerate(vosaline_NEMO_south[a,:,...]):\n",
    "        for p,q in enumerate(vosaline_NEMO_south[a,i,:,...]):\n",
    "            for l,m in enumerate(vosaline_NEMO_south[a,i,p,:]):\n",
    "                if vosaline_NEMO_south[a,i,p,l] == 0:\n",
    "                    vosaline_NEMO_south[a,i,p,l] = vosaline_NEMO_south[a,i-1,p,l]\n",
    "                else:\n",
    "                    continue"
   ]
  },
  {
   "cell_type": "code",
   "execution_count": 28,
   "metadata": {
    "collapsed": false
   },
   "outputs": [],
   "source": [
    "# fig, ax = plt.subplots(1, 1, figsize=(10, 8))\n",
    "# viz_tools.set_aspect(ax)\n",
    "# mesh = ax.pcolormesh(vosaline_NEMO_south[0,:,3,:], vmin =30)\n",
    "# fig.colorbar(mesh)\n"
   ]
  },
  {
   "cell_type": "code",
   "execution_count": null,
   "metadata": {
    "collapsed": false
   },
   "outputs": [],
   "source": [
    "# np.nanmin(vosaline_NEMO_south)"
   ]
  },
  {
   "cell_type": "code",
   "execution_count": null,
   "metadata": {
    "collapsed": false
   },
   "outputs": [],
   "source": [
    "# fig, ax = plt.subplots(1, 1, figsize=(10, 8))\n",
    "# viz_tools.set_aspect(ax)\n",
    "# mesh = ax.pcolormesh(votemper_NEMO_south[0,:,3,:])\n",
    "# fig.colorbar(mesh)\n"
   ]
  },
  {
   "cell_type": "code",
   "execution_count": null,
   "metadata": {
    "collapsed": false
   },
   "outputs": [],
   "source": [
    "# fig, ax = plt.subplots(1, 1, figsize=(10, 8))\n",
    "# viz_tools.set_aspect(ax)\n",
    "# mesh = ax.pcolormesh(U_NEMO_south[0,:,3,:])\n",
    "# fig.colorbar(mesh)"
   ]
  },
  {
   "cell_type": "code",
   "execution_count": null,
   "metadata": {
    "collapsed": false
   },
   "outputs": [],
   "source": [
    "# fig, ax = plt.subplots(1, 1, figsize=(10, 8))\n",
    "# viz_tools.set_aspect(ax)\n",
    "# mesh = ax.pcolormesh(V_NEMO_south[0,:,3,:])\n",
    "# fig.colorbar(mesh)"
   ]
  },
  {
   "cell_type": "markdown",
   "metadata": {
    "collapsed": true
   },
   "source": [
    "for i in [0,1,2,3,4]:\n",
    "    votemper_NEMO_south[i,...] = bc_temp_south[...];\n",
    "    vosaline_NEMO_south[i,...] = bc_sal_south[...];"
   ]
  },
  {
   "cell_type": "code",
   "execution_count": 29,
   "metadata": {
    "collapsed": false
   },
   "outputs": [],
   "source": [
    "#Now let us write the 3d boundary condition for the south boundary\n",
    "\n",
    "bdy_file = nc.Dataset('/ocean/ssahu/CANYONS/bdy_files/3d_NEMO_south_m04.nc', 'w', zlib=True);\n",
    "\n",
    "\n",
    "bdy_file.createDimension('xb', U_NEMO_south.shape[3]);\n",
    "bdy_file.createDimension('yb', U_NEMO_south.shape[2]);\n",
    "bdy_file.createDimension('deptht', U_NEMO_south.shape[1]);\n",
    "bdy_file.createDimension('time_counter', None);\n",
    "\n",
    "\n",
    "xb = bdy_file.createVariable('xb', 'int32', ('xb',), zlib=True);\n",
    "xb.units = 'indices';\n",
    "xb.longname = 'x indices along south boundary';\n",
    "\n",
    "yb = bdy_file.createVariable('yb', 'int32', ('yb',), zlib=True);\n",
    "yb.units = 'indices';\n",
    "yb.longname = 'a strip of y indices across all of south boundary';\n",
    "\n",
    "deptht = bdy_file.createVariable('deptht', 'float32', ('deptht',), zlib=True);\n",
    "deptht.units = 'm';\n",
    "deptht.longname = 'Vertical T Levels';\n",
    "\n",
    "time_counter = bdy_file.createVariable('time_counter', 'int32', ('time_counter',), zlib=True);\n",
    "time_counter.units = 's';\n",
    "time_counter.longname = 'time';\n",
    "\n",
    "vozocrtx = bdy_file.createVariable('vozocrtx', 'float32', ('time_counter', 'deptht', 'yb', 'xb'), zlib=True);\n",
    "vomecrty = bdy_file.createVariable('vomecrty', 'float32', ('time_counter', 'deptht', 'yb', 'xb'), zlib=True);\n",
    "votemper = bdy_file.createVariable('votemper', 'float32', ('time_counter', 'deptht', 'yb', 'xb'), zlib=True);\n",
    "vosaline = bdy_file.createVariable('vosaline', 'float32', ('time_counter', 'deptht', 'yb', 'xb'), zlib=True);\n",
    "\n",
    "vozocrtx[:] = U_NEMO_south[:,:,:,:];\n",
    "vomecrty[:] = V_NEMO_south[:,:,:,:];\n",
    "votemper[:] = votemper_NEMO_south[:,:,:,:];\n",
    "vosaline[:] = vosaline_NEMO_south[:,:,:,:];\n",
    "deptht[:] = NEMO_depth_T[:];\n",
    "\n",
    "#vozocrtx[:] = vozocrtx[:,:,::-1,:];### This is done because NEMO reads the file the other way around\n",
    "#vomecrty[:] = vomecrty[:,:,::-1,:];\n",
    "#votemper[:] = votemper[:,:,::-1,:];\n",
    "#vosaline[:] = vosaline[:,:,::-1,:];\n",
    "\n",
    "\n",
    "bdy_file.close()"
   ]
  },
  {
   "cell_type": "code",
   "execution_count": null,
   "metadata": {
    "collapsed": false
   },
   "outputs": [],
   "source": []
  },
  {
   "cell_type": "code",
   "execution_count": null,
   "metadata": {
    "collapsed": false
   },
   "outputs": [],
   "source": []
  },
  {
   "cell_type": "code",
   "execution_count": null,
   "metadata": {
    "collapsed": false
   },
   "outputs": [],
   "source": [
    "plt.plot(vosaline_NEMO_south[0,:,3,40], NEMO_depth_T)"
   ]
  },
  {
   "cell_type": "code",
   "execution_count": null,
   "metadata": {
    "collapsed": false
   },
   "outputs": [],
   "source": [
    "plt.plot(votemper_NEMO_south[0,:,3,39], NEMO_depth_T)"
   ]
  },
  {
   "cell_type": "code",
   "execution_count": null,
   "metadata": {
    "collapsed": false
   },
   "outputs": [],
   "source": [
    "plt.plot(vosaline_NEMO_south[0,:,3,35], NEMO_depth_T)"
   ]
  },
  {
   "cell_type": "code",
   "execution_count": null,
   "metadata": {
    "collapsed": false
   },
   "outputs": [],
   "source": [
    "vosaline_NEMO_south[0,14,3,39]"
   ]
  },
  {
   "cell_type": "markdown",
   "metadata": {
    "collapsed": false
   },
   "source": [
    "for a in range(vosaline_NEMO_south.shape[0]):\n",
    "    for i in range(vosaline_NEMO_south.shape[1]):\n",
    "        for p in range(vosaline_NEMO_south.shape[2]):\n",
    "            for q in range(vosaline_NEMO_south.shape[3]):\n",
    "                if vosaline_NEMO_south[a,i,p,q] == 0:\n",
    "                    vosaline_NEMO_south[a,i,p,q] = vosaline_NEMO_south[a,np.argmin(vosaline_NEMO_south[a,:,p,q])-1,p,q]\n",
    "                    #print(vosaline_NEMO_south[a,i,p,q])\n",
    "                else:\n",
    "                    continue"
   ]
  },
  {
   "cell_type": "code",
   "execution_count": null,
   "metadata": {
    "collapsed": false
   },
   "outputs": [],
   "source": [
    "np.min(vosaline_NEMO_south[0,:,3,:])"
   ]
  },
  {
   "cell_type": "code",
   "execution_count": null,
   "metadata": {
    "collapsed": false
   },
   "outputs": [],
   "source": [
    "np.argmin(vosaline_NEMO_south[0,:,3,40])"
   ]
  },
  {
   "cell_type": "code",
   "execution_count": null,
   "metadata": {
    "collapsed": false
   },
   "outputs": [],
   "source": [
    "vosaline_NEMO_south[0,:,3,40]"
   ]
  },
  {
   "cell_type": "code",
   "execution_count": null,
   "metadata": {
    "collapsed": false
   },
   "outputs": [],
   "source": []
  },
  {
   "cell_type": "code",
   "execution_count": null,
   "metadata": {
    "collapsed": false
   },
   "outputs": [],
   "source": [
    "np.nonzero(vosaline_NEMO_south[0,:,3,:])"
   ]
  },
  {
   "cell_type": "code",
   "execution_count": null,
   "metadata": {
    "collapsed": false
   },
   "outputs": [],
   "source": []
  },
  {
   "cell_type": "code",
   "execution_count": null,
   "metadata": {
    "collapsed": false
   },
   "outputs": [],
   "source": []
  },
  {
   "cell_type": "code",
   "execution_count": null,
   "metadata": {
    "collapsed": false
   },
   "outputs": [],
   "source": []
  },
  {
   "cell_type": "code",
   "execution_count": null,
   "metadata": {
    "collapsed": false
   },
   "outputs": [],
   "source": []
  },
  {
   "cell_type": "code",
   "execution_count": null,
   "metadata": {
    "collapsed": false
   },
   "outputs": [],
   "source": []
  },
  {
   "cell_type": "code",
   "execution_count": null,
   "metadata": {
    "collapsed": false
   },
   "outputs": [],
   "source": []
  },
  {
   "cell_type": "code",
   "execution_count": null,
   "metadata": {
    "collapsed": false
   },
   "outputs": [],
   "source": [
    "vosaline_NEMO_south[0,:,3,38]"
   ]
  },
  {
   "cell_type": "code",
   "execution_count": null,
   "metadata": {
    "collapsed": false
   },
   "outputs": [],
   "source": [
    "np.where(vosaline_NEMO_south[0,:,3,:] == 0)"
   ]
  },
  {
   "cell_type": "code",
   "execution_count": null,
   "metadata": {
    "collapsed": false
   },
   "outputs": [],
   "source": [
    "NEMO_depth_T[3]"
   ]
  },
  {
   "cell_type": "code",
   "execution_count": null,
   "metadata": {
    "collapsed": false
   },
   "outputs": [],
   "source": [
    "np.max(vosaline_NEMO_south[0,:,3,38]-vosaline_NEMO_south[0,:,3,40])"
   ]
  },
  {
   "cell_type": "code",
   "execution_count": null,
   "metadata": {
    "collapsed": false
   },
   "outputs": [],
   "source": [
    "np.argmax(vosaline_NEMO_south[0,:,3,38]-vosaline_NEMO_south[0,:,3,40])"
   ]
  },
  {
   "cell_type": "code",
   "execution_count": null,
   "metadata": {
    "collapsed": false
   },
   "outputs": [],
   "source": [
    "np.min(vosaline_NEMO_south[0,:,3,38]-vosaline_NEMO_south[0,:,3,40])"
   ]
  },
  {
   "cell_type": "code",
   "execution_count": null,
   "metadata": {
    "collapsed": false
   },
   "outputs": [],
   "source": [
    "np.argmin(vosaline_NEMO_south[0,:,3,38]-vosaline_NEMO_south[0,:,3,40])"
   ]
  },
  {
   "cell_type": "markdown",
   "metadata": {
    "collapsed": true
   },
   "source": [
    "reset_selective vosaline_NEMO_south"
   ]
  },
  {
   "cell_type": "code",
   "execution_count": null,
   "metadata": {
    "collapsed": false
   },
   "outputs": [],
   "source": [
    "np.min(vosaline_NEMO_south[0,:,3,40])"
   ]
  },
  {
   "cell_type": "code",
   "execution_count": null,
   "metadata": {
    "collapsed": true
   },
   "outputs": [],
   "source": [
    "for a in range(vosaline_NEMO_south.shape[0]):\n",
    "    for i in range(4,vosaline_NEMO_south.shape[1]):\n",
    "        for p in range(vosaline_NEMO_south.shape[2]):\n",
    "            for q in range(vosaline_NEMO_south.shape[3]):\n",
    "                if vosaline_NEMO_south[a,i,p,q] < vosaline_NEMO_south[a,i-1,p,q]:\n",
    "                    vosaline_NEMO_south[a,i,p,q] = vosaline_NEMO_south[a,i-1,p,q]\n",
    "                    #print(vosaline_NEMO_south[a,i,p,q])\n",
    "                else:\n",
    "                    continue"
   ]
  },
  {
   "cell_type": "code",
   "execution_count": null,
   "metadata": {
    "collapsed": false
   },
   "outputs": [],
   "source": [
    "depth_JP_T[10]"
   ]
  },
  {
   "cell_type": "code",
   "execution_count": null,
   "metadata": {
    "collapsed": false
   },
   "outputs": [],
   "source": [
    "NEMO_depth_T[1]"
   ]
  },
  {
   "cell_type": "markdown",
   "metadata": {
    "collapsed": true
   },
   "source": []
  }
 ],
 "metadata": {
  "anaconda-cloud": {},
  "kernelspec": {
   "display_name": "Python [conda root]",
   "language": "python",
   "name": "conda-root-py"
  },
  "language_info": {
   "codemirror_mode": {
    "name": "ipython",
    "version": 3
   },
   "file_extension": ".py",
   "mimetype": "text/x-python",
   "name": "python",
   "nbconvert_exporter": "python",
   "pygments_lexer": "ipython3",
   "version": "3.5.2"
  }
 },
 "nbformat": 4,
 "nbformat_minor": 1
}
