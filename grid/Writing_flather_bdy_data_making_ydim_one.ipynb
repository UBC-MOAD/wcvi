{
 "cells": [
  {
   "cell_type": "code",
   "execution_count": 1,
   "metadata": {
    "collapsed": false
   },
   "outputs": [
    {
     "name": "stderr",
     "output_type": "stream",
     "text": [
      "/home/ssahu/anaconda3/lib/python3.5/site-packages/xarray/conventions.py:9: FutureWarning: The pandas.tslib module is deprecated and will be removed in a future version.\n",
      "  from pandas.tslib import OutOfBoundsDatetime\n"
     ]
    }
   ],
   "source": [
    "%matplotlib inline\n",
    "import matplotlib.pyplot as plt\n",
    "import numpy as np\n",
    "import netCDF4 as nc\n",
    "import xarray as xr\n",
    "import matplotlib.cm as cm\n",
    "from scipy.interpolate import interp1d\n",
    "from salishsea_tools import (nc_tools, gsw_calls,viz_tools)"
   ]
  },
  {
   "cell_type": "code",
   "execution_count": 9,
   "metadata": {
    "collapsed": true
   },
   "outputs": [],
   "source": [
    "west_bdy_2d = nc.Dataset('/ocean/ssahu/CANYONS/bdy_files/2d_west_twoless_m04.nc');"
   ]
  },
  {
   "cell_type": "code",
   "execution_count": 10,
   "metadata": {
    "collapsed": false
   },
   "outputs": [
    {
     "name": "stdout",
     "output_type": "stream",
     "text": [
      "odict_keys(['xbT', 'yb', 'time_counter', 'sossheig', 'vobtcrtx', 'vobtcrty'])\n"
     ]
    }
   ],
   "source": [
    "nc_tools.show_variables(west_bdy_2d)"
   ]
  },
  {
   "cell_type": "code",
   "execution_count": 12,
   "metadata": {
    "collapsed": false
   },
   "outputs": [
    {
     "name": "stdout",
     "output_type": "stream",
     "text": [
      "(43, 98) (43, 98)\n"
     ]
    }
   ],
   "source": [
    "sossheig_full = west_bdy_2d.variables['sossheig'][:,0,:];\n",
    "vobtcrtx_full = west_bdy_2d.variables['vobtcrtx'][:,0,:];\n",
    "vobtcrty_full = west_bdy_2d.variables['vobtcrtx'][:,0,:];\n",
    "\n",
    "\n",
    "print(vobtcrtx_full.shape, sossheig_full.shape)"
   ]
  },
  {
   "cell_type": "code",
   "execution_count": 13,
   "metadata": {
    "collapsed": false
   },
   "outputs": [
    {
     "name": "stdout",
     "output_type": "stream",
     "text": [
      "(43, 1, 98)\n"
     ]
    }
   ],
   "source": [
    "bdy_file = nc.Dataset('/ocean/ssahu/CANYONS/bdy_files/2d_west_flather_twoless_m04.nc', 'w', zlib=True);\n",
    "\n",
    "bdy_file.createDimension('xbT', sossheig_full.shape[1]);\n",
    "bdy_file.createDimension('yb', 1);\n",
    "bdy_file.createDimension('time_counter', None);\n",
    "\n",
    "xbT = bdy_file.createVariable('xbT', 'int32', ('xbT',), zlib=True);\n",
    "xbT.units = 'indices';\n",
    "xbT.longname = 'indices along left boundary';\n",
    "\n",
    "yb = bdy_file.createVariable('yb', 'int32', ('yb',), zlib=True);\n",
    "yb.units = 'indices';\n",
    "yb.longname = 'a strip of indices across all of left boundary';\n",
    "\n",
    "time_counter = bdy_file.createVariable('time_counter', 'int32', ('time_counter',), zlib=True);\n",
    "time_counter.units = 's';\n",
    "time_counter.longname = 'time';\n",
    "\n",
    "sossheig = bdy_file.createVariable('sossheig', 'float32', ('time_counter', 'yb', 'xbT'), zlib=True);\n",
    "vobtcrtx = bdy_file.createVariable('vobtcrtx', 'float32', ('time_counter', 'yb', 'xbT'), zlib=True);\n",
    "vobtcrty = bdy_file.createVariable('vobtcrty', 'float32', ('time_counter', 'yb', 'xbT'), zlib=True);\n",
    "\n",
    "\n",
    "sossheig[:,0,:] = sossheig_full[...];\n",
    "vobtcrtx[:,0,:] = vobtcrtx_full[...];\n",
    "vobtcrty[:,0,:] = vobtcrty_full[...];\n",
    "\n",
    "print(sossheig.shape)\n",
    "\n",
    "bdy_file.close()"
   ]
  },
  {
   "cell_type": "code",
   "execution_count": 2,
   "metadata": {
    "collapsed": false
   },
   "outputs": [],
   "source": [
    "north_bdy_2d = nc.Dataset('/ocean/ssahu/CANYONS/bdy_files/2d_north_twoless_m04.nc');"
   ]
  },
  {
   "cell_type": "code",
   "execution_count": 3,
   "metadata": {
    "collapsed": false
   },
   "outputs": [
    {
     "name": "stdout",
     "output_type": "stream",
     "text": [
      "(43, 68) (43, 68)\n"
     ]
    }
   ],
   "source": [
    "sossheig_full = north_bdy_2d.variables['sossheig'][:,0,:];\n",
    "vobtcrtx_full = north_bdy_2d.variables['vobtcrtx'][:,0,:];\n",
    "vobtcrty_full = north_bdy_2d.variables['vobtcrtx'][:,0,:];\n",
    "\n",
    "\n",
    "print(vobtcrtx_full.shape, sossheig_full.shape)"
   ]
  },
  {
   "cell_type": "code",
   "execution_count": 4,
   "metadata": {
    "collapsed": false
   },
   "outputs": [
    {
     "name": "stdout",
     "output_type": "stream",
     "text": [
      "(43, 1, 68)\n"
     ]
    }
   ],
   "source": [
    "bdy_file = nc.Dataset('/ocean/ssahu/CANYONS/bdy_files/2d_north_flather_twoless_m04.nc', 'w', zlib=True);\n",
    "\n",
    "bdy_file.createDimension('xbT', sossheig_full.shape[1]);\n",
    "bdy_file.createDimension('yb', 1);\n",
    "bdy_file.createDimension('time_counter', None);\n",
    "\n",
    "xbT = bdy_file.createVariable('xbT', 'int32', ('xbT',), zlib=True);\n",
    "xbT.units = 'indices';\n",
    "xbT.longname = 'indices along north boundary';\n",
    "\n",
    "yb = bdy_file.createVariable('yb', 'int32', ('yb',), zlib=True);\n",
    "yb.units = 'indices';\n",
    "yb.longname = 'a strip of indices across all of south boundary';\n",
    "\n",
    "time_counter = bdy_file.createVariable('time_counter', 'int32', ('time_counter',), zlib=True);\n",
    "time_counter.units = 's';\n",
    "time_counter.longname = 'time';\n",
    "\n",
    "sossheig = bdy_file.createVariable('sossheig', 'float32', ('time_counter', 'yb', 'xbT'), zlib=True);\n",
    "vobtcrtx = bdy_file.createVariable('vobtcrtx', 'float32', ('time_counter', 'yb', 'xbT'), zlib=True);\n",
    "vobtcrty = bdy_file.createVariable('vobtcrty', 'float32', ('time_counter', 'yb', 'xbT'), zlib=True);\n",
    "\n",
    "\n",
    "sossheig[:,0,:] = sossheig_full[...];\n",
    "vobtcrtx[:,0,:] = vobtcrtx_full[...];\n",
    "vobtcrty[:,0,:] = vobtcrty_full[...];\n",
    "\n",
    "print(sossheig.shape)\n",
    "\n",
    "bdy_file.close()"
   ]
  },
  {
   "cell_type": "code",
   "execution_count": 2,
   "metadata": {
    "collapsed": true
   },
   "outputs": [],
   "source": [
    "right_bdy_2d = nc.Dataset('/ocean/ssahu/CANYONS/bdy_files/2d_right_twoless_m04.nc');"
   ]
  },
  {
   "cell_type": "code",
   "execution_count": 7,
   "metadata": {
    "collapsed": false
   },
   "outputs": [
    {
     "name": "stdout",
     "output_type": "stream",
     "text": [
      "(43, 98) (43, 98)\n"
     ]
    }
   ],
   "source": [
    "sossheig_full = right_bdy_2d.variables['sossheig'][:,0,:];\n",
    "vobtcrtx_full = right_bdy_2d.variables['vobtcrtx'][:,0,:];\n",
    "vobtcrty_full = right_bdy_2d.variables['vobtcrtx'][:,0,:];\n",
    "\n",
    "\n",
    "print(vobtcrtx_full.shape, sossheig_full.shape)"
   ]
  },
  {
   "cell_type": "code",
   "execution_count": 8,
   "metadata": {
    "collapsed": false
   },
   "outputs": [
    {
     "name": "stdout",
     "output_type": "stream",
     "text": [
      "(43, 1, 98)\n"
     ]
    }
   ],
   "source": [
    "bdy_file = nc.Dataset('/ocean/ssahu/CANYONS/bdy_files/2d_right_flather_twoless_m04.nc', 'w', zlib=True);\n",
    "\n",
    "bdy_file.createDimension('xbT', sossheig_full.shape[1]);\n",
    "bdy_file.createDimension('yb', 1);\n",
    "bdy_file.createDimension('time_counter', None);\n",
    "\n",
    "xbT = bdy_file.createVariable('xbT', 'int32', ('xbT',), zlib=True);\n",
    "xbT.units = 'indices';\n",
    "xbT.longname = 'indices along right boundary';\n",
    "\n",
    "yb = bdy_file.createVariable('yb', 'int32', ('yb',), zlib=True);\n",
    "yb.units = 'indices';\n",
    "yb.longname = 'a strip of indices across all of right boundary';\n",
    "\n",
    "time_counter = bdy_file.createVariable('time_counter', 'int32', ('time_counter',), zlib=True);\n",
    "time_counter.units = 's';\n",
    "time_counter.longname = 'time';\n",
    "\n",
    "sossheig = bdy_file.createVariable('sossheig', 'float32', ('time_counter', 'yb', 'xbT'), zlib=True);\n",
    "vobtcrtx = bdy_file.createVariable('vobtcrtx', 'float32', ('time_counter', 'yb', 'xbT'), zlib=True);\n",
    "vobtcrty = bdy_file.createVariable('vobtcrty', 'float32', ('time_counter', 'yb', 'xbT'), zlib=True);\n",
    "\n",
    "\n",
    "sossheig[:,0,:] = sossheig_full[...];\n",
    "vobtcrtx[:,0,:] = vobtcrtx_full[...];\n",
    "vobtcrty[:,0,:] = vobtcrty_full[...];\n",
    "\n",
    "print(sossheig.shape)\n",
    "\n",
    "bdy_file.close()"
   ]
  },
  {
   "cell_type": "code",
   "execution_count": 5,
   "metadata": {
    "collapsed": false
   },
   "outputs": [],
   "source": [
    "south_bdy_2d = nc.Dataset('/ocean/ssahu/CANYONS/bdy_files/2d_south_twoless_m04.nc');"
   ]
  },
  {
   "cell_type": "code",
   "execution_count": 6,
   "metadata": {
    "collapsed": false
   },
   "outputs": [
    {
     "name": "stdout",
     "output_type": "stream",
     "text": [
      "(43, 68) (43, 68)\n"
     ]
    }
   ],
   "source": [
    "sossheig_full = south_bdy_2d.variables['sossheig'][:,0,:];\n",
    "vobtcrtx_full = south_bdy_2d.variables['vobtcrtx'][:,0,:];\n",
    "vobtcrty_full = south_bdy_2d.variables['vobtcrtx'][:,0,:];\n",
    "\n",
    "\n",
    "print(vobtcrtx_full.shape, sossheig_full.shape)"
   ]
  },
  {
   "cell_type": "code",
   "execution_count": 10,
   "metadata": {
    "collapsed": false
   },
   "outputs": [
    {
     "name": "stdout",
     "output_type": "stream",
     "text": [
      "(43, 1, 68)\n"
     ]
    }
   ],
   "source": [
    "bdy_file = nc.Dataset('/ocean/ssahu/CANYONS/bdy_files/2d_south_flather_twoless_m04.nc', 'w', zlib=True);\n",
    "\n",
    "bdy_file.createDimension('xbT', sossheig_full.shape[1]);\n",
    "bdy_file.createDimension('yb', 1);\n",
    "bdy_file.createDimension('time_counter', None);\n",
    "\n",
    "xbT = bdy_file.createVariable('xbT', 'int32', ('xbT',), zlib=True);\n",
    "xbT.units = 'indices';\n",
    "xbT.longname = 'indices along south boundary';\n",
    "\n",
    "yb = bdy_file.createVariable('yb', 'int32', ('yb',), zlib=True);\n",
    "yb.units = 'indices';\n",
    "yb.longname = 'a strip of indices across all of south boundary';\n",
    "\n",
    "time_counter = bdy_file.createVariable('time_counter', 'int32', ('time_counter',), zlib=True);\n",
    "time_counter.units = 's';\n",
    "time_counter.longname = 'time';\n",
    "\n",
    "sossheig = bdy_file.createVariable('sossheig', 'float32', ('time_counter', 'yb', 'xbT'), zlib=True);\n",
    "vobtcrtx = bdy_file.createVariable('vobtcrtx', 'float32', ('time_counter', 'yb', 'xbT'), zlib=True);\n",
    "vobtcrty = bdy_file.createVariable('vobtcrty', 'float32', ('time_counter', 'yb', 'xbT'), zlib=True);\n",
    "\n",
    "\n",
    "sossheig[:,0,:] = sossheig_full[...];\n",
    "vobtcrtx[:,0,:] = vobtcrtx_full[...];\n",
    "vobtcrty[:,0,:] = vobtcrty_full[...];\n",
    "\n",
    "print(sossheig.shape)\n",
    "\n",
    "bdy_file.close()"
   ]
  },
  {
   "cell_type": "code",
   "execution_count": null,
   "metadata": {
    "collapsed": true
   },
   "outputs": [],
   "source": []
  }
 ],
 "metadata": {
  "anaconda-cloud": {},
  "kernelspec": {
   "display_name": "Python [conda root]",
   "language": "python",
   "name": "conda-root-py"
  },
  "language_info": {
   "codemirror_mode": {
    "name": "ipython",
    "version": 3
   },
   "file_extension": ".py",
   "mimetype": "text/x-python",
   "name": "python",
   "nbconvert_exporter": "python",
   "pygments_lexer": "ipython3",
   "version": "3.5.2"
  }
 },
 "nbformat": 4,
 "nbformat_minor": 1
}
