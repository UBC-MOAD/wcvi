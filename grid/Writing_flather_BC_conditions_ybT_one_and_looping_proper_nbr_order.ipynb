{
 "cells": [
  {
   "cell_type": "code",
   "execution_count": 1,
   "metadata": {
    "collapsed": false
   },
   "outputs": [
    {
     "name": "stderr",
     "output_type": "stream",
     "text": [
      "/home/ssahu/anaconda3/lib/python3.5/site-packages/xarray/conventions.py:9: FutureWarning: The pandas.tslib module is deprecated and will be removed in a future version.\n",
      "  from pandas.tslib import OutOfBoundsDatetime\n"
     ]
    }
   ],
   "source": [
    "%matplotlib inline\n",
    "import matplotlib.pyplot as plt\n",
    "import numpy as np\n",
    "import netCDF4 as nc\n",
    "import xarray as xr\n",
    "import matplotlib.cm as cm\n",
    "from scipy.interpolate import interp1d\n",
    "from salishsea_tools import (nc_tools, gsw_calls,viz_tools)"
   ]
  },
  {
   "cell_type": "code",
   "execution_count": 2,
   "metadata": {
    "collapsed": true
   },
   "outputs": [],
   "source": [
    "west_bdy_2d = nc.Dataset('/ocean/ssahu/CANYONS/bdy_files/2d_west_twoless_m04.nc');"
   ]
  },
  {
   "cell_type": "code",
   "execution_count": 3,
   "metadata": {
    "collapsed": false
   },
   "outputs": [
    {
     "name": "stdout",
     "output_type": "stream",
     "text": [
      "odict_keys(['xbT', 'yb', 'time_counter', 'sossheig', 'vobtcrtx', 'vobtcrty'])\n"
     ]
    }
   ],
   "source": [
    "nc_tools.show_variables(west_bdy_2d)"
   ]
  },
  {
   "cell_type": "code",
   "execution_count": 4,
   "metadata": {
    "collapsed": false
   },
   "outputs": [
    {
     "name": "stdout",
     "output_type": "stream",
     "text": [
      "(43, 4, 98) (43, 4, 98)\n",
      "(43, 1, 392)\n"
     ]
    }
   ],
   "source": [
    "sossheig_full = west_bdy_2d.variables['sossheig'][:,:,:];\n",
    "vobtcrtx_full = west_bdy_2d.variables['vobtcrtx'][:,:,:];\n",
    "vobtcrty_full = west_bdy_2d.variables['vobtcrtx'][:,:,:];\n",
    "\n",
    "\n",
    "print(vobtcrtx_full.shape, sossheig_full.shape)\n",
    "\n",
    "\n",
    "\n",
    "Nt = sossheig_full.shape[0]\n",
    "Ny = sossheig_full.shape[1]\n",
    "Nx = sossheig_full.shape[2]\n",
    "\n",
    "sossheig_new = np.reshape(a=sossheig_full, newshape= (Nt,1,Nx*Ny))\n",
    "vobtcrtx_new = np.reshape(a=vobtcrtx_full, newshape= (Nt,1,Nx*Ny))\n",
    "vobtcrty_new = np.reshape(a=vobtcrty_full, newshape= (Nt,1,Nx*Ny))\n",
    "\n",
    "print(sossheig_new.shape)"
   ]
  },
  {
   "cell_type": "code",
   "execution_count": 5,
   "metadata": {
    "collapsed": false
   },
   "outputs": [
    {
     "name": "stdout",
     "output_type": "stream",
     "text": [
      "(43, 1, 392)\n"
     ]
    }
   ],
   "source": [
    "bdy_file = nc.Dataset('/ocean/ssahu/CANYONS/bdy_files/2d_west_flather_yBT_looped_twoless_m04.nc', 'w', zlib=True);\n",
    "\n",
    "bdy_file.createDimension('xbT', sossheig_new.shape[2]);\n",
    "bdy_file.createDimension('yb', 1);\n",
    "bdy_file.createDimension('time_counter', None);\n",
    "\n",
    "xbT = bdy_file.createVariable('xbT', 'int32', ('xbT',), zlib=True);\n",
    "xbT.units = 'indices';\n",
    "xbT.longname = 'indices along left boundary ordered from outwards to inside (increasing nbr)';\n",
    "\n",
    "yb = bdy_file.createVariable('yb', 'int32', ('yb',), zlib=True);\n",
    "yb.units = 'indices';\n",
    "yb.longname = 'a strip of indices across all of left boundary';\n",
    "\n",
    "time_counter = bdy_file.createVariable('time_counter', 'int32', ('time_counter',), zlib=True);\n",
    "time_counter.units = 's';\n",
    "time_counter.longname = 'time';\n",
    "\n",
    "sossheig = bdy_file.createVariable('sossheig', 'float32', ('time_counter', 'yb', 'xbT'), zlib=True);\n",
    "vobtcrtx = bdy_file.createVariable('vobtcrtx', 'float32', ('time_counter', 'yb', 'xbT'), zlib=True);\n",
    "vobtcrty = bdy_file.createVariable('vobtcrty', 'float32', ('time_counter', 'yb', 'xbT'), zlib=True);\n",
    "\n",
    "\n",
    "sossheig[...] = sossheig_new[...];\n",
    "vobtcrtx[...] = vobtcrtx_new[...];\n",
    "vobtcrty[...] = vobtcrty_new[...];\n",
    "\n",
    "print(sossheig.shape)\n",
    "\n",
    "bdy_file.close()"
   ]
  },
  {
   "cell_type": "markdown",
   "metadata": {},
   "source": [
    "### The west and the South strips are alright but we need to flip the arrays for the north and the east beacuse the sliced sections need to be arranged according to the increasing order of nbr (outwards to inner in the bdy data files for nemo inputs)"
   ]
  },
  {
   "cell_type": "code",
   "execution_count": 6,
   "metadata": {
    "collapsed": true
   },
   "outputs": [],
   "source": [
    "north_bdy_2d = nc.Dataset('/ocean/ssahu/CANYONS/bdy_files/2d_north_twoless_m04.nc');"
   ]
  },
  {
   "cell_type": "code",
   "execution_count": 7,
   "metadata": {
    "collapsed": false
   },
   "outputs": [
    {
     "name": "stdout",
     "output_type": "stream",
     "text": [
      "(43, 4, 68) (43, 4, 68)\n",
      "(43, 1, 272)\n"
     ]
    }
   ],
   "source": [
    "sossheig_full = north_bdy_2d.variables['sossheig'][:,:,:];\n",
    "vobtcrtx_full = north_bdy_2d.variables['vobtcrtx'][:,:,:];\n",
    "vobtcrty_full = north_bdy_2d.variables['vobtcrtx'][:,:,:];\n",
    "\n",
    "\n",
    "print(vobtcrtx_full.shape, sossheig_full.shape)\n",
    "\n",
    "Nt = sossheig_full.shape[0]\n",
    "Ny = sossheig_full.shape[1]\n",
    "Nx = sossheig_full.shape[2]\n",
    "\n",
    "sossheig_flipped = np.flip(sossheig_full, axis=1)\n",
    "vobtcrtx_flipped = np.flip(vobtcrtx_full, axis=1)\n",
    "vobtcrty_flipped = np.flip(vobtcrty_full, axis=1)\n",
    "\n",
    "sossheig_new = np.reshape(a=sossheig_flipped, newshape= (Nt,1,Nx*Ny))\n",
    "vobtcrtx_new = np.reshape(a=vobtcrtx_flipped, newshape= (Nt,1,Nx*Ny))\n",
    "vobtcrty_new = np.reshape(a=vobtcrty_flipped, newshape= (Nt,1,Nx*Ny))\n",
    "\n",
    "print(sossheig_new.shape)"
   ]
  },
  {
   "cell_type": "code",
   "execution_count": 8,
   "metadata": {
    "collapsed": false
   },
   "outputs": [
    {
     "name": "stdout",
     "output_type": "stream",
     "text": [
      "(43, 1, 272)\n"
     ]
    }
   ],
   "source": [
    "bdy_file = nc.Dataset('/ocean/ssahu/CANYONS/bdy_files/2d_north_flather_yBT_looped_twoless_m04.nc', 'w', zlib=True);\n",
    "\n",
    "bdy_file.createDimension('xbT', sossheig_new.shape[2]);\n",
    "bdy_file.createDimension('yb', 1);\n",
    "bdy_file.createDimension('time_counter', None);\n",
    "\n",
    "xbT = bdy_file.createVariable('xbT', 'int32', ('xbT',), zlib=True);\n",
    "xbT.units = 'indices';\n",
    "xbT.longname = 'indices along north boundary ordered from outwards to inside (increasing nbr)';\n",
    "\n",
    "yb = bdy_file.createVariable('yb', 'int32', ('yb',), zlib=True);\n",
    "yb.units = 'indices';\n",
    "yb.longname = 'a strip of indices across all of north boundary';\n",
    "\n",
    "time_counter = bdy_file.createVariable('time_counter', 'int32', ('time_counter',), zlib=True);\n",
    "time_counter.units = 's';\n",
    "time_counter.longname = 'time';\n",
    "\n",
    "sossheig = bdy_file.createVariable('sossheig', 'float32', ('time_counter', 'yb', 'xbT'), zlib=True);\n",
    "vobtcrtx = bdy_file.createVariable('vobtcrtx', 'float32', ('time_counter', 'yb', 'xbT'), zlib=True);\n",
    "vobtcrty = bdy_file.createVariable('vobtcrty', 'float32', ('time_counter', 'yb', 'xbT'), zlib=True);\n",
    "\n",
    "\n",
    "sossheig[...] = sossheig_new[...];\n",
    "vobtcrtx[...] = vobtcrtx_new[...];\n",
    "vobtcrty[...] = vobtcrty_new[...];\n",
    "\n",
    "print(sossheig.shape)\n",
    "\n",
    "bdy_file.close()"
   ]
  },
  {
   "cell_type": "code",
   "execution_count": 9,
   "metadata": {
    "collapsed": true
   },
   "outputs": [],
   "source": [
    "right_bdy_2d = nc.Dataset('/ocean/ssahu/CANYONS/bdy_files/2d_right_twoless_m04.nc');"
   ]
  },
  {
   "cell_type": "code",
   "execution_count": 10,
   "metadata": {
    "collapsed": false
   },
   "outputs": [
    {
     "name": "stdout",
     "output_type": "stream",
     "text": [
      "(43, 4, 98) (43, 4, 98)\n",
      "(43, 1, 392)\n"
     ]
    }
   ],
   "source": [
    "sossheig_full = right_bdy_2d.variables['sossheig'][:,:,:];\n",
    "vobtcrtx_full = right_bdy_2d.variables['vobtcrtx'][:,:,:];\n",
    "vobtcrty_full = right_bdy_2d.variables['vobtcrtx'][:,:,:];\n",
    "\n",
    "\n",
    "print(vobtcrtx_full.shape, sossheig_full.shape)\n",
    "\n",
    "\n",
    "Nt = sossheig_full.shape[0]\n",
    "Ny = sossheig_full.shape[1]\n",
    "Nx = sossheig_full.shape[2]\n",
    "\n",
    "sossheig_flipped = np.flip(sossheig_full, axis=1)\n",
    "vobtcrtx_flipped = np.flip(vobtcrtx_full, axis=1)\n",
    "vobtcrty_flipped = np.flip(vobtcrty_full, axis=1)\n",
    "\n",
    "sossheig_new = np.reshape(a=sossheig_flipped, newshape= (Nt,1,Nx*Ny))\n",
    "vobtcrtx_new = np.reshape(a=vobtcrtx_flipped, newshape= (Nt,1,Nx*Ny))\n",
    "vobtcrty_new = np.reshape(a=vobtcrty_flipped, newshape= (Nt,1,Nx*Ny))\n",
    "\n",
    "print(sossheig_new.shape)\n",
    "\n"
   ]
  },
  {
   "cell_type": "code",
   "execution_count": 11,
   "metadata": {
    "collapsed": false
   },
   "outputs": [
    {
     "name": "stdout",
     "output_type": "stream",
     "text": [
      "(43, 1, 392)\n"
     ]
    }
   ],
   "source": [
    "bdy_file = nc.Dataset('/ocean/ssahu/CANYONS/bdy_files/2d_right_flather_yBT_looped_twoless_m04.nc', 'w', zlib=True);\n",
    "\n",
    "bdy_file.createDimension('xbT', sossheig_new.shape[2]);\n",
    "bdy_file.createDimension('yb', 1);\n",
    "bdy_file.createDimension('time_counter', None);\n",
    "\n",
    "xbT = bdy_file.createVariable('xbT', 'int32', ('xbT',), zlib=True);\n",
    "xbT.units = 'indices';\n",
    "xbT.longname = 'indices along right boundary ordered from outwards to inside (increasing nbr)';\n",
    "\n",
    "yb = bdy_file.createVariable('yb', 'int32', ('yb',), zlib=True);\n",
    "yb.units = 'indices';\n",
    "yb.longname = 'a strip of indices across all of right boundary';\n",
    "\n",
    "time_counter = bdy_file.createVariable('time_counter', 'int32', ('time_counter',), zlib=True);\n",
    "time_counter.units = 's';\n",
    "time_counter.longname = 'time';\n",
    "\n",
    "sossheig = bdy_file.createVariable('sossheig', 'float32', ('time_counter', 'yb', 'xbT'), zlib=True);\n",
    "vobtcrtx = bdy_file.createVariable('vobtcrtx', 'float32', ('time_counter', 'yb', 'xbT'), zlib=True);\n",
    "vobtcrty = bdy_file.createVariable('vobtcrty', 'float32', ('time_counter', 'yb', 'xbT'), zlib=True);\n",
    "\n",
    "\n",
    "sossheig[...] = sossheig_new[...];\n",
    "vobtcrtx[...] = vobtcrtx_new[...];\n",
    "vobtcrty[...] = vobtcrty_new[...];\n",
    "\n",
    "print(sossheig.shape)\n",
    "\n",
    "bdy_file.close()"
   ]
  },
  {
   "cell_type": "code",
   "execution_count": 12,
   "metadata": {
    "collapsed": true
   },
   "outputs": [],
   "source": [
    "south_bdy_2d = nc.Dataset('/ocean/ssahu/CANYONS/bdy_files/2d_south_twoless_m04.nc');"
   ]
  },
  {
   "cell_type": "code",
   "execution_count": 13,
   "metadata": {
    "collapsed": false
   },
   "outputs": [
    {
     "name": "stdout",
     "output_type": "stream",
     "text": [
      "(43, 4, 68) (43, 4, 68)\n",
      "(43, 1, 272)\n"
     ]
    }
   ],
   "source": [
    "sossheig_full = south_bdy_2d.variables['sossheig'][:,:,:];\n",
    "vobtcrtx_full = south_bdy_2d.variables['vobtcrtx'][:,:,:];\n",
    "vobtcrty_full = south_bdy_2d.variables['vobtcrtx'][:,:,:];\n",
    "\n",
    "\n",
    "print(vobtcrtx_full.shape, sossheig_full.shape)\n",
    "\n",
    "Nt = sossheig_full.shape[0]\n",
    "Ny = sossheig_full.shape[1]\n",
    "Nx = sossheig_full.shape[2]\n",
    "\n",
    "sossheig_new = np.reshape(a=sossheig_full, newshape= (Nt,1,Nx*Ny))\n",
    "vobtcrtx_new = np.reshape(a=vobtcrtx_full, newshape= (Nt,1,Nx*Ny))\n",
    "vobtcrty_new = np.reshape(a=vobtcrty_full, newshape= (Nt,1,Nx*Ny))\n",
    "\n",
    "print(sossheig_new.shape)\n",
    "\n"
   ]
  },
  {
   "cell_type": "code",
   "execution_count": 14,
   "metadata": {
    "collapsed": false
   },
   "outputs": [
    {
     "name": "stdout",
     "output_type": "stream",
     "text": [
      "(43, 1, 272)\n"
     ]
    }
   ],
   "source": [
    "bdy_file = nc.Dataset('/ocean/ssahu/CANYONS/bdy_files/2d_south_flather_yBT_looped_twoless_m04.nc', 'w', zlib=True);\n",
    "\n",
    "bdy_file.createDimension('xbT', sossheig_new.shape[2]);\n",
    "bdy_file.createDimension('yb', 1);\n",
    "bdy_file.createDimension('time_counter', None);\n",
    "\n",
    "xbT = bdy_file.createVariable('xbT', 'int32', ('xbT',), zlib=True);\n",
    "xbT.units = 'indices';\n",
    "xbT.longname = 'indices along south boundary';\n",
    "\n",
    "yb = bdy_file.createVariable('yb', 'int32', ('yb',), zlib=True);\n",
    "yb.units = 'indices';\n",
    "yb.longname = 'a strip of indices across all of south boundary';\n",
    "\n",
    "time_counter = bdy_file.createVariable('time_counter', 'int32', ('time_counter',), zlib=True);\n",
    "time_counter.units = 's';\n",
    "time_counter.longname = 'time';\n",
    "\n",
    "sossheig = bdy_file.createVariable('sossheig', 'float32', ('time_counter', 'yb', 'xbT'), zlib=True);\n",
    "vobtcrtx = bdy_file.createVariable('vobtcrtx', 'float32', ('time_counter', 'yb', 'xbT'), zlib=True);\n",
    "vobtcrty = bdy_file.createVariable('vobtcrty', 'float32', ('time_counter', 'yb', 'xbT'), zlib=True);\n",
    "\n",
    "\n",
    "sossheig[...] = sossheig_new[...];\n",
    "vobtcrtx[...] = vobtcrtx_new[...];\n",
    "vobtcrty[...] = vobtcrty_new[...];\n",
    "\n",
    "print(sossheig.shape)\n",
    "\n",
    "bdy_file.close()"
   ]
  },
  {
   "cell_type": "code",
   "execution_count": null,
   "metadata": {
    "collapsed": true
   },
   "outputs": [],
   "source": []
  }
 ],
 "metadata": {
  "anaconda-cloud": {},
  "kernelspec": {
   "display_name": "Python [conda root]",
   "language": "python",
   "name": "conda-root-py"
  },
  "language_info": {
   "codemirror_mode": {
    "name": "ipython",
    "version": 3
   },
   "file_extension": ".py",
   "mimetype": "text/x-python",
   "name": "python",
   "nbconvert_exporter": "python",
   "pygments_lexer": "ipython3",
   "version": "3.5.2"
  }
 },
 "nbformat": 4,
 "nbformat_minor": 1
}
