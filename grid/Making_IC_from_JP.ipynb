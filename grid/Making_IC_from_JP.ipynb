{
 "cells": [
  {
   "cell_type": "code",
   "execution_count": 1,
   "metadata": {
    "collapsed": false
   },
   "outputs": [
    {
     "name": "stderr",
     "output_type": "stream",
     "text": [
      "/home/ssahu/anaconda3/lib/python3.5/site-packages/xarray/conventions.py:9: FutureWarning: The pandas.tslib module is deprecated and will be removed in a future version.\n",
      "  from pandas.tslib import OutOfBoundsDatetime\n"
     ]
    }
   ],
   "source": [
    "import numpy as np\n",
    "import netCDF4 as nc\n",
    "import xarray as xr\n",
    "from scipy.interpolate import griddata, interp1d\n",
    "from salishsea_tools import nc_tools,viz_tools\n",
    "import matplotlib.pyplot as plt\n",
    "import matplotlib.cm as cm\n",
    "\n",
    "from fancyimpute import KNN"
   ]
  },
  {
   "cell_type": "code",
   "execution_count": 2,
   "metadata": {
    "collapsed": true
   },
   "outputs": [],
   "source": [
    "fname = '/home/ssahu/saurav/JP_BC/cat_42_days_T.nc';\n",
    "\n",
    "gridT = xr.open_dataset(fname);"
   ]
  },
  {
   "cell_type": "code",
   "execution_count": 3,
   "metadata": {
    "collapsed": false
   },
   "outputs": [
    {
     "data": {
      "text/plain": [
       "<bound method Mapping.keys of <xarray.Dataset>\n",
       "Dimensions:            (bnds: 2, deptht: 50, time_counter: 43, x: 715, y: 1021)\n",
       "Coordinates:\n",
       "  * deptht             (deptht) float32 0.494025 1.54138 2.64567 3.81949 ...\n",
       "  * time_counter       (time_counter) datetime64[ns] 2016-04-01T12:00:00 ...\n",
       "  * y                  (y) int64 0 1 2 3 4 5 6 7 8 9 10 11 12 13 14 15 16 17 ...\n",
       "  * x                  (x) int64 0 1 2 3 4 5 6 7 8 9 10 11 12 13 14 15 16 17 ...\n",
       "  * bnds               (bnds) int64 0 1\n",
       "Data variables:\n",
       "    nav_lon            (y, x) float32 -142.283 -142.256 -142.228 -142.2 ...\n",
       "    nav_lat            (y, x) float32 45.0491 45.0479 45.0467 45.0456 ...\n",
       "    time_counter_bnds  (time_counter, bnds) float64 4.873e+07 4.881e+07 ...\n",
       "    votemper           (time_counter, deptht, y, x) float64 0.0 8.881 8.905 ...\n",
       "    vosaline           (time_counter, deptht, y, x) float64 0.0 33.14 33.13 ...\n",
       "    sosstsst           (time_counter, y, x) float64 0.0 8.881 8.905 8.925 ...\n",
       "    sosaline           (time_counter, y, x) float64 0.0 33.14 33.13 33.12 ...\n",
       "    sossheig           (time_counter, y, x) float64 0.0 -0.01869 -0.01348 ...\n",
       "    sowaflup           (time_counter, y, x) float64 0.0 8.562e-06 8.61e-06 ...\n",
       "    sowaflcd           (time_counter, y, x) float64 0.0 0.0 0.0 0.0 0.0 0.0 ...\n",
       "    sosalflx           (time_counter, y, x) float64 0.0 0.0 0.0 0.0 0.0 0.0 ...\n",
       "    sohefldo           (time_counter, y, x) float64 0.0 100.3 100.1 99.8 ...\n",
       "    soshfldo           (time_counter, y, x) float64 0.0 219.4 219.6 219.7 ...\n",
       "    somxl010           (time_counter, y, x) float64 0.0 5.709 6.333 6.297 ...\n",
       "    somixhgt           (time_counter, y, x) float64 0.0 4.95 4.674 4.623 ...\n",
       "    soicecov           (time_counter, y, x) float64 0.0 0.0 0.0 0.0 0.0 0.0 ...\n",
       "    sohefldp           (time_counter, y, x) float64 0.0 0.0 0.0 0.0 0.0 0.0 ...\n",
       "    sosafldp           (time_counter, y, x) float64 0.0 0.0 0.0 0.0 0.0 0.0 ...\n",
       "    sowafldp           (time_counter, y, x) float64 0.0 0.0 0.0 0.0 0.0 0.0 ...\n",
       "    sobowlin           (y, x) float64 nan 7.0 9.0 9.0 9.0 9.0 9.0 9.0 9.0 ...\n",
       "Attributes:\n",
       "    Conventions: CF-1.1\n",
       "    CDI: Climate Data Interface version 1.7.1 (http://mpimet.mpg.de/cdi)\n",
       "    history: Wed Jul 27 13:01:08 2016: /usr/local/bin/ncrename -O -v lat,nav_lat -v lon,nav_lon /fs/peg/data/rpne/rpnejpp/NEP036/NEP036-N30-OUT/CDF_COMB/NEP036-N30_IN_20160401_00813600_grid_T.nc\n",
       "Wed Jul 27 12:36:59 2016: cdo timmean /fs/peg/data/rpne/rpnejpp/NEP036/NEP036-N30-OUT/DIMG/NEP036-N30_CU60_20160401_20160332_00813600_grid_T_0000.nc /fs/peg/data/rpne/rpnejpp/NEP036/NEP036-N30-OUT/WORKDIR_grid_T_00813600/timmean_grid_T_00813600_0000.nc\n",
       "    file_name: /fs/peg/data/rpne/rpnejpp/NEP036/NEP036-N30-OUT/CDF_COMB/NEP036-N30_IN_20160401_00813600_grid_T.nc\n",
       "    production: An IPSL model\n",
       "    TimeStamp: 2016-JUL-27 10:02:26 GMT-0000\n",
       "    CDO: Climate Data Operators version 1.7.1 (http://mpimet.mpg.de/cdo)>"
      ]
     },
     "execution_count": 3,
     "metadata": {},
     "output_type": "execute_result"
    }
   ],
   "source": [
    "gridT.keys"
   ]
  },
  {
   "cell_type": "code",
   "execution_count": 4,
   "metadata": {
    "collapsed": false
   },
   "outputs": [
    {
     "name": "stdout",
     "output_type": "stream",
     "text": [
      "(50, 345, 255) (50, 345, 255) (50, 345, 255)\n"
     ]
    }
   ],
   "source": [
    "#### Load JP's mask\n",
    "\n",
    "mask = nc.Dataset('/data/mdunphy/NEP036-N30-OUT/INV/mesh_mask.nc');\n",
    "\n",
    "tmask_JP = mask.variables['tmask'][0,:,55:400,446:701];\n",
    "umask_JP = mask.variables['umask'][0,:,55:400,446:701];\n",
    "vmask_JP = mask.variables['vmask'][0,:,55:400,446:701];\n",
    "\n",
    "print(tmask_JP.shape, umask_JP.shape, vmask_JP.shape)"
   ]
  },
  {
   "cell_type": "code",
   "execution_count": 5,
   "metadata": {
    "collapsed": true
   },
   "outputs": [],
   "source": [
    "#### Slice out our domain of WCVI from JP and mask it at the same time saying the zero values as NAN\n",
    "\n",
    "votemper_JP = np.array(gridT['votemper'][0,:,55:400,446:701]);\n",
    "votemper_JP[...] = np.ma.masked_array(votemper_JP[...], mask = tmask_JP[...]);\n",
    "votemper_JP[votemper_JP == 0] =['Nan'];\n",
    "\n",
    "vosaline_JP = np.array(gridT['vosaline'][0,:,55:400,446:701]);\n",
    "vosaline_JP[...] = np.ma.masked_array(vosaline_JP[...], mask = tmask_JP[...]);\n",
    "vosaline_JP[vosaline_JP == 0] = ['Nan'];\n",
    "\n",
    "glamt_bc_JP = np.array(gridT['nav_lon'][55:400,446:701]);\n",
    "gphit_bc_JP = np.array(gridT['nav_lat'][55:400,446:701]);\n",
    "deptht_JP = np.array(gridT['deptht'][:]);"
   ]
  },
  {
   "cell_type": "code",
   "execution_count": 6,
   "metadata": {
    "collapsed": false
   },
   "outputs": [
    {
     "data": {
      "text/plain": [
       "array([ 32.85047913,  32.8494606 ,  32.84786987,  32.84399796,\n",
       "        32.84130096,  32.84194183,  32.8444519 ,  32.84753799,\n",
       "        32.85254669,  32.85647964,  32.8595314 ,  32.86235046,\n",
       "        32.86702728,  32.87555313,  32.88618469,  32.89451218,\n",
       "        32.90081024,  32.90483093,  32.90930176,  32.92013931,\n",
       "        32.95475769,  33.06747437,  33.2415123 ,  33.47072601,\n",
       "        33.66275787,  33.83255005,  33.93229294,  33.96300888,\n",
       "        33.97008896,  33.98950577,  34.0399704 ,  34.10607147,\n",
       "        34.17634964,  34.25790787,  34.33724213,  34.39661026,\n",
       "        34.45060349,  34.49922562,  34.54627991,  34.58870316,\n",
       "        34.61618042,          nan,          nan,          nan,\n",
       "                nan,          nan,          nan,          nan,\n",
       "                nan,          nan])"
      ]
     },
     "execution_count": 6,
     "metadata": {},
     "output_type": "execute_result"
    }
   ],
   "source": [
    "vosaline_JP[:,0,0]"
   ]
  },
  {
   "cell_type": "code",
   "execution_count": null,
   "metadata": {
    "collapsed": false
   },
   "outputs": [
    {
     "name": "stdout",
     "output_type": "stream",
     "text": [
      "(-129.93523, 45.455914) (-127.00188120221485, 46.113550613066906)\n"
     ]
    }
   ],
   "source": [
    "#### Load the WCVI points\n",
    "\n",
    "fname_wcvi = '/ocean/ssahu/CANYONS/wcvi/grid/coordinates.nc'\n",
    "\n",
    "with nc.Dataset(fname_wcvi, 'r') as coord:\n",
    "    gphit_wcvi = coord.variables['gphit'][0,...];\n",
    "    glamt_wcvi =  coord.variables['glamt'][0,...]; \n",
    "    \n",
    "print((glamt_bc_JP[0,0],gphit_bc_JP[0,0]), (glamt_wcvi[0,0],gphit_wcvi[0,0]))"
   ]
  },
  {
   "cell_type": "code",
   "execution_count": null,
   "metadata": {
    "collapsed": false
   },
   "outputs": [],
   "source": [
    "X = glamt_bc_JP.flatten();\n",
    "\n",
    "Y = gphit_bc_JP.flatten();\n",
    "\n",
    "points = (X[:],Y[:]);\n",
    "\n",
    "xi = (glamt_wcvi.flatten(), gphit_wcvi.flatten());\n",
    "\n",
    "votemper_ic = np.zeros((votemper_JP.shape[0], glamt_wcvi.shape[0], glamt_wcvi.shape[1]));\n",
    "vosaline_ic = np.zeros((vosaline_JP.shape[0], glamt_wcvi.shape[0], glamt_wcvi.shape[1]));\n",
    "\n",
    "for i,j in enumerate(votemper_JP[:,...]):\n",
    "    votemper_ic[i,...] = np.reshape(griddata(points, votemper_JP[i,...].flatten(), xi, method= 'linear'), glamt_wcvi.shape)\n",
    "    vosaline_ic[i,...] = np.reshape(griddata(points, vosaline_JP[i,...].flatten(), xi, method= 'linear'), glamt_wcvi.shape)\n",
    "\n"
   ]
  },
  {
   "cell_type": "code",
   "execution_count": null,
   "metadata": {
    "collapsed": false
   },
   "outputs": [],
   "source": [
    "vosaline_ic[:,0,0]"
   ]
  },
  {
   "cell_type": "code",
   "execution_count": null,
   "metadata": {
    "collapsed": false
   },
   "outputs": [],
   "source": [
    "for i,j in enumerate(votemper_ic[:,...]):\n",
    "    votemper_ic[i,...] = KNN(k=3).complete(votemper_ic[i,...]);\n",
    "    vosaline_ic[i,...] = KNN(k=3).complete(vosaline_ic[i,...]);"
   ]
  },
  {
   "cell_type": "code",
   "execution_count": null,
   "metadata": {
    "collapsed": true
   },
   "outputs": [],
   "source": [
    "vosaline_ic[np.where(np.isnan(vosaline_ic))]=0;\n",
    "votemper_ic[np.where(np.isnan(votemper_ic))]=0;"
   ]
  },
  {
   "cell_type": "code",
   "execution_count": null,
   "metadata": {
    "collapsed": false
   },
   "outputs": [],
   "source": [
    "fig, ax = plt.subplots(1, 1, figsize=(10, 8))\n",
    "viz_tools.set_aspect(ax)\n",
    "\n",
    "mesh = ax.pcolormesh(glamt_bc_JP, gphit_bc_JP,votemper_JP[0,...], cmap =cm.ocean)\n",
    "fig.colorbar(mesh)\n",
    "plt.title('Temperature JP sliced to WCVI and masked')\n",
    "plt.show()"
   ]
  },
  {
   "cell_type": "code",
   "execution_count": null,
   "metadata": {
    "collapsed": false
   },
   "outputs": [],
   "source": [
    "fig, ax = plt.subplots(1, 1, figsize=(10, 8))\n",
    "viz_tools.set_aspect(ax)\n",
    "\n",
    "mesh = ax.pcolormesh(glamt_wcvi, gphit_wcvi,votemper_ic[0,...], cmap =cm.ocean)\n",
    "fig.colorbar(mesh)\n",
    "plt.title('Temperature WCVI KNN imputed and after interpolation')\n",
    "plt.show()"
   ]
  },
  {
   "cell_type": "code",
   "execution_count": null,
   "metadata": {
    "collapsed": true
   },
   "outputs": [],
   "source": [
    "for i,j in enumerate(votemper_ic[:,...]):\n",
    "    for p,q in enumerate(votemper_ic[i,:,...]):\n",
    "        for l,m in enumerate(votemper_ic[i,p,:]):\n",
    "            if votemper_ic[i,p,l] == 0:\n",
    "                votemper_ic[i,p,l] = votemper_ic[i-1,p,l]\n",
    "            else:\n",
    "                continue\n",
    "\n",
    "for i,j in enumerate(vosaline_ic[:,...]):\n",
    "    for p,q in enumerate(vosaline_ic[i,:,...]):\n",
    "        for l,m in enumerate(vosaline_ic[i,p,:]):\n",
    "            if vosaline_ic[i,p,l] == 0:\n",
    "                vosaline_ic[i,p,l] = vosaline_ic[i-1,p,l]\n",
    "            else:\n",
    "                continue\n",
    "\n",
    "\n"
   ]
  },
  {
   "cell_type": "code",
   "execution_count": null,
   "metadata": {
    "collapsed": false
   },
   "outputs": [],
   "source": [
    "file_temp = nc.Dataset('/ocean/ssahu/CANYONS/wcvi/initial_conditions/West_coast_temperature_salinity_nomask_JP.nc', 'w', zlib=True)\n",
    "# dataset attributes\n",
    "nc_tools.init_dataset_attrs(\n",
    "    file_temp, \n",
    "    title='Temperature and salinity Initial Condition', \n",
    "    notebook_name='Making_IC_from_JP', \n",
    "    nc_filepath='/ocean/ssahu/CANYONS/wcvi/initial_conditions/West_coast_temperature_salinity_nomask_JP.nc',\n",
    "    comment='Temperature and salinity from JP Model, preliminary_grid; used at all grid points')\n",
    "\n",
    "file_temp.createDimension('xb', votemper_ic.shape[2]);\n",
    "file_temp.createDimension('yb', votemper_ic.shape[1]);\n",
    "file_temp.createDimension('deptht', votemper_ic.shape[0]);\n",
    "file_temp.createDimension('time_counter', None);\n",
    "\n",
    "\n",
    "nav_lat = file_temp.createVariable('nav_lat', 'float32', ('yb','xb'));\n",
    "nav_lat.long_name = 'Latitude';\n",
    "nav_lat.units = 'degrees_north';\n",
    "\n",
    "\n",
    "nav_lon = file_temp.createVariable('nav_lon', 'float32', ('yb','xb'));\n",
    "nav_lon.long_name = 'Longitude';\n",
    "nav_lon.units = 'degrees_east';\n",
    "\n",
    "\n",
    "deptht = file_temp.createVariable('deptht', 'float32', ('deptht'));\n",
    "deptht.long_name = 'Vertical T Levels';\n",
    "deptht.units = 'm';\n",
    "deptht.positive = 'down';\n",
    "\n",
    "\n",
    "time_counter = file_temp.createVariable('time_counter', 'float32', ('time_counter'));\n",
    "time_counter.units = 's';\n",
    "time_counter.long_name = 'time';\n",
    "time_counter.calendar = 'noleap';\n",
    "\n",
    "\n",
    "votemper = file_temp.createVariable('votemper', 'float32', ('time_counter','deptht','yb','xb'));\n",
    "votemper.units = 'degC'\n",
    "votemper.long_name = 'Temperature';\n",
    "votemper.grid = 'WCVI';\n",
    "\n",
    "\n",
    "vosaline = file_temp.createVariable('vosaline', 'float32', ('time_counter','deptht','yb','xb'));\n",
    "vosaline.units = 'PSU';\n",
    "vosaline.long_name = 'Practical Salinity';\n",
    "vosaline.grid = 'WCVI';\n",
    "\n",
    "\n",
    "\n",
    "\n",
    "nav_lat[:] = gphit_wcvi[:];\n",
    "nav_lon[:] = glamt_wcvi[:];\n",
    "deptht[:] = deptht_JP[:];\n",
    "time_counter[0] = 1;\n",
    "votemper[0,:] = votemper_ic[:]\n",
    "vosaline[0,:]= vosaline_ic[:]\n",
    "\n",
    "file_temp.close()\n",
    "\n",
    "\n",
    "\n"
   ]
  },
  {
   "cell_type": "code",
   "execution_count": null,
   "metadata": {
    "collapsed": false
   },
   "outputs": [],
   "source": [
    "votemper_ic[0,...]"
   ]
  },
  {
   "cell_type": "code",
   "execution_count": null,
   "metadata": {
    "collapsed": false
   },
   "outputs": [],
   "source": [
    "np.where(votemper_ic[...] == 0)"
   ]
  },
  {
   "cell_type": "code",
   "execution_count": null,
   "metadata": {
    "collapsed": false
   },
   "outputs": [],
   "source": [
    "deptht.shape"
   ]
  },
  {
   "cell_type": "code",
   "execution_count": null,
   "metadata": {
    "collapsed": false
   },
   "outputs": [],
   "source": [
    "votemper_ic.shape"
   ]
  },
  {
   "cell_type": "markdown",
   "metadata": {},
   "source": [
    "### FIx the zero data points in IC file"
   ]
  },
  {
   "cell_type": "code",
   "execution_count": null,
   "metadata": {
    "collapsed": false
   },
   "outputs": [],
   "source": [
    "for i in np.arange(len(votemper_ic[:,...])):\n",
    "    votemper_ic[np.where(votemper_ic[i,...] == 0)] = votemper_ic[i-1,...];"
   ]
  },
  {
   "cell_type": "code",
   "execution_count": null,
   "metadata": {
    "collapsed": true
   },
   "outputs": [],
   "source": []
  }
 ],
 "metadata": {
  "anaconda-cloud": {},
  "kernelspec": {
   "display_name": "Python [conda root]",
   "language": "python",
   "name": "conda-root-py"
  },
  "language_info": {
   "codemirror_mode": {
    "name": "ipython",
    "version": 3
   },
   "file_extension": ".py",
   "mimetype": "text/x-python",
   "name": "python",
   "nbconvert_exporter": "python",
   "pygments_lexer": "ipython3",
   "version": "3.5.2"
  }
 },
 "nbformat": 4,
 "nbformat_minor": 1
}
