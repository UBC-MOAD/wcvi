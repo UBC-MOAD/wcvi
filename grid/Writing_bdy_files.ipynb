{
 "cells": [
  {
   "cell_type": "code",
   "execution_count": 1,
   "metadata": {
    "collapsed": true
   },
   "outputs": [],
   "source": [
    "import numpy as np\n",
    "import netCDF4 as nc\n",
    "import scipy as sc"
   ]
  },
  {
   "cell_type": "code",
   "execution_count": 2,
   "metadata": {
    "collapsed": false
   },
   "outputs": [
    {
     "name": "stdout",
     "output_type": "stream",
     "text": [
      "bathy_meter.nc\t\t\t      u_unrotated_wcvi_t_3D.npy\r\n",
      "C:\\nppdf32Log\\debuglog.txt\t      u_unrotated_wcvi_t.npy\r\n",
      "coordinates.nc\t\t\t      V_3D_wcvi_bottom.npy\r\n",
      "Detiding.ipynb\t\t\t      V_3D_wcvi_left.npy\r\n",
      "grid_alignment.py\t\t      V_3D_wcvi_right.npy\r\n",
      "Grid_transformation.ipynb\t      V_3D_wcvi_top.npy\r\n",
      "JP_Grid.png\t\t\t      vosaline_bottombc.npy\r\n",
      "Making_IC_from_JP.ipynb\t\t      vosaline_leftbc.npy\r\n",
      "Making_lateral_boundaries.ipynb       vosaline_rightbc.npy\r\n",
      "Plotting_data_over_3_locations.ipynb  vosaline_topbc.npy\r\n",
      "__pycache__\t\t\t      votemper_bottombc.npy\r\n",
      "ssh_bottombc.npy\t\t      votemper_leftbc.npy\r\n",
      "ssh_leftbc.npy\t\t\t      votemper_rightbc.npy\r\n",
      "ssh_rightbc.npy\t\t\t      votemper_topbc.npy\r\n",
      "ssh_topbc.npy\t\t\t      v_unrotated_wcvi_t_3D.npy\r\n",
      "U_3D_wcvi_bottom.npy\t\t      v_unrotated_wcvi_t.npy\r\n",
      "U_3D_wcvi_left.npy\t\t      WCVI_Grid.png\r\n",
      "U_3D_wcvi_right.npy\t\t      WCVI_orthogonality.png\r\n",
      "U_3D_wcvi_top.npy\t\t      Writing_bdy_files.ipynb\r\n"
     ]
    }
   ],
   "source": [
    "!ls"
   ]
  },
  {
   "cell_type": "code",
   "execution_count": 3,
   "metadata": {
    "collapsed": true
   },
   "outputs": [],
   "source": [
    "u_3d_left = np.load('U_3D_wcvi_left.npy'); v_3d_left_oneless = np.load('V_3D_wcvi_left.npy');\n",
    "\n",
    "ssh_left = np.load('ssh_leftbc.npy'); \n",
    "\n",
    "votemper_left = np.load('votemper_leftbc.npy'); vosaline_left = np.load('vosaline_leftbc.npy');"
   ]
  },
  {
   "cell_type": "markdown",
   "metadata": {},
   "source": [
    "##### Seeing the shapes of the arrays of U and V (both 2d and 3D) we see that we have one grid point less in V in the y grid)... so we make that value equal to the immediately next grid point."
   ]
  },
  {
   "cell_type": "code",
   "execution_count": 4,
   "metadata": {
    "collapsed": false
   },
   "outputs": [],
   "source": [
    "u_2d_left = np.mean(u_3d_left, axis= 1); v_2d_left_oneless = np.mean(v_3d_left_oneless, axis=1);\n",
    "\n",
    "v_2d_left = np.zeros(u_2d_left.shape); \n",
    "v_2d_left[:,:-1,:] = v_2d_left_oneless;\n",
    "v_2d_left[:,-1,:] = v_2d_left[:,-2,:];\n",
    "\n",
    "v_3d_left = np.zeros(u_3d_left.shape);\n",
    "v_3d_left[:,:,:-1,:] = v_3d_left_oneless;\n",
    "v_3d_left[:,:,-1,:] = v_3d_left[:,:,-2,:];\n"
   ]
  },
  {
   "cell_type": "code",
   "execution_count": null,
   "metadata": {
    "collapsed": false
   },
   "outputs": [],
   "source": []
  },
  {
   "cell_type": "code",
   "execution_count": 5,
   "metadata": {
    "collapsed": false
   },
   "outputs": [
    {
     "data": {
      "text/plain": [
       "(43, 100, 4)"
      ]
     },
     "execution_count": 5,
     "metadata": {},
     "output_type": "execute_result"
    }
   ],
   "source": [
    "v_2d_left.shape"
   ]
  },
  {
   "cell_type": "code",
   "execution_count": 6,
   "metadata": {
    "collapsed": false
   },
   "outputs": [
    {
     "data": {
      "text/plain": [
       "(43, 100, 4)"
      ]
     },
     "execution_count": 6,
     "metadata": {},
     "output_type": "execute_result"
    }
   ],
   "source": [
    "u_2d_left.shape"
   ]
  },
  {
   "cell_type": "markdown",
   "metadata": {},
   "source": [
    "#### Now we will write these down in a file to make the leftmost boundary work with unstructured open boundaries"
   ]
  },
  {
   "cell_type": "code",
   "execution_count": 7,
   "metadata": {
    "collapsed": false
   },
   "outputs": [],
   "source": [
    "bdy_file = nc.Dataset('/ocean/ssahu/CANYONS/bdy_files/2d_m01.nc', 'w', zlib=True);\n",
    "\n",
    "bdy_file.createDimension('xb', u_3d_left.shape[3]);\n",
    "bdy_file.createDimension('yb', u_3d_left.shape[2]);\n",
    "bdy_file.createDimension('time_counter', None);\n",
    "\n",
    "xb = bdy_file.createVariable('xb', 'int32', ('xb',), zlib=True);\n",
    "xb.units = 'indices';\n",
    "xb.longname = 'x indices along left boundary';\n",
    "\n",
    "yb = bdy_file.createVariable('yb', 'int32', ('yb',), zlib=True);\n",
    "yb.units = 'indices';\n",
    "yb.longname = 'a strip of y indices across all of left boundary';\n",
    "\n",
    "time_counter = bdy_file.createVariable('time_counter', 'int32', ('time_counter',), zlib=True);\n",
    "time_counter.units = 's';\n",
    "time_counter.longname = 'time';\n",
    "\n",
    "sossheig = bdy_file.createVariable('sossheig', 'float32', ('time_counter', 'yb', 'xb'), zlib=True);\n",
    "vobtcrtx = bdy_file.createVariable('vobtcrtx', 'float32', ('time_counter', 'yb', 'xb'), zlib=True);\n",
    "vobtcrty = bdy_file.createVariable('vobtcrty', 'float32', ('time_counter', 'yb', 'xb'), zlib=True);\n",
    "\n",
    "\n",
    "sossheig[:] = ssh_left[:];\n",
    "vobtcrtx[:] = u_2d_left[:];\n",
    "vobtcrty[:] = v_2d_left[:];\n",
    "\n",
    "bdy_file.close()\n"
   ]
  },
  {
   "cell_type": "code",
   "execution_count": 8,
   "metadata": {
    "collapsed": false
   },
   "outputs": [
    {
     "data": {
      "text/plain": [
       "(43, 100, 4)"
      ]
     },
     "execution_count": 8,
     "metadata": {},
     "output_type": "execute_result"
    }
   ],
   "source": [
    "v_2d_left.shape"
   ]
  },
  {
   "cell_type": "code",
   "execution_count": 9,
   "metadata": {
    "collapsed": false
   },
   "outputs": [
    {
     "data": {
      "text/plain": [
       "(43, 50, 100, 4)"
      ]
     },
     "execution_count": 9,
     "metadata": {},
     "output_type": "execute_result"
    }
   ],
   "source": [
    "u_3d_left.shape"
   ]
  },
  {
   "cell_type": "code",
   "execution_count": 10,
   "metadata": {
    "collapsed": false
   },
   "outputs": [
    {
     "data": {
      "text/plain": [
       "(43, 50, 100, 4)"
      ]
     },
     "execution_count": 10,
     "metadata": {},
     "output_type": "execute_result"
    }
   ],
   "source": [
    "v_3d_left.shape"
   ]
  },
  {
   "cell_type": "code",
   "execution_count": 11,
   "metadata": {
    "collapsed": false
   },
   "outputs": [
    {
     "data": {
      "text/plain": [
       "(43, 50, 100, 4)"
      ]
     },
     "execution_count": 11,
     "metadata": {},
     "output_type": "execute_result"
    }
   ],
   "source": [
    "votemper_left.shape"
   ]
  },
  {
   "cell_type": "code",
   "execution_count": 12,
   "metadata": {
    "collapsed": false
   },
   "outputs": [
    {
     "name": "stdout",
     "output_type": "stream",
     "text": [
      "*** ncdump: ncopen failed on /ocean/ssahu/CANYONS/bdy_files/2d_left.nc\r\n"
     ]
    }
   ],
   "source": [
    "!ncdump -h /ocean/ssahu/CANYONS/bdy_files/2d_left.nc"
   ]
  },
  {
   "cell_type": "markdown",
   "metadata": {},
   "source": [
    "#### NEMO has a provision to give the total velcities as input by specifying \n",
    "\n",
    "     ln_full_vel = .false.\t\t        ! =T => full velocities in 3D boundary conditions\n",
    "                                        ! =F => baroclinic velocities in 3D boundary conditions\n",
    "                                        \n",
    "         So after getting the barotropic (2D) it is not necessary to subtract the depth averaged velocities from their 3D counterparts to get the barocloinic velocities."
   ]
  },
  {
   "cell_type": "code",
   "execution_count": 13,
   "metadata": {
    "collapsed": false
   },
   "outputs": [],
   "source": [
    "bdy_file = nc.Dataset('/ocean/ssahu/CANYONS/bdy_files/3d_m01.nc', 'w', zlib=True);\n",
    "\n",
    "\n",
    "bdy_file.createDimension('xb', u_3d_left.shape[3]);\n",
    "bdy_file.createDimension('yb', u_3d_left.shape[2]);\n",
    "bdy_file.createDimension('deptht', u_3d_left.shape[1]);\n",
    "bdy_file.createDimension('time_counter', None);\n",
    "\n",
    "\n",
    "xb = bdy_file.createVariable('xb', 'int32', ('xb',), zlib=True);\n",
    "xb.units = 'indices';\n",
    "xb.longname = 'x indices along left boundary';\n",
    "\n",
    "yb = bdy_file.createVariable('yb', 'int32', ('yb',), zlib=True);\n",
    "yb.units = 'indices';\n",
    "yb.longname = 'a strip of y indices across all of left boundary';\n",
    "\n",
    "deptht = bdy_file.createVariable('deptht', 'int32', ('deptht',), zlib=True);\n",
    "deptht.units = 'm';\n",
    "deptht.longname = 'Vertical T Levels';\n",
    "\n",
    "time_counter = bdy_file.createVariable('time_counter', 'int32', ('time_counter',), zlib=True);\n",
    "time_counter.units = 's';\n",
    "time_counter.longname = 'time';\n",
    "\n",
    "vozocrtx = bdy_file.createVariable('vozocrtx', 'float32', ('time_counter', 'deptht', 'yb', 'xb'), zlib=True);\n",
    "vomecrty = bdy_file.createVariable('vomecrty', 'float32', ('time_counter', 'deptht', 'yb', 'xb'), zlib=True);\n",
    "votemper = bdy_file.createVariable('votemper', 'float32', ('time_counter', 'deptht', 'yb', 'xb'), zlib=True);\n",
    "vosaline = bdy_file.createVariable('vosaline', 'float32', ('time_counter', 'deptht', 'yb', 'xb'), zlib=True);\n",
    "\n",
    "vozocrtx[:] = u_3d_left[:];\n",
    "vomecrty[:] = v_3d_left[:];\n",
    "votemper[:] = votemper_left[:];\n",
    "vosaline[:] = vosaline_left[:];\n",
    "\n",
    "bdy_file.close()\n",
    "\n",
    "\n"
   ]
  },
  {
   "cell_type": "markdown",
   "metadata": {},
   "source": [
    "#### Make the east boundary"
   ]
  },
  {
   "cell_type": "code",
   "execution_count": 14,
   "metadata": {
    "collapsed": false
   },
   "outputs": [],
   "source": [
    "u_3d_right = np.load('U_3D_wcvi_right.npy'); v_3d_right_oneless = np.load('V_3D_wcvi_right.npy');\n",
    "\n",
    "ssh_right = np.load('ssh_rightbc.npy'); \n",
    "\n",
    "votemper_right = np.load('votemper_rightbc.npy'); vosaline_right = np.load('vosaline_rightbc.npy');\n",
    "\n",
    "u_2d_right = np.mean(u_3d_right, axis= 1); v_2d_right_oneless = np.mean(v_3d_right_oneless, axis=1);\n",
    "\n",
    "v_2d_right = np.zeros(u_2d_right.shape); \n",
    "v_2d_right[:,:-1,:] = v_2d_right_oneless;\n",
    "v_2d_right[:,-1,:] = v_2d_right[:,-2,:];\n",
    "\n",
    "v_3d_right = np.zeros(u_3d_right.shape);\n",
    "v_3d_right[:,:,:-1,:] = v_3d_right_oneless;\n",
    "v_3d_right[:,:,-1,:] = v_3d_right[:,:,-2,:];"
   ]
  },
  {
   "cell_type": "code",
   "execution_count": 15,
   "metadata": {
    "collapsed": false
   },
   "outputs": [],
   "source": [
    "bdy_file = nc.Dataset('/ocean/ssahu/CANYONS/bdy_files/2d_m03.nc', 'w', zlib=True);\n",
    "\n",
    "bdy_file.createDimension('xb', u_3d_right.shape[3]);\n",
    "bdy_file.createDimension('yb', u_3d_right.shape[2]);\n",
    "bdy_file.createDimension('time_counter', None);\n",
    "\n",
    "xb = bdy_file.createVariable('xb', 'int32', ('xb',), zlib=True);\n",
    "xb.units = 'indices';\n",
    "xb.longname = 'x indices along left boundary';\n",
    "\n",
    "yb = bdy_file.createVariable('yb', 'int32', ('yb',), zlib=True);\n",
    "yb.units = 'indices';\n",
    "yb.longname = 'a strip of y indices across all of right boundary';\n",
    "\n",
    "time_counter = bdy_file.createVariable('time_counter', 'int32', ('time_counter',), zlib=True);\n",
    "time_counter.units = 's';\n",
    "time_counter.longname = 'time';\n",
    "\n",
    "sossheig = bdy_file.createVariable('sossheig', 'float32', ('time_counter', 'yb', 'xb'), zlib=True);\n",
    "vobtcrtx = bdy_file.createVariable('vobtcrtx', 'float32', ('time_counter', 'yb', 'xb'), zlib=True);\n",
    "vobtcrty = bdy_file.createVariable('vobtcrty', 'float32', ('time_counter', 'yb', 'xb'), zlib=True);\n",
    "\n",
    "\n",
    "sossheig[:] = ssh_right[:];\n",
    "vobtcrtx[:] = u_2d_right[:];\n",
    "vobtcrty[:] = v_2d_right[:];\n",
    "\n",
    "bdy_file.close()\n"
   ]
  },
  {
   "cell_type": "code",
   "execution_count": 16,
   "metadata": {
    "collapsed": true
   },
   "outputs": [],
   "source": [
    "bdy_file = nc.Dataset('/ocean/ssahu/CANYONS/bdy_files/3d_m03.nc', 'w', zlib=True);\n",
    "\n",
    "\n",
    "bdy_file.createDimension('xb', u_3d_right.shape[3]);\n",
    "bdy_file.createDimension('yb', u_3d_right.shape[2]);\n",
    "bdy_file.createDimension('deptht', u_3d_right.shape[1]);\n",
    "bdy_file.createDimension('time_counter', None);\n",
    "\n",
    "\n",
    "xb = bdy_file.createVariable('xb', 'int32', ('xb',), zlib=True);\n",
    "xb.units = 'indices';\n",
    "xb.longname = 'x indices along right boundary';\n",
    "\n",
    "yb = bdy_file.createVariable('yb', 'int32', ('yb',), zlib=True);\n",
    "yb.units = 'indices';\n",
    "yb.longname = 'a strip of y indices across all of right boundary';\n",
    "\n",
    "deptht = bdy_file.createVariable('deptht', 'int32', ('deptht',), zlib=True);\n",
    "deptht.units = 'm';\n",
    "deptht.longname = 'Vertical T Levels';\n",
    "\n",
    "time_counter = bdy_file.createVariable('time_counter', 'int32', ('time_counter',), zlib=True);\n",
    "time_counter.units = 's';\n",
    "time_counter.longname = 'time';\n",
    "\n",
    "vozocrtx = bdy_file.createVariable('vozocrtx', 'float32', ('time_counter', 'deptht', 'yb', 'xb'), zlib=True);\n",
    "vomecrty = bdy_file.createVariable('vomecrty', 'float32', ('time_counter', 'deptht', 'yb', 'xb'), zlib=True);\n",
    "votemper = bdy_file.createVariable('votemper', 'float32', ('time_counter', 'deptht', 'yb', 'xb'), zlib=True);\n",
    "vosaline = bdy_file.createVariable('vosaline', 'float32', ('time_counter', 'deptht', 'yb', 'xb'), zlib=True);\n",
    "\n",
    "vozocrtx[:] = u_3d_right[:];\n",
    "vomecrty[:] = v_3d_right[:];\n",
    "votemper[:] = votemper_right[:];\n",
    "vosaline[:] = vosaline_right[:];\n",
    "\n",
    "bdy_file.close()\n",
    "\n"
   ]
  },
  {
   "cell_type": "markdown",
   "metadata": {},
   "source": [
    "#### Making the north boundary"
   ]
  },
  {
   "cell_type": "code",
   "execution_count": 17,
   "metadata": {
    "collapsed": false
   },
   "outputs": [],
   "source": [
    "u_3d_top_twoless = np.load('U_3D_wcvi_top.npy'); v_3d_top_oneless = np.load('V_3D_wcvi_top.npy');\n",
    "\n",
    "ssh_top = np.load('ssh_topbc.npy'); \n",
    "\n",
    "votemper_top = np.load('votemper_topbc.npy'); vosaline_top = np.load('vosaline_topbc.npy');\n",
    "\n",
    "u_2d_top_twoless = np.mean(u_3d_top_twoless, axis= 1); v_2d_top_oneless = np.mean(v_3d_top_oneless, axis=1);\n",
    "\n",
    "u_2d_top = np.zeros((43,4,70)); \n",
    "u_2d_top[:,:,:-2] = u_2d_top_twoless;\n",
    "u_2d_top[:,:,-1] = u_2d_top[:,:,-3];\n",
    "u_2d_top[:,:,-2] = u_2d_top[:,:,-3];\n",
    "\n",
    "u_3d_top = np.zeros((43,50,4,70)); \n",
    "u_3d_top[:,:,:,:-2] = u_3d_top_twoless;\n",
    "u_3d_top[:,:,:,-1] = u_3d_top[:,:,:,-3];\n",
    "u_3d_top[:,:,:,-2] = u_3d_top[:,:,:,-3];\n",
    "\n",
    "\n",
    "v_2d_top = np.zeros((43,4,70)); \n",
    "v_2d_top[:,:,:-1] = v_2d_top_oneless;\n",
    "v_2d_top[:,:,-1] = v_2d_top[:,:,-2];\n",
    "\n",
    "\n",
    "v_3d_top = np.zeros((43,50,4,70)); \n",
    "v_3d_top[:,:,:,:-1] = v_3d_top_oneless;\n",
    "v_3d_top[:,:,:,-1] = v_3d_top[:,:,:,-2];"
   ]
  },
  {
   "cell_type": "code",
   "execution_count": 18,
   "metadata": {
    "collapsed": true
   },
   "outputs": [],
   "source": [
    "bdy_file = nc.Dataset('/ocean/ssahu/CANYONS/bdy_files/2d_m02.nc', 'w', zlib=True);\n",
    "\n",
    "bdy_file.createDimension('xb', u_3d_top.shape[3]);\n",
    "bdy_file.createDimension('yb', u_3d_top.shape[2]);\n",
    "bdy_file.createDimension('time_counter', None);\n",
    "\n",
    "xb = bdy_file.createVariable('xb', 'int32', ('xb',), zlib=True);\n",
    "xb.units = 'indices';\n",
    "xb.longname = 'x indices along north boundary';\n",
    "\n",
    "yb = bdy_file.createVariable('yb', 'int32', ('yb',), zlib=True);\n",
    "yb.units = 'indices';\n",
    "yb.longname = 'a strip of y indices across all of north boundary';\n",
    "\n",
    "time_counter = bdy_file.createVariable('time_counter', 'int32', ('time_counter',), zlib=True);\n",
    "time_counter.units = 's';\n",
    "time_counter.longname = 'time';\n",
    "\n",
    "sossheig = bdy_file.createVariable('sossheig', 'float32', ('time_counter', 'yb', 'xb'), zlib=True);\n",
    "vobtcrtx = bdy_file.createVariable('vobtcrtx', 'float32', ('time_counter', 'yb', 'xb'), zlib=True);\n",
    "vobtcrty = bdy_file.createVariable('vobtcrty', 'float32', ('time_counter', 'yb', 'xb'), zlib=True);\n",
    "\n",
    "\n",
    "sossheig[:] = ssh_top[:];\n",
    "vobtcrtx[:] = u_2d_top[:];\n",
    "vobtcrty[:] = v_2d_top[:];\n",
    "\n",
    "bdy_file.close()\n"
   ]
  },
  {
   "cell_type": "code",
   "execution_count": 19,
   "metadata": {
    "collapsed": true
   },
   "outputs": [],
   "source": [
    "bdy_file = nc.Dataset('/ocean/ssahu/CANYONS/bdy_files/3d_m02.nc', 'w', zlib=True);\n",
    "\n",
    "\n",
    "bdy_file.createDimension('xb', u_3d_top.shape[3]);\n",
    "bdy_file.createDimension('yb', u_3d_top.shape[2]);\n",
    "bdy_file.createDimension('deptht', u_3d_top.shape[1]);\n",
    "bdy_file.createDimension('time_counter', None);\n",
    "\n",
    "\n",
    "xb = bdy_file.createVariable('xb', 'int32', ('xb',), zlib=True);\n",
    "xb.units = 'indices';\n",
    "xb.longname = 'x indices along north boundary';\n",
    "\n",
    "yb = bdy_file.createVariable('yb', 'int32', ('yb',), zlib=True);\n",
    "yb.units = 'indices';\n",
    "yb.longname = 'a strip of y indices across all of north boundary';\n",
    "\n",
    "deptht = bdy_file.createVariable('deptht', 'int32', ('deptht',), zlib=True);\n",
    "deptht.units = 'm';\n",
    "deptht.longname = 'Vertical T Levels';\n",
    "\n",
    "time_counter = bdy_file.createVariable('time_counter', 'int32', ('time_counter',), zlib=True);\n",
    "time_counter.units = 's';\n",
    "time_counter.longname = 'time';\n",
    "\n",
    "vozocrtx = bdy_file.createVariable('vozocrtx', 'float32', ('time_counter', 'deptht', 'yb', 'xb'), zlib=True);\n",
    "vomecrty = bdy_file.createVariable('vomecrty', 'float32', ('time_counter', 'deptht', 'yb', 'xb'), zlib=True);\n",
    "votemper = bdy_file.createVariable('votemper', 'float32', ('time_counter', 'deptht', 'yb', 'xb'), zlib=True);\n",
    "vosaline = bdy_file.createVariable('vosaline', 'float32', ('time_counter', 'deptht', 'yb', 'xb'), zlib=True);\n",
    "\n",
    "vozocrtx[:] = u_3d_top[:];\n",
    "vomecrty[:] = v_3d_top[:];\n",
    "votemper[:] = votemper_top[:];\n",
    "vosaline[:] = vosaline_top[:];\n",
    "\n",
    "bdy_file.close()\n"
   ]
  },
  {
   "cell_type": "code",
   "execution_count": 20,
   "metadata": {
    "collapsed": false
   },
   "outputs": [
    {
     "data": {
      "text/plain": [
       "(43, 4, 70)"
      ]
     },
     "execution_count": 20,
     "metadata": {},
     "output_type": "execute_result"
    }
   ],
   "source": [
    "u_2d_top.shape"
   ]
  },
  {
   "cell_type": "code",
   "execution_count": 21,
   "metadata": {
    "collapsed": false
   },
   "outputs": [
    {
     "data": {
      "text/plain": [
       "(43, 50, 4, 70)"
      ]
     },
     "execution_count": 21,
     "metadata": {},
     "output_type": "execute_result"
    }
   ],
   "source": [
    "v_3d_top.shape"
   ]
  },
  {
   "cell_type": "code",
   "execution_count": 22,
   "metadata": {
    "collapsed": false
   },
   "outputs": [
    {
     "data": {
      "text/plain": [
       "(43, 50, 4, 70)"
      ]
     },
     "execution_count": 22,
     "metadata": {},
     "output_type": "execute_result"
    }
   ],
   "source": [
    "u_3d_top.shape"
   ]
  },
  {
   "cell_type": "code",
   "execution_count": 23,
   "metadata": {
    "collapsed": false
   },
   "outputs": [
    {
     "data": {
      "text/plain": [
       "(43, 4, 70)"
      ]
     },
     "execution_count": 23,
     "metadata": {},
     "output_type": "execute_result"
    }
   ],
   "source": [
    "ssh_top.shape"
   ]
  },
  {
   "cell_type": "markdown",
   "metadata": {},
   "source": [
    "##### Making the bottom boundary"
   ]
  },
  {
   "cell_type": "code",
   "execution_count": 24,
   "metadata": {
    "collapsed": true
   },
   "outputs": [],
   "source": [
    "u_3d_bottom_twoless = np.load('U_3D_wcvi_bottom.npy'); v_3d_bottom_oneless = np.load('V_3D_wcvi_bottom.npy');\n",
    "\n",
    "ssh_bottom = np.load('ssh_bottombc.npy'); \n",
    "\n",
    "votemper_bottom = np.load('votemper_bottombc.npy'); vosaline_bottom = np.load('vosaline_bottombc.npy');\n",
    "\n",
    "\n",
    "u_2d_bottom_twoless = np.mean(u_3d_bottom_twoless, axis= 1); v_2d_bottom_oneless = np.mean(v_3d_bottom_oneless, axis=1);\n",
    "\n",
    "u_2d_bottom = np.zeros((43,4,70)); \n",
    "u_2d_bottom[:,:,:-2] = u_2d_bottom_twoless;\n",
    "u_2d_bottom[:,:,-1] = u_2d_bottom[:,:,-3];\n",
    "u_2d_bottom[:,:,-2] = u_2d_bottom[:,:,-3];\n",
    "\n",
    "u_3d_bottom = np.zeros((43,50,4,70)); \n",
    "u_3d_bottom[:,:,:,:-2] = u_3d_bottom_twoless;\n",
    "u_3d_bottom[:,:,:,-1] = u_3d_bottom[:,:,:,-3];\n",
    "u_3d_bottom[:,:,:,-2] = u_3d_bottom[:,:,:,-3];\n",
    "\n",
    "\n",
    "v_2d_bottom = np.zeros((43,4,70)); \n",
    "v_2d_bottom[:,:,:-1] = v_2d_bottom_oneless;\n",
    "v_2d_bottom[:,:,-1] = v_2d_bottom[:,:,-2];\n",
    "\n",
    "\n",
    "v_3d_bottom = np.zeros((43,50,4,70)); \n",
    "v_3d_bottom[:,:,:,:-1] = v_3d_bottom_oneless;\n",
    "v_3d_bottom[:,:,:,-1] = v_3d_bottom[:,:,:,-2];\n"
   ]
  },
  {
   "cell_type": "code",
   "execution_count": 25,
   "metadata": {
    "collapsed": true
   },
   "outputs": [],
   "source": [
    "bdy_file = nc.Dataset('/ocean/ssahu/CANYONS/bdy_files/2d_m04.nc', 'w', zlib=True);\n",
    "\n",
    "bdy_file.createDimension('xb', u_3d_bottom.shape[3]);\n",
    "bdy_file.createDimension('yb', u_3d_bottom.shape[2]);\n",
    "bdy_file.createDimension('time_counter', None);\n",
    "\n",
    "xb = bdy_file.createVariable('xb', 'int32', ('xb',), zlib=True);\n",
    "xb.units = 'indices';\n",
    "xb.longname = 'x indices along south boundary';\n",
    "\n",
    "yb = bdy_file.createVariable('yb', 'int32', ('yb',), zlib=True);\n",
    "yb.units = 'indices';\n",
    "yb.longname = 'a strip of y indices across all of south boundary';\n",
    "\n",
    "time_counter = bdy_file.createVariable('time_counter', 'int32', ('time_counter',), zlib=True);\n",
    "time_counter.units = 's';\n",
    "time_counter.longname = 'time';\n",
    "\n",
    "sossheig = bdy_file.createVariable('sossheig', 'float32', ('time_counter', 'yb', 'xb'), zlib=True);\n",
    "vobtcrtx = bdy_file.createVariable('vobtcrtx', 'float32', ('time_counter', 'yb', 'xb'), zlib=True);\n",
    "vobtcrty = bdy_file.createVariable('vobtcrty', 'float32', ('time_counter', 'yb', 'xb'), zlib=True);\n",
    "\n",
    "\n",
    "sossheig[:] = ssh_bottom[:];\n",
    "vobtcrtx[:] = u_2d_bottom[:];\n",
    "vobtcrty[:] = v_2d_bottom[:];\n",
    "\n",
    "bdy_file.close()"
   ]
  },
  {
   "cell_type": "code",
   "execution_count": 26,
   "metadata": {
    "collapsed": true
   },
   "outputs": [],
   "source": [
    "bdy_file = nc.Dataset('/ocean/ssahu/CANYONS/bdy_files/3d_m04.nc', 'w', zlib=True);\n",
    "\n",
    "\n",
    "bdy_file.createDimension('xb', u_3d_bottom.shape[3]);\n",
    "bdy_file.createDimension('yb', u_3d_bottom.shape[2]);\n",
    "bdy_file.createDimension('deptht', u_3d_bottom.shape[1]);\n",
    "bdy_file.createDimension('time_counter', None);\n",
    "\n",
    "\n",
    "xb = bdy_file.createVariable('xb', 'int32', ('xb',), zlib=True);\n",
    "xb.units = 'indices';\n",
    "xb.longname = 'x indices along south boundary';\n",
    "\n",
    "yb = bdy_file.createVariable('yb', 'int32', ('yb',), zlib=True);\n",
    "yb.units = 'indices';\n",
    "yb.longname = 'a strip of y indices across all of south boundary';\n",
    "\n",
    "deptht = bdy_file.createVariable('deptht', 'int32', ('deptht',), zlib=True);\n",
    "deptht.units = 'm';\n",
    "deptht.longname = 'Vertical T Levels';\n",
    "\n",
    "time_counter = bdy_file.createVariable('time_counter', 'int32', ('time_counter',), zlib=True);\n",
    "time_counter.units = 's';\n",
    "time_counter.longname = 'time';\n",
    "\n",
    "vozocrtx = bdy_file.createVariable('vozocrtx', 'float32', ('time_counter', 'deptht', 'yb', 'xb'), zlib=True);\n",
    "vomecrty = bdy_file.createVariable('vomecrty', 'float32', ('time_counter', 'deptht', 'yb', 'xb'), zlib=True);\n",
    "votemper = bdy_file.createVariable('votemper', 'float32', ('time_counter', 'deptht', 'yb', 'xb'), zlib=True);\n",
    "vosaline = bdy_file.createVariable('vosaline', 'float32', ('time_counter', 'deptht', 'yb', 'xb'), zlib=True);\n",
    "\n",
    "vozocrtx[:] = u_3d_bottom[:];\n",
    "vomecrty[:] = v_3d_bottom[:];\n",
    "votemper[:] = votemper_bottom[:];\n",
    "vosaline[:] = vosaline_bottom[:];\n",
    "\n",
    "bdy_file.close()"
   ]
  },
  {
   "cell_type": "code",
   "execution_count": 27,
   "metadata": {
    "collapsed": false
   },
   "outputs": [
    {
     "data": {
      "text/plain": [
       "(43, 50, 4, 70)"
      ]
     },
     "execution_count": 27,
     "metadata": {},
     "output_type": "execute_result"
    }
   ],
   "source": [
    "u_3d_bottom.shape"
   ]
  },
  {
   "cell_type": "code",
   "execution_count": 28,
   "metadata": {
    "collapsed": false
   },
   "outputs": [
    {
     "data": {
      "text/plain": [
       "(43, 50, 4, 70)"
      ]
     },
     "execution_count": 28,
     "metadata": {},
     "output_type": "execute_result"
    }
   ],
   "source": [
    "v_3d_bottom.shape"
   ]
  },
  {
   "cell_type": "code",
   "execution_count": 29,
   "metadata": {
    "collapsed": false
   },
   "outputs": [
    {
     "data": {
      "text/plain": [
       "(43, 50, 4, 70)"
      ]
     },
     "execution_count": 29,
     "metadata": {},
     "output_type": "execute_result"
    }
   ],
   "source": [
    "votemper_bottom.shape"
   ]
  },
  {
   "cell_type": "code",
   "execution_count": null,
   "metadata": {
    "collapsed": true
   },
   "outputs": [],
   "source": []
  }
 ],
 "metadata": {
  "anaconda-cloud": {},
  "kernelspec": {
   "display_name": "Python [conda root]",
   "language": "python",
   "name": "conda-root-py"
  },
  "language_info": {
   "codemirror_mode": {
    "name": "ipython",
    "version": 3
   },
   "file_extension": ".py",
   "mimetype": "text/x-python",
   "name": "python",
   "nbconvert_exporter": "python",
   "pygments_lexer": "ipython3",
   "version": "3.5.2"
  }
 },
 "nbformat": 4,
 "nbformat_minor": 1
}
