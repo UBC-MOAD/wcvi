{
 "cells": [
  {
   "cell_type": "code",
   "execution_count": 1,
   "metadata": {
    "collapsed": false
   },
   "outputs": [],
   "source": [
    "import numpy as np\n",
    "import netCDF4 as nc\n",
    "import scipy as sc"
   ]
  },
  {
   "cell_type": "code",
   "execution_count": 2,
   "metadata": {
    "collapsed": false
   },
   "outputs": [
    {
     "name": "stdout",
     "output_type": "stream",
     "text": [
      "bathy_files\r\n",
      "bathy_meter.nc\r\n",
      "C:\\nppdf32Log\\debuglog.txt\r\n",
      "coordinates.nc\r\n",
      "Dealing_with_FRS_initial_T_and_S_remaking_temp_sal_BC.ipynb\r\n",
      "Detiding.ipynb\r\n",
      "Fill_up_holes_in_IC_file_and_BC_file.ipynb\r\n",
      "grid_alignment.py\r\n",
      "Grid_transformation.ipynb\r\n",
      "input10\r\n",
      "input11\r\n",
      "input12\r\n",
      "input13\r\n",
      "input14\r\n",
      "input15\r\n",
      "input16\r\n",
      "input17\r\n",
      "input18\r\n",
      "input19\r\n",
      "input20\r\n",
      "input21\r\n",
      "input22\r\n",
      "input23\r\n",
      "input24\r\n",
      "input25\r\n",
      "input26\r\n",
      "input27\r\n",
      "input28\r\n",
      "input29\r\n",
      "input30\r\n",
      "input31\r\n",
      "input32\r\n",
      "input33\r\n",
      "input34\r\n",
      "input35\r\n",
      "input36\r\n",
      "input37\r\n",
      "input38\r\n",
      "input39\r\n",
      "input4\r\n",
      "input40\r\n",
      "input41\r\n",
      "input42\r\n",
      "input43\r\n",
      "input44\r\n",
      "input45\r\n",
      "input46\r\n",
      "input47\r\n",
      "input48\r\n",
      "input49\r\n",
      "input5\r\n",
      "input50\r\n",
      "input51\r\n",
      "input52\r\n",
      "input53\r\n",
      "input54\r\n",
      "input55\r\n",
      "input56\r\n",
      "input57\r\n",
      "input58\r\n",
      "input59\r\n",
      "input6\r\n",
      "input60\r\n",
      "input61\r\n",
      "input62\r\n",
      "input63\r\n",
      "input64\r\n",
      "input65\r\n",
      "input66\r\n",
      "input67\r\n",
      "input68\r\n",
      "input69\r\n",
      "input7\r\n",
      "input70\r\n",
      "input71\r\n",
      "input72\r\n",
      "input73\r\n",
      "input74\r\n",
      "input75\r\n",
      "input76\r\n",
      "input77\r\n",
      "input78\r\n",
      "input79\r\n",
      "input8\r\n",
      "input80\r\n",
      "input81\r\n",
      "input82\r\n",
      "input83\r\n",
      "input84\r\n",
      "input85\r\n",
      "input86\r\n",
      "input87\r\n",
      "input88\r\n",
      "input89\r\n",
      "input9\r\n",
      "input90\r\n",
      "input91\r\n",
      "input92\r\n",
      "input93\r\n",
      "input94\r\n",
      "input95\r\n",
      "input96\r\n",
      "input97\r\n",
      "input98\r\n",
      "input99\r\n",
      "JP_Grid.png\r\n",
      "Making_2d_bdy_zeros_ssh.ipynb\r\n",
      "Making_IC_from_JP.ipynb\r\n",
      "Making_islands_and_switching_boundaries.ipynb\r\n",
      "Making_lateral_boundaries.ipynb\r\n",
      "NEMO_depth_parameters.ipynb\r\n",
      "Plotting_data_over_3_locations.ipynb\r\n",
      "__pycache__\r\n",
      "Resolving_NEMO_bdy_data.ipynb\r\n",
      "ssh_bottombc.npy\r\n",
      "ssh_leftbc.npy\r\n",
      "ssh_rightbc.npy\r\n",
      "ssh_topbc.npy\r\n",
      "U_3D_wcvi_bottom.npy\r\n",
      "U_3D_wcvi_left.npy\r\n",
      "U_3D_wcvi_right.npy\r\n",
      "U_3D_wcvi_top.npy\r\n",
      "u_unrotated_wcvi_t_3D.npy\r\n",
      "u_unrotated_wcvi_t.npy\r\n",
      "V_3D_wcvi_bottom.npy\r\n",
      "V_3D_wcvi_left.npy\r\n",
      "V_3D_wcvi_right.npy\r\n",
      "V_3D_wcvi_top.npy\r\n",
      "Vertical_Interpolation_to_NEMO_levels_Writing_final_BC.ipynb\r\n",
      "Vertical_Interpolation_to_NEMO_levels_Writing_final_IC.ipynb\r\n",
      "vosaline_bottombc.npy\r\n",
      "vosaline_leftbc.npy\r\n",
      "vosaline_rightbc.npy\r\n",
      "vosaline_topbc.npy\r\n",
      "votemper_bottombc.npy\r\n",
      "votemper_leftbc.npy\r\n",
      "votemper_rightbc.npy\r\n",
      "votemper_topbc.npy\r\n",
      "v_unrotated_wcvi_t_3D.npy\r\n",
      "v_unrotated_wcvi_t.npy\r\n",
      "WCVI_Grid.png\r\n",
      "WCVI_orthogonality.png\r\n",
      "Working_with_mask_during_HORIZONTAL_interpolation_land_points.ipynb\r\n",
      "Writing_bdy_files.ipynb\r\n",
      "Writing_final_BC_two_less.ipynb\r\n"
     ]
    }
   ],
   "source": [
    "!ls"
   ]
  },
  {
   "cell_type": "code",
   "execution_count": 3,
   "metadata": {
    "collapsed": true
   },
   "outputs": [],
   "source": [
    "u_3d_left = np.load('U_3D_wcvi_left.npy'); v_3d_left_oneless = np.load('V_3D_wcvi_left.npy');\n",
    "\n",
    "ssh_left = np.load('ssh_leftbc.npy'); \n",
    "\n",
    "votemper_left = np.load('votemper_leftbc.npy'); vosaline_left = np.load('vosaline_leftbc.npy');"
   ]
  },
  {
   "cell_type": "markdown",
   "metadata": {},
   "source": [
    "##### Seeing the shapes of the arrays of U and V (both 2d and 3D) we see that we have one grid point less in V in the y grid)... so we make that value equal to the immediately next grid point.\n",
    "\n",
    "### Point to note for future: Extrapolate the data to the missing point instead of making them equal (else make once cell bigger and simply trim it off to match our shape needed)"
   ]
  },
  {
   "cell_type": "code",
   "execution_count": 4,
   "metadata": {
    "collapsed": false
   },
   "outputs": [],
   "source": [
    "u_2d_left = np.mean(u_3d_left, axis= 1); v_2d_left_oneless = np.mean(v_3d_left_oneless, axis=1);\n",
    "\n",
    "v_2d_left = np.empty(u_2d_left.shape); \n",
    "v_2d_left[:,:-1,:] = v_2d_left_oneless;\n",
    "v_2d_left[:,-1,:] = v_2d_left[:,-2,:];\n",
    "\n",
    "v_3d_left = np.empty(u_3d_left.shape);\n",
    "v_3d_left[:,:,:-1,:] = v_3d_left_oneless;\n",
    "v_3d_left[:,:,-1,:] = v_3d_left[:,:,-2,:];\n"
   ]
  },
  {
   "cell_type": "code",
   "execution_count": 5,
   "metadata": {
    "collapsed": false
   },
   "outputs": [
    {
     "data": {
      "text/plain": [
       "(43, 50, 100, 4)"
      ]
     },
     "execution_count": 5,
     "metadata": {},
     "output_type": "execute_result"
    }
   ],
   "source": [
    "votemper_left.shape"
   ]
  },
  {
   "cell_type": "code",
   "execution_count": 6,
   "metadata": {
    "collapsed": false
   },
   "outputs": [
    {
     "data": {
      "text/plain": [
       "(43, 100, 4)"
      ]
     },
     "execution_count": 6,
     "metadata": {},
     "output_type": "execute_result"
    }
   ],
   "source": [
    "v_2d_left.shape"
   ]
  },
  {
   "cell_type": "code",
   "execution_count": 7,
   "metadata": {
    "collapsed": false
   },
   "outputs": [
    {
     "data": {
      "text/plain": [
       "(43, 100, 4)"
      ]
     },
     "execution_count": 7,
     "metadata": {},
     "output_type": "execute_result"
    }
   ],
   "source": [
    "u_2d_left.shape"
   ]
  },
  {
   "cell_type": "markdown",
   "metadata": {},
   "source": [
    "### Now let us swap the axes to match the NEMO wants the input files \n",
    "(refer to the ssh files in /ocean/mdunphy/MEOPAR/NEMO-forcing/open_boundaries/west/ssh)"
   ]
  },
  {
   "cell_type": "code",
   "execution_count": 8,
   "metadata": {
    "collapsed": false
   },
   "outputs": [
    {
     "name": "stdout",
     "output_type": "stream",
     "text": [
      "(43, 100, 4) (43, 4, 100)\n"
     ]
    }
   ],
   "source": [
    "print (ssh_left.shape, np.swapaxes(ssh_left, 1, 2).shape)"
   ]
  },
  {
   "cell_type": "code",
   "execution_count": 9,
   "metadata": {
    "collapsed": false
   },
   "outputs": [
    {
     "data": {
      "text/plain": [
       "(43, 100, 4)"
      ]
     },
     "execution_count": 9,
     "metadata": {},
     "output_type": "execute_result"
    }
   ],
   "source": [
    "u_2d_left.shape"
   ]
  },
  {
   "cell_type": "code",
   "execution_count": null,
   "metadata": {
    "collapsed": true
   },
   "outputs": [],
   "source": []
  },
  {
   "cell_type": "code",
   "execution_count": null,
   "metadata": {
    "collapsed": true
   },
   "outputs": [],
   "source": []
  },
  {
   "cell_type": "markdown",
   "metadata": {},
   "source": [
    "#### Now we will write these down in a file to make the leftmost boundary work with unstructured open boundaries"
   ]
  },
  {
   "cell_type": "code",
   "execution_count": 10,
   "metadata": {
    "collapsed": false
   },
   "outputs": [],
   "source": [
    "bdy_file = nc.Dataset('/ocean/ssahu/CANYONS/bdy_files/2d_west_m04.nc', 'w', zlib=True);\n",
    "\n",
    "bdy_file.createDimension('xbT', u_3d_left.shape[2]);\n",
    "bdy_file.createDimension('yb', u_3d_left.shape[3]);\n",
    "bdy_file.createDimension('time_counter', None);\n",
    "\n",
    "xbT = bdy_file.createVariable('xbT', 'int32', ('xbT',), zlib=True);\n",
    "xbT.units = 'indices';\n",
    "xbT.longname = 'indices along left boundary';\n",
    "\n",
    "yb = bdy_file.createVariable('yb', 'int32', ('yb',), zlib=True);\n",
    "yb.units = 'indices';\n",
    "yb.longname = 'a strip of indices across all of left boundary';\n",
    "\n",
    "time_counter = bdy_file.createVariable('time_counter', 'int32', ('time_counter',), zlib=True);\n",
    "time_counter.units = 's';\n",
    "time_counter.longname = 'time';\n",
    "\n",
    "sossheig = bdy_file.createVariable('sossheig', 'float32', ('time_counter', 'yb', 'xbT'), zlib=True);\n",
    "vobtcrtx = bdy_file.createVariable('vobtcrtx', 'float32', ('time_counter', 'yb', 'xbT'), zlib=True);\n",
    "vobtcrty = bdy_file.createVariable('vobtcrty', 'float32', ('time_counter', 'yb', 'xbT'), zlib=True);\n",
    "\n",
    "\n",
    "sossheig[:] = np.swapaxes(ssh_left, 1, 2)[:];\n",
    "sossheig[:] = sossheig[:];  ## done so that NEMO can read it the other way around\n",
    "vobtcrtx[:] = np.swapaxes(u_2d_left, 1, 2)[:];\n",
    "vobtcrtx[:] = vobtcrtx[:];\n",
    "vobtcrty[:] = np.swapaxes(v_2d_left, 1, 2)[:];\n",
    "vobtcrty[:] = vobtcrty[:];\n",
    "\n",
    "bdy_file.close()\n"
   ]
  },
  {
   "cell_type": "code",
   "execution_count": 11,
   "metadata": {
    "collapsed": false
   },
   "outputs": [
    {
     "data": {
      "text/plain": [
       "(43, 100, 4)"
      ]
     },
     "execution_count": 11,
     "metadata": {},
     "output_type": "execute_result"
    }
   ],
   "source": [
    "v_2d_left.shape"
   ]
  },
  {
   "cell_type": "code",
   "execution_count": 12,
   "metadata": {
    "collapsed": false
   },
   "outputs": [
    {
     "name": "stdout",
     "output_type": "stream",
     "text": [
      "(43, 50, 100, 4) (43, 50, 4, 100)\n"
     ]
    }
   ],
   "source": [
    "print(u_3d_left.shape , np.swapaxes(u_3d_left, 3, 2).shape)"
   ]
  },
  {
   "cell_type": "code",
   "execution_count": 13,
   "metadata": {
    "collapsed": false
   },
   "outputs": [
    {
     "data": {
      "text/plain": [
       "(43, 50, 100, 4)"
      ]
     },
     "execution_count": 13,
     "metadata": {},
     "output_type": "execute_result"
    }
   ],
   "source": [
    "v_3d_left.shape"
   ]
  },
  {
   "cell_type": "code",
   "execution_count": 14,
   "metadata": {
    "collapsed": false
   },
   "outputs": [
    {
     "data": {
      "text/plain": [
       "(43, 50, 100, 4)"
      ]
     },
     "execution_count": 14,
     "metadata": {},
     "output_type": "execute_result"
    }
   ],
   "source": [
    "votemper_left.shape"
   ]
  },
  {
   "cell_type": "code",
   "execution_count": 15,
   "metadata": {
    "collapsed": false
   },
   "outputs": [
    {
     "name": "stdout",
     "output_type": "stream",
     "text": [
      "*** ncdump: ncopen failed on /ocean/ssahu/CANYONS/bdy_files/2d_left.nc\r\n"
     ]
    }
   ],
   "source": [
    "!ncdump -h /ocean/ssahu/CANYONS/bdy_files/2d_left.nc"
   ]
  },
  {
   "cell_type": "markdown",
   "metadata": {},
   "source": [
    "#### NEMO has a provision to give the total velcities as input by specifying \n",
    "\n",
    "     ln_full_vel = .false.\t\t        ! =T => full velocities in 3D boundary conditions\n",
    "                                        ! =F => baroclinic velocities in 3D boundary conditions\n",
    "                                        \n",
    "         So after getting the barotropic (2D) it is not necessary to subtract the depth averaged velocities from their 3D counterparts to get the barocloinic velocities."
   ]
  },
  {
   "cell_type": "code",
   "execution_count": 16,
   "metadata": {
    "collapsed": false
   },
   "outputs": [],
   "source": [
    "bdy_file = nc.Dataset('/ocean/ssahu/CANYONS/bdy_files/3d_west_m04.nc', 'w', zlib=True);\n",
    "\n",
    "\n",
    "bdy_file.createDimension('xbT', u_3d_left.shape[2]);\n",
    "bdy_file.createDimension('yb', u_3d_left.shape[3]);\n",
    "bdy_file.createDimension('deptht', u_3d_left.shape[1]);\n",
    "bdy_file.createDimension('time_counter', None);\n",
    "\n",
    "\n",
    "xbT = bdy_file.createVariable('xbT', 'int32', ('xbT',), zlib=True);\n",
    "xbT.units = 'indices';\n",
    "xbT.longname = 'indices along left boundary';\n",
    "\n",
    "yb = bdy_file.createVariable('yb', 'int32', ('yb',), zlib=True);\n",
    "yb.units = 'indices';\n",
    "yb.longname = 'a strip of indices across all of left boundary';\n",
    "\n",
    "deptht = bdy_file.createVariable('deptht', 'int32', ('deptht',), zlib=True);\n",
    "deptht.units = 'm';\n",
    "deptht.longname = 'Vertical T Levels';\n",
    "\n",
    "time_counter = bdy_file.createVariable('time_counter', 'int32', ('time_counter',), zlib=True);\n",
    "time_counter.units = 's';\n",
    "time_counter.longname = 'time';\n",
    "\n",
    "vozocrtx = bdy_file.createVariable('vozocrtx', 'float32', ('time_counter', 'deptht', 'yb', 'xbT'), zlib=True);\n",
    "vomecrty = bdy_file.createVariable('vomecrty', 'float32', ('time_counter', 'deptht', 'yb', 'xbT'), zlib=True);\n",
    "votemper = bdy_file.createVariable('votemper', 'float32', ('time_counter', 'deptht', 'yb', 'xbT'), zlib=True);\n",
    "vosaline = bdy_file.createVariable('vosaline', 'float32', ('time_counter', 'deptht', 'yb', 'xbT'), zlib=True);\n",
    "\n",
    "vozocrtx[:] = np.swapaxes(u_3d_left, 3, 2)[:];\n",
    "vomecrty[:] = np.swapaxes(v_3d_left, 3, 2)[:];\n",
    "votemper[:] = np.swapaxes(votemper_left, 3, 2)[:];\n",
    "vosaline[:] = np.swapaxes(vosaline_left, 3, 2)[:];\n",
    "\n",
    "bdy_file.close()\n",
    "\n",
    "\n"
   ]
  },
  {
   "cell_type": "markdown",
   "metadata": {},
   "source": [
    "#### Make the east boundary"
   ]
  },
  {
   "cell_type": "code",
   "execution_count": 17,
   "metadata": {
    "collapsed": false
   },
   "outputs": [],
   "source": [
    "u_3d_right = np.load('U_3D_wcvi_right.npy'); v_3d_right_oneless = np.load('V_3D_wcvi_right.npy');\n",
    "\n",
    "ssh_right = np.load('ssh_rightbc.npy'); \n",
    "\n",
    "votemper_right = np.load('votemper_rightbc.npy'); vosaline_right = np.load('vosaline_rightbc.npy');\n",
    "\n",
    "u_2d_right = np.mean(u_3d_right, axis= 1); v_2d_right_oneless = np.mean(v_3d_right_oneless, axis=1);\n",
    "\n",
    "v_2d_right = np.empty(u_2d_right.shape); \n",
    "v_2d_right[:,:-1,:] = v_2d_right_oneless;\n",
    "v_2d_right[:,-1,:] = v_2d_right[:,-2,:];\n",
    "\n",
    "v_3d_right = np.empty(u_3d_right.shape);\n",
    "v_3d_right[:,:,:-1,:] = v_3d_right_oneless;\n",
    "v_3d_right[:,:,-1,:] = v_3d_right[:,:,-2,:];"
   ]
  },
  {
   "cell_type": "code",
   "execution_count": 18,
   "metadata": {
    "collapsed": false
   },
   "outputs": [],
   "source": [
    "bdy_file = nc.Dataset('/ocean/ssahu/CANYONS/bdy_files/2d_right_m04.nc', 'w', zlib=True);\n",
    "\n",
    "bdy_file.createDimension('xbT', u_3d_right.shape[2]);\n",
    "bdy_file.createDimension('yb', u_3d_right.shape[3]);\n",
    "bdy_file.createDimension('time_counter', None);\n",
    "\n",
    "xbT = bdy_file.createVariable('xbT', 'int32', ('xbT',), zlib=True);\n",
    "xbT.units = 'indices';\n",
    "xbT.longname = 'indices along right boundary';\n",
    "\n",
    "yb = bdy_file.createVariable('yb', 'int32', ('yb',), zlib=True);\n",
    "yb.units = 'indices';\n",
    "yb.longname = 'a strip of indices across all of right boundary';\n",
    "\n",
    "time_counter = bdy_file.createVariable('time_counter', 'int32', ('time_counter',), zlib=True);\n",
    "time_counter.units = 's';\n",
    "time_counter.longname = 'time';\n",
    "\n",
    "sossheig = bdy_file.createVariable('sossheig', 'float32', ('time_counter', 'yb', 'xbT'), zlib=True);\n",
    "vobtcrtx = bdy_file.createVariable('vobtcrtx', 'float32', ('time_counter', 'yb', 'xbT'), zlib=True);\n",
    "vobtcrty = bdy_file.createVariable('vobtcrty', 'float32', ('time_counter', 'yb', 'xbT'), zlib=True);\n",
    "\n",
    "\n",
    "sossheig[:] = np.swapaxes(ssh_right, 1, 2)[:];\n",
    "vobtcrtx[:] = np.swapaxes(u_2d_right, 1, 2)[:];\n",
    "vobtcrty[:] = np.swapaxes(v_2d_right, 1, 2)[:];\n",
    "sossheig[:] = sossheig[:];\n",
    "vobtcrtx[:] = vobtcrtx[:];\n",
    "vobtcrty[:] = vobtcrty[:];\n",
    "\n",
    "bdy_file.close()"
   ]
  },
  {
   "cell_type": "code",
   "execution_count": 19,
   "metadata": {
    "collapsed": true
   },
   "outputs": [],
   "source": [
    "bdy_file = nc.Dataset('/ocean/ssahu/CANYONS/bdy_files/3d_right_m04.nc', 'w', zlib=True);\n",
    "\n",
    "\n",
    "bdy_file.createDimension('xbT', u_3d_right.shape[2]);\n",
    "bdy_file.createDimension('yb', u_3d_right.shape[3]);\n",
    "bdy_file.createDimension('deptht', u_3d_right.shape[1]);\n",
    "bdy_file.createDimension('time_counter', None);\n",
    "\n",
    "\n",
    "xbT = bdy_file.createVariable('xbT', 'int32', ('xbT',), zlib=True);\n",
    "xbT.units = 'indices';\n",
    "xbT.longname = 'indices along right boundary';\n",
    "\n",
    "yb = bdy_file.createVariable('yb', 'int32', ('yb',), zlib=True);\n",
    "yb.units = 'indices';\n",
    "yb.longname = 'a strip of indices across all of right boundary';\n",
    "\n",
    "deptht = bdy_file.createVariable('deptht', 'int32', ('deptht',), zlib=True);\n",
    "deptht.units = 'm';\n",
    "deptht.longname = 'Vertical T Levels';\n",
    "\n",
    "time_counter = bdy_file.createVariable('time_counter', 'int32', ('time_counter',), zlib=True);\n",
    "time_counter.units = 's';\n",
    "time_counter.longname = 'time';\n",
    "\n",
    "vozocrtx = bdy_file.createVariable('vozocrtx', 'float32', ('time_counter', 'deptht', 'yb', 'xbT'), zlib=True);\n",
    "vomecrty = bdy_file.createVariable('vomecrty', 'float32', ('time_counter', 'deptht', 'yb', 'xbT'), zlib=True);\n",
    "votemper = bdy_file.createVariable('votemper', 'float32', ('time_counter', 'deptht', 'yb', 'xbT'), zlib=True);\n",
    "vosaline = bdy_file.createVariable('vosaline', 'float32', ('time_counter', 'deptht', 'yb', 'xbT'), zlib=True);\n",
    "\n",
    "vozocrtx[:] = np.swapaxes(u_3d_right, 3, 2)[:];\n",
    "vomecrty[:] = np.swapaxes(v_3d_right, 3, 2)[:];\n",
    "votemper[:] = np.swapaxes(votemper_right, 3, 2)[:];\n",
    "vosaline[:] = np.swapaxes(vosaline_right, 3, 2)[:];\n",
    "\n",
    "bdy_file.close()\n",
    "\n",
    "\n"
   ]
  },
  {
   "cell_type": "markdown",
   "metadata": {},
   "source": [
    "#### Making the north boundary"
   ]
  },
  {
   "cell_type": "code",
   "execution_count": 20,
   "metadata": {
    "collapsed": false
   },
   "outputs": [],
   "source": [
    "u_3d_top_twoless = np.load('U_3D_wcvi_top.npy'); v_3d_top_oneless = np.load('V_3D_wcvi_top.npy');\n",
    "\n",
    "ssh_top = np.load('ssh_topbc.npy'); \n",
    "\n",
    "votemper_top = np.load('votemper_topbc.npy'); vosaline_top = np.load('vosaline_topbc.npy');\n",
    "\n",
    "u_2d_top_twoless = np.mean(u_3d_top_twoless, axis= 1); v_2d_top_oneless = np.mean(v_3d_top_oneless, axis=1);\n",
    "\n",
    "u_2d_top = np.empty((43,4,70)); \n",
    "u_2d_top[:,:,:-2] = u_2d_top_twoless;\n",
    "u_2d_top[:,:,-1] = u_2d_top[:,:,-3];\n",
    "u_2d_top[:,:,-2] = u_2d_top[:,:,-3];\n",
    "\n",
    "u_3d_top = np.empty((43,50,4,70)); \n",
    "u_3d_top[:,:,:,:-2] = u_3d_top_twoless;\n",
    "u_3d_top[:,:,:,-1] = u_3d_top[:,:,:,-3];\n",
    "u_3d_top[:,:,:,-2] = u_3d_top[:,:,:,-3];\n",
    "\n",
    "\n",
    "v_2d_top = np.empty((43,4,70)); \n",
    "v_2d_top[:,:,:-1] = v_2d_top_oneless;\n",
    "v_2d_top[:,:,-1] = v_2d_top[:,:,-2];\n",
    "\n",
    "\n",
    "v_3d_top = np.empty((43,50,4,70)); \n",
    "v_3d_top[:,:,:,:-1] = v_3d_top_oneless;\n",
    "v_3d_top[:,:,:,-1] = v_3d_top[:,:,:,-2];"
   ]
  },
  {
   "cell_type": "code",
   "execution_count": 21,
   "metadata": {
    "collapsed": false
   },
   "outputs": [],
   "source": [
    "bdy_file = nc.Dataset('/ocean/ssahu/CANYONS/bdy_files/2d_north_m04.nc', 'w', zlib=True);\n",
    "\n",
    "bdy_file.createDimension('xbT', u_3d_top.shape[3]);\n",
    "bdy_file.createDimension('yb', u_3d_top.shape[2]);\n",
    "bdy_file.createDimension('time_counter', None);\n",
    "\n",
    "xbT = bdy_file.createVariable('xbT', 'int32', ('xbT',), zlib=True);\n",
    "xbT.units = 'indices';\n",
    "xbT.longname = 'x indices along north boundary';\n",
    "\n",
    "yb = bdy_file.createVariable('yb', 'int32', ('yb',), zlib=True);\n",
    "yb.units = 'indices';\n",
    "yb.longname = 'a strip of y indices across all of north boundary';\n",
    "\n",
    "time_counter = bdy_file.createVariable('time_counter', 'int32', ('time_counter',), zlib=True);\n",
    "time_counter.units = 's';\n",
    "time_counter.longname = 'time';\n",
    "\n",
    "sossheig = bdy_file.createVariable('sossheig', 'float32', ('time_counter', 'yb', 'xbT'), zlib=True);\n",
    "vobtcrtx = bdy_file.createVariable('vobtcrtx', 'float32', ('time_counter', 'yb', 'xbT'), zlib=True);\n",
    "vobtcrty = bdy_file.createVariable('vobtcrty', 'float32', ('time_counter', 'yb', 'xbT'), zlib=True);\n",
    "\n",
    "\n",
    "sossheig[:] = ssh_top[:];\n",
    "vobtcrtx[:] = u_2d_top[:];\n",
    "vobtcrty[:] = v_2d_top[:];\n",
    "\n",
    "sossheig[:] = sossheig[:];\n",
    "vobtcrtx[:] = vobtcrtx[:];\n",
    "vobtcrty[:] = vobtcrty[:];\n",
    "\n",
    "bdy_file.close()\n"
   ]
  },
  {
   "cell_type": "code",
   "execution_count": 22,
   "metadata": {
    "collapsed": true
   },
   "outputs": [],
   "source": [
    "bdy_file = nc.Dataset('/ocean/ssahu/CANYONS/bdy_files/3d_north_m04.nc', 'w', zlib=True);\n",
    "\n",
    "\n",
    "bdy_file.createDimension('xbT', u_3d_top.shape[3]);\n",
    "bdy_file.createDimension('yb', u_3d_top.shape[2]);\n",
    "bdy_file.createDimension('deptht', u_3d_top.shape[1]);\n",
    "bdy_file.createDimension('time_counter', None);\n",
    "\n",
    "\n",
    "xbT = bdy_file.createVariable('xbT', 'int32', ('xbT',), zlib=True);\n",
    "xbT.units = 'indices';\n",
    "xbT.longname = 'x indices along north boundary';\n",
    "\n",
    "yb = bdy_file.createVariable('yb', 'int32', ('yb',), zlib=True);\n",
    "yb.units = 'indices';\n",
    "yb.longname = 'a strip of y indices across all of north boundary';\n",
    "\n",
    "deptht = bdy_file.createVariable('deptht', 'int32', ('deptht',), zlib=True);\n",
    "deptht.units = 'm';\n",
    "deptht.longname = 'Vertical T Levels';\n",
    "\n",
    "time_counter = bdy_file.createVariable('time_counter', 'int32', ('time_counter',), zlib=True);\n",
    "time_counter.units = 's';\n",
    "time_counter.longname = 'time';\n",
    "\n",
    "vozocrtx = bdy_file.createVariable('vozocrtx', 'float32', ('time_counter', 'deptht', 'yb', 'xbT'), zlib=True);\n",
    "vomecrty = bdy_file.createVariable('vomecrty', 'float32', ('time_counter', 'deptht', 'yb', 'xbT'), zlib=True);\n",
    "votemper = bdy_file.createVariable('votemper', 'float32', ('time_counter', 'deptht', 'yb', 'xbT'), zlib=True);\n",
    "vosaline = bdy_file.createVariable('vosaline', 'float32', ('time_counter', 'deptht', 'yb', 'xbT'), zlib=True);\n",
    "\n",
    "vozocrtx[:] = u_3d_top[:];\n",
    "vomecrty[:] = v_3d_top[:];\n",
    "votemper[:] = votemper_top[:];\n",
    "vosaline[:] = vosaline_top[:];\n",
    "\n",
    "bdy_file.close()\n"
   ]
  },
  {
   "cell_type": "code",
   "execution_count": 23,
   "metadata": {
    "collapsed": false
   },
   "outputs": [
    {
     "data": {
      "text/plain": [
       "(43, 4, 70)"
      ]
     },
     "execution_count": 23,
     "metadata": {},
     "output_type": "execute_result"
    }
   ],
   "source": [
    "u_2d_top.shape"
   ]
  },
  {
   "cell_type": "code",
   "execution_count": 24,
   "metadata": {
    "collapsed": false
   },
   "outputs": [
    {
     "data": {
      "text/plain": [
       "(43, 50, 4, 70)"
      ]
     },
     "execution_count": 24,
     "metadata": {},
     "output_type": "execute_result"
    }
   ],
   "source": [
    "v_3d_top.shape"
   ]
  },
  {
   "cell_type": "code",
   "execution_count": 25,
   "metadata": {
    "collapsed": false
   },
   "outputs": [
    {
     "data": {
      "text/plain": [
       "(43, 50, 4, 70)"
      ]
     },
     "execution_count": 25,
     "metadata": {},
     "output_type": "execute_result"
    }
   ],
   "source": [
    "u_3d_top.shape"
   ]
  },
  {
   "cell_type": "code",
   "execution_count": 26,
   "metadata": {
    "collapsed": false
   },
   "outputs": [
    {
     "data": {
      "text/plain": [
       "(43, 4, 70)"
      ]
     },
     "execution_count": 26,
     "metadata": {},
     "output_type": "execute_result"
    }
   ],
   "source": [
    "ssh_top.shape"
   ]
  },
  {
   "cell_type": "markdown",
   "metadata": {},
   "source": [
    "##### Making the bottom boundary"
   ]
  },
  {
   "cell_type": "code",
   "execution_count": 27,
   "metadata": {
    "collapsed": true
   },
   "outputs": [],
   "source": [
    "u_3d_bottom_twoless = np.load('U_3D_wcvi_bottom.npy'); v_3d_bottom_oneless = np.load('V_3D_wcvi_bottom.npy');\n",
    "\n",
    "ssh_bottom = np.load('ssh_bottombc.npy'); \n",
    "\n",
    "votemper_bottom = np.load('votemper_bottombc.npy'); vosaline_bottom = np.load('vosaline_bottombc.npy');\n",
    "\n",
    "\n",
    "u_2d_bottom_twoless = np.mean(u_3d_bottom_twoless, axis= 1); v_2d_bottom_oneless = np.mean(v_3d_bottom_oneless, axis=1);\n",
    "\n",
    "u_2d_bottom = np.empty((43,4,70)); \n",
    "u_2d_bottom[:,:,:-2] = u_2d_bottom_twoless;\n",
    "u_2d_bottom[:,:,-1] = u_2d_bottom[:,:,-3];\n",
    "u_2d_bottom[:,:,-2] = u_2d_bottom[:,:,-3];\n",
    "\n",
    "u_3d_bottom = np.empty((43,50,4,70)); \n",
    "u_3d_bottom[:,:,:,:-2] = u_3d_bottom_twoless;\n",
    "u_3d_bottom[:,:,:,-1] = u_3d_bottom[:,:,:,-3];\n",
    "u_3d_bottom[:,:,:,-2] = u_3d_bottom[:,:,:,-3];\n",
    "\n",
    "\n",
    "v_2d_bottom = np.empty((43,4,70)); \n",
    "v_2d_bottom[:,:,:-1] = v_2d_bottom_oneless;\n",
    "v_2d_bottom[:,:,-1] = v_2d_bottom[:,:,-2];\n",
    "\n",
    "\n",
    "v_3d_bottom = np.empty((43,50,4,70)); \n",
    "v_3d_bottom[:,:,:,:-1] = v_3d_bottom_oneless;\n",
    "v_3d_bottom[:,:,:,-1] = v_3d_bottom[:,:,:,-2];\n"
   ]
  },
  {
   "cell_type": "code",
   "execution_count": 28,
   "metadata": {
    "collapsed": false
   },
   "outputs": [],
   "source": [
    "bdy_file = nc.Dataset('/ocean/ssahu/CANYONS/bdy_files/2d_south_m04.nc', 'w', zlib=True);\n",
    "\n",
    "bdy_file.createDimension('xbT', u_3d_bottom.shape[3]);\n",
    "bdy_file.createDimension('yb', u_3d_bottom.shape[2]);\n",
    "bdy_file.createDimension('time_counter', None);\n",
    "\n",
    "xbT = bdy_file.createVariable('xbT', 'int32', ('xbT',), zlib=True);\n",
    "xbT.units = 'indices';\n",
    "xbT.longname = 'x indices along south boundary';\n",
    "\n",
    "yb = bdy_file.createVariable('yb', 'int32', ('yb',), zlib=True);\n",
    "yb.units = 'indices';\n",
    "yb.longname = 'a strip of y indices across all of south boundary';\n",
    "\n",
    "time_counter = bdy_file.createVariable('time_counter', 'int32', ('time_counter',), zlib=True);\n",
    "time_counter.units = 's';\n",
    "time_counter.longname = 'time';\n",
    "\n",
    "sossheig = bdy_file.createVariable('sossheig', 'float32', ('time_counter', 'yb', 'xbT'), zlib=True);\n",
    "vobtcrtx = bdy_file.createVariable('vobtcrtx', 'float32', ('time_counter', 'yb', 'xbT'), zlib=True);\n",
    "vobtcrty = bdy_file.createVariable('vobtcrty', 'float32', ('time_counter', 'yb', 'xbT'), zlib=True);\n",
    "\n",
    "\n",
    "sossheig[:] = ssh_bottom[:];\n",
    "vobtcrtx[:] = u_2d_bottom[:];\n",
    "vobtcrty[:] = v_2d_bottom[:];\n",
    "\n",
    "sossheig[:] = sossheig[:];\n",
    "vobtcrtx[:] = vobtcrtx[:];\n",
    "vobtcrty[:] = vobtcrty[:];\n",
    "\n",
    "bdy_file.close()"
   ]
  },
  {
   "cell_type": "code",
   "execution_count": 29,
   "metadata": {
    "collapsed": true
   },
   "outputs": [],
   "source": [
    "bdy_file = nc.Dataset('/ocean/ssahu/CANYONS/bdy_files/3d_south_m04.nc', 'w', zlib=True);\n",
    "\n",
    "\n",
    "bdy_file.createDimension('xbT', u_3d_bottom.shape[3]);\n",
    "bdy_file.createDimension('yb', u_3d_bottom.shape[2]);\n",
    "bdy_file.createDimension('deptht', u_3d_bottom.shape[1]);\n",
    "bdy_file.createDimension('time_counter', None);\n",
    "\n",
    "\n",
    "xbT = bdy_file.createVariable('xbT', 'int32', ('xbT',), zlib=True);\n",
    "xbT.units = 'indices';\n",
    "xbT.longname = 'x indices along south boundary';\n",
    "\n",
    "yb = bdy_file.createVariable('yb', 'int32', ('yb',), zlib=True);\n",
    "yb.units = 'indices';\n",
    "yb.longname = 'a strip of y indices across all of south boundary';\n",
    "\n",
    "deptht = bdy_file.createVariable('deptht', 'int32', ('deptht',), zlib=True);\n",
    "deptht.units = 'm';\n",
    "deptht.longname = 'Vertical T Levels';\n",
    "\n",
    "time_counter = bdy_file.createVariable('time_counter', 'int32', ('time_counter',), zlib=True);\n",
    "time_counter.units = 's';\n",
    "time_counter.longname = 'time';\n",
    "\n",
    "vozocrtx = bdy_file.createVariable('vozocrtx', 'float32', ('time_counter', 'deptht', 'yb', 'xbT'), zlib=True);\n",
    "vomecrty = bdy_file.createVariable('vomecrty', 'float32', ('time_counter', 'deptht', 'yb', 'xbT'), zlib=True);\n",
    "votemper = bdy_file.createVariable('votemper', 'float32', ('time_counter', 'deptht', 'yb', 'xbT'), zlib=True);\n",
    "vosaline = bdy_file.createVariable('vosaline', 'float32', ('time_counter', 'deptht', 'yb', 'xbT'), zlib=True);\n",
    "\n",
    "vozocrtx[:] = u_3d_bottom[:];\n",
    "vomecrty[:] = v_3d_bottom[:];\n",
    "votemper[:] = votemper_bottom[:];\n",
    "vosaline[:] = vosaline_bottom[:];\n",
    "\n",
    "bdy_file.close()"
   ]
  },
  {
   "cell_type": "code",
   "execution_count": 30,
   "metadata": {
    "collapsed": false
   },
   "outputs": [
    {
     "data": {
      "text/plain": [
       "(43, 50, 4, 70)"
      ]
     },
     "execution_count": 30,
     "metadata": {},
     "output_type": "execute_result"
    }
   ],
   "source": [
    "u_3d_bottom.shape"
   ]
  },
  {
   "cell_type": "code",
   "execution_count": 31,
   "metadata": {
    "collapsed": false
   },
   "outputs": [
    {
     "data": {
      "text/plain": [
       "(43, 50, 4, 70)"
      ]
     },
     "execution_count": 31,
     "metadata": {},
     "output_type": "execute_result"
    }
   ],
   "source": [
    "v_3d_bottom.shape"
   ]
  },
  {
   "cell_type": "code",
   "execution_count": 32,
   "metadata": {
    "collapsed": false
   },
   "outputs": [
    {
     "data": {
      "text/plain": [
       "(43, 50, 4, 70)"
      ]
     },
     "execution_count": 32,
     "metadata": {},
     "output_type": "execute_result"
    }
   ],
   "source": [
    "votemper_bottom.shape"
   ]
  },
  {
   "cell_type": "code",
   "execution_count": null,
   "metadata": {
    "collapsed": false
   },
   "outputs": [],
   "source": []
  },
  {
   "cell_type": "code",
   "execution_count": null,
   "metadata": {
    "collapsed": true
   },
   "outputs": [],
   "source": []
  }
 ],
 "metadata": {
  "anaconda-cloud": {},
  "kernelspec": {
   "display_name": "Python [conda root]",
   "language": "python",
   "name": "conda-root-py"
  },
  "language_info": {
   "codemirror_mode": {
    "name": "ipython",
    "version": 3
   },
   "file_extension": ".py",
   "mimetype": "text/x-python",
   "name": "python",
   "nbconvert_exporter": "python",
   "pygments_lexer": "ipython3",
   "version": "3.5.2"
  }
 },
 "nbformat": 4,
 "nbformat_minor": 1
}
