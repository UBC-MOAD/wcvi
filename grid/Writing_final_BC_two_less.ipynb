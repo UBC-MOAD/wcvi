{
 "cells": [
  {
   "cell_type": "code",
   "execution_count": 1,
   "metadata": {
    "collapsed": false
   },
   "outputs": [
    {
     "name": "stderr",
     "output_type": "stream",
     "text": [
      "/home/ssahu/anaconda3/lib/python3.5/site-packages/xarray/conventions.py:9: FutureWarning: The pandas.tslib module is deprecated and will be removed in a future version.\n",
      "  from pandas.tslib import OutOfBoundsDatetime\n"
     ]
    }
   ],
   "source": [
    "%matplotlib inline\n",
    "import matplotlib.pyplot as plt\n",
    "import numpy as np\n",
    "import netCDF4 as nc\n",
    "import xarray as xr\n",
    "import matplotlib.cm as cm\n",
    "from scipy.interpolate import interp1d\n",
    "from salishsea_tools import (nc_tools, gsw_calls,viz_tools)"
   ]
  },
  {
   "cell_type": "code",
   "execution_count": 2,
   "metadata": {
    "collapsed": false
   },
   "outputs": [
    {
     "name": "stdout",
     "output_type": "stream",
     "text": [
      "(43, 27, 4, 98) (43, 27, 4, 98)\n"
     ]
    }
   ],
   "source": [
    "west_bdy_3d = nc.Dataset('/ocean/ssahu/CANYONS/bdy_files/3d_NEMO_west_m04.nc');\n",
    "\n",
    "deptht_full = west_bdy_3d.variables['deptht'][:];\n",
    "vozocrtx_full = west_bdy_3d.variables['vozocrtx'][:,:,:,1:-1];\n",
    "vomecrty_full = west_bdy_3d.variables['vomecrty'][:,:,:,1:-1];\n",
    "votemper_full = west_bdy_3d.variables['votemper'][:,:,:,1:-1];\n",
    "vosaline_full = west_bdy_3d.variables['vosaline'][:,:,:,1:-1];\n",
    "\n",
    "print(votemper_full.shape, vozocrtx_full.shape)\n",
    "\n",
    "#Now let us write the 3d boundary condition for the left boundary\n",
    "\n",
    "bdy_file = nc.Dataset('/ocean/ssahu/CANYONS/bdy_files/3d_NEMO_west_twoless_m04.nc', 'w', zlib=True);\n",
    "\n",
    "\n",
    "bdy_file.createDimension('xb', vosaline_full.shape[3]);\n",
    "bdy_file.createDimension('yb', vosaline_full.shape[2]);\n",
    "bdy_file.createDimension('deptht', vosaline_full.shape[1]);\n",
    "bdy_file.createDimension('time_counter', None);\n",
    "\n",
    "\n",
    "xb = bdy_file.createVariable('xb', 'int32', ('xb',), zlib=True);\n",
    "xb.units = 'indices';\n",
    "xb.longname = 'x indices along left boundary';\n",
    "\n",
    "yb = bdy_file.createVariable('yb', 'int32', ('yb',), zlib=True);\n",
    "yb.units = 'indices';\n",
    "yb.longname = 'a strip of y indices across all of left boundary';\n",
    "\n",
    "deptht = bdy_file.createVariable('deptht', 'float32', ('deptht',), zlib=True);\n",
    "deptht.units = 'm';\n",
    "deptht.longname = 'Vertical T Levels';\n",
    "\n",
    "time_counter = bdy_file.createVariable('time_counter', 'int32', ('time_counter',), zlib=True);\n",
    "time_counter.units = 's';\n",
    "time_counter.longname = 'time';\n",
    "\n",
    "vozocrtx = bdy_file.createVariable('vozocrtx', 'float32', ('time_counter', 'deptht', 'yb', 'xb'), zlib=True);\n",
    "vomecrty = bdy_file.createVariable('vomecrty', 'float32', ('time_counter', 'deptht', 'yb', 'xb'), zlib=True);\n",
    "votemper = bdy_file.createVariable('votemper', 'float32', ('time_counter', 'deptht', 'yb', 'xb'), zlib=True);\n",
    "vosaline = bdy_file.createVariable('vosaline', 'float32', ('time_counter', 'deptht', 'yb', 'xb'), zlib=True);\n",
    "\n",
    "vozocrtx[:] = vozocrtx_full[:];\n",
    "vomecrty[:] = vomecrty_full[:];\n",
    "votemper[:] = votemper_full[:];\n",
    "vosaline[:] = vosaline_full[:];\n",
    "deptht[:] = deptht_full[:];\n",
    "\n",
    "#vozocrtx[:] = vozocrtx[:,:,::-1,:];### This is done because NEMO reads the file the other way around\n",
    "#vomecrty[:] = vomecrty[:,:,::-1,:];\n",
    "#votemper[:] = votemper[:,:,::-1,:];\n",
    "#vosaline[:] = vosaline[:,:,::-1,:];\n",
    "\n",
    "\n",
    "bdy_file.close()"
   ]
  },
  {
   "cell_type": "code",
   "execution_count": 3,
   "metadata": {
    "collapsed": false
   },
   "outputs": [
    {
     "name": "stdout",
     "output_type": "stream",
     "text": [
      "(43, 27, 4, 68) (43, 27, 4, 68)\n"
     ]
    }
   ],
   "source": [
    "north_bdy_3d = nc.Dataset('/ocean/ssahu/CANYONS/bdy_files/3d_NEMO_north_m04.nc');\n",
    "\n",
    "deptht_full = north_bdy_3d.variables['deptht'][:];\n",
    "vozocrtx_full = north_bdy_3d.variables['vozocrtx'][:,:,:,1:-1];\n",
    "vomecrty_full = north_bdy_3d.variables['vomecrty'][:,:,:,1:-1];\n",
    "votemper_full = north_bdy_3d.variables['votemper'][:,:,:,1:-1];\n",
    "vosaline_full = north_bdy_3d.variables['vosaline'][:,:,:,1:-1];\n",
    "\n",
    "print(votemper_full.shape, vozocrtx_full.shape)\n",
    "\n",
    "#Now let us write the 3d boundary condition for the left boundary\n",
    "\n",
    "bdy_file = nc.Dataset('/ocean/ssahu/CANYONS/bdy_files/3d_NEMO_north_twoless_m04.nc', 'w', zlib=True);\n",
    "\n",
    "\n",
    "bdy_file.createDimension('xb', vosaline_full.shape[3]);\n",
    "bdy_file.createDimension('yb', vosaline_full.shape[2]);\n",
    "bdy_file.createDimension('deptht', vosaline_full.shape[1]);\n",
    "bdy_file.createDimension('time_counter', None);\n",
    "\n",
    "\n",
    "xb = bdy_file.createVariable('xb', 'int32', ('xb',), zlib=True);\n",
    "xb.units = 'indices';\n",
    "xb.longname = 'x indices along left boundary';\n",
    "\n",
    "yb = bdy_file.createVariable('yb', 'int32', ('yb',), zlib=True);\n",
    "yb.units = 'indices';\n",
    "yb.longname = 'a strip of y indices across all of north boundary';\n",
    "\n",
    "deptht = bdy_file.createVariable('deptht', 'float32', ('deptht',), zlib=True);\n",
    "deptht.units = 'm';\n",
    "deptht.longname = 'Vertical T Levels';\n",
    "\n",
    "time_counter = bdy_file.createVariable('time_counter', 'int32', ('time_counter',), zlib=True);\n",
    "time_counter.units = 's';\n",
    "time_counter.longname = 'time';\n",
    "\n",
    "vozocrtx = bdy_file.createVariable('vozocrtx', 'float32', ('time_counter', 'deptht', 'yb', 'xb'), zlib=True);\n",
    "vomecrty = bdy_file.createVariable('vomecrty', 'float32', ('time_counter', 'deptht', 'yb', 'xb'), zlib=True);\n",
    "votemper = bdy_file.createVariable('votemper', 'float32', ('time_counter', 'deptht', 'yb', 'xb'), zlib=True);\n",
    "vosaline = bdy_file.createVariable('vosaline', 'float32', ('time_counter', 'deptht', 'yb', 'xb'), zlib=True);\n",
    "\n",
    "vozocrtx[:] = vozocrtx_full[:];\n",
    "vomecrty[:] = vomecrty_full[:];\n",
    "votemper[:] = votemper_full[:];\n",
    "vosaline[:] = vosaline_full[:];\n",
    "deptht[:] = deptht_full[:];\n",
    "\n",
    "#vozocrtx[:] = vozocrtx[:,:,::-1,:];### This is done because NEMO reads the file the other way around\n",
    "#vomecrty[:] = vomecrty[:,:,::-1,:];\n",
    "#votemper[:] = votemper[:,:,::-1,:];\n",
    "#vosaline[:] = vosaline[:,:,::-1,:];\n",
    "\n",
    "\n",
    "bdy_file.close()"
   ]
  },
  {
   "cell_type": "code",
   "execution_count": 2,
   "metadata": {
    "collapsed": false
   },
   "outputs": [
    {
     "name": "stdout",
     "output_type": "stream",
     "text": [
      "(43, 27, 4, 98) (43, 27, 4, 98)\n"
     ]
    }
   ],
   "source": [
    "east_bdy_3d = nc.Dataset('/ocean/ssahu/CANYONS/bdy_files/3d_NEMO_right_m04.nc');\n",
    "\n",
    "deptht_full = east_bdy_3d.variables['deptht'][:];\n",
    "vozocrtx_full = east_bdy_3d.variables['vozocrtx'][:,:,:,1:-1];\n",
    "vomecrty_full = east_bdy_3d.variables['vomecrty'][:,:,:,1:-1];\n",
    "votemper_full = east_bdy_3d.variables['votemper'][:,:,:,1:-1];\n",
    "vosaline_full = east_bdy_3d.variables['vosaline'][:,:,:,1:-1];\n",
    "\n",
    "print(votemper_full.shape, vozocrtx_full.shape)\n",
    "\n",
    "#Now let us write the 3d boundary condition for the left boundary\n",
    "\n",
    "bdy_file = nc.Dataset('/ocean/ssahu/CANYONS/bdy_files/3d_NEMO_right_twoless_m04.nc', 'w', zlib=True);\n",
    "\n",
    "\n",
    "bdy_file.createDimension('xb', vosaline_full.shape[3]);\n",
    "bdy_file.createDimension('yb', vosaline_full.shape[2]);\n",
    "bdy_file.createDimension('deptht', vosaline_full.shape[1]);\n",
    "bdy_file.createDimension('time_counter', None);\n",
    "\n",
    "\n",
    "xb = bdy_file.createVariable('xb', 'int32', ('xb',), zlib=True);\n",
    "xb.units = 'indices';\n",
    "xb.longname = 'x indices along left boundary';\n",
    "\n",
    "yb = bdy_file.createVariable('yb', 'int32', ('yb',), zlib=True);\n",
    "yb.units = 'indices';\n",
    "yb.longname = 'a strip of y indices across all of north boundary';\n",
    "\n",
    "deptht = bdy_file.createVariable('deptht', 'float32', ('deptht',), zlib=True);\n",
    "deptht.units = 'm';\n",
    "deptht.longname = 'Vertical T Levels';\n",
    "\n",
    "time_counter = bdy_file.createVariable('time_counter', 'int32', ('time_counter',), zlib=True);\n",
    "time_counter.units = 's';\n",
    "time_counter.longname = 'time';\n",
    "\n",
    "vozocrtx = bdy_file.createVariable('vozocrtx', 'float32', ('time_counter', 'deptht', 'yb', 'xb'), zlib=True);\n",
    "vomecrty = bdy_file.createVariable('vomecrty', 'float32', ('time_counter', 'deptht', 'yb', 'xb'), zlib=True);\n",
    "votemper = bdy_file.createVariable('votemper', 'float32', ('time_counter', 'deptht', 'yb', 'xb'), zlib=True);\n",
    "vosaline = bdy_file.createVariable('vosaline', 'float32', ('time_counter', 'deptht', 'yb', 'xb'), zlib=True);\n",
    "\n",
    "vozocrtx[:] = vozocrtx_full[:];\n",
    "vomecrty[:] = vomecrty_full[:];\n",
    "votemper[:] = votemper_full[:];\n",
    "vosaline[:] = vosaline_full[:];\n",
    "deptht[:] = deptht_full[:];\n",
    "\n",
    "#vozocrtx[:] = vozocrtx[:,:,::-1,:];### This is done because NEMO reads the file the other way around\n",
    "#vomecrty[:] = vomecrty[:,:,::-1,:];\n",
    "#votemper[:] = votemper[:,:,::-1,:];\n",
    "#vosaline[:] = vosaline[:,:,::-1,:];\n",
    "\n",
    "\n",
    "bdy_file.close()"
   ]
  },
  {
   "cell_type": "code",
   "execution_count": 3,
   "metadata": {
    "collapsed": false
   },
   "outputs": [
    {
     "name": "stdout",
     "output_type": "stream",
     "text": [
      "(43, 27, 4, 68) (43, 27, 4, 68)\n"
     ]
    }
   ],
   "source": [
    "south_bdy_3d = nc.Dataset('/ocean/ssahu/CANYONS/bdy_files/3d_NEMO_south_m04.nc');\n",
    "\n",
    "deptht_full = south_bdy_3d.variables['deptht'][:];\n",
    "vozocrtx_full = south_bdy_3d.variables['vozocrtx'][:,:,:,1:-1];\n",
    "vomecrty_full = south_bdy_3d.variables['vomecrty'][:,:,:,1:-1];\n",
    "votemper_full = south_bdy_3d.variables['votemper'][:,:,:,1:-1];\n",
    "vosaline_full = south_bdy_3d.variables['vosaline'][:,:,:,1:-1];\n",
    "\n",
    "print(votemper_full.shape, vozocrtx_full.shape)\n",
    "\n",
    "#Now let us write the 3d boundary condition for the left boundary\n",
    "\n",
    "bdy_file = nc.Dataset('/ocean/ssahu/CANYONS/bdy_files/3d_NEMO_south_twoless_m04.nc', 'w', zlib=True);\n",
    "\n",
    "\n",
    "bdy_file.createDimension('xb', vosaline_full.shape[3]);\n",
    "bdy_file.createDimension('yb', vosaline_full.shape[2]);\n",
    "bdy_file.createDimension('deptht', vosaline_full.shape[1]);\n",
    "bdy_file.createDimension('time_counter', None);\n",
    "\n",
    "\n",
    "xb = bdy_file.createVariable('xb', 'int32', ('xb',), zlib=True);\n",
    "xb.units = 'indices';\n",
    "xb.longname = 'x indices along left boundary';\n",
    "\n",
    "yb = bdy_file.createVariable('yb', 'int32', ('yb',), zlib=True);\n",
    "yb.units = 'indices';\n",
    "yb.longname = 'a strip of y indices across all of north boundary';\n",
    "\n",
    "deptht = bdy_file.createVariable('deptht', 'float32', ('deptht',), zlib=True);\n",
    "deptht.units = 'm';\n",
    "deptht.longname = 'Vertical T Levels';\n",
    "\n",
    "time_counter = bdy_file.createVariable('time_counter', 'int32', ('time_counter',), zlib=True);\n",
    "time_counter.units = 's';\n",
    "time_counter.longname = 'time';\n",
    "\n",
    "vozocrtx = bdy_file.createVariable('vozocrtx', 'float32', ('time_counter', 'deptht', 'yb', 'xb'), zlib=True);\n",
    "vomecrty = bdy_file.createVariable('vomecrty', 'float32', ('time_counter', 'deptht', 'yb', 'xb'), zlib=True);\n",
    "votemper = bdy_file.createVariable('votemper', 'float32', ('time_counter', 'deptht', 'yb', 'xb'), zlib=True);\n",
    "vosaline = bdy_file.createVariable('vosaline', 'float32', ('time_counter', 'deptht', 'yb', 'xb'), zlib=True);\n",
    "\n",
    "vozocrtx[:] = vozocrtx_full[:];\n",
    "vomecrty[:] = vomecrty_full[:];\n",
    "votemper[:] = votemper_full[:];\n",
    "vosaline[:] = vosaline_full[:];\n",
    "deptht[:] = deptht_full[:];\n",
    "\n",
    "#vozocrtx[:] = vozocrtx[:,:,::-1,:];### This is done because NEMO reads the file the other way around\n",
    "#vomecrty[:] = vomecrty[:,:,::-1,:];\n",
    "#votemper[:] = votemper[:,:,::-1,:];\n",
    "#vosaline[:] = vosaline[:,:,::-1,:];\n",
    "\n",
    "\n",
    "bdy_file.close()"
   ]
  },
  {
   "cell_type": "markdown",
   "metadata": {
    "collapsed": true
   },
   "source": [
    "#### Now let us make the 2d boundaries also two less to make it proper as we had decent success with the 3d boundaries"
   ]
  },
  {
   "cell_type": "code",
   "execution_count": 6,
   "metadata": {
    "collapsed": false
   },
   "outputs": [
    {
     "name": "stdout",
     "output_type": "stream",
     "text": [
      "(43, 4, 98) (43, 4, 98) (43, 4, 98)\n"
     ]
    }
   ],
   "source": [
    "west_2d_bdy_file = nc.Dataset('/ocean/ssahu/CANYONS/bdy_files/2d_west_m04.nc');\n",
    "\n",
    "sossheig_full = west_2d_bdy_file.variables['sossheig'][:,:,1:-1];\n",
    "vobtcrtx_full = west_2d_bdy_file.variables['vobtcrtx'][:,:,1:-1];\n",
    "vobtcrty_full = west_2d_bdy_file.variables['vobtcrty'][:,:,1:-1];\n",
    "\n",
    "print(sossheig_full.shape, vobtcrtx_full.shape, vobtcrty_full.shape);\n",
    "\n",
    "bdy_file = nc.Dataset('/ocean/ssahu/CANYONS/bdy_files/2d_west_twoless_m04.nc', 'w', zlib=True);\n",
    "\n",
    "bdy_file.createDimension('xbT', sossheig_full.shape[2]);\n",
    "bdy_file.createDimension('yb', sossheig_full.shape[1]);\n",
    "bdy_file.createDimension('time_counter', None);\n",
    "\n",
    "xbT = bdy_file.createVariable('xbT', 'int32', ('xbT',), zlib=True);\n",
    "xbT.units = 'indices';\n",
    "xbT.longname = 'indices along left boundary';\n",
    "\n",
    "yb = bdy_file.createVariable('yb', 'int32', ('yb',), zlib=True);\n",
    "yb.units = 'indices';\n",
    "yb.longname = 'a strip of indices across all of left boundary';\n",
    "\n",
    "time_counter = bdy_file.createVariable('time_counter', 'int32', ('time_counter',), zlib=True);\n",
    "time_counter.units = 's';\n",
    "time_counter.longname = 'time';\n",
    "\n",
    "sossheig = bdy_file.createVariable('sossheig', 'float32', ('time_counter', 'yb', 'xbT'), zlib=True);\n",
    "vobtcrtx = bdy_file.createVariable('vobtcrtx', 'float32', ('time_counter', 'yb', 'xbT'), zlib=True);\n",
    "vobtcrty = bdy_file.createVariable('vobtcrty', 'float32', ('time_counter', 'yb', 'xbT'), zlib=True);\n",
    "\n",
    "\n",
    "sossheig[:] = sossheig_full[:];\n",
    "vobtcrtx[:] = vobtcrtx_full[:];\n",
    "vobtcrty[:] = vobtcrty_full[:];\n",
    "\n",
    "\n",
    "bdy_file.close()"
   ]
  },
  {
   "cell_type": "code",
   "execution_count": 7,
   "metadata": {
    "collapsed": false
   },
   "outputs": [
    {
     "name": "stdout",
     "output_type": "stream",
     "text": [
      "(43, 4, 68) (43, 4, 68) (43, 4, 68)\n"
     ]
    }
   ],
   "source": [
    "north_2d_bdy_file = nc.Dataset('/ocean/ssahu/CANYONS/bdy_files/2d_north_m04.nc');\n",
    "\n",
    "sossheig_full = north_2d_bdy_file.variables['sossheig'][:,:,1:-1];\n",
    "vobtcrtx_full = north_2d_bdy_file.variables['vobtcrtx'][:,:,1:-1];\n",
    "vobtcrty_full = north_2d_bdy_file.variables['vobtcrty'][:,:,1:-1];\n",
    "\n",
    "print(sossheig_full.shape, vobtcrtx_full.shape, vobtcrty_full.shape);\n",
    "\n",
    "bdy_file = nc.Dataset('/ocean/ssahu/CANYONS/bdy_files/2d_north_twoless_m04.nc', 'w', zlib=True);\n",
    "\n",
    "bdy_file.createDimension('xbT', sossheig_full.shape[2]);\n",
    "bdy_file.createDimension('yb', sossheig_full.shape[1]);\n",
    "bdy_file.createDimension('time_counter', None);\n",
    "\n",
    "xbT = bdy_file.createVariable('xbT', 'int32', ('xbT',), zlib=True);\n",
    "xbT.units = 'indices';\n",
    "xbT.longname = 'indices along left boundary';\n",
    "\n",
    "yb = bdy_file.createVariable('yb', 'int32', ('yb',), zlib=True);\n",
    "yb.units = 'indices';\n",
    "yb.longname = 'a strip of indices across all of left boundary';\n",
    "\n",
    "time_counter = bdy_file.createVariable('time_counter', 'int32', ('time_counter',), zlib=True);\n",
    "time_counter.units = 's';\n",
    "time_counter.longname = 'time';\n",
    "\n",
    "sossheig = bdy_file.createVariable('sossheig', 'float32', ('time_counter', 'yb', 'xbT'), zlib=True);\n",
    "vobtcrtx = bdy_file.createVariable('vobtcrtx', 'float32', ('time_counter', 'yb', 'xbT'), zlib=True);\n",
    "vobtcrty = bdy_file.createVariable('vobtcrty', 'float32', ('time_counter', 'yb', 'xbT'), zlib=True);\n",
    "\n",
    "\n",
    "sossheig[:] = sossheig_full[:];\n",
    "vobtcrtx[:] = vobtcrtx_full[:];\n",
    "vobtcrty[:] = vobtcrty_full[:];\n",
    "\n",
    "\n",
    "bdy_file.close()"
   ]
  },
  {
   "cell_type": "code",
   "execution_count": 8,
   "metadata": {
    "collapsed": false
   },
   "outputs": [
    {
     "name": "stdout",
     "output_type": "stream",
     "text": [
      "(43, 4, 98) (43, 4, 98) (43, 4, 98)\n"
     ]
    }
   ],
   "source": [
    "east_2d_bdy_file = nc.Dataset('/ocean/ssahu/CANYONS/bdy_files/2d_right_m04.nc');\n",
    "\n",
    "sossheig_full = east_2d_bdy_file.variables['sossheig'][:,:,1:-1];\n",
    "vobtcrtx_full = east_2d_bdy_file.variables['vobtcrtx'][:,:,1:-1];\n",
    "vobtcrty_full = east_2d_bdy_file.variables['vobtcrty'][:,:,1:-1];\n",
    "\n",
    "print(sossheig_full.shape, vobtcrtx_full.shape, vobtcrty_full.shape);\n",
    "\n",
    "bdy_file = nc.Dataset('/ocean/ssahu/CANYONS/bdy_files/2d_right_twoless_m04.nc', 'w', zlib=True);\n",
    "\n",
    "bdy_file.createDimension('xbT', sossheig_full.shape[2]);\n",
    "bdy_file.createDimension('yb', sossheig_full.shape[1]);\n",
    "bdy_file.createDimension('time_counter', None);\n",
    "\n",
    "xbT = bdy_file.createVariable('xbT', 'int32', ('xbT',), zlib=True);\n",
    "xbT.units = 'indices';\n",
    "xbT.longname = 'indices along left boundary';\n",
    "\n",
    "yb = bdy_file.createVariable('yb', 'int32', ('yb',), zlib=True);\n",
    "yb.units = 'indices';\n",
    "yb.longname = 'a strip of indices across all of left boundary';\n",
    "\n",
    "time_counter = bdy_file.createVariable('time_counter', 'int32', ('time_counter',), zlib=True);\n",
    "time_counter.units = 's';\n",
    "time_counter.longname = 'time';\n",
    "\n",
    "sossheig = bdy_file.createVariable('sossheig', 'float32', ('time_counter', 'yb', 'xbT'), zlib=True);\n",
    "vobtcrtx = bdy_file.createVariable('vobtcrtx', 'float32', ('time_counter', 'yb', 'xbT'), zlib=True);\n",
    "vobtcrty = bdy_file.createVariable('vobtcrty', 'float32', ('time_counter', 'yb', 'xbT'), zlib=True);\n",
    "\n",
    "\n",
    "sossheig[:] = sossheig_full[:];\n",
    "vobtcrtx[:] = vobtcrtx_full[:];\n",
    "vobtcrty[:] = vobtcrty_full[:];\n",
    "\n",
    "\n",
    "bdy_file.close()"
   ]
  },
  {
   "cell_type": "code",
   "execution_count": 9,
   "metadata": {
    "collapsed": false
   },
   "outputs": [
    {
     "name": "stdout",
     "output_type": "stream",
     "text": [
      "(43, 4, 68) (43, 4, 68) (43, 4, 68)\n"
     ]
    }
   ],
   "source": [
    "south_2d_bdy_file = nc.Dataset('/ocean/ssahu/CANYONS/bdy_files/2d_south_m04.nc');\n",
    "\n",
    "sossheig_full = south_2d_bdy_file.variables['sossheig'][:,:,1:-1];\n",
    "vobtcrtx_full = south_2d_bdy_file.variables['vobtcrtx'][:,:,1:-1];\n",
    "vobtcrty_full = south_2d_bdy_file.variables['vobtcrty'][:,:,1:-1];\n",
    "\n",
    "print(sossheig_full.shape, vobtcrtx_full.shape, vobtcrty_full.shape);\n",
    "\n",
    "bdy_file = nc.Dataset('/ocean/ssahu/CANYONS/bdy_files/2d_south_twoless_m04.nc', 'w', zlib=True);\n",
    "\n",
    "bdy_file.createDimension('xbT', sossheig_full.shape[2]);\n",
    "bdy_file.createDimension('yb', sossheig_full.shape[1]);\n",
    "bdy_file.createDimension('time_counter', None);\n",
    "\n",
    "xbT = bdy_file.createVariable('xbT', 'int32', ('xbT',), zlib=True);\n",
    "xbT.units = 'indices';\n",
    "xbT.longname = 'indices along left boundary';\n",
    "\n",
    "yb = bdy_file.createVariable('yb', 'int32', ('yb',), zlib=True);\n",
    "yb.units = 'indices';\n",
    "yb.longname = 'a strip of indices across all of left boundary';\n",
    "\n",
    "time_counter = bdy_file.createVariable('time_counter', 'int32', ('time_counter',), zlib=True);\n",
    "time_counter.units = 's';\n",
    "time_counter.longname = 'time';\n",
    "\n",
    "sossheig = bdy_file.createVariable('sossheig', 'float32', ('time_counter', 'yb', 'xbT'), zlib=True);\n",
    "vobtcrtx = bdy_file.createVariable('vobtcrtx', 'float32', ('time_counter', 'yb', 'xbT'), zlib=True);\n",
    "vobtcrty = bdy_file.createVariable('vobtcrty', 'float32', ('time_counter', 'yb', 'xbT'), zlib=True);\n",
    "\n",
    "\n",
    "sossheig[:] = sossheig_full[:];\n",
    "vobtcrtx[:] = vobtcrtx_full[:];\n",
    "vobtcrty[:] = vobtcrty_full[:];\n",
    "\n",
    "\n",
    "bdy_file.close()"
   ]
  },
  {
   "cell_type": "code",
   "execution_count": 10,
   "metadata": {
    "collapsed": false
   },
   "outputs": [
    {
     "name": "stdout",
     "output_type": "stream",
     "text": [
      "<class 'netCDF4._netCDF4.Dimension'>: name = 'xbT', size = 100\n",
      "\n",
      "<class 'netCDF4._netCDF4.Dimension'>: name = 'yb', size = 4\n",
      "\n",
      "<class 'netCDF4._netCDF4.Dimension'> (unlimited): name = 'time_counter', size = 43\n",
      "\n"
     ]
    }
   ],
   "source": [
    "nc_tools.show_dimensions(west_2d_bdy_file)"
   ]
  },
  {
   "cell_type": "code",
   "execution_count": 11,
   "metadata": {
    "collapsed": false
   },
   "outputs": [
    {
     "name": "stdout",
     "output_type": "stream",
     "text": [
      "odict_keys(['xbT', 'yb', 'time_counter', 'sossheig', 'vobtcrtx', 'vobtcrty'])\n"
     ]
    }
   ],
   "source": [
    "nc_tools.show_variables(west_2d_bdy_file)"
   ]
  },
  {
   "cell_type": "code",
   "execution_count": 12,
   "metadata": {
    "collapsed": false
   },
   "outputs": [
    {
     "data": {
      "text/plain": [
       "(43, 4, 98)"
      ]
     },
     "execution_count": 12,
     "metadata": {},
     "output_type": "execute_result"
    }
   ],
   "source": [
    "sossheig = west_2d_bdy_file.variables['sossheig'][:,:,1:-1];\n",
    "sossheig.shape"
   ]
  },
  {
   "cell_type": "code",
   "execution_count": null,
   "metadata": {
    "collapsed": false
   },
   "outputs": [],
   "source": []
  },
  {
   "cell_type": "code",
   "execution_count": null,
   "metadata": {
    "collapsed": true
   },
   "outputs": [],
   "source": []
  }
 ],
 "metadata": {
  "anaconda-cloud": {},
  "kernelspec": {
   "display_name": "Python [conda root]",
   "language": "python",
   "name": "conda-root-py"
  },
  "language_info": {
   "codemirror_mode": {
    "name": "ipython",
    "version": 3
   },
   "file_extension": ".py",
   "mimetype": "text/x-python",
   "name": "python",
   "nbconvert_exporter": "python",
   "pygments_lexer": "ipython3",
   "version": "3.5.2"
  }
 },
 "nbformat": 4,
 "nbformat_minor": 1
}
