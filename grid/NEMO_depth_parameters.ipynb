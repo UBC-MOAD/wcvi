{
 "cells": [
  {
   "cell_type": "code",
   "execution_count": 1,
   "metadata": {
    "collapsed": true
   },
   "outputs": [],
   "source": [
    "import numpy as np\n",
    "import matplotlib.pyplot as plt\n",
    "%matplotlib inline"
   ]
  },
  {
   "cell_type": "code",
   "execution_count": 2,
   "metadata": {
    "collapsed": true
   },
   "outputs": [],
   "source": [
    "def NEMO_tanh(ks, a, kth, acr):\n",
    "    \"\"\"A generic tanh used in NEMO\"\"\"\n",
    "    return a* np.tanh((ks-kth)/acr)\n",
    "def NEMO_tanh_integral(ks, a, kth, acr):\n",
    "    \"\"\"A generic integrated tanh used in NEMO grid\"\"\"\n",
    "    return a*acr*np.log(np.cosh((ks-kth)/acr))"
   ]
  },
  {
   "cell_type": "code",
   "execution_count": 3,
   "metadata": {
    "collapsed": false
   },
   "outputs": [
    {
     "name": "stdout",
     "output_type": "stream",
     "text": [
      "4329.69182132\n"
     ]
    },
    {
     "data": {
      "text/plain": [
       "[<matplotlib.lines.Line2D at 0x7f03ac6245c0>]"
      ]
     },
     "execution_count": 3,
     "metadata": {},
     "output_type": "execute_result"
    },
    {
     "data": {
      "image/png": "[encoded data removed]",
      "text/plain": [
       "<matplotlib.figure.Figure at 0x7f03afc34ac8>"
      ]
     },
     "metadata": {},
     "output_type": "display_data"
    }
   ],
   "source": [
    "ks = np.arange(27)\n",
    "ppa0 = 155.3\n",
    "ppa1 = 146.\n",
    "ppkth = 12.\n",
    "ppacr = 3 #9.\n",
    "depths = ppa0*ks + NEMO_tanh_integral(ks, ppa1, ppkth, ppacr)\n",
    "ppsur = depths[0]\n",
    "depths = depths - ppsur\n",
    "print (depths[-1])\n",
    "plt.plot(ks, depths, 'o')"
   ]
  },
  {
   "cell_type": "code",
   "execution_count": 4,
   "metadata": {
    "collapsed": false
   },
   "outputs": [
    {
     "data": {
      "text/plain": [
       "1448.5484429060723"
      ]
     },
     "execution_count": 4,
     "metadata": {},
     "output_type": "execute_result"
    }
   ],
   "source": [
    "ppsur"
   ]
  },
  {
   "cell_type": "markdown",
   "metadata": {},
   "source": [
    "#### We will use these as our input NEMO parameters for now and get the NEMO levels from the mesh mask generated after one time step  \n",
    "\n",
    "#### Use the negative of the value of ppsur obtained as the output of the last cell in the NEMO namelist"
   ]
  },
  {
   "cell_type": "code",
   "execution_count": 5,
   "metadata": {
    "collapsed": false
   },
   "outputs": [
    {
     "name": "stdout",
     "output_type": "stream",
     "text": [
      "4329.69182132\n"
     ]
    },
    {
     "data": {
      "text/plain": [
       "(0, 500)"
      ]
     },
     "execution_count": 5,
     "metadata": {},
     "output_type": "execute_result"
    },
    {
     "data": {
      "image/png": "[encoded data removed]",
      "text/plain": [
       "<matplotlib.figure.Figure at 0x7f03ac650c50>"
      ]
     },
     "metadata": {},
     "output_type": "display_data"
    }
   ],
   "source": [
    "ks = np.arange(27)\n",
    "ppa0 = 155.3\n",
    "ppa1 = 146.\n",
    "ppkth = 12.\n",
    "ppacr = 3.\n",
    "depths = ppa0*ks + NEMO_tanh_integral(ks, ppa1, ppkth, ppacr)\n",
    "ppsur = depths[0]\n",
    "depths = depths - ppsur\n",
    "print (depths[-1])\n",
    "plt.plot(ks, depths, 'o')\n",
    "plt.ylim((0,500))"
   ]
  },
  {
   "cell_type": "markdown",
   "metadata": {},
   "source": [
    "#### Decided NEMO depths are these below and they can be found in the mesh_mask.nc in /ocean/ssahu/CANYONS/Runs/trial_run_mesh_mask_gen/"
   ]
  },
  {
   "cell_type": "code",
   "execution_count": 58,
   "metadata": {
    "collapsed": true
   },
   "outputs": [],
   "source": [
    "nav_lev = [14.75076, 24.42878, 34.46413, 45.19286, 57.26234, 71.90678, \n",
    "    91.43279, 119.99, 164.529, 235.2601, 344.0054, 499.3054, 701.1602, \n",
    "    941.0291, 1207.09, 1489.133, 1780.207, 2076.162, 2374.693, 2674.564, \n",
    "    2975.129, 3276.051, 3577.156, 3878.357, 4179.605, 4480.879, 4782.166];"
   ]
  },
  {
   "cell_type": "code",
   "execution_count": 59,
   "metadata": {
    "collapsed": false
   },
   "outputs": [
    {
     "name": "stdout",
     "output_type": "stream",
     "text": [
      "[14.75076, 24.42878, 34.46413, 45.19286, 57.26234, 71.90678, 91.43279, 119.99, 164.529, 235.2601, 344.0054, 499.3054, 701.1602, 941.0291, 1207.09, 1489.133, 1780.207, 2076.162, 2374.693, 2674.564, 2975.129, 3276.051, 3577.156, 3878.357, 4179.605, 4480.879, 4782.166]\n"
     ]
    }
   ],
   "source": [
    "print(nav_lev)"
   ]
  },
  {
   "cell_type": "code",
   "execution_count": 6,
   "metadata": {
    "collapsed": false
   },
   "outputs": [
    {
     "data": {
      "text/plain": [
       "array([    0.        ,     9.43918424,    19.01015122,    28.8374421 ,\n",
       "          39.16264578,    50.45260745,    63.60276044,    80.30605025,\n",
       "         103.67608192,   139.14756085,   195.32867799,   283.64719005,\n",
       "         415.05155709,   594.24719005,   816.52867799,  1070.94756085,\n",
       "        1346.07608192,  1633.30605025,  1927.20276044,  2224.65260745,\n",
       "        2523.96264578,  2824.2374421 ,  3125.01015122,  3426.03918424,\n",
       "        3727.2       ,  4028.42852324,  4329.69182132])"
      ]
     },
     "execution_count": 6,
     "metadata": {},
     "output_type": "execute_result"
    }
   ],
   "source": [
    "depths"
   ]
  },
  {
   "cell_type": "code",
   "execution_count": 7,
   "metadata": {
    "collapsed": false
   },
   "outputs": [
    {
     "name": "stdout",
     "output_type": "stream",
     "text": [
      "2071.17623126\n"
     ]
    },
    {
     "data": {
      "text/plain": [
       "[<matplotlib.lines.Line2D at 0x7f03ac5336d8>]"
      ]
     },
     "execution_count": 7,
     "metadata": {},
     "output_type": "execute_result"
    },
    {
     "data": {
      "image/png": "[encoded data removed]",
      "text/plain": [
       "<matplotlib.figure.Figure at 0x7f03ac551e48>"
      ]
     },
     "metadata": {},
     "output_type": "display_data"
    }
   ],
   "source": [
    "ks = np.arange(40)\n",
    "ppa0 = 155.3\n",
    "ppa1 = 146.\n",
    "ppkth = 35.\n",
    "ppacr = 10.\n",
    "depths = ppa0*ks + NEMO_tanh_integral(ks, ppa1, ppkth, ppacr)\n",
    "ppsur = depths[0]\n",
    "depths = depths - ppsur\n",
    "print (depths[-1])\n",
    "plt.plot(ks, depths, 'o')\n",
    "# plt.ylim((0,500))"
   ]
  },
  {
   "cell_type": "code",
   "execution_count": 8,
   "metadata": {
    "collapsed": false
   },
   "outputs": [
    {
     "data": {
      "text/plain": [
       "4099.3358574049898"
      ]
     },
     "execution_count": 8,
     "metadata": {},
     "output_type": "execute_result"
    }
   ],
   "source": [
    "ppsur"
   ]
  },
  {
   "cell_type": "code",
   "execution_count": 4,
   "metadata": {
    "collapsed": false
   },
   "outputs": [
    {
     "data": {
      "text/plain": [
       "<matplotlib.text.Text at 0x7f28a4893588>"
      ]
     },
     "execution_count": 4,
     "metadata": {},
     "output_type": "execute_result"
    },
    {
     "data": {
      "image/png": "[encoded data removed]",
      "text/plain": [
       "<matplotlib.figure.Figure at 0x7f28a49a76a0>"
      ]
     },
     "metadata": {},
     "output_type": "display_data"
    }
   ],
   "source": [
    "depths_diff = np.ediff1d(depths)\n",
    "\n",
    "fig1, (ax1, ax2) = plt.subplots(1,2,figsize=(12,10))\n",
    "\n",
    "ax1.set_ylim(np.min(depths),np.max(depths))\n",
    "ax2.set_ylim(0,np.max(depths_diff))\n",
    "\n",
    "q1 = ax1.plot(ks,depths,'o')\n",
    "ax1.set_ylabel(\"Depth (in m))\")\n",
    "ax1.set_xlabel('z index')\n",
    "\n",
    "\n",
    "q2 = ax2.plot(ks[1:],depths_diff,'o')\n",
    "ax2.set_ylabel(\" Vertical Grid Spacing (in m))\")\n",
    "ax2.set_xlabel('z index')\n",
    "\n",
    "\n",
    "# plt.plot(ks[1:], depths_diff, 'o')"
   ]
  },
  {
   "cell_type": "code",
   "execution_count": 48,
   "metadata": {
    "collapsed": false
   },
   "outputs": [
    {
     "data": {
      "text/plain": [
       "(array([ 0,  1,  2,  3,  4,  5,  6,  7,  8,  9, 10, 11, 12, 13, 14, 15, 16,\n",
       "        17]),)"
      ]
     },
     "execution_count": 48,
     "metadata": {},
     "output_type": "execute_result"
    }
   ],
   "source": [
    "np.where(depths<=200)"
   ]
  },
  {
   "cell_type": "code",
   "execution_count": 49,
   "metadata": {
    "collapsed": false
   },
   "outputs": [
    {
     "data": {
      "text/plain": [
       "196.12661476947414"
      ]
     },
     "execution_count": 49,
     "metadata": {},
     "output_type": "execute_result"
    }
   ],
   "source": [
    "depths[17]"
   ]
  },
  {
   "cell_type": "code",
   "execution_count": 53,
   "metadata": {
    "collapsed": false
   },
   "outputs": [
    {
     "data": {
      "text/plain": [
       "16.355999767860339"
      ]
     },
     "execution_count": 53,
     "metadata": {},
     "output_type": "execute_result"
    }
   ],
   "source": [
    "depths_diff[16]"
   ]
  },
  {
   "cell_type": "code",
   "execution_count": 55,
   "metadata": {
    "collapsed": false
   },
   "outputs": [
    {
     "data": {
      "text/plain": [
       "204.37456457436292"
      ]
     },
     "execution_count": 55,
     "metadata": {},
     "output_type": "execute_result"
    }
   ],
   "source": [
    "np.max(depths_diff)"
   ]
  },
  {
   "cell_type": "code",
   "execution_count": 7,
   "metadata": {
    "collapsed": false
   },
   "outputs": [
    {
     "data": {
      "text/plain": [
       "array([    0.        ,     9.5944658 ,    19.2540466 ,    28.99311946,\n",
       "          38.8292252 ,    48.78375928,    58.88281114,    69.15818238,\n",
       "          79.6486202 ,    90.40130869,   101.47366777,   112.93551729,\n",
       "         124.87167098,   137.3850325 ,   150.6002708 ,   164.66815374,\n",
       "         179.770615  ,   196.12661477,   213.9988258 ,   233.70112539,\n",
       "         255.60679228,   280.15718536,   307.87050925,   339.35004112,\n",
       "         375.29090584,   416.4841551 ,   463.81657035,   518.26434067,\n",
       "         580.87867746,   652.76166129,   735.03132275,   828.77623126,\n",
       "         935.00166669,  1054.57152748,  1188.15200827,  1336.1641426 ,\n",
       "        1498.75200827,  1675.77152748,  1866.80166669,  2071.17623126])"
      ]
     },
     "execution_count": 7,
     "metadata": {},
     "output_type": "execute_result"
    }
   ],
   "source": [
    "depths"
   ]
  },
  {
   "cell_type": "code",
   "execution_count": null,
   "metadata": {
    "collapsed": true
   },
   "outputs": [],
   "source": []
  }
 ],
 "metadata": {
  "anaconda-cloud": {},
  "kernelspec": {
   "display_name": "Python [conda root]",
   "language": "python",
   "name": "conda-root-py"
  },
  "language_info": {
   "codemirror_mode": {
    "name": "ipython",
    "version": 3
   },
   "file_extension": ".py",
   "mimetype": "text/x-python",
   "name": "python",
   "nbconvert_exporter": "python",
   "pygments_lexer": "ipython3",
   "version": "3.5.2"
  }
 },
 "nbformat": 4,
 "nbformat_minor": 1
}
