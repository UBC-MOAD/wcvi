{
 "cells": [
  {
   "cell_type": "code",
   "execution_count": 1,
   "metadata": {
    "collapsed": true
   },
   "outputs": [],
   "source": [
    "import numpy as np\n",
    "import matplotlib.pyplot as plt\n",
    "%matplotlib inline"
   ]
  },
  {
   "cell_type": "code",
   "execution_count": 2,
   "metadata": {
    "collapsed": true
   },
   "outputs": [],
   "source": [
    "def NEMO_tanh(ks, a, kth, acr):\n",
    "    \"\"\"A generic tanh used in NEMO\"\"\"\n",
    "    return a* np.tanh((ks-kth)/acr)\n",
    "def NEMO_tanh_integral(ks, a, kth, acr):\n",
    "    \"\"\"A generic integrated tanh used in NEMO grid\"\"\"\n",
    "    return a*acr*np.log(np.cosh((ks-kth)/acr))"
   ]
  },
  {
   "cell_type": "code",
   "execution_count": 20,
   "metadata": {
    "collapsed": false
   },
   "outputs": [
    {
     "name": "stdout",
     "output_type": "stream",
     "text": [
      "4329.69182132\n"
     ]
    },
    {
     "data": {
      "text/plain": [
       "[<matplotlib.lines.Line2D at 0x7f82b707e160>]"
      ]
     },
     "execution_count": 20,
     "metadata": {},
     "output_type": "execute_result"
    },
    {
     "data": {
      "image/png": "[encoded data removed]",
      "text/plain": [
       "<matplotlib.figure.Figure at 0x7f82b727f7f0>"
      ]
     },
     "metadata": {},
     "output_type": "display_data"
    }
   ],
   "source": [
    "ks = np.arange(27)\n",
    "ppa0 = 155.3\n",
    "ppa1 = 146.\n",
    "ppkth = 12.\n",
    "ppacr = 3 #9.\n",
    "depths = ppa0*ks + NEMO_tanh_integral(ks, ppa1, ppkth, ppacr)\n",
    "ppsur = depths[0]\n",
    "depths = depths - ppsur\n",
    "print (depths[-1])\n",
    "plt.plot(ks, depths, 'o')"
   ]
  },
  {
   "cell_type": "code",
   "execution_count": 57,
   "metadata": {
    "collapsed": false
   },
   "outputs": [
    {
     "data": {
      "text/plain": [
       "1448.5484429060723"
      ]
     },
     "execution_count": 57,
     "metadata": {},
     "output_type": "execute_result"
    }
   ],
   "source": [
    "ppsur"
   ]
  },
  {
   "cell_type": "markdown",
   "metadata": {},
   "source": [
    "#### We will use these as our input NEMO parameters for now and get the NEMO levels from the mesh mask generated after one time step  \n",
    "\n",
    "#### Use the negative of the value of ppsur obtained as the output of the last cell in the NEMO namelist"
   ]
  },
  {
   "cell_type": "code",
   "execution_count": 26,
   "metadata": {
    "collapsed": false
   },
   "outputs": [
    {
     "name": "stdout",
     "output_type": "stream",
     "text": [
      "4329.69182132\n"
     ]
    },
    {
     "data": {
      "text/plain": [
       "(0, 500)"
      ]
     },
     "execution_count": 26,
     "metadata": {},
     "output_type": "execute_result"
    },
    {
     "data": {
      "image/png": "[encoded data removed]",
      "text/plain": [
       "<matplotlib.figure.Figure at 0x7f82b6e9d0b8>"
      ]
     },
     "metadata": {},
     "output_type": "display_data"
    }
   ],
   "source": [
    "ks = np.arange(27)\n",
    "ppa0 = 155.3\n",
    "ppa1 = 146.\n",
    "ppkth = 12.\n",
    "ppacr = 3.\n",
    "depths = ppa0*ks + NEMO_tanh_integral(ks, ppa1, ppkth, ppacr)\n",
    "ppsur = depths[0]\n",
    "depths = depths - ppsur\n",
    "print (depths[-1])\n",
    "plt.plot(ks, depths, 'o')\n",
    "plt.ylim((0,500))"
   ]
  },
  {
   "cell_type": "markdown",
   "metadata": {},
   "source": [
    "#### Decided NEMO depths are these below and they can be found in the mesh_mask.nc in /ocean/ssahu/CANYONS/Runs/trial_run_mesh_mask_gen/"
   ]
  },
  {
   "cell_type": "code",
   "execution_count": 58,
   "metadata": {
    "collapsed": true
   },
   "outputs": [],
   "source": [
    "nav_lev = [14.75076, 24.42878, 34.46413, 45.19286, 57.26234, 71.90678, \n",
    "    91.43279, 119.99, 164.529, 235.2601, 344.0054, 499.3054, 701.1602, \n",
    "    941.0291, 1207.09, 1489.133, 1780.207, 2076.162, 2374.693, 2674.564, \n",
    "    2975.129, 3276.051, 3577.156, 3878.357, 4179.605, 4480.879, 4782.166];"
   ]
  },
  {
   "cell_type": "code",
   "execution_count": 59,
   "metadata": {
    "collapsed": false
   },
   "outputs": [
    {
     "name": "stdout",
     "output_type": "stream",
     "text": [
      "[14.75076, 24.42878, 34.46413, 45.19286, 57.26234, 71.90678, 91.43279, 119.99, 164.529, 235.2601, 344.0054, 499.3054, 701.1602, 941.0291, 1207.09, 1489.133, 1780.207, 2076.162, 2374.693, 2674.564, 2975.129, 3276.051, 3577.156, 3878.357, 4179.605, 4480.879, 4782.166]\n"
     ]
    }
   ],
   "source": [
    "print(nav_lev)"
   ]
  },
  {
   "cell_type": "code",
   "execution_count": 25,
   "metadata": {
    "collapsed": false
   },
   "outputs": [
    {
     "data": {
      "text/plain": [
       "array([    0.        ,    10.87015522,    22.12841077,    33.869885  ,\n",
       "          46.21256095,    59.30253635,    73.32034396,    88.48848556,\n",
       "         105.08029824,   123.4302134 ,   143.94536108,   167.11829159,\n",
       "         193.5403084 ,   223.91450577,   259.06706958,   299.95474519,\n",
       "         347.6656744 ,   403.41020992,   468.49809663,   544.298923  ,\n",
       "         632.1843617 ,   733.4536328 ,   849.2476105 ,   980.46121025,\n",
       "        1127.66673393,  1291.06121025,  1470.4476105 ])"
      ]
     },
     "execution_count": 25,
     "metadata": {},
     "output_type": "execute_result"
    }
   ],
   "source": [
    "depths"
   ]
  },
  {
   "cell_type": "code",
   "execution_count": 31,
   "metadata": {
    "collapsed": false
   },
   "outputs": [
    {
     "name": "stdout",
     "output_type": "stream",
     "text": [
      "2285.88553568\n"
     ]
    },
    {
     "data": {
      "text/plain": [
       "[<matplotlib.lines.Line2D at 0x7f82b70cda20>]"
      ]
     },
     "execution_count": 31,
     "metadata": {},
     "output_type": "execute_result"
    },
    {
     "data": {
      "image/png": "[encoded data removed]",
      "text/plain": [
       "<matplotlib.figure.Figure at 0x7f82b7488400>"
      ]
     },
     "metadata": {},
     "output_type": "display_data"
    }
   ],
   "source": [
    "ks = np.arange(27)\n",
    "ppa0 = 155.3\n",
    "ppa1 = 146.\n",
    "ppkth = 20.\n",
    "ppacr = 9.\n",
    "depths = ppa0*ks + NEMO_tanh_integral(ks, ppa1, ppkth, ppacr)\n",
    "ppsur = depths[0]\n",
    "depths = depths - ppsur\n",
    "print (depths[-1])\n",
    "plt.plot(ks, depths, 'o')\n",
    "# plt.ylim((0,500))"
   ]
  },
  {
   "cell_type": "code",
   "execution_count": null,
   "metadata": {
    "collapsed": true
   },
   "outputs": [],
   "source": []
  }
 ],
 "metadata": {
  "anaconda-cloud": {},
  "kernelspec": {
   "display_name": "Python [conda root]",
   "language": "python",
   "name": "conda-root-py"
  },
  "language_info": {
   "codemirror_mode": {
    "name": "ipython",
    "version": 3
   },
   "file_extension": ".py",
   "mimetype": "text/x-python",
   "name": "python",
   "nbconvert_exporter": "python",
   "pygments_lexer": "ipython3",
   "version": "3.5.2"
  }
 },
 "nbformat": 4,
 "nbformat_minor": 1
}
