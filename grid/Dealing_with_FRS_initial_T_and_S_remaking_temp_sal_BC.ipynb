{
 "cells": [
  {
   "cell_type": "markdown",
   "metadata": {},
   "source": [
    "### This notebook deals with the instability arising out using the frs BC for traces and tries to find out if there is a mismatch between the input T and S and that at our boundaries at the time when the model is initialised (IC state is equal to the BC at time t = 0)\n",
    "\n",
    "## The second part of this notebook also deals with the remaking of votemper and vosaline BC for NEMO (to remove the overturning effect being created in the model)"
   ]
  },
  {
   "cell_type": "code",
   "execution_count": 2,
   "metadata": {
    "collapsed": false
   },
   "outputs": [
    {
     "name": "stderr",
     "output_type": "stream",
     "text": [
      "/home/ssahu/anaconda3/lib/python3.5/site-packages/xarray/conventions.py:9: FutureWarning: The pandas.tslib module is deprecated and will be removed in a future version.\n",
      "  from pandas.tslib import OutOfBoundsDatetime\n"
     ]
    }
   ],
   "source": [
    "%matplotlib inline\n",
    "import matplotlib.pyplot as plt\n",
    "import numpy as np\n",
    "import netCDF4 as nc\n",
    "import xarray as xr\n",
    "import matplotlib.cm as cm\n",
    "from scipy.interpolate import interp1d\n",
    "from salishsea_tools import (nc_tools, gsw_calls, viz_tools)"
   ]
  },
  {
   "cell_type": "markdown",
   "metadata": {},
   "source": [
    "#### Let us load the IC for our NEMO model"
   ]
  },
  {
   "cell_type": "code",
   "execution_count": 27,
   "metadata": {
    "collapsed": false
   },
   "outputs": [],
   "source": [
    "IC_file = nc.Dataset('/ocean/ssahu/CANYONS/wcvi/initial_conditions/West_coast_NEMO_IC_temperature_salinity_nomask_JP.nc')"
   ]
  },
  {
   "cell_type": "code",
   "execution_count": 28,
   "metadata": {
    "collapsed": false
   },
   "outputs": [],
   "source": [
    "votem_IC = IC_file.variables['votemper'][:];\n",
    "vosal_IC = IC_file.variables['vosaline'][:];"
   ]
  },
  {
   "cell_type": "code",
   "execution_count": 29,
   "metadata": {
    "collapsed": false
   },
   "outputs": [
    {
     "data": {
      "text/plain": [
       "(1, 27, 100, 70)"
      ]
     },
     "execution_count": 29,
     "metadata": {},
     "output_type": "execute_result"
    }
   ],
   "source": [
    "votem_IC.shape"
   ]
  },
  {
   "cell_type": "markdown",
   "metadata": {},
   "source": [
    "#### Now let us load the T and S for the BC file (Let's begin the excersize by loading only the BC file of the west boundary)"
   ]
  },
  {
   "cell_type": "code",
   "execution_count": 1,
   "metadata": {
    "collapsed": false
   },
   "outputs": [
    {
     "ename": "NameError",
     "evalue": "name 'nc' is not defined",
     "output_type": "error",
     "traceback": [
      "\u001b[0;31m---------------------------------------------------------------------------\u001b[0m",
      "\u001b[0;31mNameError\u001b[0m                                 Traceback (most recent call last)",
      "\u001b[0;32m<ipython-input-1-0561c0937f79>\u001b[0m in \u001b[0;36m<module>\u001b[0;34m()\u001b[0m\n\u001b[0;32m----> 1\u001b[0;31m \u001b[0mBC_west\u001b[0m \u001b[0;34m=\u001b[0m \u001b[0mnc\u001b[0m\u001b[0;34m.\u001b[0m\u001b[0mDataset\u001b[0m\u001b[0;34m(\u001b[0m\u001b[0;34m'/ocean/ssahu/CANYONS/bdy_files/3d_NEMO_west_m04.nc'\u001b[0m\u001b[0;34m)\u001b[0m\u001b[0;34m;\u001b[0m\u001b[0;34m\u001b[0m\u001b[0m\n\u001b[0m",
      "\u001b[0;31mNameError\u001b[0m: name 'nc' is not defined"
     ]
    }
   ],
   "source": [
    "BC_west = nc.Dataset('/ocean/ssahu/CANYONS/bdy_files/3d_NEMO_west_m04.nc');"
   ]
  },
  {
   "cell_type": "code",
   "execution_count": 31,
   "metadata": {
    "collapsed": true
   },
   "outputs": [],
   "source": [
    "votem_west_BC = BC_west.variables['votemper'][:];\n",
    "vosal_west_BC = BC_west.variables['vosaline'][:];"
   ]
  },
  {
   "cell_type": "code",
   "execution_count": 32,
   "metadata": {
    "collapsed": false
   },
   "outputs": [
    {
     "data": {
      "text/plain": [
       "(43, 27, 4, 100)"
      ]
     },
     "execution_count": 32,
     "metadata": {},
     "output_type": "execute_result"
    }
   ],
   "source": [
    "votem_west_BC.shape"
   ]
  },
  {
   "cell_type": "markdown",
   "metadata": {},
   "source": [
    "#### By principle the outer values at the very first time step should be equal to the value of the IC (let's test that)"
   ]
  },
  {
   "cell_type": "code",
   "execution_count": 33,
   "metadata": {
    "collapsed": false
   },
   "outputs": [
    {
     "name": "stdout",
     "output_type": "stream",
     "text": [
      "(27, 4, 100)\n",
      "(27, 100, 70)\n"
     ]
    }
   ],
   "source": [
    "BC_check = votem_west_BC[0,:,:,:]; print(BC_check.shape)\n",
    "\n",
    "IC_check = votem_IC[0,:,:]; print (IC_check.shape)"
   ]
  },
  {
   "cell_type": "code",
   "execution_count": 34,
   "metadata": {
    "collapsed": false
   },
   "outputs": [
    {
     "data": {
      "text/plain": [
       "4.5696635"
      ]
     },
     "execution_count": 34,
     "metadata": {},
     "output_type": "execute_result"
    }
   ],
   "source": [
    "np.mean(BC_check)"
   ]
  },
  {
   "cell_type": "code",
   "execution_count": 35,
   "metadata": {
    "collapsed": false
   },
   "outputs": [
    {
     "data": {
      "text/plain": [
       "4.5006418"
      ]
     },
     "execution_count": 35,
     "metadata": {},
     "output_type": "execute_result"
    }
   ],
   "source": [
    "np.mean(IC_check[:,:,:4])"
   ]
  },
  {
   "cell_type": "markdown",
   "metadata": {},
   "source": [
    "#### So they are not same and our fears just became real"
   ]
  },
  {
   "cell_type": "code",
   "execution_count": 11,
   "metadata": {
    "collapsed": false
   },
   "outputs": [
    {
     "data": {
      "text/plain": [
       "array([[ 11.26034641,  11.24334621,  11.24070263,  11.23822403,\n",
       "         11.22112751,  11.19831944,  11.20296288,  11.22289371,\n",
       "         11.23872852,  11.26172924,  11.25253773,  11.18979836,\n",
       "         11.12477112,  11.08434582,  11.03537273,  10.94834614,\n",
       "         10.83931923,  10.76751041,  10.740798  ,  10.72731972,\n",
       "         10.71774483,  10.70897865,  10.67700577,  10.63631916,\n",
       "         10.61370277,  10.6175375 ,  10.62753773,  10.63834572,\n",
       "         10.64879799,  10.65515423,  10.66360664,  10.67098999,\n",
       "         10.66692066,  10.63546848,  10.56756401,  10.48611164,\n",
       "         10.44856358,  10.44137287,  10.42972851,  10.41382504,\n",
       "         10.40446854,  10.40392017,  10.41346836,  10.42592049,\n",
       "         10.43372917,  10.43553734,  10.43325043,  10.42305851,\n",
       "         10.41341496,  10.40431976,  10.40231895,  10.41522408,\n",
       "         10.43938828,  10.46419716,  10.48419666,  10.5051012 ,\n",
       "         10.52190971,  10.52310181,  10.50003242,  10.46222401,\n",
       "         10.40486717,  10.32905865,  10.26625061,  10.24089336,\n",
       "         10.22427654,  10.17756367,  10.09265995,  10.02320766,\n",
       "          9.98826218,   9.97249508,   9.96412277,   9.95481205,\n",
       "          9.94207001,   9.9314518 ,   9.92162228,   9.91499901,\n",
       "          9.91178513,   9.91358471,   9.91710377,   9.91951656,\n",
       "          9.91875362,   9.91880226,   9.92004299,   9.91659451,\n",
       "          9.90217304,   9.88163376,   9.86358356,   9.85022068,\n",
       "          9.84405899,   9.83559418,   9.809268  ,   9.78125763,\n",
       "          9.76653004,   9.7553997 ,   9.74257374,   9.73087406,\n",
       "          9.72559071,   9.72796154,   9.73206139,   9.73041821],\n",
       "       [ 11.24879837,  11.23870277,  11.24160671,  11.25312805,\n",
       "         11.24893665,  11.21967602,  11.19696331,  11.21251106,\n",
       "         11.23889351,  11.24972916,  11.24418068,  11.18844128,\n",
       "         11.11015415,  11.07441521,  11.04863358,  10.96646786,\n",
       "         10.85289383,  10.7770586 ,  10.74925041,  10.7400589 ,\n",
       "         10.74212837,  10.74352741,  10.71617031,  10.66438866,\n",
       "         10.62524986,  10.61934566,  10.63044167,  10.64134598,\n",
       "         10.65334606,  10.66070271,  10.6656065 ,  10.67179775,\n",
       "         10.67527676,  10.64946842,  10.58746815,  10.5091114 ,\n",
       "         10.4551115 ,  10.44146824,  10.42737293,  10.4028244 ,\n",
       "         10.3858242 ,  10.38537216,  10.39946842,  10.41592026,\n",
       "         10.42772865,  10.4360857 ,  10.43689346,  10.42679787,\n",
       "         10.41570187,  10.40660667,  10.40705872,  10.4259634 ,\n",
       "         10.45377159,  10.4782238 ,  10.49877167,  10.52058029,\n",
       "         10.5349369 ,  10.52577114,  10.49305916,  10.44260693,\n",
       "         10.37015438,  10.29534626,  10.24853706,  10.22182465,\n",
       "         10.17356396,  10.08565998,  10.01278305,   9.97520638,\n",
       "          9.95928192,   9.95199013,   9.94435406,   9.9362793 ,\n",
       "          9.92811394,   9.9214983 ,   9.92090511,   9.92929459,\n",
       "          9.94176006,   9.95510387,   9.96499157,   9.97077274,\n",
       "          9.97478676,   9.97978687,   9.98325157,   9.98067665,\n",
       "          9.96673107,   9.94580269,   9.92507935,   9.90402603,\n",
       "          9.88452911,   9.87006855,   9.84703255,   9.80266762,\n",
       "          9.77145195,   9.75506401,   9.74436474,   9.73388386,\n",
       "          9.7247839 ,   9.71956444,   9.71644974,   9.71379948],\n",
       "       [ 11.23579788,  11.2317028 ,  11.24341488,  11.26648426,\n",
       "         11.27638817,  11.26448441,  11.22912788,  11.20496273,\n",
       "         11.2220583 ,  11.24415493,  11.23698997,  11.18489361,\n",
       "         11.10115433,  11.05077171,  11.04515457,  10.97346783,\n",
       "         10.86382484,  10.78679848,  10.75925064,  10.75315475,\n",
       "         10.76722336,  10.77400589,  10.74724007,  10.69700527,\n",
       "         10.64486694,  10.6261549 ,  10.63315487,  10.64725018,\n",
       "         10.66034603,  10.66834641,  10.67115402,  10.67415428,\n",
       "         10.6774416 ,  10.66327667,  10.60792065,  10.52637291,\n",
       "         10.47401619,  10.44666004,  10.424016  ,  10.39892006,\n",
       "         10.3828249 ,  10.37982464,  10.38882446,  10.40782452,\n",
       "         10.42427635,  10.43418121,  10.43353748,  10.42489338,\n",
       "         10.4148941 ,  10.40689373,  10.4148941 ,  10.43924999,\n",
       "         10.4671545 ,  10.49215412,  10.51360703,  10.53286743,\n",
       "         10.53586769,  10.51215458,  10.47079849,  10.40889359,\n",
       "         10.32953739,  10.25972843,  10.21682453,  10.16601562,\n",
       "         10.08201599,  10.00420856,   9.96160984,   9.94483089,\n",
       "          9.93839836,   9.93273544,   9.92608738,   9.92215061,\n",
       "          9.92745686,   9.94386673,   9.96948528,   9.99655342,\n",
       "         10.01808739,  10.02760792,  10.02948475,  10.02958012,\n",
       "         10.03012753,  10.03267574,  10.0346756 ,  10.03112793,\n",
       "         10.02196312,  10.00953865,   9.99390888,   9.9730463 ,\n",
       "          9.94720745,   9.91463566,   9.88721275,   9.83580494,\n",
       "          9.78150177,   9.75738811,   9.74630737,   9.73793602,\n",
       "          9.73050499,   9.72351456,   9.71893883,   9.7178812 ],\n",
       "       [ 11.21970272,  11.22715473,  11.24631977,  11.27729321,\n",
       "         11.29829311,  11.30303192,  11.29029274,  11.25038815,\n",
       "         11.22086716,  11.21896267,  11.21186733,  11.16686726,\n",
       "         11.08477116,  11.0312233 ,  11.03331947,  10.97446823,\n",
       "         10.8700161 ,  10.79808521,  10.77070236,  10.76905918,\n",
       "         10.79012775,  10.80129242,  10.7737875 ,  10.7249794 ,\n",
       "         10.66629314,  10.63386726,  10.63660622,  10.65005875,\n",
       "         10.66960621,  10.678442  ,  10.68179798,  10.68360615,\n",
       "         10.68315411,  10.67389393,  10.62972927,  10.54672909,\n",
       "         10.47937202,  10.45546818,  10.43620777,  10.40120792,\n",
       "         10.38301563,  10.38737202,  10.39682484,  10.40927696,\n",
       "         10.41972923,  10.42618084,  10.42653751,  10.42098999,\n",
       "         10.41198921,  10.40898991,  10.4249897 ,  10.45298958,\n",
       "         10.4814415 ,  10.50489426,  10.52325058,  10.53405857,\n",
       "         10.52325058,  10.49053764,  10.43663311,  10.36072922,\n",
       "         10.27582455,  10.21127701,  10.15327644,  10.07527637,\n",
       "          9.99441433,   9.94837952,   9.93258858,   9.92921066,\n",
       "          9.92628098,   9.92548656,   9.93367767,   9.95538521,\n",
       "          9.98740387,  10.01953983,  10.04064941,  10.05238819,\n",
       "         10.05803204,  10.06058025,  10.05812836,  10.05322361,\n",
       "         10.04951096,  10.04724979,  10.04744148,  10.04453754,\n",
       "         10.03772926,  10.03163338,  10.02753735,  10.02001762,\n",
       "         10.00247002,   9.97218323,   9.93285942,   9.87561989,\n",
       "          9.80015087,   9.76424026,   9.75217152,   9.74490738,\n",
       "          9.73843288,   9.7343092 ,   9.73325729,   9.73412895]], dtype=float32)"
      ]
     },
     "execution_count": 11,
     "metadata": {},
     "output_type": "execute_result"
    }
   ],
   "source": [
    "BC_check[0,...]"
   ]
  },
  {
   "cell_type": "code",
   "execution_count": 25,
   "metadata": {
    "collapsed": false
   },
   "outputs": [
    {
     "data": {
      "text/plain": [
       "(array([0]), array([65]))"
      ]
     },
     "execution_count": 25,
     "metadata": {},
     "output_type": "execute_result"
    }
   ],
   "source": [
    "np.where(IC_check[0,...] == np.max(IC_check[0,...]))"
   ]
  },
  {
   "cell_type": "code",
   "execution_count": 18,
   "metadata": {
    "collapsed": false
   },
   "outputs": [
    {
     "data": {
      "text/plain": [
       "11.260346"
      ]
     },
     "execution_count": 18,
     "metadata": {},
     "output_type": "execute_result"
    }
   ],
   "source": [
    "BC_check[0,0,0]"
   ]
  },
  {
   "cell_type": "code",
   "execution_count": 24,
   "metadata": {
    "collapsed": false
   },
   "outputs": [
    {
     "name": "stderr",
     "output_type": "stream",
     "text": [
      "/home/ssahu/anaconda3/lib/python3.5/site-packages/ipykernel/__main__.py:1: DeprecationWarning: elementwise == comparison failed; this will raise an error in the future.\n",
      "  if __name__ == '__main__':\n"
     ]
    },
    {
     "data": {
      "text/plain": [
       "(array([], dtype=int64),)"
      ]
     },
     "execution_count": 24,
     "metadata": {},
     "output_type": "execute_result"
    }
   ],
   "source": [
    "np.where(IC_check[0,...] == BC_check[0,...])"
   ]
  },
  {
   "cell_type": "code",
   "execution_count": 23,
   "metadata": {
    "collapsed": false
   },
   "outputs": [
    {
     "data": {
      "text/plain": [
       "(array([3]), array([5]))"
      ]
     },
     "execution_count": 23,
     "metadata": {},
     "output_type": "execute_result"
    }
   ],
   "source": [
    "np.where(BC_check[0,...] == np.max(BC_check[0,...]))"
   ]
  },
  {
   "cell_type": "code",
   "execution_count": 28,
   "metadata": {
    "collapsed": false
   },
   "outputs": [
    {
     "data": {
      "text/plain": [
       "11.024442"
      ]
     },
     "execution_count": 28,
     "metadata": {},
     "output_type": "execute_result"
    }
   ],
   "source": [
    "IC_check[0,0,60]"
   ]
  },
  {
   "cell_type": "code",
   "execution_count": 29,
   "metadata": {
    "collapsed": false
   },
   "outputs": [
    {
     "data": {
      "text/plain": [
       "11.303032"
      ]
     },
     "execution_count": 29,
     "metadata": {},
     "output_type": "execute_result"
    }
   ],
   "source": [
    "BC_check[0,3,5]"
   ]
  },
  {
   "cell_type": "code",
   "execution_count": 22,
   "metadata": {
    "collapsed": false
   },
   "outputs": [
    {
     "name": "stderr",
     "output_type": "stream",
     "text": [
      "/home/ssahu/anaconda3/lib/python3.5/site-packages/ipykernel/__main__.py:1: DeprecationWarning: elementwise == comparison failed; this will raise an error in the future.\n",
      "  if __name__ == '__main__':\n"
     ]
    },
    {
     "data": {
      "text/plain": [
       "(array([], dtype=int64),)"
      ]
     },
     "execution_count": 22,
     "metadata": {},
     "output_type": "execute_result"
    }
   ],
   "source": [
    "np.where(BC_check == IC_check)"
   ]
  },
  {
   "cell_type": "markdown",
   "metadata": {
    "collapsed": true
   },
   "source": [
    "## The temperature and salinity doesnot seem to work in the BC file and we have a overturning effect of salinity in the south BC file;\n",
    "\n",
    "So we decide to make the BC files of temerature and salinity from the JP files straigh similar to the IC file but with a separate loop over time and and not from the numpy arrays (saved earlier)"
   ]
  },
  {
   "cell_type": "code",
   "execution_count": 2,
   "metadata": {
    "collapsed": true
   },
   "outputs": [],
   "source": [
    "import numpy as np\n",
    "\n",
    "import netCDF4 as nc\n",
    "\n",
    "import xarray as xr\n",
    "\n",
    "from scipy.interpolate import griddata, interp1d\n",
    "\n",
    "from salishsea_tools import nc_tools,viz_tools\n",
    "\n",
    "import matplotlib.pyplot as plt\n",
    "\n",
    "import matplotlib.cm as cm\n",
    "\n",
    "from fancyimpute import KNN\n",
    "\n"
   ]
  },
  {
   "cell_type": "code",
   "execution_count": 3,
   "metadata": {
    "collapsed": true
   },
   "outputs": [],
   "source": [
    "fname = '/home/ssahu/saurav/JP_BC/cat_42_days_T.nc';\n",
    "\n",
    "gridT = xr.open_dataset(fname);"
   ]
  },
  {
   "cell_type": "code",
   "execution_count": 4,
   "metadata": {
    "collapsed": false
   },
   "outputs": [
    {
     "data": {
      "text/plain": [
       "<bound method Mapping.keys of <xarray.Dataset>\n",
       "Dimensions:            (bnds: 2, deptht: 50, time_counter: 43, x: 715, y: 1021)\n",
       "Coordinates:\n",
       "  * deptht             (deptht) float32 0.494025 1.54138 2.64567 3.81949 ...\n",
       "  * time_counter       (time_counter) datetime64[ns] 2016-04-01T12:00:00 ...\n",
       "  * y                  (y) int64 0 1 2 3 4 5 6 7 8 9 10 11 12 13 14 15 16 17 ...\n",
       "  * x                  (x) int64 0 1 2 3 4 5 6 7 8 9 10 11 12 13 14 15 16 17 ...\n",
       "  * bnds               (bnds) int64 0 1\n",
       "Data variables:\n",
       "    nav_lon            (y, x) float32 -142.283 -142.256 -142.228 -142.2 ...\n",
       "    nav_lat            (y, x) float32 45.0491 45.0479 45.0467 45.0456 ...\n",
       "    time_counter_bnds  (time_counter, bnds) float64 4.873e+07 4.881e+07 ...\n",
       "    votemper           (time_counter, deptht, y, x) float64 0.0 8.881 8.905 ...\n",
       "    vosaline           (time_counter, deptht, y, x) float64 0.0 33.14 33.13 ...\n",
       "    sosstsst           (time_counter, y, x) float64 0.0 8.881 8.905 8.925 ...\n",
       "    sosaline           (time_counter, y, x) float64 0.0 33.14 33.13 33.12 ...\n",
       "    sossheig           (time_counter, y, x) float64 0.0 -0.01869 -0.01348 ...\n",
       "    sowaflup           (time_counter, y, x) float64 0.0 8.562e-06 8.61e-06 ...\n",
       "    sowaflcd           (time_counter, y, x) float64 0.0 0.0 0.0 0.0 0.0 0.0 ...\n",
       "    sosalflx           (time_counter, y, x) float64 0.0 0.0 0.0 0.0 0.0 0.0 ...\n",
       "    sohefldo           (time_counter, y, x) float64 0.0 100.3 100.1 99.8 ...\n",
       "    soshfldo           (time_counter, y, x) float64 0.0 219.4 219.6 219.7 ...\n",
       "    somxl010           (time_counter, y, x) float64 0.0 5.709 6.333 6.297 ...\n",
       "    somixhgt           (time_counter, y, x) float64 0.0 4.95 4.674 4.623 ...\n",
       "    soicecov           (time_counter, y, x) float64 0.0 0.0 0.0 0.0 0.0 0.0 ...\n",
       "    sohefldp           (time_counter, y, x) float64 0.0 0.0 0.0 0.0 0.0 0.0 ...\n",
       "    sosafldp           (time_counter, y, x) float64 0.0 0.0 0.0 0.0 0.0 0.0 ...\n",
       "    sowafldp           (time_counter, y, x) float64 0.0 0.0 0.0 0.0 0.0 0.0 ...\n",
       "    sobowlin           (y, x) float64 nan 7.0 9.0 9.0 9.0 9.0 9.0 9.0 9.0 ...\n",
       "Attributes:\n",
       "    Conventions: CF-1.1\n",
       "    CDI: Climate Data Interface version 1.7.1 (http://mpimet.mpg.de/cdi)\n",
       "    history: Wed Jul 27 13:01:08 2016: /usr/local/bin/ncrename -O -v lat,nav_lat -v lon,nav_lon /fs/peg/data/rpne/rpnejpp/NEP036/NEP036-N30-OUT/CDF_COMB/NEP036-N30_IN_20160401_00813600_grid_T.nc\n",
       "Wed Jul 27 12:36:59 2016: cdo timmean /fs/peg/data/rpne/rpnejpp/NEP036/NEP036-N30-OUT/DIMG/NEP036-N30_CU60_20160401_20160332_00813600_grid_T_0000.nc /fs/peg/data/rpne/rpnejpp/NEP036/NEP036-N30-OUT/WORKDIR_grid_T_00813600/timmean_grid_T_00813600_0000.nc\n",
       "    file_name: /fs/peg/data/rpne/rpnejpp/NEP036/NEP036-N30-OUT/CDF_COMB/NEP036-N30_IN_20160401_00813600_grid_T.nc\n",
       "    production: An IPSL model\n",
       "    TimeStamp: 2016-JUL-27 10:02:26 GMT-0000\n",
       "    CDO: Climate Data Operators version 1.7.1 (http://mpimet.mpg.de/cdo)>"
      ]
     },
     "execution_count": 4,
     "metadata": {},
     "output_type": "execute_result"
    }
   ],
   "source": [
    "gridT.keys"
   ]
  },
  {
   "cell_type": "code",
   "execution_count": 5,
   "metadata": {
    "collapsed": false
   },
   "outputs": [
    {
     "name": "stdout",
     "output_type": "stream",
     "text": [
      "(50, 345, 255) (50, 345, 255) (50, 345, 255)\n"
     ]
    }
   ],
   "source": [
    "#### Load JP's mask\n",
    "\n",
    "mask = nc.Dataset('/data/mdunphy/NEP036-N30-OUT/INV/mesh_mask.nc');\n",
    "\n",
    "tmask_JP = mask.variables['tmask'][0,:,55:400,446:701];\n",
    "umask_JP = mask.variables['umask'][0,:,55:400,446:701];\n",
    "vmask_JP = mask.variables['vmask'][0,:,55:400,446:701];\n",
    "\n",
    "print(tmask_JP.shape, umask_JP.shape, vmask_JP.shape)"
   ]
  },
  {
   "cell_type": "code",
   "execution_count": 6,
   "metadata": {
    "collapsed": false
   },
   "outputs": [],
   "source": [
    "#### Slice out our domain of WCVI from JP and mask it at the same time saying the zero values as NAN\n",
    "\n",
    "votemper_JP = np.array(gridT['votemper'][:,:,55:400,446:701]);\n",
    "vosaline_JP = np.array(gridT['vosaline'][:,:,55:400,446:701]);\n",
    "\n",
    "\n",
    "for i in np.arange(votemper_JP.shape[0]):\n",
    "    votemper_JP[i,...] = np.ma.masked_array(votemper_JP[i,...], mask = tmask_JP[...]);\n",
    "    vosaline_JP[i,...] = np.ma.masked_array(vosaline_JP[i,...], mask = tmask_JP[:,...]);\n",
    "\n",
    "votemper_JP[votemper_JP == 0] =['Nan'];\n",
    "vosaline_JP[vosaline_JP == 0] = ['Nan'];\n",
    "\n",
    "glamt_bc_JP = np.array(gridT['nav_lon'][55:400,446:701]);\n",
    "gphit_bc_JP = np.array(gridT['nav_lat'][55:400,446:701]);\n",
    "deptht_JP = np.array(gridT['deptht'][:]);"
   ]
  },
  {
   "cell_type": "code",
   "execution_count": 7,
   "metadata": {
    "collapsed": false
   },
   "outputs": [
    {
     "data": {
      "text/plain": [
       "(43, 50, 345, 255)"
      ]
     },
     "execution_count": 7,
     "metadata": {},
     "output_type": "execute_result"
    }
   ],
   "source": [
    "votemper_JP.shape"
   ]
  },
  {
   "cell_type": "code",
   "execution_count": 8,
   "metadata": {
    "collapsed": false
   },
   "outputs": [
    {
     "data": {
      "text/plain": [
       "array([ 11.06409264,  10.9796772 ,  10.8708601 ,  10.7358036 ,\n",
       "        10.56975365,  10.46552658,  10.39736271,  10.35089111,\n",
       "        10.30435085,  10.2620573 ,  10.2235651 ,  10.19233513,\n",
       "        10.16580296,  10.14525414,  10.12831116,  10.11257267,\n",
       "        10.09665108,  10.08100414,  10.06139183,  10.02533722,\n",
       "         9.9542942 ,   9.85076618,   9.47916126,   8.5789938 ,\n",
       "         8.0148592 ,   7.63935375,   7.19570589,   6.54779291,\n",
       "         5.85100937,   5.20056057,   4.81492567,   4.49857283,\n",
       "         4.16982317,   3.88400245,   3.55892754,   3.20406389,\n",
       "         2.82315612,   2.4409368 ,   2.08485484,   1.81899297,\n",
       "         1.68972611,          nan,          nan,          nan,\n",
       "                nan,          nan,          nan,          nan,\n",
       "                nan,          nan])"
      ]
     },
     "execution_count": 8,
     "metadata": {},
     "output_type": "execute_result"
    }
   ],
   "source": [
    "votemper_JP[0,:,0,0]"
   ]
  },
  {
   "cell_type": "code",
   "execution_count": 13,
   "metadata": {
    "collapsed": false
   },
   "outputs": [
    {
     "name": "stdout",
     "output_type": "stream",
     "text": [
      "(-129.93523, 45.455914) (-127.00188120221485, 46.113550613066906)\n"
     ]
    }
   ],
   "source": [
    "#### Load the WCVI points\n",
    "\n",
    "fname_wcvi = '/ocean/ssahu/CANYONS/wcvi/grid/coordinates.nc'\n",
    "\n",
    "with nc.Dataset(fname_wcvi, 'r') as coord:\n",
    "    gphit_wcvi = coord.variables['gphit'][0,...];\n",
    "    glamt_wcvi =  coord.variables['glamt'][0,...]; \n",
    "    \n",
    "print((glamt_bc_JP[0,0],gphit_bc_JP[0,0]), (glamt_wcvi[0,0],gphit_wcvi[0,0]))"
   ]
  },
  {
   "cell_type": "code",
   "execution_count": 24,
   "metadata": {
    "collapsed": false
   },
   "outputs": [
    {
     "name": "stdout",
     "output_type": "stream",
     "text": [
      "(100, 4)\n",
      "(100, 4)\n"
     ]
    },
    {
     "ename": "NameError",
     "evalue": "name 'glamt_wcvi_bc_top' is not defined",
     "output_type": "error",
     "traceback": [
      "\u001b[0;31m---------------------------------------------------------------------------\u001b[0m",
      "\u001b[0;31mNameError\u001b[0m                                 Traceback (most recent call last)",
      "\u001b[0;32m<ipython-input-24-38e1e4523e3f>\u001b[0m in \u001b[0;36m<module>\u001b[0;34m()\u001b[0m\n\u001b[1;32m     12\u001b[0m \u001b[0mprint\u001b[0m\u001b[0;34m(\u001b[0m\u001b[0mglamt_wcvi_bc_left\u001b[0m\u001b[0;34m.\u001b[0m\u001b[0mshape\u001b[0m\u001b[0;34m)\u001b[0m\u001b[0;34m;\u001b[0m\u001b[0;34m\u001b[0m\u001b[0m\n\u001b[1;32m     13\u001b[0m \u001b[0mprint\u001b[0m\u001b[0;34m(\u001b[0m\u001b[0mglamt_wcvi_bc_right\u001b[0m\u001b[0;34m.\u001b[0m\u001b[0mshape\u001b[0m\u001b[0;34m)\u001b[0m\u001b[0;34m;\u001b[0m\u001b[0;34m\u001b[0m\u001b[0m\n\u001b[0;32m---> 14\u001b[0;31m \u001b[0mprint\u001b[0m\u001b[0;34m(\u001b[0m\u001b[0mglamt_wcvi_bc_top\u001b[0m\u001b[0;34m.\u001b[0m\u001b[0mshape\u001b[0m\u001b[0;34m)\u001b[0m\u001b[0;34m;\u001b[0m\u001b[0;34m\u001b[0m\u001b[0m\n\u001b[0m\u001b[1;32m     15\u001b[0m \u001b[0mprint\u001b[0m\u001b[0;34m(\u001b[0m\u001b[0mglamt_wcvi_bottom\u001b[0m\u001b[0;34m.\u001b[0m\u001b[0mshape\u001b[0m\u001b[0;34m)\u001b[0m\u001b[0;34m;\u001b[0m\u001b[0;34m\u001b[0m\u001b[0m\n",
      "\u001b[0;31mNameError\u001b[0m: name 'glamt_wcvi_bc_top' is not defined"
     ]
    }
   ],
   "source": [
    "#Specify the rimwidth\n",
    "    \n",
    "N = 4\n",
    "\n",
    "glamt_wcvi_bc_left = glamt_wcvi[:,:N]; gphit_wcvi_bc_left = gphit_wcvi[:,:N];\n",
    "glamt_wcvi_bc_right = glamt_wcvi[:,-N:]; gphit_wcvi_bc_right = gphit_wcvi[:,-N:];\n",
    "\n",
    "glamt_wcvi_top = glamt_wcvi[:N,:]; gphit_wcvi_top = gphit_wcvi[:N,:];\n",
    "glamt_wcvi_bottom = glamt_wcvi[-N:,:]; gphit_wcvi_bottom = gphit_wcvi[-N:,:];\n",
    "\n",
    "\n",
    "print(glamt_wcvi_bc_left.shape);\n",
    "print(glamt_wcvi_bc_right.shape);\n",
    "print(glamt_wcvi_bc_top.shape);\n",
    "print(glamt_wcvi_bottom.shape);"
   ]
  },
  {
   "cell_type": "code",
   "execution_count": 22,
   "metadata": {
    "collapsed": false
   },
   "outputs": [],
   "source": [
    "#For the left boundary\n",
    "\n",
    "X = glamt_bc_JP.flatten();\n",
    "\n",
    "Y = gphit_bc_JP.flatten();\n",
    "\n",
    "points = (X[:],Y[:]);\n",
    "\n",
    "xi_left = (glamt_wcvi_bc_left.flatten(), gphit_wcvi_bc_left.flatten());\n",
    "\n",
    "votemper_bc_left = np.zeros((votemper_JP.shape[0], votemper_JP.shape[1], glamt_wcvi_bc_left.shape[0], glamt_wcvi_bc_left.shape[1]));\n",
    "vosaline_bc_left = np.zeros((vosaline_JP.shape[0], vosaline_JP.shape[1], glamt_wcvi_bc_left.shape[0], glamt_wcvi_bc_left.shape[1]));\n",
    "\n",
    "for p in np.arange(votemper_JP.shape[0]):\n",
    "    for i in np.arange(votemper_JP.shape[1]):\n",
    "        votemper_bc_left[p,i,...] = np.reshape(griddata(points, votemper_JP[p,i,...].flatten(), xi_left, method= 'linear'), glamt_wcvi_bc_left.shape)\n",
    "        vosaline_bc_left[p,i,...] = np.reshape(griddata(points, vosaline_JP[p,i,...].flatten(), xi_left, method= 'linear'), glamt_wcvi_bc_left.shape)\n",
    "\n",
    "\n"
   ]
  },
  {
   "cell_type": "code",
   "execution_count": 11,
   "metadata": {
    "collapsed": false
   },
   "outputs": [
    {
     "data": {
      "text/plain": [
       "array([ 32.47419656,  32.47339993,  32.472351  ,  32.47062415,\n",
       "        32.46957545,  32.46912266,  32.46870302,  32.46790199,\n",
       "        32.46697466,  32.46655073,  32.46634141,  32.4661859 ,\n",
       "        32.4660519 ,  32.4658899 ,  32.46588335,  32.46623902,\n",
       "        32.46850987,  32.47960524,  32.52179053,  32.63602269,\n",
       "        32.85181797,  33.12211982,  33.38578935,  33.65309569,\n",
       "        33.81709729,  33.93756474,  34.00150822,  34.03875474,\n",
       "        34.0547015 ,  34.05655214,  34.07886744,  34.13459396,\n",
       "        34.20362748,  34.26293978,  34.33264525,  34.39530034,\n",
       "        34.4533169 ,  34.49530198,  34.5369522 ,  34.579813  ,\n",
       "        34.62248934,  34.63830741,  34.64125478,          nan,\n",
       "                nan,          nan,          nan,          nan,\n",
       "                nan,          nan])"
      ]
     },
     "execution_count": 11,
     "metadata": {},
     "output_type": "execute_result"
    }
   ],
   "source": [
    "vosaline_bc_left[0,:,0,0]"
   ]
  },
  {
   "cell_type": "code",
   "execution_count": null,
   "metadata": {
    "collapsed": true
   },
   "outputs": [],
   "source": [
    "for i in np.arange(vosaline_bc.shape[0]):\n",
    "    for j in np.arange(vosaline_bc.shape[1]):\n",
    "        votemper_ic[i,j,...] = KNN(k=3).complete(votemper_bc[i,j,...]);\n",
    "        vosaline_ic[i,j,...] = KNN(k=3).complete(vosaline_bc[i,j,...]);"
   ]
  },
  {
   "cell_type": "code",
   "execution_count": null,
   "metadata": {
    "collapsed": true
   },
   "outputs": [],
   "source": [
    "vosaline_bc[0,:,0,0]"
   ]
  },
  {
   "cell_type": "code",
   "execution_count": null,
   "metadata": {
    "collapsed": true
   },
   "outputs": [],
   "source": [
    "vosaline_bc[np.where(np.isnan(vosaline_bc))]=0;\n",
    "votemper_bc[np.where(np.isnan(votemper_bc))]=0;\n",
    "\n",
    "for t in np.arange(votemper_bc.shape[0]):\n",
    "    for i in np.arange(votemper_bc.shape[1]):\n",
    "        for p in np.arange(votemper_bc.shape[2]):\n",
    "            for l in np.arange(votemper_bc.shape[3]):\n",
    "            if votemper_bc[t,i,p,l] == 0:\n",
    "                votemper_bc[t,i,p,l] = votemper_bc[t,i-1,p,l]\n",
    "            else:\n",
    "                continue\n",
    "\n",
    "for t in np.arange(vosaline_bc.shape[0]):\n",
    "    for i in np.arange(vosaline_bc.shape[1]):\n",
    "        for p in np.arange(vosaline_bc.shape[2]):\n",
    "            for l in np.arange(vosaline_bc.shape[3]):\n",
    "            if vosaline_bc[t,i,p,l] == 0:\n",
    "                vosaline_bc[t,i,p,l] = vosaline_bc[t,i-1,p,l]\n",
    "            else:\n",
    "                continue\n"
   ]
  },
  {
   "cell_type": "code",
   "execution_count": null,
   "metadata": {
    "collapsed": true
   },
   "outputs": [],
   "source": []
  },
  {
   "cell_type": "code",
   "execution_count": 23,
   "metadata": {
    "collapsed": false
   },
   "outputs": [
    {
     "data": {
      "text/plain": [
       "array([[-127.0018812 , -126.95601614, -126.91015107, -126.86428601],\n",
       "       [-127.03306936, -126.9864822 , -126.93994715, -126.8934567 ],\n",
       "       [-127.06419593, -127.01689616, -126.96969861, -126.92258885],\n",
       "       [-127.09520221, -127.04720792, -126.99936229, -126.95164495],\n",
       "       [-127.12603466, -127.07737102, -127.02889767, -126.98058953],\n",
       "       [-127.15664632, -127.10734382, -127.05826784, -127.00938984],\n",
       "       [-127.18699737, -127.13709008, -127.08744005, -127.03801637],\n",
       "       [-127.21705497, -127.16657909, -127.1163859 , -127.06644312],\n",
       "       [-127.24679273, -127.1957854 , -127.14508136, -127.09464765],\n",
       "       [-127.27618994, -127.22468845, -127.17350647, -127.12261098],\n",
       "       [-127.30523082, -127.25327197, -127.20164509, -127.15031743],\n",
       "       [-127.3339037 , -127.28152354, -127.22948448, -127.17775435],\n",
       "       [-127.36220044, -127.30943399, -127.25701496, -127.20491185],\n",
       "       [-127.39011583, -127.33699703, -127.2842295 , -127.23178254],\n",
       "       [-127.41764713, -127.36420881, -127.31112348, -127.25836127],\n",
       "       [-127.44479375, -127.39106761, -127.33769432, -127.28464487],\n",
       "       [-127.47155689, -127.41757356, -127.36394131, -127.31063199],\n",
       "       [-127.49793937, -127.44372843, -127.38986538, -127.33632287],\n",
       "       [-127.52394537, -127.46953543, -127.41546888, -127.36171921],\n",
       "       [-127.54958033, -127.49499905, -127.4407555 , -127.38682398],\n",
       "       [-127.57485079, -127.52012493, -127.46573011, -127.41164137],\n",
       "       [-127.59976431, -127.54491979, -127.49039863, -127.43617664],\n",
       "       [-127.62432939, -127.56939128, -127.51476798, -127.46043603],\n",
       "       [-127.64855538, -127.59354796, -127.53884598, -127.48442669],\n",
       "       [-127.67245242, -127.6173992 , -127.56264128, -127.50815663],\n",
       "       [-127.69603141, -127.64095516, -127.58616333, -127.5316346 ],\n",
       "       [-127.71930398, -127.66422668, -127.60942227, -127.55487012],\n",
       "       [-127.7422824 , -127.68722533, -127.63242895, -127.57787335],\n",
       "       [-127.76497961, -127.70996328, -127.65519485, -127.60065512],\n",
       "       [-127.78740914, -127.73245333, -127.67773205, -127.62322681],\n",
       "       [-127.80958514, -127.75470886, -127.70005319, -127.6456004 ],\n",
       "       [-127.83152228, -127.77674379, -127.72217147, -127.66778834],\n",
       "       [-127.8532358 , -127.79857255, -127.74410055, -127.68980359],\n",
       "       [-127.87474143, -127.82021007, -127.76585458, -127.71165956],\n",
       "       [-127.8960554 , -127.84167173, -127.78744813, -127.73337003],\n",
       "       [-127.91719437, -127.86297334, -127.80889618, -127.7549492 ],\n",
       "       [-127.93817545, -127.88413107, -127.83021403, -127.77641155],\n",
       "       [-127.95901611, -127.90516147, -127.85141734, -127.79777186],\n",
       "       [-127.97973416, -127.92608137, -127.872522  , -127.81904517],\n",
       "       [-128.00034772, -127.94690784, -127.89354413, -127.84024668],\n",
       "       [-128.0208751 , -127.96765815, -127.91449998, -127.86139172],\n",
       "       [-128.0413348 , -127.98834969, -127.93540593, -127.8824957 ],\n",
       "       [-128.06174538, -128.00899987, -127.95627834, -127.90357401],\n",
       "       [-128.08212537, -128.02962609, -127.97713353, -127.92464201],\n",
       "       [-128.1024932 , -128.05024559, -127.9979877 , -127.94571488],\n",
       "       [-128.12286704, -128.07087539, -128.01885677, -127.9668076 ],\n",
       "       [-128.14326472, -128.09153215, -128.03975639, -127.98793485],\n",
       "       [-128.16370356, -128.11223212, -128.06070179, -128.00911094],\n",
       "       [-128.18420029, -128.13299097, -128.0817077 , -128.03034973],\n",
       "       [-128.20477094, -128.15382379, -128.10278831, -128.05166458],\n",
       "       [-128.22543075, -128.17474493, -128.12395717, -128.07306828],\n",
       "       [-128.2461941 , -128.19576801, -128.14522717, -128.09457302],\n",
       "       [-128.26707449, -128.21690585, -128.16661046, -128.11619034],\n",
       "       [-128.28808447, -128.23817044, -128.18811848, -128.13793111],\n",
       "       [-128.30923573, -128.25957296, -128.2097619 , -128.15980551],\n",
       "       [-128.33053903, -128.28112375, -128.23155065, -128.18182303],\n",
       "       [-128.35200424, -128.30283238, -128.25349392, -128.20399249],\n",
       "       [-128.37364042, -128.3247076 , -128.27560017, -128.22632202],\n",
       "       [-128.39545581, -128.34675741, -128.29787713, -128.24881907],\n",
       "       [-128.41745787, -128.36898911, -128.32033188, -128.27149047],\n",
       "       [-128.43965334, -128.39140927, -128.3429708 , -128.29434239],\n",
       "       [-128.46204829, -128.41402383, -128.36579967, -128.31738041],\n",
       "       [-128.48464812, -128.43683808, -128.38882364, -128.34060952],\n",
       "       [-128.50745764, -128.45985673, -128.41204728, -128.36403415],\n",
       "       [-128.53048107, -128.48308391, -128.43547462, -128.38765815],\n",
       "       [-128.55372209, -128.50652322, -128.45910914, -128.4114849 ],\n",
       "       [-128.57718389, -128.53017775, -128.4829538 , -128.43551722],\n",
       "       [-128.60086914, -128.55405009, -128.5070111 , -128.45975748],\n",
       "       [-128.62478008, -128.57814236, -128.53128304, -128.48420753],\n",
       "       [-128.6489185 , -128.60245624, -128.55577116, -128.5088688 ],\n",
       "       [-128.67328574, -128.62699296, -128.58047654, -128.53374221],\n",
       "       [-128.69788275, -128.6517533 , -128.60539985, -128.55882827],\n",
       "       [-128.72271008, -128.67673765, -128.63054127, -128.58412701],\n",
       "       [-128.74776785, -128.70194595, -128.65590058, -128.60963802],\n",
       "       [-128.77305578, -128.7273777 , -128.68147709, -128.63536042],\n",
       "       [-128.7985732 , -128.753032  , -128.70726964, -128.66129286],\n",
       "       [-128.82431898, -128.77890746, -128.73327663, -128.68743349],\n",
       "       [-128.85029157, -128.80500222, -128.75949593, -128.71377997],\n",
       "       [-128.87648893, -128.83131393, -128.78592489, -128.74032939],\n",
       "       [-128.9029085 , -128.85783967, -128.81256031, -128.76707831],\n",
       "       [-128.92954717, -128.88457596, -128.83939836, -128.79402261],\n",
       "       [-128.95640119, -128.91151864, -128.86643456, -128.82115756],\n",
       "       [-128.98346613, -128.93866283, -128.89366369, -128.84847765],\n",
       "       [-129.01073677, -128.96600286, -128.92107972, -128.87597661],\n",
       "       [-129.03820696, -128.99353214, -128.9486757 , -128.90364725],\n",
       "       [-129.06586953, -129.02124302, -128.97644371, -128.93148145],\n",
       "       [-129.09371612, -129.04912672, -129.00437465, -128.95946999],\n",
       "       [-129.12173697, -129.07717308, -129.03245819, -128.98760247],\n",
       "       [-129.14992071, -129.10537043, -129.06068257, -129.0158672 ],\n",
       "       [-129.17825407, -129.13370537, -129.08903444, -129.04425108],\n",
       "       [-129.20672165, -129.16216255, -129.11749876, -129.07273948],\n",
       "       [-129.23530553, -129.19072443, -129.14605855, -129.10131616],\n",
       "       [-129.26398502, -129.21937109, -129.17469487, -129.12996319],\n",
       "       [-129.29273626, -129.24808003, -129.20338666, -129.15866095],\n",
       "       [-129.32153207, -129.27682613, -129.23211078, -129.18738818],\n",
       "       [-129.35034182, -129.30558166, -129.26084214, -129.21612215],\n",
       "       [-129.3791316 , -129.33431653, -129.28955399, -129.24483893],\n",
       "       [-129.40786476, -129.36299887, -129.31821835, -129.27351379],\n",
       "       [-129.43650293, -129.39159582, -129.34680677, -129.30212177],\n",
       "       [-129.4650075 , -129.42007472, -129.37529114, -129.33063837]])"
      ]
     },
     "execution_count": 23,
     "metadata": {},
     "output_type": "execute_result"
    }
   ],
   "source": []
  },
  {
   "cell_type": "code",
   "execution_count": null,
   "metadata": {
    "collapsed": true
   },
   "outputs": [],
   "source": []
  },
  {
   "cell_type": "code",
   "execution_count": 20,
   "metadata": {
    "collapsed": false
   },
   "outputs": [
    {
     "data": {
      "text/plain": [
       "array([[-123.97478694, -123.92892187, -123.88305681, -123.83719174],\n",
       "       [-123.97710275, -123.93103873, -123.88512943, -123.83947249],\n",
       "       [-123.97931611, -123.93300086, -123.88694967, -123.8412887 ],\n",
       "       [-123.98134543, -123.93469892, -123.88837971, -123.84251229],\n",
       "       [-123.98313621, -123.9360697 , -123.88935793, -123.84311249],\n",
       "       [-123.98465899, -123.93708573, -123.88986984, -123.84310827],\n",
       "       [-123.98590449, -123.9377444 , -123.88992742, -123.84253689],\n",
       "       [-123.98687877, -123.93805995, -123.88955855, -123.84144604],\n",
       "       [-123.98759922, -123.93805809, -123.8888008 , -123.83988867],\n",
       "       [-123.98809165, -123.9377724 , -123.88769788, -123.83792078],\n",
       "       [-123.98838807, -123.93724196, -123.88629755, -123.83560008],\n",
       "       [-123.98852517, -123.93650983, -123.88465026, -123.83298529],\n",
       "       [-123.98854316, -123.93562194, -123.88280839, -123.83013571],\n",
       "       [-123.988485  , -123.93462637, -123.88082564, -123.82711104],\n",
       "       [-123.9883958 , -123.93357289, -123.87875678, -123.8239712 ],\n",
       "       [-123.98832242, -123.9325126 , -123.87665737, -123.82077637],\n",
       "       [-123.98831313, -123.93149774, -123.87458373, -123.81758699],\n",
       "       [-123.98841745, -123.93058149, -123.87259284, -123.81446382],\n",
       "       [-123.98868597, -123.92981793, -123.8707423 , -123.81146801],\n",
       "       [-123.98917021, -123.92926196, -123.86909044, -123.80866125],\n",
       "       [-123.98992258, -123.92896928, -123.86769623, -123.80610579],\n",
       "       [-123.9909963 , -123.92899634, -123.86661942, -123.8038646 ],\n",
       "       [-123.99244531, -123.92940036, -123.8659205 , -123.80200146],\n",
       "       [-123.99432425, -123.93023928, -123.86566077, -123.80058098],\n",
       "       [-123.99668835, -123.93157175, -123.86590232, -123.79966873],\n",
       "       [-123.99959337, -123.93345704, -123.86670803, -123.79933123],\n",
       "       [-124.00309551, -123.93595501, -123.86814153, -123.79963597],\n",
       "       [-124.00725124, -123.93912597, -123.87026711, -123.80065134],\n",
       "       [-124.01211714, -123.94303052, -123.87314959, -123.80244656],\n",
       "       [-124.01774972, -123.94772939, -123.87685416, -123.80509152],\n",
       "       [-124.02420514, -123.95328317, -123.88144614, -123.80865656],\n",
       "       [-124.03153895, -123.95975202, -123.88699067, -123.81321219],\n",
       "       [-124.03980568, -123.96719527, -123.89355232, -123.81882866],\n",
       "       [-124.04905852, -123.97567108, -123.90119469, -123.82557554],\n",
       "       [-124.05934879, -123.98523583, -123.9099798 , -123.83352113],\n",
       "       [-124.07072546, -123.99594365, -123.91996756, -123.84273177],\n",
       "       [-124.0832346 , -124.00784577, -123.931215  , -123.8532711 ],\n",
       "       [-124.09691877, -124.02098981, -123.9437756 , -123.86519921],\n",
       "       [-124.11181635, -124.0354191 , -123.95769837, -123.87857171],\n",
       "       [-124.12796087, -124.05117187, -123.97302705, -123.89343877],\n",
       "       [-124.14538032, -124.06828046, -123.98979921, -123.90984409],\n",
       "       [-124.16409637, -124.08677046, -124.00804523, -123.9278239 ],\n",
       "       [-124.18412362, -124.10665977, -124.02778737, -123.94740591],\n",
       "       [-124.20546875, -124.12795763, -124.04903858, -123.96860823],\n",
       "       [-124.2281297 , -124.1506634 , -124.07180108, -123.991438  ],\n",
       "       [-124.25209474, -124.17476522, -124.09606433, -124.01588912],\n",
       "       [-124.27734187, -124.2002384 , -124.12180189, -124.04193702],\n",
       "       [-124.30383877, -124.22704463, -124.14896781, -124.06952562],\n",
       "       [-124.33154389, -124.25513355, -124.1774991 , -124.09857155],\n",
       "       [-124.36040874, -124.28444658, -124.20732347, -124.12898323],\n",
       "       [-124.39038019, -124.31492055, -124.23836498, -124.16066855],\n",
       "       [-124.42140259, -124.34649046, -124.27054736, -124.19353801],\n",
       "       [-124.45341935, -124.37909132, -124.303796  , -124.22750626],\n",
       "       [-124.48637418, -124.41265948, -124.33803907, -124.26249267],\n",
       "       [-124.52021187, -124.44713335, -124.37320812, -124.29842164],\n",
       "       [-124.55487889, -124.48245394, -124.40923842, -124.33522259],\n",
       "       [-124.59032379, -124.51856511, -124.44606903, -124.37282981],\n",
       "       [-124.62649735, -124.55541366, -124.48364277, -124.41118224],\n",
       "       [-124.66335275, -124.59294942, -124.52190615, -124.45022324],\n",
       "       [-124.70084557, -124.63112513, -124.56080916, -124.48990024],\n",
       "       [-124.7389338 , -124.66989637, -124.60030512, -124.5301645 ],\n",
       "       [-124.77757775, -124.70922143, -124.64035044, -124.57097077],\n",
       "       [-124.81673997, -124.74906116, -124.68090442, -124.61227703],\n",
       "       [-124.85638515, -124.78937883, -124.72192906, -124.65404418],\n",
       "       [-124.89648004, -124.83013995, -124.76338881, -124.69623583],\n",
       "       [-124.93699325, -124.87131213, -124.80525039, -124.73881801],\n",
       "       [-124.97789524, -124.91286491, -124.84748263, -124.78175897],\n",
       "       [-125.01915811, -124.95476966, -124.89005624, -124.82502898],\n",
       "       [-125.06075553, -124.99699936, -124.93294369, -124.86860012],\n",
       "       [-125.10266265, -125.03952857, -124.97611904, -124.91244611],\n",
       "       [-125.14485596, -125.08233321, -125.01955779, -124.95654213],\n",
       "       [-125.18731321, -125.12539055, -125.06323676, -125.00086472],\n",
       "       [-125.23001337, -125.168679  , -125.10713398, -125.0453916 ],\n",
       "       [-125.27293646, -125.21217812, -125.15122855, -125.09010153],\n",
       "       [-125.31606359, -125.25586845, -125.19550058, -125.13497425],\n",
       "       [-125.35937683, -125.29973151, -125.23993108, -125.17999036],\n",
       "       [-125.40285917, -125.34374969, -125.28450186, -125.22513117],\n",
       "       [-125.44649454, -125.3879062 , -125.32919551, -125.27037867],\n",
       "       [-125.4902677 , -125.43218507, -125.37399529, -125.31571546],\n",
       "       [-125.53416434, -125.47657109, -125.41888514, -125.36112461],\n",
       "       [-125.578171  , -125.5210498 , -125.46384958, -125.40658965],\n",
       "       [-125.62227516, -125.56560752, -125.50887374, -125.45209452],\n",
       "       [-125.6664653 , -125.61023138, -125.55394332, -125.49762351],\n",
       "       [-125.71073098, -125.65490938, -125.59904467, -125.5431612 ],\n",
       "       [-125.75506302, -125.69963051, -125.64416475, -125.58869251],\n",
       "       [-125.79945368, -125.74438487, -125.68929133, -125.63420266],\n",
       "       [-125.84389697, -125.78916398, -125.73441303, -125.67967719],\n",
       "       [-125.88838907, -125.83396103, -125.77951963, -125.72510211],\n",
       "       [-125.93292886, -125.87877143, -125.82460236, -125.77046396],\n",
       "       [-125.97751871, -125.92359347, -125.8696544 , -125.81575007],\n",
       "       [-126.02216559, -125.96842935, -125.91467172, -125.86094896],\n",
       "       [-126.06688253, -126.01328662, -125.95965416, -125.90605092],\n",
       "       [-126.11169086, -126.05818044, -126.00460738, -125.9510491 ],\n",
       "       [-126.15662312, -126.1031369 , -126.04954582, -125.99594123],\n",
       "       [-126.20172742, -126.14819823, -126.09449775, -126.04073289],\n",
       "       [-126.24707319, -126.19343084, -126.13951408, -126.08544346],\n",
       "       [-126.2927587 , -126.23893788, -126.18468425, -126.13011913],\n",
       "       [-126.33891922, -126.28487771, -126.23016593, -126.17486029],\n",
       "       [-126.38573176, -126.33148783, -126.27624144, -126.21989647],\n",
       "       [-126.43340504, -126.3791004 , -126.32341555, -126.26578188]])"
      ]
     },
     "execution_count": 20,
     "metadata": {},
     "output_type": "execute_result"
    }
   ],
   "source": []
  },
  {
   "cell_type": "markdown",
   "metadata": {
    "collapsed": true
   },
   "source": [
    "#### Making the south boundary from the start"
   ]
  },
  {
   "cell_type": "code",
   "execution_count": 3,
   "metadata": {
    "collapsed": true
   },
   "outputs": [],
   "source": [
    "import numpy as np\n",
    "import numpy.ma as ma\n",
    "import netCDF4 as nc\n",
    "import matplotlib.pyplot as plt\n",
    "import matplotlib as mpl\n",
    "from salishsea_tools import viz_tools, geo_tools,nc_tools\n",
    "from scipy.interpolate import griddata, interp1d\n",
    "import matplotlib.cm as cm\n",
    "import xarray as xr\n",
    "from grid_alignment import calculate_initial_compass_bearing as cibc"
   ]
  },
  {
   "cell_type": "code",
   "execution_count": 4,
   "metadata": {
    "collapsed": true
   },
   "outputs": [],
   "source": [
    "path = '/home/ssahu/saurav/JP_BC/'"
   ]
  },
  {
   "cell_type": "code",
   "execution_count": 5,
   "metadata": {
    "collapsed": true
   },
   "outputs": [],
   "source": [
    "gridT = xr.open_dataset(path+'cat_42_days_T.nc')"
   ]
  },
  {
   "cell_type": "code",
   "execution_count": 6,
   "metadata": {
    "collapsed": false
   },
   "outputs": [
    {
     "data": {
      "text/plain": [
       "Coordinates:\n",
       "  * deptht        (deptht) float32 0.494025 1.54138 2.64567 3.81949 5.07822 ...\n",
       "  * time_counter  (time_counter) datetime64[ns] 2016-04-01T12:00:00 ...\n",
       "  * y             (y) int64 0 1 2 3 4 5 6 7 8 9 10 11 12 13 14 15 16 17 18 ...\n",
       "  * x             (x) int64 0 1 2 3 4 5 6 7 8 9 10 11 12 13 14 15 16 17 18 ...\n",
       "  * bnds          (bnds) int64 0 1"
      ]
     },
     "execution_count": 6,
     "metadata": {},
     "output_type": "execute_result"
    }
   ],
   "source": [
    "gridT.coords"
   ]
  },
  {
   "cell_type": "code",
   "execution_count": 7,
   "metadata": {
    "collapsed": true
   },
   "outputs": [],
   "source": [
    "votemper_unfiltered = np.array(gridT['votemper'][:,:,55:400,446:701]);\n",
    "vosaline_unfiltered = np.array(gridT['vosaline'][:,:,55:400,446:701]);\n",
    "glamt_bc_JP = np.array(gridT['nav_lon'][55:400,446:701]);\n",
    "gphit_bc_JP = np.array(gridT['nav_lat'][55:400,446:701]);"
   ]
  },
  {
   "cell_type": "code",
   "execution_count": 10,
   "metadata": {
    "collapsed": false
   },
   "outputs": [
    {
     "name": "stdout",
     "output_type": "stream",
     "text": [
      "(43, 50, 345, 255)\n"
     ]
    },
    {
     "name": "stderr",
     "output_type": "stream",
     "text": [
      "/home/ssahu/anaconda3/lib/python3.5/site-packages/ipykernel/__main__.py:8: FutureWarning: elementwise comparison failed; returning scalar instead, but in the future will perform elementwise comparison\n",
      "/home/ssahu/anaconda3/lib/python3.5/site-packages/ipykernel/__main__.py:16: FutureWarning: elementwise comparison failed; returning scalar instead, but in the future will perform elementwise comparison\n"
     ]
    }
   ],
   "source": [
    "print(votemper_unfiltered.shape)\n",
    "\n",
    "for a in np.arange(votemper_unfiltered.shape[0]):\n",
    "    for i in np.arange(votemper_unfiltered.shape[1]):\n",
    "        for l in np.arange(votemper_unfiltered.shape[2]):\n",
    "            for m in np.arange(votemper_unfiltered.shape[3]):\n",
    "                if votemper_unfiltered[a,i,l,m] == 0:\n",
    "                    votemper_unfiltered[a,i,l,m] == ['Nan'];\n",
    "                    \n",
    "                    \n",
    "for a in np.arange(vosaline_unfiltered.shape[0]):\n",
    "    for i in np.arange(vosaline_unfiltered.shape[1]):\n",
    "        for l in np.arange(vosaline_unfiltered.shape[2]):\n",
    "            for m in np.arange(vosaline_unfiltered.shape[3]):\n",
    "                if vosaline_unfiltered[a,i,l,m] == 0:\n",
    "                    vosaline_unfiltered[a,i,l,m] == ['Nan'];\n",
    "                "
   ]
  },
  {
   "cell_type": "code",
   "execution_count": 11,
   "metadata": {
    "collapsed": false
   },
   "outputs": [
    {
     "name": "stdout",
     "output_type": "stream",
     "text": [
      "(43, 50, 345, 255) (43, 50, 345, 255)\n"
     ]
    }
   ],
   "source": [
    "votemper = np.empty(votemper_unfiltered.shape);\n",
    "vosaline = np.empty(vosaline_unfiltered.shape);\n",
    "for idx, val in enumerate(votemper_unfiltered[:,...]):\n",
    "    \n",
    "    votemper[idx-1,...] = votemper_unfiltered[idx-2,...]*0.25 + votemper_unfiltered[idx-1,...]*0.5 + \\\n",
    "                                votemper_unfiltered[idx,...]*0.25;\n",
    "    vosaline[idx-1,...] = vosaline_unfiltered[idx-2,...]*0.25 + vosaline_unfiltered[idx-1,...]*0.5 + \\\n",
    "                                vosaline_unfiltered[idx,...]*0.25;\n",
    "votemper[0,...] = votemper_unfiltered[0,...];\n",
    "vosaline[0,...] = vosaline_unfiltered[0,...];\n",
    "        \n",
    "print(votemper.shape, vosaline.shape)"
   ]
  },
  {
   "cell_type": "code",
   "execution_count": 12,
   "metadata": {
    "collapsed": true
   },
   "outputs": [],
   "source": [
    "fname_wcvi = '/ocean/ssahu/CANYONS/wcvi/grid/coordinates.nc'\n",
    "\n",
    "\n",
    "with nc.Dataset(fname_wcvi, 'r') as coord:\n",
    "    gphit_wcvi = coord.variables['gphit'][0,...];\n",
    "    glamt_wcvi =  coord.variables['glamt'][0,...];"
   ]
  },
  {
   "cell_type": "code",
   "execution_count": 13,
   "metadata": {
    "collapsed": true
   },
   "outputs": [],
   "source": [
    "X = glamt_bc_JP.flatten()\n",
    "\n",
    "Y = gphit_bc_JP.flatten()\n",
    "\n",
    "points = (X[:],Y[:])\n",
    "\n",
    "\n",
    "#Number of points to trim off the ends\n",
    "\n",
    "N = 5\n",
    "\n",
    "glamt_wcvi_bc_bottom = glamt_wcvi[0:N-1,:]; gphit_wcvi_bc_bottom = gphit_wcvi[0:N-1,:];\n",
    "\n",
    "\n",
    "\n",
    "xi_bottom = (glamt_wcvi_bc_bottom.flatten(), gphit_wcvi_bc_bottom.flatten());\n",
    "#votemper_wcvi = np.zeros((43,50,Nx,Ny));\n",
    "\n",
    "votemper_wcvi_bottom = np.empty((43,50,glamt_wcvi_bc_bottom.shape[0], glamt_wcvi_bc_bottom.shape[1]));\n",
    "\n",
    "vosaline_wcvi_bottom = np.empty((43,50,glamt_wcvi_bc_bottom.shape[0], glamt_wcvi_bc_bottom.shape[1]));\n",
    "\n",
    "\n",
    "\n",
    "for p in np.arange(votemper_wcvi_bottom.shape[0]):\n",
    "    for i in np.arange(votemper_wcvi_bottom.shape[1]):\n",
    "        votemper_wcvi_bottom[p,i,...] = np.reshape(griddata(points, votemper[p,i,...].flatten(), xi_bottom, method= 'linear'), glamt_wcvi_bc_bottom.shape)\n",
    "        vosaline_wcvi_bottom[p,i,...] = np.reshape(griddata(points, vosaline[p,i,...].flatten(), xi_bottom, method= 'linear'), glamt_wcvi_bc_bottom.shape)\n"
   ]
  },
  {
   "cell_type": "code",
   "execution_count": 14,
   "metadata": {
    "collapsed": false
   },
   "outputs": [
    {
     "name": "stdout",
     "output_type": "stream",
     "text": [
      "(43, 50, 4, 70)\n"
     ]
    }
   ],
   "source": [
    "print(votemper_wcvi_bottomi_bottom.shape)"
   ]
  },
  {
   "cell_type": "code",
   "execution_count": null,
   "metadata": {
    "collapsed": true
   },
   "outputs": [],
   "source": []
  }
 ],
 "metadata": {
  "anaconda-cloud": {},
  "kernelspec": {
   "display_name": "Python [conda root]",
   "language": "python",
   "name": "conda-root-py"
  },
  "language_info": {
   "codemirror_mode": {
    "name": "ipython",
    "version": 3
   },
   "file_extension": ".py",
   "mimetype": "text/x-python",
   "name": "python",
   "nbconvert_exporter": "python",
   "pygments_lexer": "ipython3",
   "version": "3.5.2"
  }
 },
 "nbformat": 4,
 "nbformat_minor": 1
}
