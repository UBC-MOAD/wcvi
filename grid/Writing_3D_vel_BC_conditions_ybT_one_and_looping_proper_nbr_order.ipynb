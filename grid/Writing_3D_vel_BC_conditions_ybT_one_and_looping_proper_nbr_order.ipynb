{
 "cells": [
  {
   "cell_type": "code",
   "execution_count": 1,
   "metadata": {
    "collapsed": false
   },
   "outputs": [
    {
     "name": "stderr",
     "output_type": "stream",
     "text": [
      "/home/ssahu/anaconda3/lib/python3.5/site-packages/xarray/conventions.py:9: FutureWarning: The pandas.tslib module is deprecated and will be removed in a future version.\n",
      "  from pandas.tslib import OutOfBoundsDatetime\n"
     ]
    }
   ],
   "source": [
    "%matplotlib inline\n",
    "import matplotlib.pyplot as plt\n",
    "import numpy as np\n",
    "import netCDF4 as nc\n",
    "import xarray as xr\n",
    "import matplotlib.cm as cm\n",
    "from scipy.interpolate import interp1d\n",
    "from salishsea_tools import (nc_tools, gsw_calls,viz_tools)"
   ]
  },
  {
   "cell_type": "code",
   "execution_count": 2,
   "metadata": {
    "collapsed": true
   },
   "outputs": [],
   "source": [
    "west_bdy_3d = nc.Dataset('/ocean/ssahu/CANYONS/bdy_files/3d_NEMO_west_twoless_m04.nc');"
   ]
  },
  {
   "cell_type": "code",
   "execution_count": 3,
   "metadata": {
    "collapsed": false
   },
   "outputs": [
    {
     "name": "stdout",
     "output_type": "stream",
     "text": [
      "odict_keys(['xb', 'yb', 'deptht', 'time_counter', 'vozocrtx', 'vomecrty', 'votemper', 'vosaline'])\n"
     ]
    }
   ],
   "source": [
    "nc_tools.show_variables(west_bdy_3d)"
   ]
  },
  {
   "cell_type": "code",
   "execution_count": 4,
   "metadata": {
    "collapsed": false
   },
   "outputs": [
    {
     "name": "stdout",
     "output_type": "stream",
     "text": [
      "(43, 27, 4, 98) (43, 27, 4, 98) (27,)\n",
      "(43, 27, 1, 392)\n"
     ]
    }
   ],
   "source": [
    "vozocrtx_full = west_bdy_3d.variables['vozocrtx'][...];\n",
    "vomecrty_full = west_bdy_3d.variables['vomecrty'][...];\n",
    "votemper_full = west_bdy_3d.variables['votemper'][...];\n",
    "vosaline_full = west_bdy_3d.variables['vosaline'][...];\n",
    "deptht = west_bdy_3d.variables['deptht'][...];\n",
    "\n",
    "\n",
    "\n",
    "print(vozocrtx_full.shape, vomecrty_full.shape, deptht.shape)\n",
    "\n",
    "Nt = vozocrtx_full.shape[0]\n",
    "Nz = vozocrtx_full.shape[1]\n",
    "Ny = vozocrtx_full.shape[2]\n",
    "Nx = vozocrtx_full.shape[3]\n",
    "\n",
    "vozocrtx_new = np.reshape(a=vozocrtx_full, newshape= (Nt,Nz,1,Nx*Ny))\n",
    "vomecrty_new = np.reshape(a=vomecrty_full, newshape= (Nt,Nz,1,Nx*Ny))\n",
    "votemper_new = np.reshape(a=votemper_full, newshape= (Nt,Nz,1,Nx*Ny))\n",
    "vosaline_new = np.reshape(a=vosaline_full, newshape= (Nt,Nz,1,Nx*Ny))\n",
    "\n",
    "print(votemper_new.shape)"
   ]
  },
  {
   "cell_type": "code",
   "execution_count": 7,
   "metadata": {
    "collapsed": false
   },
   "outputs": [
    {
     "name": "stdout",
     "output_type": "stream",
     "text": [
      "(43, 27, 1, 392)\n"
     ]
    }
   ],
   "source": [
    "bdy_file = nc.Dataset('/ocean/ssahu/CANYONS/bdy_files/3d_west_yBT_looped_twoless_m04.nc', 'w', zlib=True);\n",
    "\n",
    "bdy_file.createDimension('xbT', vozocrtx_new.shape[3]);\n",
    "bdy_file.createDimension('yb', 1);\n",
    "bdy_file.createDimension('deptht', vozocrtx_new.shape[1]);\n",
    "bdy_file.createDimension('time_counter', None);\n",
    "\n",
    "xbT = bdy_file.createVariable('xbT', 'int32', ('xbT',), zlib=True);\n",
    "xbT.units = 'indices';\n",
    "xbT.longname = 'x indices along left boundary ordered from outwards to inside (increasing nbr)';\n",
    "\n",
    "yb = bdy_file.createVariable('yb', 'int32', ('yb',), zlib=True);\n",
    "yb.units = 'indices';\n",
    "yb.longname = 'one y index across all of left boundary';\n",
    "\n",
    "deptht = bdy_file.createVariable('deptht', 'float32', ('deptht',), zlib=True);\n",
    "deptht.units = 'm';\n",
    "deptht.longname = 'Vertical T Levels';\n",
    "\n",
    "time_counter = bdy_file.createVariable('time_counter', 'int32', ('time_counter',), zlib=True);\n",
    "time_counter.units = 's';\n",
    "time_counter.longname = 'time';\n",
    "\n",
    "vozocrtx = bdy_file.createVariable('vozocrtx', 'float32', ('time_counter', 'deptht', 'yb', 'xbT'), zlib=True);\n",
    "vomecrty = bdy_file.createVariable('vomecrty', 'float32', ('time_counter', 'deptht', 'yb', 'xbT'), zlib=True);\n",
    "votemper = bdy_file.createVariable('votemper', 'float32', ('time_counter', 'deptht', 'yb', 'xbT'), zlib=True);\n",
    "vosaline = bdy_file.createVariable('vosaline', 'float32', ('time_counter', 'deptht', 'yb', 'xbT'), zlib=True);\n",
    "\n",
    "vozocrtx[...] = vozocrtx_new[...];\n",
    "vomecrty[...] = vomecrty_new[...];\n",
    "votemper[...] = votemper_new[...];\n",
    "vosaline[...] = vosaline_new[...];\n",
    "\n",
    "\n",
    "deptht[:] = deptht[:];\n",
    "\n",
    "\n",
    "bdy_file.close()\n",
    "\n",
    "print(vozocrtx_new.shape)"
   ]
  },
  {
   "cell_type": "markdown",
   "metadata": {},
   "source": [
    "### The north and the east boundary strips have to be flipped in order for them to be arranged in the increasing order of nbr (as required by the NEMO input files)"
   ]
  },
  {
   "cell_type": "code",
   "execution_count": 10,
   "metadata": {
    "collapsed": true
   },
   "outputs": [],
   "source": [
    "north_bdy_3d = nc.Dataset('/ocean/ssahu/CANYONS/bdy_files/3d_NEMO_north_twoless_m04.nc');"
   ]
  },
  {
   "cell_type": "code",
   "execution_count": 15,
   "metadata": {
    "collapsed": false
   },
   "outputs": [
    {
     "name": "stdout",
     "output_type": "stream",
     "text": [
      "(43, 27, 4, 68) (43, 27, 4, 68) (27,)\n",
      "(43, 27, 1, 272)\n"
     ]
    }
   ],
   "source": [
    "vozocrtx_full = north_bdy_3d.variables['vozocrtx'][...];\n",
    "vomecrty_full = north_bdy_3d.variables['vomecrty'][...];\n",
    "votemper_full = north_bdy_3d.variables['votemper'][...];\n",
    "vosaline_full = north_bdy_3d.variables['vosaline'][...]\n",
    "deptht = north_bdy_3d.variables['deptht'][...];\n",
    "\n",
    "\n",
    "print(vozocrtx_full.shape, vomecrty_full.shape, deptht.shape)\n",
    "\n",
    "Nt = vozocrtx_full.shape[0]\n",
    "Nz = vozocrtx_full.shape[1]\n",
    "Ny = vozocrtx_full.shape[2]\n",
    "Nx = vozocrtx_full.shape[3]\n",
    "\n",
    "\n",
    "vozocrtx_flipped = np.flip(vozocrtx_full, axis=2)\n",
    "vomecrty_flipped = np.flip(vomecrty_full, axis=2)\n",
    "votemper_flipped = np.flip(votemper_full, axis=2)\n",
    "vosaline_flipped = np.flip(vosaline_full, axis=2)\n",
    "\n",
    "\n",
    "\n",
    "vozocrtx_new = np.reshape(a=vozocrtx_flipped, newshape= (Nt,Nz,1,Nx*Ny))\n",
    "vomecrty_new = np.reshape(a=vomecrty_flipped, newshape= (Nt,Nz,1,Nx*Ny))\n",
    "votemper_new = np.reshape(a=votemper_flipped, newshape= (Nt,Nz,1,Nx*Ny))\n",
    "vosaline_new = np.reshape(a=vosaline_flipped, newshape= (Nt,Nz,1,Nx*Ny))\n",
    "\n",
    "print(votemper_new.shape)"
   ]
  },
  {
   "cell_type": "code",
   "execution_count": 16,
   "metadata": {
    "collapsed": false
   },
   "outputs": [
    {
     "name": "stdout",
     "output_type": "stream",
     "text": [
      "(43, 27, 1, 272)\n"
     ]
    }
   ],
   "source": [
    "bdy_file = nc.Dataset('/ocean/ssahu/CANYONS/bdy_files/3d_north_yBT_looped_twoless_m04.nc', 'w', zlib=True);\n",
    "\n",
    "bdy_file.createDimension('xbT', vozocrtx_new.shape[3]);\n",
    "bdy_file.createDimension('yb', 1);\n",
    "bdy_file.createDimension('deptht', vozocrtx_new.shape[1]);\n",
    "bdy_file.createDimension('time_counter', None);\n",
    "\n",
    "xbT = bdy_file.createVariable('xbT', 'int32', ('xbT',), zlib=True);\n",
    "xbT.units = 'indices';\n",
    "xbT.longname = 'x indices along north boundary ordered from outwards to inside (increasing nbr)';\n",
    "\n",
    "yb = bdy_file.createVariable('yb', 'int32', ('yb',), zlib=True);\n",
    "yb.units = 'indices';\n",
    "yb.longname = 'one y index across all of north boundary';\n",
    "\n",
    "deptht = bdy_file.createVariable('deptht', 'float32', ('deptht',), zlib=True);\n",
    "deptht.units = 'm';\n",
    "deptht.longname = 'Vertical T Levels';\n",
    "\n",
    "time_counter = bdy_file.createVariable('time_counter', 'int32', ('time_counter',), zlib=True);\n",
    "time_counter.units = 's';\n",
    "time_counter.longname = 'time';\n",
    "\n",
    "vozocrtx = bdy_file.createVariable('vozocrtx', 'float32', ('time_counter', 'deptht', 'yb', 'xbT'), zlib=True);\n",
    "vomecrty = bdy_file.createVariable('vomecrty', 'float32', ('time_counter', 'deptht', 'yb', 'xbT'), zlib=True);\n",
    "votemper = bdy_file.createVariable('votemper', 'float32', ('time_counter', 'deptht', 'yb', 'xbT'), zlib=True);\n",
    "vosaline = bdy_file.createVariable('vosaline', 'float32', ('time_counter', 'deptht', 'yb', 'xbT'), zlib=True);\n",
    "\n",
    "vozocrtx[...] = vozocrtx_new[...];\n",
    "vomecrty[...] = vomecrty_new[...];\n",
    "votemper[...] = votemper_new[...];\n",
    "vosaline[...] = vosaline_new[...];\n",
    "\n",
    "print(vozocrtx.shape)\n",
    "\n",
    "bdy_file.close()"
   ]
  },
  {
   "cell_type": "code",
   "execution_count": 17,
   "metadata": {
    "collapsed": true
   },
   "outputs": [],
   "source": [
    "east_bdy_3d = nc.Dataset('/ocean/ssahu/CANYONS/bdy_files/3d_NEMO_right_twoless_m04.nc');"
   ]
  },
  {
   "cell_type": "code",
   "execution_count": 18,
   "metadata": {
    "collapsed": false
   },
   "outputs": [
    {
     "name": "stdout",
     "output_type": "stream",
     "text": [
      "(43, 27, 4, 98) (43, 27, 4, 98) (27,)\n",
      "(43, 27, 1, 392)\n"
     ]
    }
   ],
   "source": [
    "vozocrtx_full = east_bdy_3d.variables['vozocrtx'][...];\n",
    "vomecrty_full = east_bdy_3d.variables['vomecrty'][...];\n",
    "votemper_full = east_bdy_3d.variables['votemper'][...];\n",
    "vosaline_full = east_bdy_3d.variables['vosaline'][...];\n",
    "deptht = east_bdy_3d.variables['deptht'][...];\n",
    "\n",
    "\n",
    "print(vozocrtx_full.shape, vomecrty_full.shape, deptht.shape)\n",
    "\n",
    "\n",
    "Nt = vozocrtx_full.shape[0]\n",
    "Nz = vozocrtx_full.shape[1]\n",
    "Ny = vozocrtx_full.shape[2]\n",
    "Nx = vozocrtx_full.shape[3]\n",
    "\n",
    "\n",
    "vozocrtx_flipped = np.flip(vozocrtx_full, axis=2)\n",
    "vomecrty_flipped = np.flip(vomecrty_full, axis=2)\n",
    "votemper_flipped = np.flip(votemper_full, axis=2)\n",
    "vosaline_flipped = np.flip(vosaline_full, axis=2)\n",
    "\n",
    "\n",
    "\n",
    "vozocrtx_new = np.reshape(a=vozocrtx_flipped, newshape= (Nt,Nz,1,Nx*Ny))\n",
    "vomecrty_new = np.reshape(a=vomecrty_flipped, newshape= (Nt,Nz,1,Nx*Ny))\n",
    "votemper_new = np.reshape(a=votemper_flipped, newshape= (Nt,Nz,1,Nx*Ny))\n",
    "vosaline_new = np.reshape(a=vosaline_flipped, newshape= (Nt,Nz,1,Nx*Ny))\n",
    "\n",
    "print(votemper_new.shape)"
   ]
  },
  {
   "cell_type": "code",
   "execution_count": 19,
   "metadata": {
    "collapsed": false
   },
   "outputs": [
    {
     "name": "stdout",
     "output_type": "stream",
     "text": [
      "(43, 27, 1, 392)\n"
     ]
    }
   ],
   "source": [
    "bdy_file = nc.Dataset('/ocean/ssahu/CANYONS/bdy_files/3d_east_yBT_looped_twoless_m04.nc', 'w', zlib=True);\n",
    "\n",
    "bdy_file.createDimension('xbT', vozocrtx_new.shape[3]);\n",
    "bdy_file.createDimension('yb', 1);\n",
    "bdy_file.createDimension('deptht', vozocrtx_new.shape[1]);\n",
    "bdy_file.createDimension('time_counter', None);\n",
    "\n",
    "xbT = bdy_file.createVariable('xbT', 'int32', ('xbT',), zlib=True);\n",
    "xbT.units = 'indices';\n",
    "xbT.longname = 'x indices along east boundary ordered from outwards to inside (increasing nbr)';\n",
    "\n",
    "yb = bdy_file.createVariable('yb', 'int32', ('yb',), zlib=True);\n",
    "yb.units = 'indices';\n",
    "yb.longname = 'one y index across all of east boundary';\n",
    "\n",
    "deptht = bdy_file.createVariable('deptht', 'float32', ('deptht',), zlib=True);\n",
    "deptht.units = 'm';\n",
    "deptht.longname = 'Vertical T Levels';\n",
    "\n",
    "time_counter = bdy_file.createVariable('time_counter', 'int32', ('time_counter',), zlib=True);\n",
    "time_counter.units = 's';\n",
    "time_counter.longname = 'time';\n",
    "\n",
    "vozocrtx = bdy_file.createVariable('vozocrtx', 'float32', ('time_counter', 'deptht', 'yb', 'xbT'), zlib=True);\n",
    "vomecrty = bdy_file.createVariable('vomecrty', 'float32', ('time_counter', 'deptht', 'yb', 'xbT'), zlib=True);\n",
    "votemper = bdy_file.createVariable('votemper', 'float32', ('time_counter', 'deptht', 'yb', 'xbT'), zlib=True);\n",
    "vosaline = bdy_file.createVariable('vosaline', 'float32', ('time_counter', 'deptht', 'yb', 'xbT'), zlib=True);\n",
    "\n",
    "vozocrtx[...] = vozocrtx_new[...];\n",
    "vomecrty[...] = vomecrty_new[...];\n",
    "votemper[...] = votemper_new[...];\n",
    "vosaline[...] = vosaline_new[...];\n",
    "\n",
    "print(vozocrtx.shape)\n",
    "\n",
    "bdy_file.close()"
   ]
  },
  {
   "cell_type": "code",
   "execution_count": 20,
   "metadata": {
    "collapsed": true
   },
   "outputs": [],
   "source": [
    "south_bdy_3d = nc.Dataset('/ocean/ssahu/CANYONS/bdy_files/3d_NEMO_south_twoless_m04.nc');"
   ]
  },
  {
   "cell_type": "code",
   "execution_count": 21,
   "metadata": {
    "collapsed": false
   },
   "outputs": [
    {
     "name": "stdout",
     "output_type": "stream",
     "text": [
      "(43, 27, 4, 68) (43, 27, 4, 68) (27,)\n",
      "(43, 27, 1, 272)\n"
     ]
    }
   ],
   "source": [
    "vozocrtx_full = south_bdy_3d.variables['vozocrtx'][...];\n",
    "vomecrty_full = south_bdy_3d.variables['vomecrty'][...];\n",
    "votemper_full = south_bdy_3d.variables['votemper'][...];\n",
    "vosaline_full = south_bdy_3d.variables['vosaline'][...];\n",
    "deptht = south_bdy_3d.variables['deptht'][...];\n",
    "\n",
    "\n",
    "print(vozocrtx_full.shape, vomecrty_full.shape, deptht.shape)\n",
    "\n",
    "Nt = vozocrtx_full.shape[0]\n",
    "Nz = vozocrtx_full.shape[1]\n",
    "Ny = vozocrtx_full.shape[2]\n",
    "Nx = vozocrtx_full.shape[3]\n",
    "\n",
    "vozocrtx_new = np.reshape(a=vozocrtx_full, newshape= (Nt,Nz,1,Nx*Ny))\n",
    "vomecrty_new = np.reshape(a=vomecrty_full, newshape= (Nt,Nz,1,Nx*Ny))\n",
    "votemper_new = np.reshape(a=votemper_full, newshape= (Nt,Nz,1,Nx*Ny))\n",
    "vosaline_new = np.reshape(a=vosaline_full, newshape= (Nt,Nz,1,Nx*Ny))\n",
    "\n",
    "print(votemper_new.shape)"
   ]
  },
  {
   "cell_type": "code",
   "execution_count": 24,
   "metadata": {
    "collapsed": false
   },
   "outputs": [
    {
     "name": "stdout",
     "output_type": "stream",
     "text": [
      "(43, 27, 1, 272)\n"
     ]
    }
   ],
   "source": [
    "bdy_file = nc.Dataset('/ocean/ssahu/CANYONS/bdy_files/3d_south_yBT_looped_twoless_m04.nc', 'w', zlib=True);\n",
    "\n",
    "bdy_file.createDimension('xbT', vozocrtx_new.shape[3]);\n",
    "bdy_file.createDimension('yb', 1);\n",
    "bdy_file.createDimension('deptht', vozocrtx_new.shape[1]);\n",
    "bdy_file.createDimension('time_counter', None);\n",
    "\n",
    "xbT = bdy_file.createVariable('xbT', 'int32', ('xbT',), zlib=True);\n",
    "xbT.units = 'indices';\n",
    "xbT.longname = 'x indices along south boundary ordered from outwards to inside (increasing nbr)';\n",
    "\n",
    "yb = bdy_file.createVariable('yb', 'int32', ('yb',), zlib=True);\n",
    "yb.units = 'indices';\n",
    "yb.longname = 'one y index across all of south boundary';\n",
    "\n",
    "deptht = bdy_file.createVariable('deptht', 'float32', ('deptht',), zlib=True);\n",
    "deptht.units = 'm';\n",
    "deptht.longname = 'Vertical T Levels';\n",
    "\n",
    "time_counter = bdy_file.createVariable('time_counter', 'int32', ('time_counter',), zlib=True);\n",
    "time_counter.units = 's';\n",
    "time_counter.longname = 'time';\n",
    "\n",
    "\n",
    "vozocrtx = bdy_file.createVariable('vozocrtx', 'float32', ('time_counter', 'deptht', 'yb', 'xbT'), zlib=True);\n",
    "vomecrty = bdy_file.createVariable('vomecrty', 'float32', ('time_counter', 'deptht', 'yb', 'xbT'), zlib=True);\n",
    "votemper = bdy_file.createVariable('votemper', 'float32', ('time_counter', 'deptht', 'yb', 'xbT'), zlib=True);\n",
    "vosaline = bdy_file.createVariable('vosaline', 'float32', ('time_counter', 'deptht', 'yb', 'xbT'), zlib=True);\n",
    "\n",
    "vozocrtx[...] = vozocrtx_new[...];\n",
    "vomecrty[...] = vomecrty_new[...];\n",
    "votemper[...] = votemper_new[...];\n",
    "vosaline[...] = vosaline_new[...];\n",
    "\n",
    "print(vozocrtx.shape)\n",
    "\n",
    "bdy_file.close()"
   ]
  },
  {
   "cell_type": "code",
   "execution_count": null,
   "metadata": {
    "collapsed": true
   },
   "outputs": [],
   "source": []
  }
 ],
 "metadata": {
  "kernelspec": {
   "display_name": "Python [conda root]",
   "language": "python",
   "name": "conda-root-py"
  },
  "language_info": {
   "codemirror_mode": {
    "name": "ipython",
    "version": 3
   },
   "file_extension": ".py",
   "mimetype": "text/x-python",
   "name": "python",
   "nbconvert_exporter": "python",
   "pygments_lexer": "ipython3",
   "version": "3.5.2"
  }
 },
 "nbformat": 4,
 "nbformat_minor": 1
}
