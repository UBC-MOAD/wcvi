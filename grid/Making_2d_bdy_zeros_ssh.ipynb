{
 "cells": [
  {
   "cell_type": "code",
   "execution_count": 1,
   "metadata": {
    "collapsed": true
   },
   "outputs": [],
   "source": [
    "%matplotlib inline\n",
    "import matplotlib.pyplot as plt\n",
    "import numpy as np\n",
    "import netCDF4 as nc\n",
    "import xarray as xr\n",
    "import matplotlib.cm as cm\n",
    "from scipy.interpolate import interp1d\n",
    "from salishsea_tools import (nc_tools, gsw_calls,viz_tools)"
   ]
  },
  {
   "cell_type": "code",
   "execution_count": 4,
   "metadata": {
    "collapsed": true
   },
   "outputs": [],
   "source": [
    "left_file = nc.Dataset('/ocean/ssahu/CANYONS/bdy_files/2d_west_m04.nc');\n",
    "right_file = nc.Dataset('/ocean/ssahu/CANYONS/bdy_files/2d_right_m04.nc');\n",
    "north_file = nc.Dataset('/ocean/ssahu/CANYONS/bdy_files/2d_north_m04.nc');\n",
    "south_file = nc.Dataset('/ocean/ssahu/CANYONS/bdy_files/2d_south_m04.nc');"
   ]
  },
  {
   "cell_type": "markdown",
   "metadata": {},
   "source": [
    "#### RIghting the left file with zero ssh as 2d BC to wcvi"
   ]
  },
  {
   "cell_type": "code",
   "execution_count": 11,
   "metadata": {
    "collapsed": false
   },
   "outputs": [],
   "source": [
    "u_2d_vel = left_file.variables['vobtcrtx'][:];\n",
    "v_2d_vel = left_file.variables['vobtcrty'][:];\n",
    "ssh = np.zeros((u_2d_vel.shape));\n",
    "\n",
    "\n",
    "bdy_file = nc.Dataset('/ocean/ssahu/CANYONS/bdy_files/2d_west_zero_ssh_m04.nc', 'w', zlib=True);\n",
    "\n",
    "\n",
    "bdy_file.createDimension('xb', u_2d_vel.shape[2]);\n",
    "bdy_file.createDimension('yb', u_2d_vel.shape[1]);\n",
    "bdy_file.createDimension('time_counter', None);\n",
    "\n",
    "\n",
    "xb = bdy_file.createVariable('xb', 'int32', ('xb',), zlib=True);\n",
    "xb.units = 'indices';\n",
    "xb.longname = 'x indices along left boundary';\n",
    "\n",
    "yb = bdy_file.createVariable('yb', 'int32', ('yb',), zlib=True);\n",
    "yb.units = 'indices';\n",
    "yb.longname = 'a strip of y indices across all of left boundary';\n",
    "\n",
    "\n",
    "time_counter = bdy_file.createVariable('time_counter', 'int32', ('time_counter',), zlib=True);\n",
    "time_counter.units = 's';\n",
    "time_counter.longname = 'time';\n",
    "\n",
    "\n",
    "vobtcrtx = bdy_file.createVariable('vobtcrtx', 'float32', ('time_counter', 'yb', 'xb'), zlib=True);\n",
    "vobtcrty = bdy_file.createVariable('vobtcrty', 'float32', ('time_counter', 'yb', 'xb'), zlib=True);\n",
    "sossheig = bdy_file.createVariable('sossheig', 'float32', ('time_counter', 'yb', 'xb'), zlib=True);\n",
    "\n",
    "\n",
    "vobtcrtx[:] = u_2d_vel[:];\n",
    "vobtcrty[:] = v_2d_vel[:];\n",
    "sossheig[:] = ssh[:];\n",
    "\n",
    "\n",
    "bdy_file.close()"
   ]
  },
  {
   "cell_type": "code",
   "execution_count": 12,
   "metadata": {
    "collapsed": false
   },
   "outputs": [
    {
     "name": "stdout",
     "output_type": "stream",
     "text": [
      "(43, 100, 4)\n"
     ]
    }
   ],
   "source": [
    "print(u_2d_vel.shape)"
   ]
  },
  {
   "cell_type": "markdown",
   "metadata": {},
   "source": [
    "### Now for the right boundary"
   ]
  },
  {
   "cell_type": "code",
   "execution_count": 13,
   "metadata": {
    "collapsed": true
   },
   "outputs": [],
   "source": [
    "u_2d_vel = right_file.variables['vobtcrtx'][:];\n",
    "v_2d_vel = right_file.variables['vobtcrty'][:];\n",
    "ssh = np.zeros((u_2d_vel.shape));\n",
    "\n",
    "\n",
    "bdy_file = nc.Dataset('/ocean/ssahu/CANYONS/bdy_files/2d_right_zero_ssh_m04.nc', 'w', zlib=True);\n",
    "\n",
    "\n",
    "bdy_file.createDimension('xb', u_2d_vel.shape[2]);\n",
    "bdy_file.createDimension('yb', u_2d_vel.shape[1]);\n",
    "bdy_file.createDimension('time_counter', None);\n",
    "\n",
    "\n",
    "xb = bdy_file.createVariable('xb', 'int32', ('xb',), zlib=True);\n",
    "xb.units = 'indices';\n",
    "xb.longname = 'x indices along right boundary';\n",
    "\n",
    "yb = bdy_file.createVariable('yb', 'int32', ('yb',), zlib=True);\n",
    "yb.units = 'indices';\n",
    "yb.longname = 'a strip of y indices across all of right boundary';\n",
    "\n",
    "\n",
    "time_counter = bdy_file.createVariable('time_counter', 'int32', ('time_counter',), zlib=True);\n",
    "time_counter.units = 's';\n",
    "time_counter.longname = 'time';\n",
    "\n",
    "\n",
    "vobtcrtx = bdy_file.createVariable('vobtcrtx', 'float32', ('time_counter', 'yb', 'xb'), zlib=True);\n",
    "vobtcrty = bdy_file.createVariable('vobtcrty', 'float32', ('time_counter', 'yb', 'xb'), zlib=True);\n",
    "sossheig = bdy_file.createVariable('sossheig', 'float32', ('time_counter', 'yb', 'xb'), zlib=True);\n",
    "\n",
    "\n",
    "vobtcrtx[:] = u_2d_vel[:];\n",
    "vobtcrty[:] = v_2d_vel[:];\n",
    "sossheig[:] = ssh[:];\n",
    "\n",
    "\n",
    "bdy_file.close()"
   ]
  },
  {
   "cell_type": "markdown",
   "metadata": {},
   "source": [
    "### Now for the north boundary"
   ]
  },
  {
   "cell_type": "code",
   "execution_count": 14,
   "metadata": {
    "collapsed": true
   },
   "outputs": [],
   "source": [
    "u_2d_vel = north_file.variables['vobtcrtx'][:];\n",
    "v_2d_vel = north_file.variables['vobtcrty'][:];\n",
    "ssh = np.zeros((u_2d_vel.shape));\n",
    "\n",
    "\n",
    "bdy_file = nc.Dataset('/ocean/ssahu/CANYONS/bdy_files/2d_north_zero_ssh_m04.nc', 'w', zlib=True);\n",
    "\n",
    "\n",
    "bdy_file.createDimension('xb', u_2d_vel.shape[2]);\n",
    "bdy_file.createDimension('yb', u_2d_vel.shape[1]);\n",
    "bdy_file.createDimension('time_counter', None);\n",
    "\n",
    "\n",
    "xb = bdy_file.createVariable('xb', 'int32', ('xb',), zlib=True);\n",
    "xb.units = 'indices';\n",
    "xb.longname = 'x indices along north boundary';\n",
    "\n",
    "yb = bdy_file.createVariable('yb', 'int32', ('yb',), zlib=True);\n",
    "yb.units = 'indices';\n",
    "yb.longname = 'a strip of y indices across all of north boundary';\n",
    "\n",
    "\n",
    "time_counter = bdy_file.createVariable('time_counter', 'int32', ('time_counter',), zlib=True);\n",
    "time_counter.units = 's';\n",
    "time_counter.longname = 'time';\n",
    "\n",
    "\n",
    "vobtcrtx = bdy_file.createVariable('vobtcrtx', 'float32', ('time_counter', 'yb', 'xb'), zlib=True);\n",
    "vobtcrty = bdy_file.createVariable('vobtcrty', 'float32', ('time_counter', 'yb', 'xb'), zlib=True);\n",
    "sossheig = bdy_file.createVariable('sossheig', 'float32', ('time_counter', 'yb', 'xb'), zlib=True);\n",
    "\n",
    "\n",
    "vobtcrtx[:] = u_2d_vel[:];\n",
    "vobtcrty[:] = v_2d_vel[:];\n",
    "sossheig[:] = ssh[:];\n",
    "\n",
    "\n",
    "bdy_file.close()"
   ]
  },
  {
   "cell_type": "markdown",
   "metadata": {},
   "source": [
    "### Now for the south boundary"
   ]
  },
  {
   "cell_type": "code",
   "execution_count": 15,
   "metadata": {
    "collapsed": true
   },
   "outputs": [],
   "source": [
    "u_2d_vel = south_file.variables['vobtcrtx'][:];\n",
    "v_2d_vel = south_file.variables['vobtcrty'][:];\n",
    "ssh = np.zeros((u_2d_vel.shape));\n",
    "\n",
    "\n",
    "bdy_file = nc.Dataset('/ocean/ssahu/CANYONS/bdy_files/2d_south_zero_ssh_m04.nc', 'w', zlib=True);\n",
    "\n",
    "\n",
    "bdy_file.createDimension('xb', u_2d_vel.shape[2]);\n",
    "bdy_file.createDimension('yb', u_2d_vel.shape[1]);\n",
    "bdy_file.createDimension('time_counter', None);\n",
    "\n",
    "\n",
    "xb = bdy_file.createVariable('xb', 'int32', ('xb',), zlib=True);\n",
    "xb.units = 'indices';\n",
    "xb.longname = 'x indices along south boundary';\n",
    "\n",
    "yb = bdy_file.createVariable('yb', 'int32', ('yb',), zlib=True);\n",
    "yb.units = 'indices';\n",
    "yb.longname = 'a strip of y indices across all of south boundary';\n",
    "\n",
    "\n",
    "time_counter = bdy_file.createVariable('time_counter', 'int32', ('time_counter',), zlib=True);\n",
    "time_counter.units = 's';\n",
    "time_counter.longname = 'time';\n",
    "\n",
    "\n",
    "vobtcrtx = bdy_file.createVariable('vobtcrtx', 'float32', ('time_counter', 'yb', 'xb'), zlib=True);\n",
    "vobtcrty = bdy_file.createVariable('vobtcrty', 'float32', ('time_counter', 'yb', 'xb'), zlib=True);\n",
    "sossheig = bdy_file.createVariable('sossheig', 'float32', ('time_counter', 'yb', 'xb'), zlib=True);\n",
    "\n",
    "\n",
    "vobtcrtx[:] = u_2d_vel[:];\n",
    "vobtcrty[:] = v_2d_vel[:];\n",
    "sossheig[:] = ssh[:];\n",
    "\n",
    "\n",
    "bdy_file.close()"
   ]
  },
  {
   "cell_type": "code",
   "execution_count": null,
   "metadata": {
    "collapsed": true
   },
   "outputs": [],
   "source": []
  }
 ],
 "metadata": {
  "anaconda-cloud": {},
  "kernelspec": {
   "display_name": "Python [conda root]",
   "language": "python",
   "name": "conda-root-py"
  },
  "language_info": {
   "codemirror_mode": {
    "name": "ipython",
    "version": 3
   },
   "file_extension": ".py",
   "mimetype": "text/x-python",
   "name": "python",
   "nbconvert_exporter": "python",
   "pygments_lexer": "ipython3",
   "version": "3.5.2"
  }
 },
 "nbformat": 4,
 "nbformat_minor": 1
}
