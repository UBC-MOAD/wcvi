{
 "cells": [
  {
   "cell_type": "markdown",
   "metadata": {},
   "source": [
    "#### This notebook deals with the way to do away with the inclusion of land points in the horizontal interpolation, so we are looking to mask the data before we do the interpolation (also we would be doing it in 2 steps instead of one to achieve a slightly higher accuracy and smoothness of data points near the coast so we donot have a noisy signal in the NEMO output near the coastlines)"
   ]
  },
  {
   "cell_type": "markdown",
   "metadata": {
    "collapsed": true
   },
   "source": [
    "#### We choose to tackle the problem in 4 steps\n",
    "\n",
    "1) Mask out JP's land using JP's t mask (and u, v masks for his u and v data not in IC but in BC later)\n",
    "\n",
    "2) Do a gridata linear interpolation to all our grid points (WCVI). After this step we get NAN over a handful of WCVI points.\n",
    "\n",
    "3) Do a gridata nearest neighbour interpolation only to the places where we have NAN values right now in our WCVI domain.\n",
    "\n",
    "4) Multiply the whole thing with our tmask (and u, v masks for the u,v data) from one of our mesh_mask.nc"
   ]
  },
  {
   "cell_type": "code",
   "execution_count": 1,
   "metadata": {
    "collapsed": false
   },
   "outputs": [],
   "source": [
    "import numpy as np\n",
    "import netCDF4 as nc\n",
    "import xarray as xr\n",
    "from scipy.interpolate import griddata, interp1d\n",
    "from salishsea_tools import nc_tools,viz_tools\n",
    "import matplotlib.pyplot as plt\n",
    "import matplotlib.cm as cm\n",
    "\n",
    "from fancyimpute import KNN"
   ]
  },
  {
   "cell_type": "code",
   "execution_count": 2,
   "metadata": {
    "collapsed": true
   },
   "outputs": [],
   "source": [
    "#### Load JP's data \n",
    "\n",
    "fname = '/home/ssahu/saurav/JP_BC/cat_42_days_T.nc';\n",
    "\n",
    "gridT = xr.open_dataset(fname);"
   ]
  },
  {
   "cell_type": "code",
   "execution_count": 3,
   "metadata": {
    "collapsed": false
   },
   "outputs": [
    {
     "data": {
      "text/plain": [
       "<bound method Mapping.keys of <xarray.Dataset>\n",
       "Dimensions:            (bnds: 2, deptht: 50, time_counter: 43, x: 715, y: 1021)\n",
       "Coordinates:\n",
       "  * deptht             (deptht) float32 0.494025 1.54138 2.64567 3.81949 ...\n",
       "  * time_counter       (time_counter) datetime64[ns] 2016-04-01T12:00:00 ...\n",
       "  * y                  (y) int64 0 1 2 3 4 5 6 7 8 9 10 11 12 13 14 15 16 17 ...\n",
       "  * x                  (x) int64 0 1 2 3 4 5 6 7 8 9 10 11 12 13 14 15 16 17 ...\n",
       "  * bnds               (bnds) int64 0 1\n",
       "Data variables:\n",
       "    nav_lon            (y, x) float32 -142.283 -142.256 -142.228 -142.2 ...\n",
       "    nav_lat            (y, x) float32 45.0491 45.0479 45.0467 45.0456 ...\n",
       "    time_counter_bnds  (time_counter, bnds) float64 4.873e+07 4.881e+07 ...\n",
       "    votemper           (time_counter, deptht, y, x) float64 0.0 8.881 8.905 ...\n",
       "    vosaline           (time_counter, deptht, y, x) float64 0.0 33.14 33.13 ...\n",
       "    sosstsst           (time_counter, y, x) float64 0.0 8.881 8.905 8.925 ...\n",
       "    sosaline           (time_counter, y, x) float64 0.0 33.14 33.13 33.12 ...\n",
       "    sossheig           (time_counter, y, x) float64 0.0 -0.01869 -0.01348 ...\n",
       "    sowaflup           (time_counter, y, x) float64 0.0 8.562e-06 8.61e-06 ...\n",
       "    sowaflcd           (time_counter, y, x) float64 0.0 0.0 0.0 0.0 0.0 0.0 ...\n",
       "    sosalflx           (time_counter, y, x) float64 0.0 0.0 0.0 0.0 0.0 0.0 ...\n",
       "    sohefldo           (time_counter, y, x) float64 0.0 100.3 100.1 99.8 ...\n",
       "    soshfldo           (time_counter, y, x) float64 0.0 219.4 219.6 219.7 ...\n",
       "    somxl010           (time_counter, y, x) float64 0.0 5.709 6.333 6.297 ...\n",
       "    somixhgt           (time_counter, y, x) float64 0.0 4.95 4.674 4.623 ...\n",
       "    soicecov           (time_counter, y, x) float64 0.0 0.0 0.0 0.0 0.0 0.0 ...\n",
       "    sohefldp           (time_counter, y, x) float64 0.0 0.0 0.0 0.0 0.0 0.0 ...\n",
       "    sosafldp           (time_counter, y, x) float64 0.0 0.0 0.0 0.0 0.0 0.0 ...\n",
       "    sowafldp           (time_counter, y, x) float64 0.0 0.0 0.0 0.0 0.0 0.0 ...\n",
       "    sobowlin           (y, x) float64 nan 7.0 9.0 9.0 9.0 9.0 9.0 9.0 9.0 ...\n",
       "Attributes:\n",
       "    Conventions: CF-1.1\n",
       "    CDI: Climate Data Interface version 1.7.1 (http://mpimet.mpg.de/cdi)\n",
       "    history: Wed Jul 27 13:01:08 2016: /usr/local/bin/ncrename -O -v lat,nav_lat -v lon,nav_lon /fs/peg/data/rpne/rpnejpp/NEP036/NEP036-N30-OUT/CDF_COMB/NEP036-N30_IN_20160401_00813600_grid_T.nc\n",
       "Wed Jul 27 12:36:59 2016: cdo timmean /fs/peg/data/rpne/rpnejpp/NEP036/NEP036-N30-OUT/DIMG/NEP036-N30_CU60_20160401_20160332_00813600_grid_T_0000.nc /fs/peg/data/rpne/rpnejpp/NEP036/NEP036-N30-OUT/WORKDIR_grid_T_00813600/timmean_grid_T_00813600_0000.nc\n",
       "    file_name: /fs/peg/data/rpne/rpnejpp/NEP036/NEP036-N30-OUT/CDF_COMB/NEP036-N30_IN_20160401_00813600_grid_T.nc\n",
       "    production: An IPSL model\n",
       "    TimeStamp: 2016-JUL-27 10:02:26 GMT-0000\n",
       "    CDO: Climate Data Operators version 1.7.1 (http://mpimet.mpg.de/cdo)>"
      ]
     },
     "execution_count": 3,
     "metadata": {},
     "output_type": "execute_result"
    }
   ],
   "source": [
    "gridT.keys"
   ]
  },
  {
   "cell_type": "code",
   "execution_count": 4,
   "metadata": {
    "collapsed": false
   },
   "outputs": [
    {
     "name": "stdout",
     "output_type": "stream",
     "text": [
      "(50, 345, 255) (50, 345, 255) (50, 345, 255)\n"
     ]
    }
   ],
   "source": [
    "#### Load JP's mask\n",
    "\n",
    "mask = nc.Dataset('/data/mdunphy/NEP036-N30-OUT/INV/mesh_mask.nc');\n",
    "\n",
    "tmask_JP = mask.variables['tmask'][0,:,55:400,446:701];\n",
    "umask_JP = mask.variables['umask'][0,:,55:400,446:701];\n",
    "vmask_JP = mask.variables['vmask'][0,:,55:400,446:701];\n",
    "\n",
    "print(tmask_JP.shape, umask_JP.shape, vmask_JP.shape)"
   ]
  },
  {
   "cell_type": "markdown",
   "metadata": {},
   "source": [
    "### STEP 1) Mask JP's data"
   ]
  },
  {
   "cell_type": "code",
   "execution_count": 5,
   "metadata": {
    "collapsed": false
   },
   "outputs": [],
   "source": [
    "#### Slice out our domain of WCVI from JP and mask it at the same time saying the zero values as NAN\n",
    "\n",
    "votemper_JP = np.array(gridT['votemper'][0,:,55:400,446:701]);\n",
    "votemper_JP[...] = np.ma.masked_array(votemper_JP[...], mask = tmask_JP[...]);\n",
    "votemper_JP[votemper_JP == 0] =['Nan'];\n",
    "\n",
    "vosaline_JP = np.array(gridT['vosaline'][0,:,55:400,446:701]);\n",
    "vosaline_JP[...] = np.ma.masked_array(vosaline_JP[...], mask = tmask_JP[...]);\n",
    "vosaline_JP[vosaline_JP == 0] = ['Nan'];\n",
    "\n",
    "glamt_bc_JP = np.array(gridT['nav_lon'][55:400,446:701]);\n",
    "gphit_bc_JP = np.array(gridT['nav_lat'][55:400,446:701]);\n",
    "deptht_JP = np.array(gridT['deptht'][:]);\n"
   ]
  },
  {
   "cell_type": "code",
   "execution_count": 7,
   "metadata": {
    "collapsed": false
   },
   "outputs": [
    {
     "data": {
      "text/plain": [
       "array([ 32.85047913,  32.8494606 ,  32.84786987,  32.84399796,\n",
       "        32.84130096,  32.84194183,  32.8444519 ,  32.84753799,\n",
       "        32.85254669,  32.85647964,  32.8595314 ,  32.86235046,\n",
       "        32.86702728,  32.87555313,  32.88618469,  32.89451218,\n",
       "        32.90081024,  32.90483093,  32.90930176,  32.92013931,\n",
       "        32.95475769,  33.06747437,  33.2415123 ,  33.47072601,\n",
       "        33.66275787,  33.83255005,  33.93229294,  33.96300888,\n",
       "        33.97008896,  33.98950577,  34.0399704 ,  34.10607147,\n",
       "        34.17634964,  34.25790787,  34.33724213,  34.39661026,\n",
       "        34.45060349,  34.49922562,  34.54627991,  34.58870316,\n",
       "        34.61618042,          nan,          nan,          nan,\n",
       "                nan,          nan,          nan,          nan,\n",
       "                nan,          nan])"
      ]
     },
     "execution_count": 7,
     "metadata": {},
     "output_type": "execute_result"
    }
   ],
   "source": [
    "vosaline_JP[:,0,0]"
   ]
  },
  {
   "cell_type": "code",
   "execution_count": 8,
   "metadata": {
    "collapsed": true
   },
   "outputs": [],
   "source": [
    "vosaline_JP[np.where(np.isnan(vosaline_JP))]=0;"
   ]
  },
  {
   "cell_type": "code",
   "execution_count": 9,
   "metadata": {
    "collapsed": false
   },
   "outputs": [
    {
     "data": {
      "text/plain": [
       "array([ 32.85047913,  32.8494606 ,  32.84786987,  32.84399796,\n",
       "        32.84130096,  32.84194183,  32.8444519 ,  32.84753799,\n",
       "        32.85254669,  32.85647964,  32.8595314 ,  32.86235046,\n",
       "        32.86702728,  32.87555313,  32.88618469,  32.89451218,\n",
       "        32.90081024,  32.90483093,  32.90930176,  32.92013931,\n",
       "        32.95475769,  33.06747437,  33.2415123 ,  33.47072601,\n",
       "        33.66275787,  33.83255005,  33.93229294,  33.96300888,\n",
       "        33.97008896,  33.98950577,  34.0399704 ,  34.10607147,\n",
       "        34.17634964,  34.25790787,  34.33724213,  34.39661026,\n",
       "        34.45060349,  34.49922562,  34.54627991,  34.58870316,\n",
       "        34.61618042,   0.        ,   0.        ,   0.        ,\n",
       "         0.        ,   0.        ,   0.        ,   0.        ,\n",
       "         0.        ,   0.        ])"
      ]
     },
     "execution_count": 9,
     "metadata": {},
     "output_type": "execute_result"
    }
   ],
   "source": [
    "vosaline_JP[:,0,0]"
   ]
  },
  {
   "cell_type": "markdown",
   "metadata": {},
   "source": [
    "#### STEP 2) First of the 2 step interpolation (linearly interpolate to our WCVI grid points) "
   ]
  },
  {
   "cell_type": "code",
   "execution_count": 7,
   "metadata": {
    "collapsed": false
   },
   "outputs": [
    {
     "name": "stdout",
     "output_type": "stream",
     "text": [
      "(-129.93523, 45.455914) (-127.00188120221485, 46.113550613066906)\n"
     ]
    }
   ],
   "source": [
    "#### Load the WCVI points\n",
    "\n",
    "fname_wcvi = '/ocean/ssahu/CANYONS/wcvi/grid/coordinates.nc'\n",
    "\n",
    "with nc.Dataset(fname_wcvi, 'r') as coord:\n",
    "    gphit_wcvi = coord.variables['gphit'][0,...];\n",
    "    glamt_wcvi =  coord.variables['glamt'][0,...]; \n",
    "    \n",
    "print((glamt_bc_JP[0,0],gphit_bc_JP[0,0]), (glamt_wcvi[0,0],gphit_wcvi[0,0]))"
   ]
  },
  {
   "cell_type": "code",
   "execution_count": 8,
   "metadata": {
    "collapsed": false
   },
   "outputs": [],
   "source": [
    "X = glamt_bc_JP.flatten();\n",
    "\n",
    "Y = gphit_bc_JP.flatten();\n",
    "\n",
    "points = (X[:],Y[:]);\n",
    "\n",
    "xi = (glamt_wcvi.flatten(), gphit_wcvi.flatten());\n",
    "\n",
    "\n",
    "votemper_ic = np.zeros((votemper_JP.shape[0], glamt_wcvi.shape[0], glamt_wcvi.shape[1]));\n",
    "vosaline_ic = np.zeros((vosaline_JP.shape[0], glamt_wcvi.shape[0], glamt_wcvi.shape[1]));\n",
    "\n",
    "for i,j in enumerate(votemper_JP[:,...]):\n",
    "    votemper_ic[i,...] = np.reshape(griddata(points, votemper_JP[i,...].flatten(), xi, method= 'linear'), glamt_wcvi.shape)\n",
    "    vosaline_ic[i,...] = np.reshape(griddata(points, vosaline_JP[i,...].flatten(), xi, method= 'linear'), glamt_wcvi.shape)\n",
    "\n"
   ]
  },
  {
   "cell_type": "code",
   "execution_count": 9,
   "metadata": {
    "collapsed": false
   },
   "outputs": [
    {
     "data": {
      "text/plain": [
       "array([ 32.47419656,  32.47339993,  32.472351  ,  32.47062415,\n",
       "        32.46957545,  32.46912266,  32.46870302,  32.46790199,\n",
       "        32.46697466,  32.46655073,  32.46634141,  32.4661859 ,\n",
       "        32.4660519 ,  32.4658899 ,  32.46588335,  32.46623902,\n",
       "        32.46850987,  32.47960524,  32.52179053,  32.63602269,\n",
       "        32.85181797,  33.12211982,  33.38578935,  33.65309569,\n",
       "        33.81709729,  33.93756474,  34.00150822,  34.03875474,\n",
       "        34.0547015 ,  34.05655214,  34.07886744,  34.13459396,\n",
       "        34.20362748,  34.26293978,  34.33264525,  34.39530034,\n",
       "        34.4533169 ,  34.49530198,  34.5369522 ,  34.579813  ,\n",
       "        34.62248934,  34.63830741,  34.64125478,          nan,\n",
       "                nan,          nan,          nan,          nan,\n",
       "                nan,          nan])"
      ]
     },
     "execution_count": 9,
     "metadata": {},
     "output_type": "execute_result"
    }
   ],
   "source": [
    "vosaline_ic[:,0,0]"
   ]
  },
  {
   "cell_type": "markdown",
   "metadata": {},
   "source": [
    "#### STEP 3) Fill up the Nan values in the votemper and vosaline arrays of WCVI using the nearest neighbours"
   ]
  },
  {
   "cell_type": "code",
   "execution_count": 10,
   "metadata": {
    "collapsed": false
   },
   "outputs": [
    {
     "name": "stdout",
     "output_type": "stream",
     "text": [
      "Imputing row 1/100 with 4 missing, elapsed time: 0.006\n",
      "Imputing row 1/100 with 4 missing, elapsed time: 0.006\n",
      "Imputing row 1/100 with 4 missing, elapsed time: 0.006\n",
      "Imputing row 1/100 with 4 missing, elapsed time: 0.005\n",
      "Imputing row 1/100 with 4 missing, elapsed time: 0.005\n",
      "Imputing row 1/100 with 4 missing, elapsed time: 0.005\n",
      "Imputing row 1/100 with 4 missing, elapsed time: 0.005\n",
      "Imputing row 1/100 with 4 missing, elapsed time: 0.006\n",
      "Imputing row 1/100 with 4 missing, elapsed time: 0.006\n",
      "Imputing row 1/100 with 4 missing, elapsed time: 0.006\n",
      "Imputing row 1/100 with 4 missing, elapsed time: 0.006\n",
      "Imputing row 1/100 with 4 missing, elapsed time: 0.006\n",
      "Imputing row 1/100 with 8 missing, elapsed time: 0.005\n",
      "Imputing row 1/100 with 8 missing, elapsed time: 0.006\n",
      "Imputing row 1/100 with 9 missing, elapsed time: 0.006\n",
      "Imputing row 1/100 with 9 missing, elapsed time: 0.006\n",
      "Imputing row 1/100 with 9 missing, elapsed time: 0.006\n",
      "Imputing row 1/100 with 9 missing, elapsed time: 0.005\n",
      "Imputing row 1/100 with 9 missing, elapsed time: 0.006\n",
      "Imputing row 1/100 with 9 missing, elapsed time: 0.005\n",
      "Imputing row 1/100 with 9 missing, elapsed time: 0.007\n",
      "Imputing row 1/100 with 9 missing, elapsed time: 0.006\n",
      "Imputing row 1/100 with 10 missing, elapsed time: 0.006\n",
      "Imputing row 1/100 with 10 missing, elapsed time: 0.006\n",
      "Imputing row 1/100 with 10 missing, elapsed time: 0.006\n",
      "Imputing row 1/100 with 10 missing, elapsed time: 0.006\n",
      "Imputing row 1/100 with 10 missing, elapsed time: 0.006\n",
      "Imputing row 1/100 with 10 missing, elapsed time: 0.007\n",
      "Imputing row 1/100 with 10 missing, elapsed time: 0.006\n",
      "Imputing row 1/100 with 10 missing, elapsed time: 0.007\n",
      "Imputing row 1/100 with 10 missing, elapsed time: 0.006\n",
      "Imputing row 1/100 with 10 missing, elapsed time: 0.006\n",
      "Imputing row 1/100 with 10 missing, elapsed time: 0.006\n",
      "Imputing row 1/100 with 10 missing, elapsed time: 0.006\n",
      "Imputing row 1/100 with 11 missing, elapsed time: 0.007\n",
      "Imputing row 1/100 with 11 missing, elapsed time: 0.006\n",
      "Imputing row 1/100 with 12 missing, elapsed time: 0.006\n",
      "Imputing row 1/100 with 12 missing, elapsed time: 0.005\n",
      "Imputing row 1/100 with 13 missing, elapsed time: 0.006\n",
      "Imputing row 1/100 with 13 missing, elapsed time: 0.006\n",
      "Imputing row 1/100 with 13 missing, elapsed time: 0.008\n",
      "Imputing row 1/100 with 13 missing, elapsed time: 0.006\n",
      "Imputing row 1/100 with 15 missing, elapsed time: 0.006\n",
      "Imputing row 1/100 with 15 missing, elapsed time: 0.006\n",
      "Imputing row 1/100 with 16 missing, elapsed time: 0.006\n",
      "Imputing row 1/100 with 16 missing, elapsed time: 0.006\n",
      "Imputing row 1/100 with 18 missing, elapsed time: 0.007\n",
      "Imputing row 1/100 with 18 missing, elapsed time: 0.006\n",
      "Imputing row 1/100 with 20 missing, elapsed time: 0.006\n",
      "Imputing row 1/100 with 20 missing, elapsed time: 0.006\n",
      "Imputing row 1/100 with 21 missing, elapsed time: 0.006\n",
      "[KNN] Warning: 200/7000 still missing after imputation, replacing with 0\n",
      "Imputing row 1/100 with 21 missing, elapsed time: 0.006\n",
      "[KNN] Warning: 200/7000 still missing after imputation, replacing with 0\n",
      "Imputing row 1/100 with 23 missing, elapsed time: 0.006\n",
      "[KNN] Warning: 700/7000 still missing after imputation, replacing with 0\n",
      "Imputing row 1/100 with 23 missing, elapsed time: 0.006\n",
      "[KNN] Warning: 700/7000 still missing after imputation, replacing with 0\n",
      "Imputing row 1/100 with 23 missing, elapsed time: 0.006\n",
      "[KNN] Warning: 1300/7000 still missing after imputation, replacing with 0\n",
      "Imputing row 1/100 with 23 missing, elapsed time: 0.006\n",
      "[KNN] Warning: 1300/7000 still missing after imputation, replacing with 0\n",
      "Imputing row 1/100 with 23 missing, elapsed time: 0.006\n",
      "[KNN] Warning: 1700/7000 still missing after imputation, replacing with 0\n",
      "Imputing row 1/100 with 23 missing, elapsed time: 0.006\n",
      "[KNN] Warning: 1700/7000 still missing after imputation, replacing with 0\n",
      "Imputing row 1/100 with 23 missing, elapsed time: 0.006\n",
      "[KNN] Warning: 1800/7000 still missing after imputation, replacing with 0\n",
      "Imputing row 1/100 with 23 missing, elapsed time: 0.006\n",
      "[KNN] Warning: 1800/7000 still missing after imputation, replacing with 0\n",
      "Imputing row 1/100 with 23 missing, elapsed time: 0.006\n",
      "[KNN] Warning: 1800/7000 still missing after imputation, replacing with 0\n",
      "Imputing row 1/100 with 23 missing, elapsed time: 0.006\n",
      "[KNN] Warning: 1800/7000 still missing after imputation, replacing with 0\n",
      "Imputing row 1/100 with 24 missing, elapsed time: 0.006\n",
      "[KNN] Warning: 1900/7000 still missing after imputation, replacing with 0\n",
      "Imputing row 1/100 with 24 missing, elapsed time: 0.005\n",
      "[KNN] Warning: 1900/7000 still missing after imputation, replacing with 0\n",
      "Imputing row 1/100 with 24 missing, elapsed time: 0.006\n",
      "[KNN] Warning: 1900/7000 still missing after imputation, replacing with 0\n",
      "Imputing row 1/100 with 24 missing, elapsed time: 0.006\n",
      "[KNN] Warning: 1900/7000 still missing after imputation, replacing with 0\n",
      "Imputing row 1/100 with 24 missing, elapsed time: 0.006\n",
      "[KNN] Warning: 1900/7000 still missing after imputation, replacing with 0\n",
      "Imputing row 1/100 with 24 missing, elapsed time: 0.006\n",
      "[KNN] Warning: 1900/7000 still missing after imputation, replacing with 0\n",
      "Imputing row 1/100 with 27 missing, elapsed time: 0.005\n",
      "[KNN] Warning: 1900/7000 still missing after imputation, replacing with 0\n",
      "Imputing row 1/100 with 27 missing, elapsed time: 0.005\n",
      "[KNN] Warning: 1900/7000 still missing after imputation, replacing with 0\n",
      "Imputing row 1/100 with 29 missing, elapsed time: 0.005\n",
      "[KNN] Warning: 1900/7000 still missing after imputation, replacing with 0\n",
      "Imputing row 1/100 with 29 missing, elapsed time: 0.006\n",
      "[KNN] Warning: 1900/7000 still missing after imputation, replacing with 0\n",
      "Imputing row 1/100 with 30 missing, elapsed time: 0.006\n",
      "[KNN] Warning: 2000/7000 still missing after imputation, replacing with 0\n",
      "Imputing row 1/100 with 30 missing, elapsed time: 0.005\n",
      "[KNN] Warning: 2000/7000 still missing after imputation, replacing with 0\n",
      "Imputing row 1/100 with 30 missing, elapsed time: 0.006\n",
      "[KNN] Warning: 2200/7000 still missing after imputation, replacing with 0\n",
      "Imputing row 1/100 with 30 missing, elapsed time: 0.006\n",
      "[KNN] Warning: 2200/7000 still missing after imputation, replacing with 0\n",
      "Imputing row 1/100 with 31 missing, elapsed time: 0.006\n",
      "[KNN] Warning: 2700/7000 still missing after imputation, replacing with 0\n",
      "Imputing row 1/100 with 31 missing, elapsed time: 0.006\n",
      "[KNN] Warning: 2700/7000 still missing after imputation, replacing with 0\n",
      "Imputing row 1/100 with 33 missing, elapsed time: 0.006\n",
      "[KNN] Warning: 2900/7000 still missing after imputation, replacing with 0\n",
      "Imputing row 1/100 with 33 missing, elapsed time: 0.007\n",
      "[KNN] Warning: 2900/7000 still missing after imputation, replacing with 0\n",
      "Imputing row 1/100 with 39 missing, elapsed time: 0.006\n",
      "[KNN] Warning: 3600/7000 still missing after imputation, replacing with 0\n",
      "Imputing row 1/100 with 39 missing, elapsed time: 0.006\n",
      "[KNN] Warning: 3600/7000 still missing after imputation, replacing with 0\n",
      "Imputing row 1/100 with 44 missing, elapsed time: 0.006\n",
      "[KNN] Warning: 3700/7000 still missing after imputation, replacing with 0\n",
      "Imputing row 1/100 with 44 missing, elapsed time: 0.007\n",
      "[KNN] Warning: 3700/7000 still missing after imputation, replacing with 0\n",
      "Imputing row 1/100 with 57 missing, elapsed time: 0.003\n",
      "[KNN] Warning: 6392/7000 still missing after imputation, replacing with 0\n",
      "Imputing row 1/100 with 57 missing, elapsed time: 0.003\n",
      "[KNN] Warning: 6392/7000 still missing after imputation, replacing with 0\n"
     ]
    },
    {
     "ename": "ValueError",
     "evalue": "Input matrix must have some non-missing values",
     "output_type": "error",
     "traceback": [
      "\u001b[0;31m---------------------------------------------------------------------------\u001b[0m",
      "\u001b[0;31mValueError\u001b[0m                                Traceback (most recent call last)",
      "\u001b[0;32m<ipython-input-10-50d001e3346f>\u001b[0m in \u001b[0;36m<module>\u001b[0;34m()\u001b[0m\n\u001b[1;32m      1\u001b[0m \u001b[0;32mfor\u001b[0m \u001b[0mi\u001b[0m\u001b[0;34m,\u001b[0m\u001b[0mj\u001b[0m \u001b[0;32min\u001b[0m \u001b[0menumerate\u001b[0m\u001b[0;34m(\u001b[0m\u001b[0mvotemper_ic\u001b[0m\u001b[0;34m[\u001b[0m\u001b[0;34m:\u001b[0m\u001b[0;34m,\u001b[0m\u001b[0;34m...\u001b[0m\u001b[0;34m]\u001b[0m\u001b[0;34m)\u001b[0m\u001b[0;34m:\u001b[0m\u001b[0;34m\u001b[0m\u001b[0m\n\u001b[0;32m----> 2\u001b[0;31m     \u001b[0mvotemper_ic\u001b[0m\u001b[0;34m[\u001b[0m\u001b[0mi\u001b[0m\u001b[0;34m,\u001b[0m\u001b[0;34m...\u001b[0m\u001b[0;34m]\u001b[0m \u001b[0;34m=\u001b[0m \u001b[0mKNN\u001b[0m\u001b[0;34m(\u001b[0m\u001b[0mk\u001b[0m\u001b[0;34m=\u001b[0m\u001b[0;36m3\u001b[0m\u001b[0;34m)\u001b[0m\u001b[0;34m.\u001b[0m\u001b[0mcomplete\u001b[0m\u001b[0;34m(\u001b[0m\u001b[0mvotemper_ic\u001b[0m\u001b[0;34m[\u001b[0m\u001b[0mi\u001b[0m\u001b[0;34m,\u001b[0m\u001b[0;34m...\u001b[0m\u001b[0;34m]\u001b[0m\u001b[0;34m)\u001b[0m\u001b[0;34m;\u001b[0m\u001b[0;34m\u001b[0m\u001b[0m\n\u001b[0m\u001b[1;32m      3\u001b[0m     \u001b[0mvosaline_ic\u001b[0m\u001b[0;34m[\u001b[0m\u001b[0mi\u001b[0m\u001b[0;34m,\u001b[0m\u001b[0;34m...\u001b[0m\u001b[0;34m]\u001b[0m \u001b[0;34m=\u001b[0m \u001b[0mKNN\u001b[0m\u001b[0;34m(\u001b[0m\u001b[0mk\u001b[0m\u001b[0;34m=\u001b[0m\u001b[0;36m3\u001b[0m\u001b[0;34m)\u001b[0m\u001b[0;34m.\u001b[0m\u001b[0mcomplete\u001b[0m\u001b[0;34m(\u001b[0m\u001b[0mvosaline_ic\u001b[0m\u001b[0;34m[\u001b[0m\u001b[0mi\u001b[0m\u001b[0;34m,\u001b[0m\u001b[0;34m...\u001b[0m\u001b[0;34m]\u001b[0m\u001b[0;34m)\u001b[0m\u001b[0;34m;\u001b[0m\u001b[0;34m\u001b[0m\u001b[0m\n",
      "\u001b[0;32m/home/ssahu/anaconda3/lib/python3.5/site-packages/fancyimpute/solver.py\u001b[0m in \u001b[0;36mcomplete\u001b[0;34m(self, X)\u001b[0m\n\u001b[1;32m    205\u001b[0m         \u001b[0mReturns\u001b[0m \u001b[0mcompleted\u001b[0m \u001b[0mmatrix\u001b[0m \u001b[0mwithout\u001b[0m \u001b[0many\u001b[0m \u001b[0mNaNs\u001b[0m\u001b[0;34m.\u001b[0m\u001b[0;34m\u001b[0m\u001b[0m\n\u001b[1;32m    206\u001b[0m         \"\"\"\n\u001b[0;32m--> 207\u001b[0;31m         \u001b[0mimputations\u001b[0m \u001b[0;34m=\u001b[0m \u001b[0mself\u001b[0m\u001b[0;34m.\u001b[0m\u001b[0mmultiple_imputations\u001b[0m\u001b[0;34m(\u001b[0m\u001b[0mX\u001b[0m\u001b[0;34m)\u001b[0m\u001b[0;34m\u001b[0m\u001b[0m\n\u001b[0m\u001b[1;32m    208\u001b[0m         \u001b[0;32mif\u001b[0m \u001b[0mlen\u001b[0m\u001b[0;34m(\u001b[0m\u001b[0mimputations\u001b[0m\u001b[0;34m)\u001b[0m \u001b[0;34m==\u001b[0m \u001b[0;36m1\u001b[0m\u001b[0;34m:\u001b[0m\u001b[0;34m\u001b[0m\u001b[0m\n\u001b[1;32m    209\u001b[0m             \u001b[0;32mreturn\u001b[0m \u001b[0mimputations\u001b[0m\u001b[0;34m[\u001b[0m\u001b[0;36m0\u001b[0m\u001b[0;34m]\u001b[0m\u001b[0;34m\u001b[0m\u001b[0m\n",
      "\u001b[0;32m/home/ssahu/anaconda3/lib/python3.5/site-packages/fancyimpute/solver.py\u001b[0m in \u001b[0;36mmultiple_imputations\u001b[0;34m(self, X)\u001b[0m\n\u001b[1;32m    197\u001b[0m         \u001b[0mGenerate\u001b[0m \u001b[0mmultiple\u001b[0m \u001b[0mimputations\u001b[0m \u001b[0mof\u001b[0m \u001b[0mthe\u001b[0m \u001b[0msame\u001b[0m \u001b[0mincomplete\u001b[0m \u001b[0mmatrix\u001b[0m\u001b[0;34m\u001b[0m\u001b[0m\n\u001b[1;32m    198\u001b[0m         \"\"\"\n\u001b[0;32m--> 199\u001b[0;31m         \u001b[0;32mreturn\u001b[0m \u001b[0;34m[\u001b[0m\u001b[0mself\u001b[0m\u001b[0;34m.\u001b[0m\u001b[0msingle_imputation\u001b[0m\u001b[0;34m(\u001b[0m\u001b[0mX\u001b[0m\u001b[0;34m)\u001b[0m \u001b[0;32mfor\u001b[0m \u001b[0m_\u001b[0m \u001b[0;32min\u001b[0m \u001b[0mrange\u001b[0m\u001b[0;34m(\u001b[0m\u001b[0mself\u001b[0m\u001b[0;34m.\u001b[0m\u001b[0mn_imputations\u001b[0m\u001b[0;34m)\u001b[0m\u001b[0;34m]\u001b[0m\u001b[0;34m\u001b[0m\u001b[0m\n\u001b[0m\u001b[1;32m    200\u001b[0m \u001b[0;34m\u001b[0m\u001b[0m\n\u001b[1;32m    201\u001b[0m     \u001b[0;32mdef\u001b[0m \u001b[0mcomplete\u001b[0m\u001b[0;34m(\u001b[0m\u001b[0mself\u001b[0m\u001b[0;34m,\u001b[0m \u001b[0mX\u001b[0m\u001b[0;34m)\u001b[0m\u001b[0;34m:\u001b[0m\u001b[0;34m\u001b[0m\u001b[0m\n",
      "\u001b[0;32m/home/ssahu/anaconda3/lib/python3.5/site-packages/fancyimpute/solver.py\u001b[0m in \u001b[0;36m<listcomp>\u001b[0;34m(.0)\u001b[0m\n\u001b[1;32m    197\u001b[0m         \u001b[0mGenerate\u001b[0m \u001b[0mmultiple\u001b[0m \u001b[0mimputations\u001b[0m \u001b[0mof\u001b[0m \u001b[0mthe\u001b[0m \u001b[0msame\u001b[0m \u001b[0mincomplete\u001b[0m \u001b[0mmatrix\u001b[0m\u001b[0;34m\u001b[0m\u001b[0m\n\u001b[1;32m    198\u001b[0m         \"\"\"\n\u001b[0;32m--> 199\u001b[0;31m         \u001b[0;32mreturn\u001b[0m \u001b[0;34m[\u001b[0m\u001b[0mself\u001b[0m\u001b[0;34m.\u001b[0m\u001b[0msingle_imputation\u001b[0m\u001b[0;34m(\u001b[0m\u001b[0mX\u001b[0m\u001b[0;34m)\u001b[0m \u001b[0;32mfor\u001b[0m \u001b[0m_\u001b[0m \u001b[0;32min\u001b[0m \u001b[0mrange\u001b[0m\u001b[0;34m(\u001b[0m\u001b[0mself\u001b[0m\u001b[0;34m.\u001b[0m\u001b[0mn_imputations\u001b[0m\u001b[0;34m)\u001b[0m\u001b[0;34m]\u001b[0m\u001b[0;34m\u001b[0m\u001b[0m\n\u001b[0m\u001b[1;32m    200\u001b[0m \u001b[0;34m\u001b[0m\u001b[0m\n\u001b[1;32m    201\u001b[0m     \u001b[0;32mdef\u001b[0m \u001b[0mcomplete\u001b[0m\u001b[0;34m(\u001b[0m\u001b[0mself\u001b[0m\u001b[0;34m,\u001b[0m \u001b[0mX\u001b[0m\u001b[0;34m)\u001b[0m\u001b[0;34m:\u001b[0m\u001b[0;34m\u001b[0m\u001b[0m\n",
      "\u001b[0;32m/home/ssahu/anaconda3/lib/python3.5/site-packages/fancyimpute/solver.py\u001b[0m in \u001b[0;36msingle_imputation\u001b[0;34m(self, X)\u001b[0m\n\u001b[1;32m    170\u001b[0m \u001b[0;34m\u001b[0m\u001b[0m\n\u001b[1;32m    171\u001b[0m     \u001b[0;32mdef\u001b[0m \u001b[0msingle_imputation\u001b[0m\u001b[0;34m(\u001b[0m\u001b[0mself\u001b[0m\u001b[0;34m,\u001b[0m \u001b[0mX\u001b[0m\u001b[0;34m)\u001b[0m\u001b[0;34m:\u001b[0m\u001b[0;34m\u001b[0m\u001b[0m\n\u001b[0;32m--> 172\u001b[0;31m         \u001b[0mX_original\u001b[0m\u001b[0;34m,\u001b[0m \u001b[0mmissing_mask\u001b[0m \u001b[0;34m=\u001b[0m \u001b[0mself\u001b[0m\u001b[0;34m.\u001b[0m\u001b[0mprepare_input_data\u001b[0m\u001b[0;34m(\u001b[0m\u001b[0mX\u001b[0m\u001b[0;34m)\u001b[0m\u001b[0;34m\u001b[0m\u001b[0m\n\u001b[0m\u001b[1;32m    173\u001b[0m         \u001b[0mobserved_mask\u001b[0m \u001b[0;34m=\u001b[0m \u001b[0;34m~\u001b[0m\u001b[0mmissing_mask\u001b[0m\u001b[0;34m\u001b[0m\u001b[0m\n\u001b[1;32m    174\u001b[0m         \u001b[0mX\u001b[0m \u001b[0;34m=\u001b[0m \u001b[0mX_original\u001b[0m\u001b[0;34m.\u001b[0m\u001b[0mcopy\u001b[0m\u001b[0;34m(\u001b[0m\u001b[0;34m)\u001b[0m\u001b[0;34m\u001b[0m\u001b[0m\n",
      "\u001b[0;32m/home/ssahu/anaconda3/lib/python3.5/site-packages/fancyimpute/solver.py\u001b[0m in \u001b[0;36mprepare_input_data\u001b[0;34m(self, X)\u001b[0m\n\u001b[1;32m    127\u001b[0m         \u001b[0mself\u001b[0m\u001b[0;34m.\u001b[0m\u001b[0m_check_input\u001b[0m\u001b[0;34m(\u001b[0m\u001b[0mX\u001b[0m\u001b[0;34m)\u001b[0m\u001b[0;34m\u001b[0m\u001b[0m\n\u001b[1;32m    128\u001b[0m         \u001b[0mmissing_mask\u001b[0m \u001b[0;34m=\u001b[0m \u001b[0mnp\u001b[0m\u001b[0;34m.\u001b[0m\u001b[0misnan\u001b[0m\u001b[0;34m(\u001b[0m\u001b[0mX\u001b[0m\u001b[0;34m)\u001b[0m\u001b[0;34m\u001b[0m\u001b[0m\n\u001b[0;32m--> 129\u001b[0;31m         \u001b[0mself\u001b[0m\u001b[0;34m.\u001b[0m\u001b[0m_check_missing_value_mask\u001b[0m\u001b[0;34m(\u001b[0m\u001b[0mmissing_mask\u001b[0m\u001b[0;34m)\u001b[0m\u001b[0;34m\u001b[0m\u001b[0m\n\u001b[0m\u001b[1;32m    130\u001b[0m         \u001b[0;32mreturn\u001b[0m \u001b[0mX\u001b[0m\u001b[0;34m,\u001b[0m \u001b[0mmissing_mask\u001b[0m\u001b[0;34m\u001b[0m\u001b[0m\n\u001b[1;32m    131\u001b[0m \u001b[0;34m\u001b[0m\u001b[0m\n",
      "\u001b[0;32m/home/ssahu/anaconda3/lib/python3.5/site-packages/fancyimpute/solver.py\u001b[0m in \u001b[0;36m_check_missing_value_mask\u001b[0;34m(self, missing)\u001b[0m\n\u001b[1;32m     55\u001b[0m             \u001b[0;32mraise\u001b[0m \u001b[0mValueError\u001b[0m\u001b[0;34m(\u001b[0m\u001b[0;34m\"Input matrix is not missing any values\"\u001b[0m\u001b[0;34m)\u001b[0m\u001b[0;34m\u001b[0m\u001b[0m\n\u001b[1;32m     56\u001b[0m         \u001b[0;32mif\u001b[0m \u001b[0mmissing\u001b[0m\u001b[0;34m.\u001b[0m\u001b[0mall\u001b[0m\u001b[0;34m(\u001b[0m\u001b[0;34m)\u001b[0m\u001b[0;34m:\u001b[0m\u001b[0;34m\u001b[0m\u001b[0m\n\u001b[0;32m---> 57\u001b[0;31m             \u001b[0;32mraise\u001b[0m \u001b[0mValueError\u001b[0m\u001b[0;34m(\u001b[0m\u001b[0;34m\"Input matrix must have some non-missing values\"\u001b[0m\u001b[0;34m)\u001b[0m\u001b[0;34m\u001b[0m\u001b[0m\n\u001b[0m\u001b[1;32m     58\u001b[0m \u001b[0;34m\u001b[0m\u001b[0m\n\u001b[1;32m     59\u001b[0m     \u001b[0;32mdef\u001b[0m \u001b[0m_fill_columns_with_fn\u001b[0m\u001b[0;34m(\u001b[0m\u001b[0mself\u001b[0m\u001b[0;34m,\u001b[0m \u001b[0mX\u001b[0m\u001b[0;34m,\u001b[0m \u001b[0mmissing_mask\u001b[0m\u001b[0;34m,\u001b[0m \u001b[0mcol_fn\u001b[0m\u001b[0;34m)\u001b[0m\u001b[0;34m:\u001b[0m\u001b[0;34m\u001b[0m\u001b[0m\n",
      "\u001b[0;31mValueError\u001b[0m: Input matrix must have some non-missing values"
     ]
    }
   ],
   "source": [
    "for i,j in enumerate(votemper_ic[:,...]):\n",
    "    votemper_ic[i,...] = KNN(k=3).complete(votemper_ic[i,...]);\n",
    "    vosaline_ic[i,...] = KNN(k=3).complete(vosaline_ic[i,...]);"
   ]
  },
  {
   "cell_type": "markdown",
   "metadata": {},
   "source": [
    "#### STEP 4) Multiply with our tmask from our mesh_mask to get the final data (This we will do after doing the vertical interpolation onto our depth levels and for now we will create the temporary nc file that we were making)"
   ]
  },
  {
   "cell_type": "code",
   "execution_count": null,
   "metadata": {
    "collapsed": true
   },
   "outputs": [],
   "source": []
  },
  {
   "cell_type": "code",
   "execution_count": null,
   "metadata": {
    "collapsed": false
   },
   "outputs": [],
   "source": [
    "i=4;\n",
    "\n",
    "votemper_ic[np.where(np.isnan(votemper_ic[i,...]))] = np.reshape(griddata(points, votemper_ic[i,np.where(votemper_ic[~isnan(votemper_ic[i,...]))])].flatten(), xi, method= 'nearest')), \\\n",
    "                                                                   glamt_wcvi.shape)"
   ]
  },
  {
   "cell_type": "code",
   "execution_count": null,
   "metadata": {
    "collapsed": false
   },
   "outputs": [],
   "source": [
    "votemper_ic[4,:,:]"
   ]
  },
  {
   "cell_type": "code",
   "execution_count": null,
   "metadata": {
    "collapsed": false
   },
   "outputs": [],
   "source": [
    "votemper_JP.shape"
   ]
  },
  {
   "cell_type": "code",
   "execution_count": null,
   "metadata": {
    "collapsed": false
   },
   "outputs": [],
   "source": [
    "glamt_wcvi.shape"
   ]
  },
  {
   "cell_type": "code",
   "execution_count": null,
   "metadata": {
    "collapsed": false
   },
   "outputs": [],
   "source": [
    "votemper_ic.shape"
   ]
  },
  {
   "cell_type": "code",
   "execution_count": null,
   "metadata": {
    "collapsed": false
   },
   "outputs": [],
   "source": [
    "len(Y)"
   ]
  },
  {
   "cell_type": "code",
   "execution_count": null,
   "metadata": {
    "collapsed": false
   },
   "outputs": [],
   "source": [
    "np.where(np.isnan(votemper_ic_imuted[4,...]))"
   ]
  },
  {
   "cell_type": "code",
   "execution_count": null,
   "metadata": {
    "collapsed": false
   },
   "outputs": [],
   "source": [
    "np.mean(votemper_ic[0,2:7,4:8])"
   ]
  },
  {
   "cell_type": "code",
   "execution_count": null,
   "metadata": {
    "collapsed": false
   },
   "outputs": [],
   "source": [
    "np.mean(votemper_ic_imuted[4,...])"
   ]
  },
  {
   "cell_type": "code",
   "execution_count": null,
   "metadata": {
    "collapsed": false
   },
   "outputs": [],
   "source": [
    "np.where(votemper_ic[votemper_ic == 'nan'])"
   ]
  },
  {
   "cell_type": "code",
   "execution_count": null,
   "metadata": {
    "collapsed": false
   },
   "outputs": [],
   "source": [
    "%reset"
   ]
  },
  {
   "cell_type": "code",
   "execution_count": null,
   "metadata": {
    "collapsed": false
   },
   "outputs": [],
   "source": [
    "np.mean(votemper_ic[0,...])"
   ]
  },
  {
   "cell_type": "code",
   "execution_count": null,
   "metadata": {
    "collapsed": true
   },
   "outputs": [],
   "source": []
  }
 ],
 "metadata": {
  "anaconda-cloud": {},
  "kernelspec": {
   "display_name": "Python [conda root]",
   "language": "python",
   "name": "conda-root-py"
  },
  "language_info": {
   "codemirror_mode": {
    "name": "ipython",
    "version": 3
   },
   "file_extension": ".py",
   "mimetype": "text/x-python",
   "name": "python",
   "nbconvert_exporter": "python",
   "pygments_lexer": "ipython3",
   "version": "3.5.2"
  }
 },
 "nbformat": 4,
 "nbformat_minor": 1
}
