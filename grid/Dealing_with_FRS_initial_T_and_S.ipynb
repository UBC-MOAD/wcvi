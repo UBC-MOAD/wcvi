{
 "cells": [
  {
   "cell_type": "markdown",
   "metadata": {},
   "source": [
    "### This notebook deals with the instability arising out using the frs BC for traces and tries to find out if there is a mismatch between the input T and S and that at our boundaries at the time when the model is initialised (IC state is equal to the BC at time t = 0)"
   ]
  },
  {
   "cell_type": "code",
   "execution_count": 1,
   "metadata": {
    "collapsed": true
   },
   "outputs": [],
   "source": [
    "%matplotlib inline\n",
    "import matplotlib.pyplot as plt\n",
    "import numpy as np\n",
    "import netCDF4 as nc\n",
    "import xarray as xr\n",
    "import matplotlib.cm as cm\n",
    "from scipy.interpolate import interp1d\n",
    "from salishsea_tools import (nc_tools, gsw_calls, viz_tools)"
   ]
  },
  {
   "cell_type": "markdown",
   "metadata": {},
   "source": [
    "#### Let us load the IC for our NEMO model"
   ]
  },
  {
   "cell_type": "code",
   "execution_count": 27,
   "metadata": {
    "collapsed": false
   },
   "outputs": [],
   "source": [
    "IC_file = nc.Dataset('/ocean/ssahu/CANYONS/wcvi/initial_conditions/West_coast_NEMO_IC_temperature_salinity_nomask_JP.nc')"
   ]
  },
  {
   "cell_type": "code",
   "execution_count": 28,
   "metadata": {
    "collapsed": false
   },
   "outputs": [],
   "source": [
    "votem_IC = IC_file.variables['votemper'][:];\n",
    "vosal_IC = IC_file.variables['vosaline'][:];"
   ]
  },
  {
   "cell_type": "code",
   "execution_count": 29,
   "metadata": {
    "collapsed": false
   },
   "outputs": [
    {
     "data": {
      "text/plain": [
       "(1, 27, 100, 70)"
      ]
     },
     "execution_count": 29,
     "metadata": {},
     "output_type": "execute_result"
    }
   ],
   "source": [
    "votem_IC.shape"
   ]
  },
  {
   "cell_type": "markdown",
   "metadata": {},
   "source": [
    "#### Now let us load the T and S for the BC file (Let's begin the excersize by loading only the BC file of the west boundary)"
   ]
  },
  {
   "cell_type": "code",
   "execution_count": 30,
   "metadata": {
    "collapsed": true
   },
   "outputs": [],
   "source": [
    "BC_west = nc.Dataset('/ocean/ssahu/CANYONS/bdy_files/3d_NEMO_west_m04.nc');"
   ]
  },
  {
   "cell_type": "code",
   "execution_count": 31,
   "metadata": {
    "collapsed": true
   },
   "outputs": [],
   "source": [
    "votem_west_BC = BC_west.variables['votemper'][:];\n",
    "vosal_west_BC = BC_west.variables['vosaline'][:];"
   ]
  },
  {
   "cell_type": "code",
   "execution_count": 32,
   "metadata": {
    "collapsed": false
   },
   "outputs": [
    {
     "data": {
      "text/plain": [
       "(43, 27, 4, 100)"
      ]
     },
     "execution_count": 32,
     "metadata": {},
     "output_type": "execute_result"
    }
   ],
   "source": [
    "votem_west_BC.shape"
   ]
  },
  {
   "cell_type": "markdown",
   "metadata": {},
   "source": [
    "#### By principle the outer values at the very first time step should be equal to the value of the IC (let's test that)"
   ]
  },
  {
   "cell_type": "code",
   "execution_count": 33,
   "metadata": {
    "collapsed": false
   },
   "outputs": [
    {
     "name": "stdout",
     "output_type": "stream",
     "text": [
      "(27, 4, 100)\n",
      "(27, 100, 70)\n"
     ]
    }
   ],
   "source": [
    "BC_check = votem_west_BC[0,:,:,:]; print(BC_check.shape)\n",
    "\n",
    "IC_check = votem_IC[0,:,:]; print (IC_check.shape)"
   ]
  },
  {
   "cell_type": "code",
   "execution_count": 34,
   "metadata": {
    "collapsed": false
   },
   "outputs": [
    {
     "data": {
      "text/plain": [
       "4.5696635"
      ]
     },
     "execution_count": 34,
     "metadata": {},
     "output_type": "execute_result"
    }
   ],
   "source": [
    "np.mean(BC_check)"
   ]
  },
  {
   "cell_type": "code",
   "execution_count": 35,
   "metadata": {
    "collapsed": false
   },
   "outputs": [
    {
     "data": {
      "text/plain": [
       "4.5006418"
      ]
     },
     "execution_count": 35,
     "metadata": {},
     "output_type": "execute_result"
    }
   ],
   "source": [
    "np.mean(IC_check[:,:,:4])"
   ]
  },
  {
   "cell_type": "markdown",
   "metadata": {},
   "source": [
    "#### So they are not same and our fears just became real"
   ]
  },
  {
   "cell_type": "code",
   "execution_count": 11,
   "metadata": {
    "collapsed": false
   },
   "outputs": [
    {
     "data": {
      "text/plain": [
       "array([[ 11.26034641,  11.24334621,  11.24070263,  11.23822403,\n",
       "         11.22112751,  11.19831944,  11.20296288,  11.22289371,\n",
       "         11.23872852,  11.26172924,  11.25253773,  11.18979836,\n",
       "         11.12477112,  11.08434582,  11.03537273,  10.94834614,\n",
       "         10.83931923,  10.76751041,  10.740798  ,  10.72731972,\n",
       "         10.71774483,  10.70897865,  10.67700577,  10.63631916,\n",
       "         10.61370277,  10.6175375 ,  10.62753773,  10.63834572,\n",
       "         10.64879799,  10.65515423,  10.66360664,  10.67098999,\n",
       "         10.66692066,  10.63546848,  10.56756401,  10.48611164,\n",
       "         10.44856358,  10.44137287,  10.42972851,  10.41382504,\n",
       "         10.40446854,  10.40392017,  10.41346836,  10.42592049,\n",
       "         10.43372917,  10.43553734,  10.43325043,  10.42305851,\n",
       "         10.41341496,  10.40431976,  10.40231895,  10.41522408,\n",
       "         10.43938828,  10.46419716,  10.48419666,  10.5051012 ,\n",
       "         10.52190971,  10.52310181,  10.50003242,  10.46222401,\n",
       "         10.40486717,  10.32905865,  10.26625061,  10.24089336,\n",
       "         10.22427654,  10.17756367,  10.09265995,  10.02320766,\n",
       "          9.98826218,   9.97249508,   9.96412277,   9.95481205,\n",
       "          9.94207001,   9.9314518 ,   9.92162228,   9.91499901,\n",
       "          9.91178513,   9.91358471,   9.91710377,   9.91951656,\n",
       "          9.91875362,   9.91880226,   9.92004299,   9.91659451,\n",
       "          9.90217304,   9.88163376,   9.86358356,   9.85022068,\n",
       "          9.84405899,   9.83559418,   9.809268  ,   9.78125763,\n",
       "          9.76653004,   9.7553997 ,   9.74257374,   9.73087406,\n",
       "          9.72559071,   9.72796154,   9.73206139,   9.73041821],\n",
       "       [ 11.24879837,  11.23870277,  11.24160671,  11.25312805,\n",
       "         11.24893665,  11.21967602,  11.19696331,  11.21251106,\n",
       "         11.23889351,  11.24972916,  11.24418068,  11.18844128,\n",
       "         11.11015415,  11.07441521,  11.04863358,  10.96646786,\n",
       "         10.85289383,  10.7770586 ,  10.74925041,  10.7400589 ,\n",
       "         10.74212837,  10.74352741,  10.71617031,  10.66438866,\n",
       "         10.62524986,  10.61934566,  10.63044167,  10.64134598,\n",
       "         10.65334606,  10.66070271,  10.6656065 ,  10.67179775,\n",
       "         10.67527676,  10.64946842,  10.58746815,  10.5091114 ,\n",
       "         10.4551115 ,  10.44146824,  10.42737293,  10.4028244 ,\n",
       "         10.3858242 ,  10.38537216,  10.39946842,  10.41592026,\n",
       "         10.42772865,  10.4360857 ,  10.43689346,  10.42679787,\n",
       "         10.41570187,  10.40660667,  10.40705872,  10.4259634 ,\n",
       "         10.45377159,  10.4782238 ,  10.49877167,  10.52058029,\n",
       "         10.5349369 ,  10.52577114,  10.49305916,  10.44260693,\n",
       "         10.37015438,  10.29534626,  10.24853706,  10.22182465,\n",
       "         10.17356396,  10.08565998,  10.01278305,   9.97520638,\n",
       "          9.95928192,   9.95199013,   9.94435406,   9.9362793 ,\n",
       "          9.92811394,   9.9214983 ,   9.92090511,   9.92929459,\n",
       "          9.94176006,   9.95510387,   9.96499157,   9.97077274,\n",
       "          9.97478676,   9.97978687,   9.98325157,   9.98067665,\n",
       "          9.96673107,   9.94580269,   9.92507935,   9.90402603,\n",
       "          9.88452911,   9.87006855,   9.84703255,   9.80266762,\n",
       "          9.77145195,   9.75506401,   9.74436474,   9.73388386,\n",
       "          9.7247839 ,   9.71956444,   9.71644974,   9.71379948],\n",
       "       [ 11.23579788,  11.2317028 ,  11.24341488,  11.26648426,\n",
       "         11.27638817,  11.26448441,  11.22912788,  11.20496273,\n",
       "         11.2220583 ,  11.24415493,  11.23698997,  11.18489361,\n",
       "         11.10115433,  11.05077171,  11.04515457,  10.97346783,\n",
       "         10.86382484,  10.78679848,  10.75925064,  10.75315475,\n",
       "         10.76722336,  10.77400589,  10.74724007,  10.69700527,\n",
       "         10.64486694,  10.6261549 ,  10.63315487,  10.64725018,\n",
       "         10.66034603,  10.66834641,  10.67115402,  10.67415428,\n",
       "         10.6774416 ,  10.66327667,  10.60792065,  10.52637291,\n",
       "         10.47401619,  10.44666004,  10.424016  ,  10.39892006,\n",
       "         10.3828249 ,  10.37982464,  10.38882446,  10.40782452,\n",
       "         10.42427635,  10.43418121,  10.43353748,  10.42489338,\n",
       "         10.4148941 ,  10.40689373,  10.4148941 ,  10.43924999,\n",
       "         10.4671545 ,  10.49215412,  10.51360703,  10.53286743,\n",
       "         10.53586769,  10.51215458,  10.47079849,  10.40889359,\n",
       "         10.32953739,  10.25972843,  10.21682453,  10.16601562,\n",
       "         10.08201599,  10.00420856,   9.96160984,   9.94483089,\n",
       "          9.93839836,   9.93273544,   9.92608738,   9.92215061,\n",
       "          9.92745686,   9.94386673,   9.96948528,   9.99655342,\n",
       "         10.01808739,  10.02760792,  10.02948475,  10.02958012,\n",
       "         10.03012753,  10.03267574,  10.0346756 ,  10.03112793,\n",
       "         10.02196312,  10.00953865,   9.99390888,   9.9730463 ,\n",
       "          9.94720745,   9.91463566,   9.88721275,   9.83580494,\n",
       "          9.78150177,   9.75738811,   9.74630737,   9.73793602,\n",
       "          9.73050499,   9.72351456,   9.71893883,   9.7178812 ],\n",
       "       [ 11.21970272,  11.22715473,  11.24631977,  11.27729321,\n",
       "         11.29829311,  11.30303192,  11.29029274,  11.25038815,\n",
       "         11.22086716,  11.21896267,  11.21186733,  11.16686726,\n",
       "         11.08477116,  11.0312233 ,  11.03331947,  10.97446823,\n",
       "         10.8700161 ,  10.79808521,  10.77070236,  10.76905918,\n",
       "         10.79012775,  10.80129242,  10.7737875 ,  10.7249794 ,\n",
       "         10.66629314,  10.63386726,  10.63660622,  10.65005875,\n",
       "         10.66960621,  10.678442  ,  10.68179798,  10.68360615,\n",
       "         10.68315411,  10.67389393,  10.62972927,  10.54672909,\n",
       "         10.47937202,  10.45546818,  10.43620777,  10.40120792,\n",
       "         10.38301563,  10.38737202,  10.39682484,  10.40927696,\n",
       "         10.41972923,  10.42618084,  10.42653751,  10.42098999,\n",
       "         10.41198921,  10.40898991,  10.4249897 ,  10.45298958,\n",
       "         10.4814415 ,  10.50489426,  10.52325058,  10.53405857,\n",
       "         10.52325058,  10.49053764,  10.43663311,  10.36072922,\n",
       "         10.27582455,  10.21127701,  10.15327644,  10.07527637,\n",
       "          9.99441433,   9.94837952,   9.93258858,   9.92921066,\n",
       "          9.92628098,   9.92548656,   9.93367767,   9.95538521,\n",
       "          9.98740387,  10.01953983,  10.04064941,  10.05238819,\n",
       "         10.05803204,  10.06058025,  10.05812836,  10.05322361,\n",
       "         10.04951096,  10.04724979,  10.04744148,  10.04453754,\n",
       "         10.03772926,  10.03163338,  10.02753735,  10.02001762,\n",
       "         10.00247002,   9.97218323,   9.93285942,   9.87561989,\n",
       "          9.80015087,   9.76424026,   9.75217152,   9.74490738,\n",
       "          9.73843288,   9.7343092 ,   9.73325729,   9.73412895]], dtype=float32)"
      ]
     },
     "execution_count": 11,
     "metadata": {},
     "output_type": "execute_result"
    }
   ],
   "source": [
    "BC_check[0,...]"
   ]
  },
  {
   "cell_type": "code",
   "execution_count": 25,
   "metadata": {
    "collapsed": false
   },
   "outputs": [
    {
     "data": {
      "text/plain": [
       "(array([0]), array([65]))"
      ]
     },
     "execution_count": 25,
     "metadata": {},
     "output_type": "execute_result"
    }
   ],
   "source": [
    "np.where(IC_check[0,...] == np.max(IC_check[0,...]))"
   ]
  },
  {
   "cell_type": "code",
   "execution_count": 18,
   "metadata": {
    "collapsed": false
   },
   "outputs": [
    {
     "data": {
      "text/plain": [
       "11.260346"
      ]
     },
     "execution_count": 18,
     "metadata": {},
     "output_type": "execute_result"
    }
   ],
   "source": [
    "BC_check[0,0,0]"
   ]
  },
  {
   "cell_type": "code",
   "execution_count": 24,
   "metadata": {
    "collapsed": false
   },
   "outputs": [
    {
     "name": "stderr",
     "output_type": "stream",
     "text": [
      "/home/ssahu/anaconda3/lib/python3.5/site-packages/ipykernel/__main__.py:1: DeprecationWarning: elementwise == comparison failed; this will raise an error in the future.\n",
      "  if __name__ == '__main__':\n"
     ]
    },
    {
     "data": {
      "text/plain": [
       "(array([], dtype=int64),)"
      ]
     },
     "execution_count": 24,
     "metadata": {},
     "output_type": "execute_result"
    }
   ],
   "source": [
    "np.where(IC_check[0,...] == BC_check[0,...])"
   ]
  },
  {
   "cell_type": "code",
   "execution_count": 23,
   "metadata": {
    "collapsed": false
   },
   "outputs": [
    {
     "data": {
      "text/plain": [
       "(array([3]), array([5]))"
      ]
     },
     "execution_count": 23,
     "metadata": {},
     "output_type": "execute_result"
    }
   ],
   "source": [
    "np.where(BC_check[0,...] == np.max(BC_check[0,...]))"
   ]
  },
  {
   "cell_type": "code",
   "execution_count": 28,
   "metadata": {
    "collapsed": false
   },
   "outputs": [
    {
     "data": {
      "text/plain": [
       "11.024442"
      ]
     },
     "execution_count": 28,
     "metadata": {},
     "output_type": "execute_result"
    }
   ],
   "source": [
    "IC_check[0,0,60]"
   ]
  },
  {
   "cell_type": "code",
   "execution_count": 29,
   "metadata": {
    "collapsed": false
   },
   "outputs": [
    {
     "data": {
      "text/plain": [
       "11.303032"
      ]
     },
     "execution_count": 29,
     "metadata": {},
     "output_type": "execute_result"
    }
   ],
   "source": [
    "BC_check[0,3,5]"
   ]
  },
  {
   "cell_type": "code",
   "execution_count": 22,
   "metadata": {
    "collapsed": false
   },
   "outputs": [
    {
     "name": "stderr",
     "output_type": "stream",
     "text": [
      "/home/ssahu/anaconda3/lib/python3.5/site-packages/ipykernel/__main__.py:1: DeprecationWarning: elementwise == comparison failed; this will raise an error in the future.\n",
      "  if __name__ == '__main__':\n"
     ]
    },
    {
     "data": {
      "text/plain": [
       "(array([], dtype=int64),)"
      ]
     },
     "execution_count": 22,
     "metadata": {},
     "output_type": "execute_result"
    }
   ],
   "source": [
    "np.where(BC_check == IC_check)"
   ]
  },
  {
   "cell_type": "code",
   "execution_count": null,
   "metadata": {
    "collapsed": true
   },
   "outputs": [],
   "source": []
  }
 ],
 "metadata": {
  "anaconda-cloud": {},
  "kernelspec": {
   "display_name": "Python [conda root]",
   "language": "python",
   "name": "conda-root-py"
  },
  "language_info": {
   "codemirror_mode": {
    "name": "ipython",
    "version": 3
   },
   "file_extension": ".py",
   "mimetype": "text/x-python",
   "name": "python",
   "nbconvert_exporter": "python",
   "pygments_lexer": "ipython3",
   "version": "3.5.2"
  }
 },
 "nbformat": 4,
 "nbformat_minor": 1
}
