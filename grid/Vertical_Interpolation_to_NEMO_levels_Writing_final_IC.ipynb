{
 "cells": [
  {
   "cell_type": "markdown",
   "metadata": {},
   "source": [
    "### This notebook grabs the initial conditions created from JP output (by horizontal interpolation to our wcvi grid) and interpolates them to the NEMO depths obtained from the mesh_mask.nc "
   ]
  },
  {
   "cell_type": "code",
   "execution_count": 1,
   "metadata": {
    "collapsed": false
   },
   "outputs": [
    {
     "name": "stderr",
     "output_type": "stream",
     "text": [
      "/home/ssahu/anaconda3/lib/python3.5/site-packages/xarray/conventions.py:9: FutureWarning: The pandas.tslib module is deprecated and will be removed in a future version.\n",
      "  from pandas.tslib import OutOfBoundsDatetime\n"
     ]
    }
   ],
   "source": [
    "%matplotlib inline\n",
    "import matplotlib.pyplot as plt\n",
    "import numpy as np\n",
    "import netCDF4 as nc\n",
    "import xarray as xr\n",
    "import matplotlib.cm as cm\n",
    "from scipy.interpolate import interp1d\n",
    "from salishsea_tools import (nc_tools, gsw_calls,viz_tools)\n",
    "\n",
    "from fancyimpute import KNN"
   ]
  },
  {
   "cell_type": "code",
   "execution_count": 2,
   "metadata": {
    "collapsed": false
   },
   "outputs": [],
   "source": [
    "# Specify the IC file name after horizontal interp to wcvi grid\n",
    "\n",
    "IC_file = nc.Dataset('/ocean/ssahu/CANYONS/wcvi/initial_conditions/West_coast_temperature_salinity_nomask_JP.nc')\n",
    "\n"
   ]
  },
  {
   "cell_type": "markdown",
   "metadata": {},
   "source": [
    "#### JP model output has the salinity in PSU (practical salinity), we would want that to be in Reference Salinity (SR) {corrected not Absolute Salinity (SA)}; to this extent we call the gsw call matlab wrapper; also JP has his tempertaure in Potential Temperature, we need to convert that to Conservative temperature"
   ]
  },
  {
   "cell_type": "code",
   "execution_count": 3,
   "metadata": {
    "collapsed": false
   },
   "outputs": [
    {
     "name": "stdout",
     "output_type": "stream",
     "text": [
      "(50, 100, 70) (50,) (100, 70)\n"
     ]
    }
   ],
   "source": [
    "votemper_PT = IC_file.variables['votemper'][0,...];\n",
    "vosaline_PSU = IC_file.variables['vosaline'][0,...];\n",
    "lat = IC_file.variables['nav_lat'][:];\n",
    "lon = IC_file.variables['nav_lon'][:];\n",
    "\n",
    "# get the depths that JP had in his model output\n",
    "depth = IC_file.variables['deptht'][:];\n",
    "z = np.multiply(depth[:],-1);\n",
    "\n",
    "\n",
    "print(votemper_PT.shape, z.shape, lat.shape)"
   ]
  },
  {
   "cell_type": "code",
   "execution_count": 4,
   "metadata": {
    "collapsed": false
   },
   "outputs": [
    {
     "data": {
      "text/plain": [
       "array([ -4.94025379e-01,  -1.54137540e+00,  -2.64566851e+00,\n",
       "        -3.81949472e+00,  -5.07822371e+00,  -6.44061422e+00,\n",
       "        -7.92956018e+00,  -9.57299709e+00,  -1.14050026e+01,\n",
       "        -1.34671383e+01,  -1.58100729e+01,  -1.84955597e+01,\n",
       "        -2.15988159e+01,  -2.52114086e+01,  -2.94447289e+01,\n",
       "        -3.44341545e+01,  -4.03440514e+01,  -4.73736877e+01,\n",
       "        -5.57642899e+01,  -6.58072739e+01,  -7.78538513e+01,\n",
       "        -9.23260727e+01,  -1.09729279e+02,  -1.30665985e+02,\n",
       "        -1.55850723e+02,  -1.86125565e+02,  -2.22475174e+02,\n",
       "        -2.66040253e+02,  -3.18127441e+02,  -3.80213013e+02,\n",
       "        -4.53937744e+02,  -5.41088928e+02,  -6.43566833e+02,\n",
       "        -7.63333069e+02,  -9.02339294e+02,  -1.06243970e+03,\n",
       "        -1.24529114e+03,  -1.45225098e+03,  -1.68428442e+03,\n",
       "        -1.94189343e+03,  -2.22507788e+03,  -2.53333618e+03,\n",
       "        -2.86570264e+03,  -3.22082031e+03,  -3.59703198e+03,\n",
       "        -3.99248389e+03,  -4.40522412e+03,  -4.83329053e+03,\n",
       "        -5.27478418e+03,  -5.72791650e+03], dtype=float32)"
      ]
     },
     "execution_count": 4,
     "metadata": {},
     "output_type": "execute_result"
    }
   ],
   "source": [
    "z"
   ]
  },
  {
   "cell_type": "code",
   "execution_count": 5,
   "metadata": {
    "collapsed": false
   },
   "outputs": [
    {
     "data": {
      "text/plain": [
       "array([ 32.47419739,  32.47340012,  32.47235107,  32.47062302,\n",
       "        32.46957397,  32.46912384,  32.46870422,  32.46790314,\n",
       "        32.46697617,  32.46654892,  32.46634293,  32.46618652,\n",
       "        32.46605301,  32.46588898,  32.46588516,  32.46623993,\n",
       "        32.46850967,  32.47960663,  32.52178955,  32.63602448,\n",
       "        32.85181808,  33.1221199 ,  33.38578796,  33.65309525,\n",
       "        33.81709671,  33.93756485,  34.00150681,  34.03875351,\n",
       "        34.05470276,  34.05655289,  34.07886887,  34.13459396,\n",
       "        34.20362854,  34.26293945,  34.33264542,  34.39530182,\n",
       "        34.45331573,  34.49530029,  34.53695297,  34.5798111 ,\n",
       "        34.62248993,  34.63830566,  34.64125443,          nan,\n",
       "                nan,          nan,          nan,          nan,\n",
       "                nan,          nan], dtype=float32)"
      ]
     },
     "execution_count": 5,
     "metadata": {},
     "output_type": "execute_result"
    }
   ],
   "source": [
    "vosaline_PSU[:,0,0]"
   ]
  },
  {
   "cell_type": "code",
   "execution_count": 6,
   "metadata": {
    "collapsed": false
   },
   "outputs": [],
   "source": [
    "#for i,j in enumerate(z):\n",
    "#    print(i)\n",
    "\n",
    "\n",
    "#pressure = np.zeros(z.shape);\n",
    "#for i,j in enumerate(z):\n",
    "#    pressure[i] = gsw_calls.generic_gsw_caller('gsw_p_from_z.m',[z[i],np.mean(lat)]);\n",
    "#votemper_SA = gsw_calls.generic_gsw_caller('gsw_SA_from_SP', [[SP,pressure,lon,lat]]);\n",
    "\n",
    "\n",
    "pressure = np.empty(z.shape);\n",
    "lats = np.empty(pressure.shape);\n",
    "lons = np.empty(pressure.shape);\n",
    "lats[:] = np.mean(lat);\n",
    "lons[:] = np.mean(lon);\n",
    "\n",
    "\n",
    "vosaline_SA = np.empty(vosaline_PSU.shape);\n",
    "vosaline_RS = np.empty(vosaline_PSU.shape);\n",
    "votemper_CT = np.empty(votemper_PT.shape);\n",
    "\n",
    "pressure = gsw_calls.generic_gsw_caller('gsw_p_from_z.m', [z, np.mean(lat)]);\n",
    "for i in np.arange(vosaline_SA.shape[0]):\n",
    "    vosaline_SA[i,...] = gsw_calls.generic_gsw_caller('gsw_SA_from_SP', [vosaline_PSU[i,...],pressure[i],lons[i],lats[i]]);\n",
    "\n",
    "vosaline_RS[:] = gsw_calls.generic_gsw_caller('gsw_SR_from_SP', [vosaline_PSU[:]]);\n",
    "votemper_CT[:] = gsw_calls.generic_gsw_caller('gsw_CT_from_pt', [vosaline_SA[:], votemper_PT[:]]);\n"
   ]
  },
  {
   "cell_type": "code",
   "execution_count": 7,
   "metadata": {
    "collapsed": false
   },
   "outputs": [
    {
     "name": "stdout",
     "output_type": "stream",
     "text": [
      "(50, 100, 70) (50, 100, 70) (50, 100, 70)\n"
     ]
    }
   ],
   "source": [
    "print(vosaline_RS.shape, vosaline_SA.shape, votemper_CT.shape)"
   ]
  },
  {
   "cell_type": "code",
   "execution_count": 8,
   "metadata": {
    "collapsed": false
   },
   "outputs": [
    {
     "data": {
      "image/png": "[encoded data removed]",
      "text/plain": [
       "<matplotlib.figure.Figure at 0x7f37685ac160>"
      ]
     },
     "metadata": {},
     "output_type": "display_data"
    }
   ],
   "source": [
    "fig, ax = plt.subplots(1, 1, figsize=(10, 8))\n",
    "viz_tools.set_aspect(ax)\n",
    "\n",
    "mesh = ax.pcolormesh(lon, lat, vosaline_RS[0,...], cmap =cm.ocean_r)\n",
    "fig.colorbar(mesh)\n",
    "plt.show()"
   ]
  },
  {
   "cell_type": "code",
   "execution_count": 9,
   "metadata": {
    "collapsed": false
   },
   "outputs": [
    {
     "data": {
      "image/png": "[encoded data removed]",
      "text/plain": [
       "<matplotlib.figure.Figure at 0x7f36f73e4d68>"
      ]
     },
     "metadata": {},
     "output_type": "display_data"
    }
   ],
   "source": [
    "fig, ax = plt.subplots(1, 1, figsize=(10, 8))\n",
    "viz_tools.set_aspect(ax)\n",
    "\n",
    "mesh = ax.pcolormesh(lon, lat ,(vosaline_RS[0,...] - vosaline_PSU[0,...]), cmap =cm.ocean_r)\n",
    "fig.colorbar(mesh)\n",
    "plt.show()"
   ]
  },
  {
   "cell_type": "code",
   "execution_count": 10,
   "metadata": {
    "collapsed": false
   },
   "outputs": [
    {
     "data": {
      "text/plain": [
       "array([  4.98210000e-01,   1.55440000e+00,   2.66810000e+00,\n",
       "         3.85190000e+00,   5.12130000e+00,   6.49530000e+00,\n",
       "         7.99690000e+00,   9.65440000e+00,   1.15020000e+01,\n",
       "         1.35820000e+01,   1.59450000e+01,   1.86530000e+01,\n",
       "         2.17830000e+01,   2.54270000e+01,   2.96960000e+01,\n",
       "         3.47290000e+01,   4.06900000e+01,   4.77810000e+01,\n",
       "         5.62450000e+01,   6.63760000e+01,   7.85290000e+01,\n",
       "         9.31300000e+01,   1.10690000e+02,   1.31820000e+02,\n",
       "         1.57230000e+02,   1.87790000e+02,   2.24480000e+02,\n",
       "         2.68470000e+02,   3.21070000e+02,   3.83790000e+02,\n",
       "         4.58290000e+02,   5.46400000e+02,   6.50040000e+02,\n",
       "         7.71240000e+02,   9.11990000e+02,   1.07420000e+03,\n",
       "         1.25970000e+03,   1.46970000e+03,   1.70550000e+03,\n",
       "         1.96760000e+03,   2.25600000e+03,   2.57040000e+03,\n",
       "         2.91000000e+03,   3.27330000e+03,   3.65880000e+03,\n",
       "         4.06480000e+03,   4.48930000e+03,   4.93040000e+03,\n",
       "         5.38620000e+03,   5.85490000e+03])"
      ]
     },
     "execution_count": 10,
     "metadata": {},
     "output_type": "execute_result"
    }
   ],
   "source": [
    "pressure"
   ]
  },
  {
   "cell_type": "code",
   "execution_count": 11,
   "metadata": {
    "collapsed": false
   },
   "outputs": [
    {
     "data": {
      "text/plain": [
       "OrderedDict([('nav_lat', <class 'netCDF4._netCDF4.Variable'>\n",
       "              float32 nav_lat(yb, xb)\n",
       "                  long_name: Latitude\n",
       "                  units: degrees_north\n",
       "              unlimited dimensions: \n",
       "              current shape = (100, 70)\n",
       "              filling on, default _FillValue of 9.969209968386869e+36 used),\n",
       "             ('nav_lon', <class 'netCDF4._netCDF4.Variable'>\n",
       "              float32 nav_lon(yb, xb)\n",
       "                  long_name: Longitude\n",
       "                  units: degrees_east\n",
       "              unlimited dimensions: \n",
       "              current shape = (100, 70)\n",
       "              filling on, default _FillValue of 9.969209968386869e+36 used),\n",
       "             ('deptht', <class 'netCDF4._netCDF4.Variable'>\n",
       "              float32 deptht(deptht)\n",
       "                  long_name: Vertical T Levels\n",
       "                  units: m\n",
       "                  positive: down\n",
       "              unlimited dimensions: \n",
       "              current shape = (50,)\n",
       "              filling on, default _FillValue of 9.969209968386869e+36 used),\n",
       "             ('time_counter', <class 'netCDF4._netCDF4.Variable'>\n",
       "              float32 time_counter(time_counter)\n",
       "                  units: s\n",
       "                  long_name: time\n",
       "                  calendar: noleap\n",
       "              unlimited dimensions: time_counter\n",
       "              current shape = (1,)\n",
       "              filling on, default _FillValue of 9.969209968386869e+36 used),\n",
       "             ('votemper', <class 'netCDF4._netCDF4.Variable'>\n",
       "              float32 votemper(time_counter, deptht, yb, xb)\n",
       "                  units: degC\n",
       "                  long_name: Temperature\n",
       "                  grid: WCVI\n",
       "              unlimited dimensions: time_counter\n",
       "              current shape = (1, 50, 100, 70)\n",
       "              filling on, default _FillValue of 9.969209968386869e+36 used),\n",
       "             ('vosaline', <class 'netCDF4._netCDF4.Variable'>\n",
       "              float32 vosaline(time_counter, deptht, yb, xb)\n",
       "                  units: PSU\n",
       "                  long_name: Practical Salinity\n",
       "                  grid: WCVI\n",
       "              unlimited dimensions: time_counter\n",
       "              current shape = (1, 50, 100, 70)\n",
       "              filling on, default _FillValue of 9.969209968386869e+36 used)])"
      ]
     },
     "execution_count": 11,
     "metadata": {},
     "output_type": "execute_result"
    }
   ],
   "source": [
    "IC_file.variables"
   ]
  },
  {
   "cell_type": "markdown",
   "metadata": {
    "collapsed": true
   },
   "source": [
    "#### The plots shows that the gsw calls worked out well, now we proceed to make a function that would interpolate the IC from JP depth levels to our depth levels which we are going to import from a mesh mask\n",
    "\n",
    "\n",
    "#### We are going to use the mesh_mask which I generated recently using the parameters which I figured out"
   ]
  },
  {
   "cell_type": "code",
   "execution_count": 12,
   "metadata": {
    "collapsed": false
   },
   "outputs": [
    {
     "name": "stdout",
     "output_type": "stream",
     "text": [
      "(27,) [   14.75075722    24.42877769    34.46412659    45.19285583    57.26233673\n",
      "    71.90678406    91.43279266   119.99002075   164.52903748   235.26014709\n",
      "   344.00537109   499.3053894    701.16015625   941.02905273  1207.08996582\n",
      "  1489.1328125   1780.20678711  2076.16235352  2374.69287109  2674.56420898\n",
      "  2975.12866211  3276.05078125  3577.15649414  3878.35668945  4179.60546875\n",
      "  4480.87939453  4782.16601562]\n"
     ]
    }
   ],
   "source": [
    "mask = nc.Dataset('/ocean/ssahu/CANYONS/Runs/trial_run_mesh_mask_gen/mesh_mask.nc')\n",
    "\n",
    "\n",
    "#mask = nc.Dataset('/ocean/ssahu/CANYONS/Results/Westcoast_attempt17_generate_mask_80_levels/mesh_mask.nc')\n",
    "\n",
    "NEMO_depth = mask.variables['gdept_0'][0,:,0,0];\n",
    "tmask_WCVI = mask.variables['tmask'][:];\n",
    "\n",
    "print(NEMO_depth.shape, NEMO_depth)"
   ]
  },
  {
   "cell_type": "code",
   "execution_count": 13,
   "metadata": {
    "collapsed": false
   },
   "outputs": [
    {
     "data": {
      "text/plain": [
       "100"
      ]
     },
     "execution_count": 13,
     "metadata": {},
     "output_type": "execute_result"
    }
   ],
   "source": [
    "vosaline_SA.shape[1]"
   ]
  },
  {
   "cell_type": "code",
   "execution_count": 14,
   "metadata": {
    "collapsed": true
   },
   "outputs": [],
   "source": [
    "salinity_function = interp1d(depth, vosaline_RS, axis = 0, bounds_error=False, fill_value='extrapolate');\n",
    "temperature_function = interp1d(depth, votemper_CT, axis = 0, bounds_error=False, fill_value='extrapolate');"
   ]
  },
  {
   "cell_type": "code",
   "execution_count": 15,
   "metadata": {
    "collapsed": false
   },
   "outputs": [],
   "source": [
    "vosaline_NEMO = np.empty((NEMO_depth.shape[0], vosaline_RS.shape[1], vosaline_RS.shape[2]));\n",
    "votemper_NEMO = np.empty((NEMO_depth.shape[0], vosaline_RS.shape[1], vosaline_RS.shape[2]));\n",
    "for indx in np.arange(NEMO_depth.shape[0]):\n",
    "#for y in np.arange(vosaline.shape[1]):\n",
    "#for x in np.arange(vosaline.shape[2]):\n",
    "    vosaline_NEMO[indx,...] = salinity_function(NEMO_depth[indx]);\n",
    "    votemper_NEMO[indx,...] = temperature_function(NEMO_depth[indx]);"
   ]
  },
  {
   "cell_type": "code",
   "execution_count": 16,
   "metadata": {
    "collapsed": false
   },
   "outputs": [
    {
     "data": {
      "text/plain": [
       "((27, 100, 70), (27, 100, 70))"
      ]
     },
     "execution_count": 16,
     "metadata": {},
     "output_type": "execute_result"
    }
   ],
   "source": [
    "vosaline_NEMO.shape, votemper_NEMO.shape"
   ]
  },
  {
   "cell_type": "code",
   "execution_count": 17,
   "metadata": {
    "collapsed": false
   },
   "outputs": [
    {
     "name": "stdout",
     "output_type": "stream",
     "text": [
      "[[ 34.39385287  34.39333375  34.39429551 ...,          nan          nan\n",
      "           nan]\n",
      " [ 34.39685287  34.39681463  34.39681463 ...,          nan          nan\n",
      "           nan]\n",
      " [ 34.40085287  34.40033375  34.39933375 ...,          nan          nan\n",
      "           nan]\n",
      " ..., \n",
      " [ 34.38106608  34.38106608  34.38206608 ...,          nan          nan\n",
      "           nan]\n",
      " [ 34.38106608  34.38154697  34.38206608 ...,          nan          nan\n",
      "           nan]\n",
      " [ 34.38206608  34.38254697  34.38306608 ...,          nan          nan\n",
      "           nan]] 701.16\n"
     ]
    }
   ],
   "source": [
    "print(vosaline_NEMO[12,...], NEMO_depth[12])"
   ]
  },
  {
   "cell_type": "code",
   "execution_count": 18,
   "metadata": {
    "collapsed": false
   },
   "outputs": [
    {
     "data": {
      "image/png": "[encoded data removed]",
      "text/plain": [
       "<matplotlib.figure.Figure at 0x7f36f7497da0>"
      ]
     },
     "metadata": {},
     "output_type": "display_data"
    }
   ],
   "source": [
    "fig, ax = plt.subplots(1, 1, figsize=(10, 8))\n",
    "viz_tools.set_aspect(ax)\n",
    "\n",
    "mesh = ax.pcolormesh(lon, lat, vosaline_NEMO[0,...], cmap =cm.ocean_r)\n",
    "fig.colorbar(mesh)\n",
    "plt.show()"
   ]
  },
  {
   "cell_type": "code",
   "execution_count": 19,
   "metadata": {
    "collapsed": false
   },
   "outputs": [
    {
     "data": {
      "text/plain": [
       "((27, 100, 70), (27, 100, 70))"
      ]
     },
     "execution_count": 19,
     "metadata": {},
     "output_type": "execute_result"
    }
   ],
   "source": [
    "tmask_WCVI[0,...].shape, vosaline_NEMO.shape"
   ]
  },
  {
   "cell_type": "code",
   "execution_count": 20,
   "metadata": {
    "collapsed": false
   },
   "outputs": [
    {
     "data": {
      "image/png": "[encoded data removed]",
      "text/plain": [
       "<matplotlib.figure.Figure at 0x7f36f7272c50>"
      ]
     },
     "metadata": {},
     "output_type": "display_data"
    }
   ],
   "source": [
    "### Plot after multiplying the tmask with the tmask of WCVI to show the land masking is proper or not\\\n",
    "### we wont be masking the input data to begin with rather we will let NEMO mask it by itself\n",
    "\n",
    "fig, ax = plt.subplots(1, 1, figsize=(10, 8))\n",
    "viz_tools.set_aspect(ax)\n",
    "\n",
    "mesh = ax.pcolormesh(lon, lat, np.multiply(vosaline_NEMO[0,...],tmask_WCVI[0,0,...]), cmap =cm.ocean_r)\n",
    "fig.colorbar(mesh)\n",
    "plt.show()"
   ]
  },
  {
   "cell_type": "code",
   "execution_count": 21,
   "metadata": {
    "collapsed": false
   },
   "outputs": [
    {
     "data": {
      "text/plain": [
       "[<matplotlib.lines.Line2D at 0x7f36f7142e48>,\n",
       " <matplotlib.lines.Line2D at 0x7f36f7191080>]"
      ]
     },
     "execution_count": 21,
     "metadata": {},
     "output_type": "execute_result"
    },
    {
     "data": {
      "image/png": "[encoded data removed]",
      "text/plain": [
       "<matplotlib.figure.Figure at 0x7f36f71d2278>"
      ]
     },
     "metadata": {},
     "output_type": "display_data"
    }
   ],
   "source": [
    "# Let's see how well our interpolation does vertically with the vertical profile tests at the same point of our domain\n",
    "\n",
    "\n",
    "plt.figure(figsize=(10,4))\n",
    "plt.subplot(1,2,1)\n",
    "plt.plot(vosaline_PSU[:40,0,0],z[:40], '-b',vosaline_RS[:40,0,0], z[:40], '-r', vosaline_NEMO[:20,0,0], -NEMO_depth[:20], '-g')\n",
    "\n",
    "plt.subplot(1,2,2)\n",
    "plt.plot(votemper_PT[:40,0,0],z[:40], '-b', votemper_NEMO[:20,0,0], -NEMO_depth[:20], '-g')"
   ]
  },
  {
   "cell_type": "code",
   "execution_count": 22,
   "metadata": {
    "collapsed": false
   },
   "outputs": [
    {
     "data": {
      "text/plain": [
       "[<matplotlib.lines.Line2D at 0x7f36f7306828>,\n",
       " <matplotlib.lines.Line2D at 0x7f36f73483c8>,\n",
       " <matplotlib.lines.Line2D at 0x7f36f7348f98>]"
      ]
     },
     "execution_count": 22,
     "metadata": {},
     "output_type": "execute_result"
    },
    {
     "data": {
      "image/png": "[encoded data removed]",
      "text/plain": [
       "<matplotlib.figure.Figure at 0x7f36f70a9ba8>"
      ]
     },
     "metadata": {},
     "output_type": "display_data"
    }
   ],
   "source": [
    "#Checking at a different point just to be sure\n",
    "\n",
    "plt.figure(figsize=(10,4))\n",
    "plt.subplot(1,2,1)\n",
    "plt.plot(vosaline_PSU[:45,50,0],z[:45], '-b',vosaline_RS[:45,50,0], z[:45], '-r', vosaline_NEMO[:20,50,0], -NEMO_depth[:20], '-g')\n",
    "plt.xlim((30,35))\n",
    "\n",
    "plt.subplot(1,2,2)\n",
    "plt.plot(votemper_PT[:40,50,0],z[:40], '-b', votemper_CT[:40,50,0],z[:40], '-r', votemper_NEMO[:20,50,0], -NEMO_depth[:20], '-g')"
   ]
  },
  {
   "cell_type": "markdown",
   "metadata": {},
   "source": [
    "#### Now since we have the data what we need we can proceed to write the initial conditions for our NEMO model"
   ]
  },
  {
   "cell_type": "code",
   "execution_count": 23,
   "metadata": {
    "collapsed": true
   },
   "outputs": [],
   "source": [
    "fname_wcvi = '/ocean/ssahu/CANYONS/wcvi/grid/coordinates.nc'\n",
    "\n",
    "with nc.Dataset(fname_wcvi, 'r') as coord:\n",
    "    gphit_wcvi = coord.variables['gphit'][0,...];\n",
    "    glamt_wcvi =  coord.variables['glamt'][0,...]; "
   ]
  },
  {
   "cell_type": "code",
   "execution_count": 24,
   "metadata": {
    "collapsed": false
   },
   "outputs": [
    {
     "data": {
      "text/plain": [
       "(100, 70)"
      ]
     },
     "execution_count": 24,
     "metadata": {},
     "output_type": "execute_result"
    }
   ],
   "source": [
    "glamt_wcvi.shape"
   ]
  },
  {
   "cell_type": "code",
   "execution_count": 25,
   "metadata": {
    "collapsed": false
   },
   "outputs": [
    {
     "data": {
      "text/plain": [
       "nan"
      ]
     },
     "execution_count": 25,
     "metadata": {},
     "output_type": "execute_result"
    }
   ],
   "source": [
    "np.min(vosaline_NEMO)"
   ]
  },
  {
   "cell_type": "markdown",
   "metadata": {},
   "source": [
    "### Now let us fill up the holes in the IC file"
   ]
  },
  {
   "cell_type": "code",
   "execution_count": null,
   "metadata": {
    "collapsed": false
   },
   "outputs": [],
   "source": [
    "for i,j in enumerate(votemper_NEMO[:,...]):\n",
    "    for p,q in enumerate(votemper_NEMO[i,:,...]):\n",
    "        for l,m in enumerate(votemper_NEMO[i,p,:]):\n",
    "            if np.isnan(votemper_NEMO[i,p,l]):\n",
    "                votemper_NEMO[i,p,l] = votemper_NEMO[i-1,p,l]\n",
    "            else:\n",
    "                continue\n",
    "\n",
    "                \n",
    "for i,j in enumerate(vosaline_NEMO[:,...]):\n",
    "    for p,q in enumerate(vosaline_NEMO[i,:,...]):\n",
    "        for l,m in enumerate(vosaline_NEMO[i,p,:]):\n",
    "            if np.isnan(vosaline_NEMO[i,p,l]):\n",
    "                vosaline_NEMO[i,p,l] = vosaline_NEMO[i-1,p,l]\n",
    "            else:\n",
    "                continue\n"
   ]
  },
  {
   "cell_type": "code",
   "execution_count": null,
   "metadata": {
    "collapsed": false
   },
   "outputs": [],
   "source": [
    "for i in np.arange(votemper_NEMO.shape[0]):\n",
    "    votemper_NEMO[i,...] = KNN(k=3).complete(votemper_NEMO[i,...]);\n",
    "    vosaline_NEMO[i,...] = KNN(k=3).complete(vosaline_NEMO[i,...]);"
   ]
  },
  {
   "cell_type": "code",
   "execution_count": null,
   "metadata": {
    "collapsed": false
   },
   "outputs": [],
   "source": [
    "np.nanmin(vosaline_NEMO)"
   ]
  },
  {
   "cell_type": "code",
   "execution_count": null,
   "metadata": {
    "collapsed": false
   },
   "outputs": [],
   "source": [
    "file_temp = nc.Dataset('/ocean/ssahu/CANYONS/wcvi/initial_conditions/West_coast_NEMO_IC_temperature_salinity_nomask_JP.nc', 'w', zlib=True)\n",
    "# dataset attributes\n",
    "nc_tools.init_dataset_attrs(\n",
    "    file_temp, \n",
    "    title='Temperature and salinity Initial Condition', \n",
    "    notebook_name='Making_IC_from_JP', \n",
    "    nc_filepath='/ocean/ssahu/CANYONS/wcvi/initial_conditions/West_coast_NEMO_IC_temperature_salinity_nomask_JP.nc',\n",
    "    comment='Temperature and salinity from JP Model, preliminary_grid; used at all grid points and interpolated vertically')\n",
    "\n",
    "file_temp.createDimension('xb', votemper_NEMO.shape[2]);\n",
    "file_temp.createDimension('yb', votemper_NEMO.shape[1]);\n",
    "file_temp.createDimension('deptht', votemper_NEMO.shape[0]);\n",
    "file_temp.createDimension('time_counter', None);\n",
    "\n",
    "\n",
    "nav_lat = file_temp.createVariable('nav_lat', 'float32', ('yb','xb'));\n",
    "nav_lat.long_name = 'Latitude';\n",
    "nav_lat.units = 'degrees_north';\n",
    "\n",
    "\n",
    "nav_lon = file_temp.createVariable('nav_lon', 'float32', ('yb','xb'));\n",
    "nav_lon.long_name = 'Longitude';\n",
    "nav_lon.units = 'degrees_east';\n",
    "\n",
    "\n",
    "deptht = file_temp.createVariable('deptht', 'float32', ('deptht'));\n",
    "deptht.long_name = 'Vertical T Levels';\n",
    "deptht.units = 'm';\n",
    "deptht.positive = 'down';\n",
    "\n",
    "\n",
    "time_counter = file_temp.createVariable('time_counter', 'float32', ('time_counter'));\n",
    "time_counter.units = 's';\n",
    "time_counter.long_name = 'time';\n",
    "time_counter.calendar = 'noleap';\n",
    "\n",
    "\n",
    "votemper = file_temp.createVariable('votemper', 'float32', ('time_counter','deptht','yb','xb'));\n",
    "#votemper = file_temp.createVariable('votemper', 'float32', ('deptht','yb','xb'));\n",
    "votemper.units = 'degC'\n",
    "votemper.long_name = 'Conservative Temperature (CT)';\n",
    "votemper.grid = 'WCVI';\n",
    "\n",
    "\n",
    "vosaline = file_temp.createVariable('vosaline', 'float32', ('time_counter','deptht','yb','xb'));\n",
    "#vosaline = file_temp.createVariable('vosaline', 'float32', ('deptht','yb','xb'));\n",
    "vosaline.units = 'g/Kg';\n",
    "vosaline.long_name = 'Reference Salinity (SR)';\n",
    "vosaline.grid = 'WCVI';\n",
    "\n",
    "\n",
    "\n",
    "\n",
    "nav_lat[:] = lat[:];\n",
    "nav_lon[:] = lon[:];\n",
    "deptht[:] = NEMO_depth[:];\n",
    "time_counter[0] = 1;\n",
    "votemper[0,...] = votemper_NEMO[:]\n",
    "vosaline[0,...]= vosaline_NEMO[:]\n",
    "\n",
    "file_temp.close()\n",
    "\n"
   ]
  },
  {
   "cell_type": "code",
   "execution_count": null,
   "metadata": {
    "collapsed": false
   },
   "outputs": [],
   "source": [
    "init_file = nc.Dataset('/ocean/ssahu/CANYONS/wcvi/initial_conditions/West_coast_NEMO_IC_temperature_salinity_nomask_JP.nc')\n",
    "\n",
    "nc_tools.show_dimensions(init_file);\n",
    "nc_tools.show_variables(init_file);\n"
   ]
  },
  {
   "cell_type": "code",
   "execution_count": null,
   "metadata": {
    "collapsed": false
   },
   "outputs": [],
   "source": [
    "votemper_IC = init_file.variables['votemper'][:];"
   ]
  },
  {
   "cell_type": "code",
   "execution_count": null,
   "metadata": {
    "collapsed": false
   },
   "outputs": [],
   "source": [
    "votemper_IC[0,:,15,20]"
   ]
  },
  {
   "cell_type": "code",
   "execution_count": 26,
   "metadata": {
    "collapsed": false
   },
   "outputs": [
    {
     "data": {
      "text/plain": [
       "<matplotlib.colorbar.Colorbar at 0x7f36f7441f60>"
      ]
     },
     "execution_count": 26,
     "metadata": {},
     "output_type": "execute_result"
    },
    {
     "data": {
      "image/png": "[encoded data removed]",
      "text/plain": [
       "<matplotlib.figure.Figure at 0x7f36f73e1128>"
      ]
     },
     "metadata": {},
     "output_type": "display_data"
    }
   ],
   "source": [
    "fig, ax = plt.subplots(1, 1, figsize=(10, 8))\n",
    "viz_tools.set_aspect(ax)\n",
    "#cmap = plt.get_cmap('winter_r')\n",
    "#cmap.set_bad('burlywood')\n",
    "mesh = ax.pcolormesh(vosaline_NEMO[:,3,:], vmin =-5, vmax=34)#, cmap=cmap)\n",
    "fig.colorbar(mesh)\n",
    "\n",
    "\n"
   ]
  },
  {
   "cell_type": "code",
   "execution_count": null,
   "metadata": {
    "collapsed": false
   },
   "outputs": [],
   "source": [
    "np.isnan(vosaline_NEMO)"
   ]
  },
  {
   "cell_type": "code",
   "execution_count": null,
   "metadata": {
    "collapsed": true
   },
   "outputs": [],
   "source": []
  }
 ],
 "metadata": {
  "anaconda-cloud": {},
  "kernelspec": {
   "display_name": "Python [conda root]",
   "language": "python",
   "name": "conda-root-py"
  },
  "language_info": {
   "codemirror_mode": {
    "name": "ipython",
    "version": 3
   },
   "file_extension": ".py",
   "mimetype": "text/x-python",
   "name": "python",
   "nbconvert_exporter": "python",
   "pygments_lexer": "ipython3",
   "version": "3.5.2"
  }
 },
 "nbformat": 4,
 "nbformat_minor": 1
}
